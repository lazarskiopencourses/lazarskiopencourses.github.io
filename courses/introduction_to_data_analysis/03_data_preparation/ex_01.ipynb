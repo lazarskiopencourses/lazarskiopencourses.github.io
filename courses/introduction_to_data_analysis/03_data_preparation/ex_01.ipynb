{
 "cells": [
  {
   "cell_type": "markdown",
   "id": "a3e9c5ea",
   "metadata": {},
   "source": [
    "**Important:** in order to complete the exercises below, please first download the \"NYC Property Sales\" dataset using the code cell below:"
   ]
  },
  {
   "cell_type": "code",
   "execution_count": null,
   "id": "d3eb4680",
   "metadata": {},
   "outputs": [],
   "source": [
    "!pip install requests\n",
    "import requests\n",
    "\n",
    "url = \"ADD LINK HERE\"\n",
    "response = requests.get(url)\n",
    "\n",
    "file = open(\"nyc_property_sales.csv\", \"wt\")\n",
    "file.write(response.text)\n",
    "file.close()"
   ]
  },
  {
   "cell_type": "markdown",
   "id": "7b4f28c4",
   "metadata": {},
   "source": [
    "After the dataset has been downloaded, please run the two code cells below, in order to load the dataset into a dataframe and then store it in the variable `df`. It is crucial that the variable name is `df` (and not something else), as this is what the automated grading software expects."
   ]
  },
  {
   "cell_type": "code",
   "execution_count": 27,
   "id": "731d0b5a",
   "metadata": {},
   "outputs": [],
   "source": [
    "import pandas as pd"
   ]
  },
  {
   "cell_type": "code",
   "execution_count": 85,
   "id": "bccddcb5",
   "metadata": {},
   "outputs": [],
   "source": [
    "FILE_NAME = \"nyc_property_sales.csv\"\n",
    "df = pd.read_csv(FILE_NAME)"
   ]
  },
  {
   "cell_type": "markdown",
   "id": "d3d68f65",
   "metadata": {},
   "source": [
    "### Exercise 1.1 (0.5 points)\n",
    "\n",
    "Convert the `\"-\"` values in the `\"SALE PRICE\"` column to missing values. When running the following code: `df[\"SALE PRICE\"].isna().sum()` , the output should be: `14561`."
   ]
  },
  {
   "cell_type": "code",
   "execution_count": null,
   "id": "7c6255db",
   "metadata": {},
   "outputs": [],
   "source": []
  },
  {
   "cell_type": "markdown",
   "id": "6d9cc259",
   "metadata": {},
   "source": [
    "### Exercise 1.2 (2.5 points)\n",
    "\n",
    "Look at the data in other columns and convert the appropriate values to missing values.\n",
    "\n",
    "**Hint:** There are 6 other columns that contain values that should be converted to missing values."
   ]
  },
  {
   "cell_type": "code",
   "execution_count": null,
   "id": "2210d8cc",
   "metadata": {},
   "outputs": [],
   "source": []
  },
  {
   "cell_type": "markdown",
   "id": "5759e84d",
   "metadata": {},
   "source": [
    "### Exercise 1.3 (0.5 points)\n",
    "\n",
    "Convert the `\"SALE PRICE\"` column `dtype` to `Int64`. When running the following code: `df[\"SALE PRICE].dtype` , the output should be: `Int64Dtype()`.\n",
    "\n",
    "**Hint:** by default, the `int64` dtype does not support missing values in Pandas. Therefore, calling `Series.as_type(\"int64\")` on a series that contains missing values will result in an error. Instead, one must do the following: `Series.as_type(\"Int64\")` (notice the capital `I`). This is a bit confusing, since `float64` does support missing values by default, but sometimes programming libraries (and other tools) have their quirks."
   ]
  },
  {
   "cell_type": "code",
   "execution_count": null,
   "id": "69fb7f58",
   "metadata": {},
   "outputs": [],
   "source": []
  },
  {
   "cell_type": "markdown",
   "id": "27b89ea2",
   "metadata": {},
   "source": [
    "### Exercise 1.4 (2.5 points)\n",
    "\n",
    "Look at the dtypes of other columns and convert the `dtype` of columns with an incorrect `dtype`.\n",
    "\n",
    "**Hint:** there are 3 other columns which should be converted to a different `dtype`."
   ]
  },
  {
   "cell_type": "code",
   "execution_count": null,
   "id": "3819c4d4",
   "metadata": {},
   "outputs": [],
   "source": []
  },
  {
   "cell_type": "markdown",
   "id": "ad276305",
   "metadata": {},
   "source": [
    "### Exercise 1.5 (0.5 point)\n",
    "\n",
    "Remove the column named `\"Unnamed: 0\"` from the dataframe."
   ]
  },
  {
   "cell_type": "code",
   "execution_count": null,
   "id": "1a0bac16",
   "metadata": {},
   "outputs": [],
   "source": []
  },
  {
   "cell_type": "markdown",
   "id": "22a1938c",
   "metadata": {},
   "source": [
    "### Exercise 1.6 (1.5 points)\n",
    "\n",
    "Take a look at the data in the other columns. There is one column, which does not contain any data - figure out which column it is and remove it from the dataframe."
   ]
  },
  {
   "cell_type": "code",
   "execution_count": null,
   "id": "a2486356",
   "metadata": {},
   "outputs": [],
   "source": []
  },
  {
   "cell_type": "markdown",
   "id": "ccf8a922",
   "metadata": {},
   "source": [
    "### Exercise 1.7 (2 points)\n",
    "\n",
    "Convert all column names to lowercase.\n",
    "\n",
    "**Hint 1**: `DataFrame.columns` is a list containing strings which correspond to the column names. Overriding this attribute with a new list containing different strings will change the column names in the dataframe.\n",
    "\n",
    "**Hint 2**: strings have a `.lower()` method, which converts a string to lowercase. Therefore running `\"HELLO\".lower()` will return `\"hello\"`."
   ]
  },
  {
   "cell_type": "code",
   "execution_count": null,
   "id": "05e25db2",
   "metadata": {},
   "outputs": [],
   "source": []
  }
 ],
 "metadata": {
  "kernelspec": {
   "display_name": "Python 3 (ipykernel)",
   "language": "python",
   "name": "python3"
  },
  "language_info": {
   "codemirror_mode": {
    "name": "ipython",
    "version": 3
   },
   "file_extension": ".py",
   "mimetype": "text/x-python",
   "name": "python",
   "nbconvert_exporter": "python",
   "pygments_lexer": "ipython3",
   "version": "3.9.13"
  }
 },
 "nbformat": 4,
 "nbformat_minor": 5
}
