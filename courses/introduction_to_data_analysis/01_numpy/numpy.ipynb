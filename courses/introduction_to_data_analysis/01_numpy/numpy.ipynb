{
 "cells": [
  {
   "cell_type": "markdown",
   "id": "8994ee79",
   "metadata": {},
   "source": [
    "## Sections:\n",
    "\n",
    "1. [NumPy](#NumPy)  \n",
    "2. [Installing and importing NumPy](#installing-and-importing-numpy)  \n",
    "3. [Creating a NumPy array](#creating-a-numpy-array)  \n",
    "4. [NumPy array data types](#numpy-array-data-types)    \n",
    "5. [Indexing and slicing](#indexing-and-slicing)\n",
    "6. [Operations on arrays](#operations-on-arrays)\n",
    "7. [Reshaping arrays](#reshaping-arrays)"
   ]
  },
  {
   "cell_type": "markdown",
   "id": "688f97c8",
   "metadata": {},
   "source": [
    "# 1. NumPy  <a id='numpy'></a>\n",
    "\n",
    "**NumPy** is a library used for performing efficient operations on arrays of data. A NumPy array is a type of object that can hold a collection of items, similarly to  a `list`. The benefit of using NumPy arrays is that they significantly boost the speed at which various operations are performed. The efficiency of operations becomes increasingly important as the amount of data we work with increases, along with the number of operations we want to perform on said data. For this reason, NumPy is a particularly useful library."
   ]
  },
  {
   "cell_type": "markdown",
   "id": "9a155260",
   "metadata": {},
   "source": [
    "\n",
    "# 2. Installing and importing NumPy  <a id='installing-numpy'></a>\n",
    "\n",
    "The NumPy package is not included with Python, and therefore we have to install it before we can import the \"numpy\" module. The easiest way to install NumPy is to use **pip** - the official **P**ackage **I**nstaller for **P**ython. In order to install the NumPy package using pip, we can run the following command in the terminal:\n",
    "\n",
    "`pip install numpy`\n",
    "\n",
    "However, since we are using a Jupyter notebook, we can also install NumPy by running the command in the cell below (which will run the above command in the terminal for us):"
   ]
  },
  {
   "cell_type": "code",
   "execution_count": 1,
   "id": "3b56912b",
   "metadata": {},
   "outputs": [
    {
     "name": "stdout",
     "output_type": "stream",
     "text": [
      "Collecting numpy\n",
      "  Using cached numpy-1.23.2-cp39-cp39-manylinux_2_17_x86_64.manylinux2014_x86_64.whl (17.1 MB)\n",
      "Installing collected packages: numpy\n",
      "Successfully installed numpy-1.23.2\n"
     ]
    }
   ],
   "source": [
    "!pip install numpy"
   ]
  },
  {
   "cell_type": "markdown",
   "id": "a1ff632a",
   "metadata": {},
   "source": [
    "Once we have installed the NumPy package, we can import the \"numpy\" module by running the following code:"
   ]
  },
  {
   "cell_type": "code",
   "execution_count": 2,
   "id": "bc804f73",
   "metadata": {},
   "outputs": [],
   "source": [
    "import numpy as np"
   ]
  },
  {
   "cell_type": "markdown",
   "id": "2d4767d7",
   "metadata": {},
   "source": [
    "The line above imports the \"numpy\" module and assigns it to the variable `np` - this is a commonly used abbreviation for the \"numpy\" module."
   ]
  },
  {
   "cell_type": "markdown",
   "id": "aec527a8",
   "metadata": {},
   "source": [
    "# 3. NumPy arrays  <a id='numpy-arrays'></a>"
   ]
  },
  {
   "cell_type": "markdown",
   "id": "40a0629d",
   "metadata": {},
   "source": [
    "As mentioned previously, a NumPy array is an object that can hold a collection of items, similarly to a `list`. There are many ways we create a NumPy array. For example, we can call the `array()` function and pass in a list of items as an argument:"
   ]
  },
  {
   "cell_type": "code",
   "execution_count": 71,
   "id": "517469d2",
   "metadata": {},
   "outputs": [
    {
     "data": {
      "text/plain": [
       "array([1, 2, 3, 4])"
      ]
     },
     "execution_count": 71,
     "metadata": {},
     "output_type": "execute_result"
    }
   ],
   "source": [
    "x = np.array([1, 2, 3, 4])\n",
    "x"
   ]
  },
  {
   "cell_type": "markdown",
   "id": "603f712d",
   "metadata": {},
   "source": [
    "We can use the `type()` function to see that `x` is indeed an array:"
   ]
  },
  {
   "cell_type": "code",
   "execution_count": 72,
   "id": "20848150",
   "metadata": {
    "scrolled": true
   },
   "outputs": [
    {
     "data": {
      "text/plain": [
       "numpy.ndarray"
      ]
     },
     "execution_count": 72,
     "metadata": {},
     "output_type": "execute_result"
    }
   ],
   "source": [
    "type(x)"
   ]
  },
  {
   "cell_type": "markdown",
   "id": "c5d21788",
   "metadata": {},
   "source": [
    "We can see that the `type(x)` function returns `numpy.ndarray`, indicating that this object is an `ndarray` from the \"numpy\" module. The name `ndarray` stands for N-dimensional array - this is because NumPy arrays can have multiple dimensions (N dimensions). We can check how many dimensions an array has by accessing its `ndim` attribute. \n",
    "\n",
    "**Note:** A variable that belongs to an object is called an attribute. Attributes can be accessed by writing the `.` symbol followed by the name of the attribute."
   ]
  },
  {
   "cell_type": "code",
   "execution_count": 65,
   "id": "93e8cec1",
   "metadata": {},
   "outputs": [
    {
     "data": {
      "text/plain": [
       "1"
      ]
     },
     "execution_count": 65,
     "metadata": {},
     "output_type": "execute_result"
    }
   ],
   "source": [
    "x.ndim"
   ]
  },
  {
   "cell_type": "markdown",
   "id": "73b49489",
   "metadata": {},
   "source": [
    "As we can see above, the `x` array has one dimension. If we want to create an array with two dimensions, we can do so by nesting lists within a list, and then passing the top-level list to the `array()` function:"
   ]
  },
  {
   "cell_type": "code",
   "execution_count": 78,
   "id": "8ab15e85",
   "metadata": {
    "scrolled": true
   },
   "outputs": [
    {
     "data": {
      "text/plain": [
       "array([[1, 2, 3],\n",
       "       [4, 5, 6]])"
      ]
     },
     "execution_count": 78,
     "metadata": {},
     "output_type": "execute_result"
    }
   ],
   "source": [
    "y = [[1, 2, 3], [4, 5, 6]]\n",
    "y = np.array(y)\n",
    "y"
   ]
  },
  {
   "cell_type": "code",
   "execution_count": 79,
   "id": "20be6b5e",
   "metadata": {
    "scrolled": true
   },
   "outputs": [
    {
     "data": {
      "text/plain": [
       "2"
      ]
     },
     "execution_count": 79,
     "metadata": {},
     "output_type": "execute_result"
    }
   ],
   "source": [
    "y.ndim"
   ]
  },
  {
   "cell_type": "markdown",
   "id": "eda52339",
   "metadata": {},
   "source": [
    "As we can see above, the `y` array has two dimensions. A two-dimensional array can be thought of as a table or a matrix composed of rows and columns. In this case, the `y` array has two rows and three columns."
   ]
  },
  {
   "attachments": {
    "matrix-diagram.png": {
     "image/png": "[encoded data removed]"
    }
   },
   "cell_type": "markdown",
   "id": "9b149963",
   "metadata": {},
   "source": [
    "![matrix-diagram.png](attachment:matrix-diagram.png)"
   ]
  },
  {
   "cell_type": "markdown",
   "id": "4f6cb7cd",
   "metadata": {},
   "source": [
    " In a more general sense, this is referred to as the shape of an array. The shape of an array can be checked via the `shape` attribute."
   ]
  },
  {
   "cell_type": "code",
   "execution_count": 81,
   "id": "c0000544",
   "metadata": {
    "scrolled": true
   },
   "outputs": [
    {
     "data": {
      "text/plain": [
       "(2, 3)"
      ]
     },
     "execution_count": 81,
     "metadata": {},
     "output_type": "execute_result"
    }
   ],
   "source": [
    "y.shape"
   ]
  },
  {
   "cell_type": "markdown",
   "id": "8e481b90",
   "metadata": {},
   "source": [
    "The shape of an array is represented as a `tuple`. A `tuple` is similar to a `list`, as it also holds a collection of items - the beginning and end of a `tuple` is signified by round bracktes `()`. The main difference between a `tuple` and a `list` is that a `tuple` cannot be changed, whereas a list can have items added, changed or removed. You can think of a `tuple` as a frozen `list` that does not change."
   ]
  },
  {
   "cell_type": "markdown",
   "id": "1ca2e980",
   "metadata": {},
   "source": [
    "The `shape` attribute returns a `tuple` containing the size of each dimension. The size of a dimension refers to the number of items in that dimension. In the case of the `y` array, the first dimension contains two items (both of which are arrays), which is why the first item in the `shape` tuple is `2`. Each of those arrays contains 3 items (all of which are integers), which is why the second item in the `shape` tuple is `3`. \n",
    "\n",
    "Wrapping your head around multi-dimensional arrays can take a bit of practice. Below are some more examples of two-dimensional arrays. Try figuring out the shape of the array by looking at the data, before running the code that will print out the shape."
   ]
  },
  {
   "cell_type": "code",
   "execution_count": 51,
   "id": "8b623887",
   "metadata": {
    "scrolled": true
   },
   "outputs": [],
   "source": [
    "data = [\n",
    "    [1, 2, 3],\n",
    "    [4, 5, 6],\n",
    "    [7, 8, 9],\n",
    "    [10, 11, 12]\n",
    "]\n",
    "\n",
    "arr = np.array(data)"
   ]
  },
  {
   "cell_type": "markdown",
   "id": "58227880",
   "metadata": {},
   "source": [
    "**Note:** when writing nested lists, it can be a good idea to spread them out across multiple lines, in order to improve the readability of the code."
   ]
  },
  {
   "cell_type": "code",
   "execution_count": 52,
   "id": "d7e6e288",
   "metadata": {
    "scrolled": true
   },
   "outputs": [
    {
     "data": {
      "text/plain": [
       "(4, 3)"
      ]
     },
     "execution_count": 52,
     "metadata": {},
     "output_type": "execute_result"
    }
   ],
   "source": [
    "arr.shape"
   ]
  },
  {
   "cell_type": "code",
   "execution_count": 4,
   "id": "770d64c5",
   "metadata": {},
   "outputs": [],
   "source": [
    "data = [\n",
    "    [1, 2],\n",
    "    [3, 4],\n",
    "    [5, 6],\n",
    "]\n",
    "\n",
    "arr = np.array(data)"
   ]
  },
  {
   "cell_type": "code",
   "execution_count": 5,
   "id": "75c59791",
   "metadata": {},
   "outputs": [
    {
     "data": {
      "text/plain": [
       "(3, 2)"
      ]
     },
     "execution_count": 5,
     "metadata": {},
     "output_type": "execute_result"
    }
   ],
   "source": [
    "arr.shape"
   ]
  },
  {
   "cell_type": "code",
   "execution_count": 6,
   "id": "4365ed35",
   "metadata": {},
   "outputs": [],
   "source": [
    "data = [\n",
    "    [1, 2, 3, 4, 5]\n",
    "]\n",
    "\n",
    "arr = np.array(data)"
   ]
  },
  {
   "cell_type": "code",
   "execution_count": 7,
   "id": "99888adb",
   "metadata": {},
   "outputs": [
    {
     "data": {
      "text/plain": [
       "(1, 5)"
      ]
     },
     "execution_count": 7,
     "metadata": {},
     "output_type": "execute_result"
    }
   ],
   "source": [
    "arr.shape"
   ]
  },
  {
   "cell_type": "markdown",
   "id": "5a2bdf16",
   "metadata": {},
   "source": [
    "Arrays can also have three or more dimensions. A three dimensional array can be thought of as a collection of tables or matrices. Alternatively, it can be visualized as a three-dimensional cube filled with numbers. The illustration below contains visual representations of multi-dimensional arrays:"
   ]
  },
  {
   "attachments": {
    "tensor-diargram.png": {
     "image/png": "[encoded data removed]"
    }
   },
   "cell_type": "markdown",
   "id": "75f2ae5f",
   "metadata": {},
   "source": [
    "![tensor-diargram.png](attachment:tensor-diargram.png)"
   ]
  },
  {
   "cell_type": "markdown",
   "id": "6c6ef511",
   "metadata": {},
   "source": [
    "An array can also have zero dimensions. For example, if we pass in a single integer into the `array()` function, we will create a zero-dimensional `ndarray`."
   ]
  },
  {
   "cell_type": "code",
   "execution_count": 11,
   "id": "ffe89488",
   "metadata": {},
   "outputs": [
    {
     "name": "stdout",
     "output_type": "stream",
     "text": [
      "0\n",
      "()\n"
     ]
    }
   ],
   "source": [
    "arr = np.array(3)\n",
    "print(arr.ndim)\n",
    "print(arr.shape)"
   ]
  },
  {
   "cell_type": "markdown",
   "id": "044ea12d",
   "metadata": {},
   "source": [
    "To summarize, the code cell below creates arrays with 0, 1, 2 and 3 dimensions:"
   ]
  },
  {
   "cell_type": "code",
   "execution_count": 28,
   "id": "a00db1d7",
   "metadata": {
    "scrolled": true
   },
   "outputs": [
    {
     "name": "stdout",
     "output_type": "stream",
     "text": [
      "0 ()\n",
      "1 (3,)\n",
      "2 (2, 2)\n",
      "3 (2, 2, 2)\n"
     ]
    }
   ],
   "source": [
    "a = np.array(1)\n",
    "b = np.array([1, 2, 3])\n",
    "c = np.array([[1, 2], [1, 2]])\n",
    "d = np.array([[[1, 2], [1, 2]], [[1, 2], [1, 2]]])\n",
    "\n",
    "print(a.ndim, a.shape)\n",
    "print(b.ndim, b.shape)\n",
    "print(c.ndim, c.shape)\n",
    "print(d.ndim, d.shape)"
   ]
  },
  {
   "cell_type": "markdown",
   "id": "a6d0239b",
   "metadata": {},
   "source": [
    "**Note:** In the code cell above, we pass in multiple arguments into the `print()` function. The `print()` function can take in an arbitrary number of arguments and it will print them out on the same line, separating them by a single white space `\" \"`."
   ]
  },
  {
   "cell_type": "markdown",
   "id": "c9a16f3d",
   "metadata": {},
   "source": [
    "There are also other ways to create arrays in NumPy, including many different functions (other than `array()`), which conveniently allow us to create certain types of arrays. It is not important to know all of the different functions, however, it is worth knowing that there are different functions for creating arrays. This is because some functions are more convenient than others, depending on the type of array we want to create.\n",
    "\n",
    "Below are some examples:"
   ]
  },
  {
   "cell_type": "markdown",
   "id": "d96b1c38",
   "metadata": {},
   "source": [
    "The `arange()` function creates an array containing a range of numbers specified by the arguments passed in."
   ]
  },
  {
   "cell_type": "code",
   "execution_count": 42,
   "id": "7666da62",
   "metadata": {
    "scrolled": true
   },
   "outputs": [
    {
     "data": {
      "text/plain": [
       "array([1, 2, 3, 4])"
      ]
     },
     "execution_count": 42,
     "metadata": {},
     "output_type": "execute_result"
    }
   ],
   "source": [
    "np.arange(1, 5)"
   ]
  },
  {
   "cell_type": "markdown",
   "id": "fec72f9a",
   "metadata": {},
   "source": [
    "The `zeros()` function creates an array filled with the value `0`. The argument we pass in determines the shape of the array."
   ]
  },
  {
   "cell_type": "code",
   "execution_count": 29,
   "id": "5f250e58",
   "metadata": {
    "scrolled": false
   },
   "outputs": [
    {
     "data": {
      "text/plain": [
       "array([0., 0., 0.])"
      ]
     },
     "execution_count": 29,
     "metadata": {},
     "output_type": "execute_result"
    }
   ],
   "source": [
    "np.zeros(3)"
   ]
  },
  {
   "cell_type": "markdown",
   "id": "e1d75db4",
   "metadata": {},
   "source": [
    "We can create a multi-dimensional array by passing in a `list` or a `tuple` of values, which represent the shape of the array."
   ]
  },
  {
   "cell_type": "code",
   "execution_count": 33,
   "id": "2991f2fa",
   "metadata": {},
   "outputs": [
    {
     "data": {
      "text/plain": [
       "array([[0., 0., 0.],\n",
       "       [0., 0., 0.]])"
      ]
     },
     "execution_count": 33,
     "metadata": {},
     "output_type": "execute_result"
    }
   ],
   "source": [
    "np.zeros([2, 3])"
   ]
  },
  {
   "cell_type": "code",
   "execution_count": 32,
   "id": "8e6415c7",
   "metadata": {},
   "outputs": [
    {
     "data": {
      "text/plain": [
       "array([[0., 0., 0.],\n",
       "       [0., 0., 0.]])"
      ]
     },
     "execution_count": 32,
     "metadata": {},
     "output_type": "execute_result"
    }
   ],
   "source": [
    "np.zeros((2, 3))"
   ]
  },
  {
   "cell_type": "markdown",
   "id": "09ff5d50",
   "metadata": {},
   "source": [
    "The `ones()` function works analogously to the `zeros()` function, filling an array with the value `1`."
   ]
  },
  {
   "cell_type": "code",
   "execution_count": 20,
   "id": "44f178d8",
   "metadata": {},
   "outputs": [
    {
     "data": {
      "text/plain": [
       "array([1.])"
      ]
     },
     "execution_count": 20,
     "metadata": {},
     "output_type": "execute_result"
    }
   ],
   "source": [
    "np.ones(1)"
   ]
  },
  {
   "cell_type": "code",
   "execution_count": 19,
   "id": "e96d99c0",
   "metadata": {
    "scrolled": true
   },
   "outputs": [
    {
     "data": {
      "text/plain": [
       "array([[1., 1., 1., 1.],\n",
       "       [1., 1., 1., 1.],\n",
       "       [1., 1., 1., 1.]])"
      ]
     },
     "execution_count": 19,
     "metadata": {},
     "output_type": "execute_result"
    }
   ],
   "source": [
    "np.ones((3, 4))"
   ]
  },
  {
   "cell_type": "markdown",
   "id": "59290205",
   "metadata": {},
   "source": [
    "The \"numpy\" module also contains another module within called the \"random\" module. The \"random\" module contains different functions which allow us to create arrays filled with random numbers. For example the `uniform()` function creates an array with random floating-point numbers sampled uniformly from a specified range of values (\"sampled uniformly\" means that every floating-point number within the specified range of values has an equal likelihood of being chosen).\n",
    "\n",
    "The `uniform()` function takes in three arguments:\n",
    "\n",
    "1. The first argument determines the lower-bound of the range of values (the value itself is included in the range).\n",
    "2. The second argument determines the upper-bound of the range of values (the value itself is excluded from the range).\n",
    "3. The third argument determines the shape of the array."
   ]
  },
  {
   "cell_type": "code",
   "execution_count": 36,
   "id": "54c53560",
   "metadata": {},
   "outputs": [
    {
     "data": {
      "text/plain": [
       "array([0.4961275 , 0.66281566, 0.53734364])"
      ]
     },
     "execution_count": 36,
     "metadata": {},
     "output_type": "execute_result"
    }
   ],
   "source": [
    "np.random.uniform(0, 1, 3)"
   ]
  },
  {
   "cell_type": "code",
   "execution_count": 37,
   "id": "43b2d82d",
   "metadata": {
    "scrolled": true
   },
   "outputs": [
    {
     "data": {
      "text/plain": [
       "array([[0.50961483, 0.7198284 , 0.29486337],\n",
       "       [0.75636579, 0.81119542, 0.91071251]])"
      ]
     },
     "execution_count": 37,
     "metadata": {},
     "output_type": "execute_result"
    }
   ],
   "source": [
    "np.random.uniform(0, 1, (2, 3))"
   ]
  },
  {
   "cell_type": "code",
   "execution_count": 38,
   "id": "81c8346f",
   "metadata": {
    "scrolled": true
   },
   "outputs": [
    {
     "data": {
      "text/plain": [
       "array([[  2.49448695, -12.02803112,   6.50248066],\n",
       "       [-14.89821916,   4.58227313,  -8.44230171]])"
      ]
     },
     "execution_count": 38,
     "metadata": {},
     "output_type": "execute_result"
    }
   ],
   "source": [
    "np.random.uniform(-15, 15, (2, 3))"
   ]
  },
  {
   "cell_type": "markdown",
   "id": "f8bc7ed6",
   "metadata": {},
   "source": [
    "There is also a `randint()` function which works like the `uniform()` function but with integers:"
   ]
  },
  {
   "cell_type": "code",
   "execution_count": 56,
   "id": "d5c2de53",
   "metadata": {
    "scrolled": true
   },
   "outputs": [
    {
     "data": {
      "text/plain": [
       "array([3, 6, 7, 4, 8])"
      ]
     },
     "execution_count": 56,
     "metadata": {},
     "output_type": "execute_result"
    }
   ],
   "source": [
    "np.random.randint(0, 10, 5)"
   ]
  },
  {
   "cell_type": "code",
   "execution_count": 39,
   "id": "fec1caf5",
   "metadata": {},
   "outputs": [
    {
     "data": {
      "text/plain": [
       "array([[8, 4],\n",
       "       [3, 7],\n",
       "       [6, 6],\n",
       "       [6, 7]])"
      ]
     },
     "execution_count": 39,
     "metadata": {},
     "output_type": "execute_result"
    }
   ],
   "source": [
    "np.random.randint(0, 10, (4, 2))"
   ]
  },
  {
   "cell_type": "code",
   "execution_count": 40,
   "id": "850853a2",
   "metadata": {},
   "outputs": [
    {
     "data": {
      "text/plain": [
       "array([[-23, -27],\n",
       "       [-21, -21],\n",
       "       [-23, -26],\n",
       "       [-30, -29]])"
      ]
     },
     "execution_count": 40,
     "metadata": {},
     "output_type": "execute_result"
    }
   ],
   "source": [
    "np.random.randint(-30, -20, (4, 2))"
   ]
  },
  {
   "cell_type": "markdown",
   "id": "e2c55112",
   "metadata": {},
   "source": [
    "There are also other functions which create various kinds of arrays, however, as mentioned previously, it is not important to memorize or know about all of these functions. All we have to know is that there are many different functions. This is because if we know they exist, we know we can look for them (via a search engine or on the [official numpy documentation page](https://numpy.org/doc/stable/user/index.html)) to see if a function exists that solves our particular problem."
   ]
  },
  {
   "cell_type": "markdown",
   "id": "560d5993",
   "metadata": {},
   "source": [
    "# 4. NumPy array data types  <a id='numpy-array-data-types'></a>"
   ]
  },
  {
   "cell_type": "markdown",
   "id": "eed30799",
   "metadata": {},
   "source": [
    "The code cell below creates three arrays - each containing items of a different data type (`int`, `float`, `str`). If we use the `type()` function, we can see that each of those arrays is an `ndarray` regardless of the type of data it contains."
   ]
  },
  {
   "cell_type": "code",
   "execution_count": 3,
   "id": "3ef54c07",
   "metadata": {
    "scrolled": true
   },
   "outputs": [
    {
     "name": "stdout",
     "output_type": "stream",
     "text": [
      "<class 'numpy.ndarray'>\n",
      "<class 'numpy.ndarray'>\n",
      "<class 'numpy.ndarray'>\n"
     ]
    }
   ],
   "source": [
    "a = np.array([0, 1, 2])\n",
    "b = np.array([0.34, 27.42, 5.39])\n",
    "c = np.array([\"a\", \"b\", \"c\"])\n",
    "\n",
    "print(type(a))\n",
    "print(type(b))\n",
    "print(type(c))"
   ]
  },
  {
   "cell_type": "markdown",
   "id": "43ddfe6d",
   "metadata": {},
   "source": [
    "However, a NumPy array also contains information about the data type of the items stored within it. The data type of the items within an array can be accessed via the `dtype` attribute:"
   ]
  },
  {
   "cell_type": "code",
   "execution_count": 40,
   "id": "0719c453",
   "metadata": {
    "scrolled": false
   },
   "outputs": [
    {
     "name": "stdout",
     "output_type": "stream",
     "text": [
      "int64\n",
      "float64\n",
      "<U1\n"
     ]
    }
   ],
   "source": [
    "print(a.dtype)\n",
    "print(b.dtype)\n",
    "print(c.dtype)"
   ]
  },
  {
   "cell_type": "markdown",
   "id": "ef727d7c",
   "metadata": {},
   "source": [
    "As we can see, the `dtype` attribute returns a different data type for each `ndarray`.\n",
    "\n",
    "1. **int64** - is an integer which occupies 64 bits in the computer's memory. In pure Python, we only have an `int` type, without any specification of the number of bits this integer occupies in the computer's memory. In NumPy, we can be more precise and specify the number of bits we want our integers to occupy in the computer's memory. The more memory we dedicate, the higher the range of integers we can store. However, if we know that we will not be using big integers, we can dedicate less memory, and thereby save memory overall, as well as increase the speed of operations. For example, we could use an `int8`, which dedicates 8 bits of memory per integer - this gives us a range of numbers from -128 to 127. Or if we are only interested in positive numbers, we could use a `uint8` (unsigned integer with 8 bits of memory), which does not permit negative values and therefore allows a range of integers from 0 to 255.\n",
    "\n",
    "\n",
    "2. **float64** - is a floating-point number that occupies 64 bits in the computer's memory. We can also have floating-point numbers that occupy more or less memory, depending on what our needs are in terms of the range of values we expect the floating-point numbers to have.\n",
    "\n",
    "\n",
    "3. **<U1** - is a unicode string of length 1. Indeed when creating the `c` array, we have passed in a list containing strings of length 1. NumPy stores those strings in the unicode format (dedicating 16 bits per character)."
   ]
  },
  {
   "cell_type": "markdown",
   "id": "40fec409",
   "metadata": {},
   "source": [
    "One of the things that differentiates an `ndarray` from a `list` is that an `ndarray` can contain items of only one data type (whereas a `list` can have items of multiple different data types). When creating an array with the `array()` function, if we pass in a `list` containing items with differing data types, NumPy will do its best to infer the data type of the array and convert items accordingly. Take a look at the examples below:"
   ]
  },
  {
   "cell_type": "code",
   "execution_count": 7,
   "id": "551a6e0a",
   "metadata": {},
   "outputs": [
    {
     "name": "stdout",
     "output_type": "stream",
     "text": [
      "float64\n",
      "[1.    2.648 3.   ]\n"
     ]
    }
   ],
   "source": [
    "x = np.array([1, 2.648, 3])\n",
    "print(x.dtype)\n",
    "print(x)"
   ]
  },
  {
   "cell_type": "markdown",
   "id": "a0611cb5",
   "metadata": {},
   "source": [
    "As we can see above, NumPy has converted all of the items in the array `x` into the data type `float64`, even though the items in the list at index `0` and index `2` were of type `int`. We can see that they have indeed been converted to floating-point numbers by the `.` added to them.\n",
    "\n",
    "Take a look at what happens if we create an array from a list that contains integers and booleans:"
   ]
  },
  {
   "cell_type": "code",
   "execution_count": 34,
   "id": "36e84ca0",
   "metadata": {},
   "outputs": [
    {
     "name": "stdout",
     "output_type": "stream",
     "text": [
      "int64\n",
      "[5 1 0]\n"
     ]
    }
   ],
   "source": [
    "x = np.array([5, True, False])\n",
    "print(x.dtype)\n",
    "print(x)"
   ]
  },
  {
   "cell_type": "markdown",
   "id": "f688a653",
   "metadata": {},
   "source": [
    "As can be seen above, the value `True` is converted to the integer `1`, while the value `False` is converted to the integer `0`. And therefore, the `dtype` of the `ndarray` is `int64`.\n",
    "\n",
    "Take a look at what happens if we create an array with varying lengths of strings:"
   ]
  },
  {
   "cell_type": "code",
   "execution_count": 35,
   "id": "e2755a35",
   "metadata": {
    "scrolled": true
   },
   "outputs": [
    {
     "name": "stdout",
     "output_type": "stream",
     "text": [
      "<U3\n",
      "['a' 'bb' 'ccc']\n"
     ]
    }
   ],
   "source": [
    "x = np.array([\"a\", \"bb\", \"ccc\"])\n",
    "print(x.dtype)\n",
    "print(x)"
   ]
  },
  {
   "cell_type": "markdown",
   "id": "c6a7705c",
   "metadata": {},
   "source": [
    "The `dtype` is `<U3` indicating that the array holds unicode strings of length `3`. Even though the first string is only 1 character long and the second string only 2 characters long, both of these strings occupy the same amount of memory as the third string. Namely, every item in the `x` array occupies 48 bits of memory (3 * 16 bits, since a single unicode character occupies 16 bits).\n",
    "\n",
    "NumPy requires every item in an array to occupy an equal amount of memory, because it allows storing data in the computer's memory in a way that enables greater efficiency when performing operations."
   ]
  },
  {
   "cell_type": "markdown",
   "id": "bc1c361b",
   "metadata": {},
   "source": [
    "It is also worth knowing that we can specify the data type of an array when we are creating it with the `array()` function. The data we pass in will be converted accordingly to the `dtype` specified:"
   ]
  },
  {
   "cell_type": "code",
   "execution_count": 20,
   "id": "207f97ea",
   "metadata": {},
   "outputs": [
    {
     "name": "stdout",
     "output_type": "stream",
     "text": [
      "['a' 'bb' 'ccc']\n",
      "<U10\n"
     ]
    }
   ],
   "source": [
    "x = np.array([\"a\", \"bb\", \"ccc\"], \"<U10\")\n",
    "print(x)\n",
    "print(x.dtype)"
   ]
  },
  {
   "cell_type": "markdown",
   "id": "c9f8faff",
   "metadata": {},
   "source": [
    "Now each item in the array has 160 bits (10 * 16) reserved in the computer's memory. Similarly, if we specify the `dtype` to be `int32` but we pass in a list with floating-point numbers, NumPy will convert those floating-point numbers into integers of size 32 (bits):"
   ]
  },
  {
   "cell_type": "code",
   "execution_count": 21,
   "id": "aaef53a4",
   "metadata": {},
   "outputs": [
    {
     "name": "stdout",
     "output_type": "stream",
     "text": [
      "[8 5 7]\n",
      "int32\n"
     ]
    }
   ],
   "source": [
    "x = np.array([8.23, 5.14, 7.21], \"int32\")\n",
    "print(x)\n",
    "print(x.dtype)"
   ]
  },
  {
   "cell_type": "markdown",
   "id": "41b22fed",
   "metadata": {},
   "source": [
    "We can also convert the data type of an `ndarray` after it has been created with the `astype()` method:"
   ]
  },
  {
   "cell_type": "code",
   "execution_count": 22,
   "id": "488506a4",
   "metadata": {},
   "outputs": [
    {
     "name": "stdout",
     "output_type": "stream",
     "text": [
      "[8. 5. 7.]\n",
      "float64\n"
     ]
    }
   ],
   "source": [
    "x = x.astype(\"float64\")\n",
    "print(x)\n",
    "print(x.dtype)"
   ]
  },
  {
   "cell_type": "markdown",
   "id": "4ff2670e",
   "metadata": {},
   "source": [
    "# 5. Indexing and slicing <a id='indexing-and-slicing'></a>"
   ]
  },
  {
   "cell_type": "markdown",
   "id": "1eea16e5",
   "metadata": {},
   "source": [
    "When it comes to indexing, an array is similar to a `list` or a `str` in many ways. For example, we can access items in an array by their index:"
   ]
  },
  {
   "cell_type": "code",
   "execution_count": 10,
   "id": "0c1b5105",
   "metadata": {
    "scrolled": true
   },
   "outputs": [
    {
     "name": "stdout",
     "output_type": "stream",
     "text": [
      "[1 2 3 4 5 6 7 8 9]\n",
      "4\n",
      "8\n"
     ]
    }
   ],
   "source": [
    "arr = np.arange(1, 10)\n",
    "\n",
    "print(arr)\n",
    "print(arr[3])\n",
    "print(arr[-2])"
   ]
  },
  {
   "cell_type": "markdown",
   "id": "ad774e97",
   "metadata": {},
   "source": [
    "When an array has more than one dimension, we can access items in the following way:"
   ]
  },
  {
   "cell_type": "code",
   "execution_count": 44,
   "id": "aa3448a2",
   "metadata": {
    "scrolled": true
   },
   "outputs": [
    {
     "data": {
      "text/plain": [
       "array([[4, 3, 4, 8, 0],\n",
       "       [4, 3, 5, 0, 1],\n",
       "       [0, 2, 3, 7, 8]])"
      ]
     },
     "execution_count": 44,
     "metadata": {},
     "output_type": "execute_result"
    }
   ],
   "source": [
    "arr = np.random.randint(0, 10, (3, 5))\n",
    "arr"
   ]
  },
  {
   "cell_type": "code",
   "execution_count": 45,
   "id": "7ad453c6",
   "metadata": {},
   "outputs": [
    {
     "name": "stdout",
     "output_type": "stream",
     "text": [
      "[4 3 5 0 1]\n",
      "5\n",
      "2\n"
     ]
    }
   ],
   "source": [
    "print(arr[1])\n",
    "print(arr[1, 2])\n",
    "print(arr[-1, -4])"
   ]
  },
  {
   "cell_type": "markdown",
   "id": "2636a5f9",
   "metadata": {},
   "source": [
    "We can also slice arrays:"
   ]
  },
  {
   "cell_type": "code",
   "execution_count": 46,
   "id": "9c453114",
   "metadata": {},
   "outputs": [
    {
     "data": {
      "text/plain": [
       "array([[4, 3, 5, 0, 1],\n",
       "       [0, 2, 3, 7, 8]])"
      ]
     },
     "execution_count": 46,
     "metadata": {},
     "output_type": "execute_result"
    }
   ],
   "source": [
    "arr[1:3]"
   ]
  },
  {
   "cell_type": "code",
   "execution_count": 47,
   "id": "db13a37a",
   "metadata": {
    "scrolled": true
   },
   "outputs": [
    {
     "data": {
      "text/plain": [
       "array([[4, 3, 4, 8, 0],\n",
       "       [4, 3, 5, 0, 1]])"
      ]
     },
     "execution_count": 47,
     "metadata": {},
     "output_type": "execute_result"
    }
   ],
   "source": [
    "arr[:-1]"
   ]
  },
  {
   "cell_type": "code",
   "execution_count": 48,
   "id": "a4d9d410",
   "metadata": {},
   "outputs": [
    {
     "data": {
      "text/plain": [
       "array([4, 5, 3])"
      ]
     },
     "execution_count": 48,
     "metadata": {},
     "output_type": "execute_result"
    }
   ],
   "source": [
    "arr[:, 2]"
   ]
  },
  {
   "cell_type": "code",
   "execution_count": 49,
   "id": "25f323eb",
   "metadata": {
    "scrolled": true
   },
   "outputs": [
    {
     "data": {
      "text/plain": [
       "array([[4, 8],\n",
       "       [5, 0],\n",
       "       [3, 7]])"
      ]
     },
     "execution_count": 49,
     "metadata": {},
     "output_type": "execute_result"
    }
   ],
   "source": [
    "arr[:, 2:4]"
   ]
  },
  {
   "cell_type": "code",
   "execution_count": 50,
   "id": "31cdb6a9",
   "metadata": {
    "scrolled": true
   },
   "outputs": [
    {
     "data": {
      "text/plain": [
       "array([[5, 0],\n",
       "       [3, 7]])"
      ]
     },
     "execution_count": 50,
     "metadata": {},
     "output_type": "execute_result"
    }
   ],
   "source": [
    "arr[1:, 2:4]"
   ]
  },
  {
   "cell_type": "markdown",
   "id": "190543af",
   "metadata": {},
   "source": [
    "NumPy also allows us to create a mask which filters out certain items based on a logical condition:"
   ]
  },
  {
   "cell_type": "code",
   "execution_count": 19,
   "id": "eba6e2ae",
   "metadata": {},
   "outputs": [
    {
     "data": {
      "text/plain": [
       "array([6, 7, 8, 9])"
      ]
     },
     "execution_count": 19,
     "metadata": {},
     "output_type": "execute_result"
    }
   ],
   "source": [
    "x = np.arange(0, 10)\n",
    "\n",
    "mask = x > 5\n",
    "\n",
    "x[mask]"
   ]
  },
  {
   "cell_type": "markdown",
   "id": "c7e67aae",
   "metadata": {},
   "source": [
    "As we can see, only values greater than `5` are present in the array when we apply the mask. If we look at the `mask` variable, we will see that it is in fact an array containing booleans:"
   ]
  },
  {
   "cell_type": "code",
   "execution_count": 20,
   "id": "623720ce",
   "metadata": {},
   "outputs": [
    {
     "name": "stdout",
     "output_type": "stream",
     "text": [
      "[False False False False False False  True  True  True  True]\n",
      "(10,)\n"
     ]
    }
   ],
   "source": [
    "print(mask)\n",
    "print(mask.shape)"
   ]
  },
  {
   "cell_type": "markdown",
   "id": "34f30311",
   "metadata": {},
   "source": [
    "The `False` values indicate which items should be filtered out, while the `True` values indicate which items should remain."
   ]
  },
  {
   "cell_type": "code",
   "execution_count": 24,
   "id": "55d1448d",
   "metadata": {},
   "outputs": [
    {
     "data": {
      "text/plain": [
       "array([0, 1, 2, 3, 5, 6, 7, 8, 9])"
      ]
     },
     "execution_count": 24,
     "metadata": {},
     "output_type": "execute_result"
    }
   ],
   "source": [
    "x[x != 4]"
   ]
  },
  {
   "cell_type": "code",
   "execution_count": 26,
   "id": "8fc31ca9",
   "metadata": {},
   "outputs": [
    {
     "data": {
      "text/plain": [
       "array([0, 1, 2, 3])"
      ]
     },
     "execution_count": 26,
     "metadata": {},
     "output_type": "execute_result"
    }
   ],
   "source": [
    "x[x <= 3]"
   ]
  },
  {
   "cell_type": "markdown",
   "id": "7ddad3be",
   "metadata": {},
   "source": [
    "We can also access items by passing a list containing the indices of items:"
   ]
  },
  {
   "cell_type": "code",
   "execution_count": 43,
   "id": "5d0a94c3",
   "metadata": {},
   "outputs": [
    {
     "name": "stdout",
     "output_type": "stream",
     "text": [
      "[10 15 20 25 30]\n",
      "[10 15 25]\n",
      "[20 30]\n",
      "[10 10 15 15]\n"
     ]
    }
   ],
   "source": [
    "x = np.arange(10, 35, 5)\n",
    "print(x)\n",
    "\n",
    "indices = [0, 1, 3] \n",
    "print(x[indices])\n",
    "print(x[[2, 4]])\n",
    "print(x[[0, 0, 1, 1]])"
   ]
  },
  {
   "cell_type": "code",
   "execution_count": 3,
   "id": "099523f8",
   "metadata": {
    "scrolled": true
   },
   "outputs": [
    {
     "name": "stdout",
     "output_type": "stream",
     "text": [
      "[[10 15 20 25 30]\n",
      " [35 40 45 50 55]\n",
      " [60 65 70 75 80]]\n",
      "--------------------\n",
      "[[10 15 20 25 30]\n",
      " [60 65 70 75 80]]\n",
      "--------------------\n",
      "[[20 25 30]\n",
      " [70 75 80]]\n",
      "--------------------\n"
     ]
    }
   ],
   "source": [
    "x = np.arange(10, 85, 5).reshape(3, 5)\n",
    "print(x)\n",
    "print(\"-\" * 20)\n",
    "\n",
    "print(x[[0, 2]])\n",
    "print(\"-\" * 20)\n",
    "\n",
    "print(x[[0, 2], -3:])\n",
    "print(\"-\" * 20)"
   ]
  },
  {
   "cell_type": "markdown",
   "id": "6955f4fe",
   "metadata": {},
   "source": [
    "It is worth mentioning that we can also assign values to specific locations in an array via indexing and slicing:"
   ]
  },
  {
   "cell_type": "code",
   "execution_count": 5,
   "id": "51442b57",
   "metadata": {},
   "outputs": [
    {
     "data": {
      "text/plain": [
       "array([ 0,  1, 99,  3,  4])"
      ]
     },
     "execution_count": 5,
     "metadata": {},
     "output_type": "execute_result"
    }
   ],
   "source": [
    "x = np.arange(0, 5)\n",
    "x[2] = 99\n",
    "x"
   ]
  },
  {
   "cell_type": "code",
   "execution_count": 16,
   "id": "d0b2874f",
   "metadata": {},
   "outputs": [
    {
     "name": "stdout",
     "output_type": "stream",
     "text": [
      "[[ 0  1  2  3  4]\n",
      " [ 5  6  7  8  9]\n",
      " [10 11 12 13 14]]\n",
      "--------------------\n",
      "[[ 0  1  2  3  4]\n",
      " [ 5 97 98 99  9]\n",
      " [10 97 98 99 14]]\n",
      "--------------------\n",
      "[[  0   1   2   3   4]\n",
      " [  5  97  98  99   9]\n",
      " [ 10 100 101 102  14]]\n"
     ]
    }
   ],
   "source": [
    "x = np.arange(0, 15).reshape(3, 5)\n",
    "print(x)\n",
    "print(\"-\" * 20)\n",
    "\n",
    "x[1:, 1:4] = [97, 98, 99]\n",
    "print(x)\n",
    "print(\"-\" * 20)\n",
    "\n",
    "x[1:, 1:4] = [[97, 98, 99], [100, 101, 102]]\n",
    "print(x)"
   ]
  },
  {
   "cell_type": "markdown",
   "id": "9eaca136",
   "metadata": {},
   "source": [
    "# 6. Operations on arrays <a id='operations-on-arrays'></a>"
   ]
  },
  {
   "cell_type": "markdown",
   "id": "a09390c6",
   "metadata": {},
   "source": [
    "NumPy allows us to perform operations between arrays (collections of values) and scalars (single values). This allows us to express an operation we want to have performed on every item in an array without having to write loops:"
   ]
  },
  {
   "cell_type": "code",
   "execution_count": 37,
   "id": "ff32974b",
   "metadata": {
    "scrolled": true
   },
   "outputs": [
    {
     "name": "stdout",
     "output_type": "stream",
     "text": [
      "[1. 1. 1. 1. 1.]\n",
      "[6. 6. 6. 6. 6.]\n",
      "[0.33333333 0.33333333 0.33333333 0.33333333 0.33333333]\n"
     ]
    }
   ],
   "source": [
    "x = np.ones(5)\n",
    "\n",
    "print(x)\n",
    "print(x + 5)\n",
    "print(x / 3)"
   ]
  },
  {
   "cell_type": "markdown",
   "id": "132118ac",
   "metadata": {},
   "source": [
    "**Note:** such a way of writing code is called vectorization. The vectorized operations in NumPy are much more efficient than for loops in pure Python."
   ]
  },
  {
   "cell_type": "markdown",
   "id": "020f71fc",
   "metadata": {},
   "source": [
    "NumPy also allows for operations between two arrays of the same size. In that case, the operation will be performed in an element-wise fashion:"
   ]
  },
  {
   "cell_type": "code",
   "execution_count": 3,
   "id": "b1d5b977",
   "metadata": {
    "scrolled": true
   },
   "outputs": [
    {
     "name": "stdout",
     "output_type": "stream",
     "text": [
      "[1 2 3 4 5]\n",
      "[ 2  4  6  8 10]\n",
      "[ 1  4  9 16 25]\n",
      "[0 0 0 0 0]\n",
      "[1. 1. 1. 1. 1.]\n"
     ]
    }
   ],
   "source": [
    "x = np.arange(1, 6)\n",
    "\n",
    "print(x)\n",
    "print(x + x)\n",
    "print(x * x)\n",
    "print(x - x)\n",
    "print(x / x)"
   ]
  },
  {
   "cell_type": "markdown",
   "id": "d68beced",
   "metadata": {},
   "source": [
    "There are also many different statistical operations in NumPy, which can be accessed via functions or methods. For example, the sum of an array can be calculated in the following ways:"
   ]
  },
  {
   "cell_type": "code",
   "execution_count": 4,
   "id": "a809b1e0",
   "metadata": {},
   "outputs": [
    {
     "name": "stdout",
     "output_type": "stream",
     "text": [
      "15\n",
      "15\n"
     ]
    }
   ],
   "source": [
    "print(np.sum(x))\n",
    "print(x.sum())"
   ]
  },
  {
   "cell_type": "markdown",
   "id": "1e0ea4f3",
   "metadata": {},
   "source": [
    "Both of the ways above are equivalent. Many operations in NumPy are available as both functions within the \"numpy\" module or as methods contained within an `ndarray`."
   ]
  },
  {
   "cell_type": "code",
   "execution_count": 5,
   "id": "a18e1758",
   "metadata": {},
   "outputs": [
    {
     "name": "stdout",
     "output_type": "stream",
     "text": [
      "1\n",
      "1\n"
     ]
    }
   ],
   "source": [
    "print(np.min(x))\n",
    "print(x.min())"
   ]
  },
  {
   "cell_type": "code",
   "execution_count": 6,
   "id": "627758c0",
   "metadata": {},
   "outputs": [
    {
     "name": "stdout",
     "output_type": "stream",
     "text": [
      "5\n",
      "5\n"
     ]
    }
   ],
   "source": [
    "print(np.max(x))\n",
    "print(x.max())"
   ]
  },
  {
   "cell_type": "code",
   "execution_count": 14,
   "id": "cc65f7ee",
   "metadata": {
    "scrolled": false
   },
   "outputs": [
    {
     "name": "stdout",
     "output_type": "stream",
     "text": [
      "3.0\n",
      "3.0\n"
     ]
    }
   ],
   "source": [
    "print(np.mean(x))\n",
    "print(x.mean())"
   ]
  },
  {
   "cell_type": "code",
   "execution_count": 15,
   "id": "6129a4bd",
   "metadata": {},
   "outputs": [
    {
     "name": "stdout",
     "output_type": "stream",
     "text": [
      "1.4142135623730951\n",
      "1.4142135623730951\n"
     ]
    }
   ],
   "source": [
    "# `std()` calculates the standard deviation\n",
    "print(np.std(x))\n",
    "print(x.std())"
   ]
  },
  {
   "cell_type": "code",
   "execution_count": 16,
   "id": "8b91cd3a",
   "metadata": {},
   "outputs": [
    {
     "name": "stdout",
     "output_type": "stream",
     "text": [
      "2.0\n",
      "2.0\n"
     ]
    }
   ],
   "source": [
    "# `var()` calculates the variance\n",
    "print(np.var(x))\n",
    "print(x.var())"
   ]
  },
  {
   "cell_type": "markdown",
   "id": "a9995ee9",
   "metadata": {},
   "source": [
    "NumPy arrays are also iterables, which means we can use the `in` operator:"
   ]
  },
  {
   "cell_type": "code",
   "execution_count": 10,
   "id": "732320fd",
   "metadata": {
    "scrolled": true
   },
   "outputs": [
    {
     "name": "stdout",
     "output_type": "stream",
     "text": [
      "[1 2 3 4 5]\n",
      "True\n",
      "False\n"
     ]
    }
   ],
   "source": [
    "print(x)\n",
    "print(3 in x)\n",
    "print(6 in x)"
   ]
  },
  {
   "cell_type": "markdown",
   "id": "3d433f48",
   "metadata": {},
   "source": [
    "Of course this means we can also use for loops with NumPy arrays:"
   ]
  },
  {
   "cell_type": "code",
   "execution_count": 8,
   "id": "6229bbb4",
   "metadata": {},
   "outputs": [
    {
     "name": "stdout",
     "output_type": "stream",
     "text": [
      "1\n",
      "2\n",
      "3\n",
      "4\n",
      "5\n"
     ]
    }
   ],
   "source": [
    "for item in x:\n",
    "    print(item)"
   ]
  },
  {
   "cell_type": "markdown",
   "id": "5b9d8a3b",
   "metadata": {},
   "source": [
    "# 7. Reshaping and joining arrays <a id='reshaping-arrays'></a>"
   ]
  },
  {
   "cell_type": "markdown",
   "id": "0f98ed38",
   "metadata": {},
   "source": [
    "It is also worth knowing that arrays can be reshaped after they have been created:"
   ]
  },
  {
   "cell_type": "code",
   "execution_count": 19,
   "id": "1dec8b4a",
   "metadata": {
    "scrolled": true
   },
   "outputs": [
    {
     "name": "stdout",
     "output_type": "stream",
     "text": [
      "[ 0  1  2  3  4  5  6  7  8  9 10 11]\n",
      "\n",
      "[[ 0  1  2]\n",
      " [ 3  4  5]\n",
      " [ 6  7  8]\n",
      " [ 9 10 11]]\n"
     ]
    }
   ],
   "source": [
    "x = np.arange(12)\n",
    "\n",
    "print(x)\n",
    "print()\n",
    "print(x.reshape(4,3))"
   ]
  },
  {
   "cell_type": "markdown",
   "id": "2061b62f",
   "metadata": {},
   "source": [
    "We can also concatenate two arrays to create a new array of a different shape:"
   ]
  },
  {
   "cell_type": "code",
   "execution_count": 65,
   "id": "7fd41484",
   "metadata": {},
   "outputs": [
    {
     "name": "stdout",
     "output_type": "stream",
     "text": [
      "[0 1 2 3 4 5]\n",
      "[ 6  7  8  9 10 11]\n",
      "[ 0  1  2  3  4  5  6  7  8  9 10 11]\n"
     ]
    }
   ],
   "source": [
    "x = np.arange(6)\n",
    "y = np.arange(6) + 6\n",
    "\n",
    "print(x)\n",
    "print(y)\n",
    "\n",
    "z = np.concatenate([x, y])\n",
    "print(z)"
   ]
  },
  {
   "cell_type": "markdown",
   "id": "f8c53d8f",
   "metadata": {},
   "source": [
    "We can also concatenate multi-dimensional arrays. In this case, we can also pass in a second argument to the `concatenate()` function - this second argument determines along which dimension we should concatenate the arrays."
   ]
  },
  {
   "cell_type": "code",
   "execution_count": 63,
   "id": "288b5c60",
   "metadata": {},
   "outputs": [
    {
     "name": "stdout",
     "output_type": "stream",
     "text": [
      "[[0 1 2]\n",
      " [3 4 5]]\n",
      "--------------------\n",
      "[[ 6  7  8]\n",
      " [ 9 10 11]]\n",
      "--------------------\n",
      "[[ 0  1  2]\n",
      " [ 3  4  5]\n",
      " [ 6  7  8]\n",
      " [ 9 10 11]]\n",
      "--------------------\n",
      "[[ 0  1  2  6  7  8]\n",
      " [ 3  4  5  9 10 11]]\n"
     ]
    }
   ],
   "source": [
    "x = x.reshape(2, 3)\n",
    "y = y.reshape(2, 3)\n",
    "\n",
    "print(x)\n",
    "print(\"-\" * 20)\n",
    "print(y)\n",
    "print(\"-\" * 20)\n",
    "print(np.concatenate([x, y], 0))\n",
    "print(\"-\" * 20)\n",
    "print(np.concatenate([x, y], 1))"
   ]
  },
  {
   "cell_type": "markdown",
   "id": "7a5a3261",
   "metadata": {},
   "source": [
    "In general, there is more that can be said about NumPy arrays, however, this notebook covers some of the main features. Hopefully, you now have some intuition of what an array is and what can be done with it. \n",
    "\n",
    "As always, you do not need to remember all of the details of the NumPy library, because you can always look up the names of functions (or whether a function even exists) online - there's plenty of great resources that cover various aspects of the NumPy library. Alternatively, you can go straight to the [official NumPy documentation](https://numpy.org/doc/) for more detailed information."
   ]
  }
 ],
 "metadata": {
  "kernelspec": {
   "display_name": "Python 3 (ipykernel)",
   "language": "python",
   "name": "python3"
  },
  "language_info": {
   "codemirror_mode": {
    "name": "ipython",
    "version": 3
   },
   "file_extension": ".py",
   "mimetype": "text/x-python",
   "name": "python",
   "nbconvert_exporter": "python",
   "pygments_lexer": "ipython3",
   "version": "3.9.13"
  }
 },
 "nbformat": 4,
 "nbformat_minor": 5
}
