{
 "cells": [
  {
   "cell_type": "markdown",
   "id": "e01b8837",
   "metadata": {},
   "source": [
    "The code cell below creates an array with random integers between 0 and 9 and assigns it to the variable `random_array`.\n",
    "\n",
    "**Important:** do not change the code to generate the random array - otherwise the assignment will not be graded properly, which will likely prevent you from getting full marks."
   ]
  },
  {
   "cell_type": "code",
   "execution_count": 3,
   "id": "706b51cd",
   "metadata": {},
   "outputs": [],
   "source": [
    "import numpy as np\n",
    "\n",
    "random_array = np.random.randint(0, 10, (100, 100))"
   ]
  },
  {
   "cell_type": "markdown",
   "id": "2fe2864e",
   "metadata": {},
   "source": [
    "### Exercise 2.1 (2.5 pts)"
   ]
  },
  {
   "cell_type": "markdown",
   "id": "308e6033",
   "metadata": {},
   "source": [
    "Calculate the mean of all the values in `random_array`, round the mean to **2 decimal places** and store it in the variable `avg`:"
   ]
  },
  {
   "cell_type": "code",
   "execution_count": 10,
   "id": "ae0d5e33",
   "metadata": {},
   "outputs": [],
   "source": [
    "avg = "
   ]
  },
  {
   "cell_type": "markdown",
   "id": "cb72536d",
   "metadata": {},
   "source": [
    "### Exercise 2.2 (5 pts)\n",
    "\n",
    "Count the number of times the value `5` appears in `random_array` and assign that value to the variable `item_count`.\n",
    "\n",
    "**Hint:** you may want to use a mask and the `size` attribute of an array. The `size` attribute is an integer representing the total number of items in an array (in all dimensions combined)."
   ]
  },
  {
   "cell_type": "code",
   "execution_count": null,
   "id": "208ebaf6",
   "metadata": {},
   "outputs": [],
   "source": [
    "# the `item_count` variable should contain an integer \n",
    "# representing the number of times the value 5 appears in `random_array`\n",
    "\n",
    "item_count ="
   ]
  }
 ],
 "metadata": {
  "kernelspec": {
   "display_name": "Python 3 (ipykernel)",
   "language": "python",
   "name": "python3"
  },
  "language_info": {
   "codemirror_mode": {
    "name": "ipython",
    "version": 3
   },
   "file_extension": ".py",
   "mimetype": "text/x-python",
   "name": "python",
   "nbconvert_exporter": "python",
   "pygments_lexer": "ipython3",
   "version": "3.9.13"
  }
 },
 "nbformat": 4,
 "nbformat_minor": 5
}
