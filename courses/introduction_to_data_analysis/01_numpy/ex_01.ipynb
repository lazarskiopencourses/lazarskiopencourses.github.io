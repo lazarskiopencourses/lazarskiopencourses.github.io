{
 "cells": [
  {
   "cell_type": "markdown",
   "id": "20e7cc8f",
   "metadata": {},
   "source": [
    "### Exercise 1 (2.5 pts)\n",
    "\n",
    "Create a NumPy array with the shape `(50, 100)` and dtype `float16`. Assign this array to the variable named `arr`:"
   ]
  },
  {
   "cell_type": "code",
   "execution_count": null,
   "id": "60e3f1c0",
   "metadata": {},
   "outputs": [],
   "source": [
    "arr = "
   ]
  }
 ],
 "metadata": {
  "kernelspec": {
   "display_name": "Python 3 (ipykernel)",
   "language": "python",
   "name": "python3"
  },
  "language_info": {
   "codemirror_mode": {
    "name": "ipython",
    "version": 3
   },
   "file_extension": ".py",
   "mimetype": "text/x-python",
   "name": "python",
   "nbconvert_exporter": "python",
   "pygments_lexer": "ipython3",
   "version": "3.9.13"
  }
 },
 "nbformat": 4,
 "nbformat_minor": 5
}
