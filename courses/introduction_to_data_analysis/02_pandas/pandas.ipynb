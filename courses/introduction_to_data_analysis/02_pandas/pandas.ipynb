{
 "cells": [
  {
   "cell_type": "markdown",
   "id": "fc61ce56",
   "metadata": {},
   "source": [
    "## Sections:\n",
    "\n",
    "1. [Pandas](#Pandas)  \n",
    "2. [Installing and importing Pandas](#installing-and-importing-pandas)  \n",
    "3. [Series](#series)  \n",
    "    3.1. [Creating a Series](#indexing-and-slicing)  \n",
    "    3.2. [Indexing and slicing](#series-indexing-and-slicing)   \n",
    "    3.3. [Operations on Series](#indexing-and-slicing)    \n",
    "4. [Keyword arguments](#keyword-arguments)  \n",
    "5. [Dataframe](#Dataframe)  \n",
    "    5.1. [Creating a DataFrame](#creating-a-datafarme)  \n",
    "    5.2. [Indexing and slicing](#df-indexing-and-slicing)  \n",
    "    5.3. [Adding rows and columns](#adding-rows-and-columns)  \n",
    "    5.4. [Removing rows and columns](#removing-rows-and-columns)  "
   ]
  },
  {
   "cell_type": "markdown",
   "id": "c369983b",
   "metadata": {},
   "source": [
    "# 1. Pandas  <a id='pandas'></a>\n",
    "\n",
    "Pandas is a Python library for data analysis. Pandas is particularly useful when working with tabular data (data organized in a table). It is also worth mentioning that the Pandas library relies heavily on the NumPy library - we will explore what that means later on."
   ]
  },
  {
   "cell_type": "markdown",
   "id": "2a8f45b9",
   "metadata": {},
   "source": [
    "# 2. Installing and importing Pandas  <a id='installing-and-importing-pandas'></a>\n",
    "\n",
    "The Pandas package is not included with Python, and therefore we have to install it before we can import the \"pandas\" module. The easiest way to install Pandas is to use **pip** - the official **P**ackage **I**nstaller for **P**ython. In order to install the Pandas package using pip, we can run the following command in the terminal:\n",
    "\n",
    "`pip install pandas`\n",
    "\n",
    "However, since we are using a Jupyter notebook, we can also install Pandas by running the command in the cell below (which will run the above command in the terminal for us):"
   ]
  },
  {
   "cell_type": "code",
   "execution_count": 2,
   "id": "568d6e0b",
   "metadata": {
    "scrolled": true
   },
   "outputs": [
    {
     "name": "stdout",
     "output_type": "stream",
     "text": [
      "Collecting pandas\n",
      "  Downloading pandas-1.4.4-cp39-cp39-manylinux_2_17_x86_64.manylinux2014_x86_64.whl (11.7 MB)\n",
      "\u001b[2K     \u001b[38;2;114;156;31m━━━━━━━━━━━━━━━━━━━━━━━━━━━━━━━━━━━━━━━━\u001b[0m \u001b[32m11.7/11.7 MB\u001b[0m \u001b[31m1.2 MB/s\u001b[0m eta \u001b[36m0:00:00\u001b[0mm eta \u001b[36m0:00:01\u001b[0m[36m0:00:01\u001b[0m\n",
      "\u001b[?25hRequirement already satisfied: pytz>=2020.1 in /home/dvrki/anaconda3/envs/online_courses/lib/python3.9/site-packages (from pandas) (2022.2.1)\n",
      "Requirement already satisfied: numpy>=1.18.5 in /home/dvrki/anaconda3/envs/online_courses/lib/python3.9/site-packages (from pandas) (1.23.2)\n",
      "Requirement already satisfied: python-dateutil>=2.8.1 in /home/dvrki/anaconda3/envs/online_courses/lib/python3.9/site-packages (from pandas) (2.8.2)\n",
      "Requirement already satisfied: six>=1.5 in /home/dvrki/anaconda3/envs/online_courses/lib/python3.9/site-packages (from python-dateutil>=2.8.1->pandas) (1.16.0)\n",
      "Installing collected packages: pandas\n",
      "Successfully installed pandas-1.4.4\n"
     ]
    }
   ],
   "source": [
    "!pip install pandas"
   ]
  },
  {
   "cell_type": "markdown",
   "id": "d1da7ca4",
   "metadata": {},
   "source": [
    "Once we have installed the Pandas package, we can import the \"pandas\" module by running the following code:"
   ]
  },
  {
   "cell_type": "code",
   "execution_count": 1,
   "id": "e53162e7",
   "metadata": {},
   "outputs": [],
   "source": [
    "import pandas as pd"
   ]
  },
  {
   "cell_type": "markdown",
   "id": "3c7273b9",
   "metadata": {},
   "source": [
    "The line above imports the \"pandas\" module and assigns it to the variable `pd` - this is a commonly used abbreviation for the \"pandas\" module."
   ]
  },
  {
   "cell_type": "markdown",
   "id": "404e386a",
   "metadata": {},
   "source": [
    "# 3. Series  <a id='series'></a>"
   ]
  },
  {
   "cell_type": "markdown",
   "id": "314d1836",
   "metadata": {},
   "source": [
    "The Pandas library contains two main types of objects - a `Series` and a `DataFrame`. A `Series` is similar to a one-dimensional NumPy array - it holds an ordered collection of items of the same data type. In fact, the `Series` object uses a NumPy array to store data. The `DataFrame` object is used to represent a table which consists of multiple columns (each of which is a `Series`). In this subsection, we will cover the `Series` object."
   ]
  },
  {
   "cell_type": "markdown",
   "id": "0b8cb26d",
   "metadata": {},
   "source": [
    "## 3.1. Creating series <a id='creating-series'></a>\n",
    "\n",
    "What distinguishes a `Series` from just a NumPy array is that a Series contains two NumPy arrays - one which represents the values in the `Series` and another which represents the index. The index can be composed of numbers or strings.\n",
    "\n",
    "If we create a `Series` and just pass in a `list` of items, without specifying the index, a default index will be created from 0 to $n-1$, where $n$ is the number of items in the `Series`."
   ]
  },
  {
   "cell_type": "code",
   "execution_count": 4,
   "id": "ade3f291",
   "metadata": {},
   "outputs": [
    {
     "data": {
      "text/plain": [
       "0    1\n",
       "1    2\n",
       "2    3\n",
       "3    4\n",
       "4    5\n",
       "dtype: int64"
      ]
     },
     "execution_count": 4,
     "metadata": {},
     "output_type": "execute_result"
    }
   ],
   "source": [
    "s = pd.Series([1, 2, 3, 4, 5])\n",
    "s"
   ]
  },
  {
   "cell_type": "markdown",
   "id": "a25cfc7e",
   "metadata": {},
   "source": [
    "As can be seen above, the index of the `Series` is on the left `(0, 1, 2, 3, 4)`, while the values of the `Series` are on the right `(1, 2, 3, 4, 5)`. At the bottom we can see the data type (`dtype`) of the `Series`. You might be wondering why the values are displayed vertically. As mentioned before, this is because a `Series` is used to represent a column in a table - we will cover this in greater depth later on in the notebook. \n",
    "\n",
    "Let's see what happens if we create a `Series` with the same values, but we pass in a custom index this time:"
   ]
  },
  {
   "cell_type": "code",
   "execution_count": 5,
   "id": "e6734587",
   "metadata": {},
   "outputs": [
    {
     "data": {
      "text/plain": [
       "a    1\n",
       "b    2\n",
       "c    3\n",
       "d    4\n",
       "e    5\n",
       "dtype: int64"
      ]
     },
     "execution_count": 5,
     "metadata": {},
     "output_type": "execute_result"
    }
   ],
   "source": [
    "s = pd.Series([1, 2, 3, 4, 5], [\"a\", \"b\", \"c\", \"d\", \"e\"])\n",
    "s"
   ]
  },
  {
   "cell_type": "markdown",
   "id": "0bbeb984",
   "metadata": {},
   "source": [
    "As we can see above, the index now consists of: `a b c d e`. We can check the values of the index specifically by accessing the `index` attribute of a `Series`."
   ]
  },
  {
   "cell_type": "code",
   "execution_count": 6,
   "id": "905a99e2",
   "metadata": {
    "scrolled": true
   },
   "outputs": [
    {
     "data": {
      "text/plain": [
       "Index(['a', 'b', 'c', 'd', 'e'], dtype='object')"
      ]
     },
     "execution_count": 6,
     "metadata": {},
     "output_type": "execute_result"
    }
   ],
   "source": [
    "s.index"
   ]
  },
  {
   "cell_type": "markdown",
   "id": "52f7437d",
   "metadata": {},
   "source": [
    "We see that the index does contain the three strings `'a'`, `'b'`, `'c'`, `'d'` and `'e'`. We can similarly access the values in a series via the `values` attribute:"
   ]
  },
  {
   "cell_type": "code",
   "execution_count": 7,
   "id": "60e46252",
   "metadata": {
    "scrolled": true
   },
   "outputs": [
    {
     "data": {
      "text/plain": [
       "array([1, 2, 3, 4, 5])"
      ]
     },
     "execution_count": 7,
     "metadata": {},
     "output_type": "execute_result"
    }
   ],
   "source": [
    "s.values"
   ]
  },
  {
   "cell_type": "markdown",
   "id": "1923a4b6",
   "metadata": {},
   "source": [
    "You may recognize the above output as a NumPy array. This is because the values in a `Series` are just a NumPy array "
   ]
  },
  {
   "cell_type": "code",
   "execution_count": 8,
   "id": "2435f667",
   "metadata": {},
   "outputs": [
    {
     "data": {
      "text/plain": [
       "numpy.ndarray"
      ]
     },
     "execution_count": 8,
     "metadata": {},
     "output_type": "execute_result"
    }
   ],
   "source": [
    "type(s.values)"
   ]
  },
  {
   "cell_type": "markdown",
   "id": "4cd354bb",
   "metadata": {},
   "source": [
    "The `Index` object also contains a NumPy array to store the values of the index:"
   ]
  },
  {
   "cell_type": "code",
   "execution_count": 9,
   "id": "f84de881",
   "metadata": {},
   "outputs": [
    {
     "data": {
      "text/plain": [
       "array(['a', 'b', 'c', 'd', 'e'], dtype=object)"
      ]
     },
     "execution_count": 9,
     "metadata": {},
     "output_type": "execute_result"
    }
   ],
   "source": [
    "s.index.values"
   ]
  },
  {
   "cell_type": "markdown",
   "id": "5aca1b81",
   "metadata": {},
   "source": [
    "The `Series` object can also be thought of as an ordered dictionary. Therefore, we can also create a series from a dictionary:"
   ]
  },
  {
   "cell_type": "code",
   "execution_count": 10,
   "id": "98018391",
   "metadata": {},
   "outputs": [
    {
     "data": {
      "text/plain": [
       "a    1\n",
       "b    2\n",
       "c    3\n",
       "dtype: int64"
      ]
     },
     "execution_count": 10,
     "metadata": {},
     "output_type": "execute_result"
    }
   ],
   "source": [
    "data = {\"a\": 1, \"b\": 2, \"c\": 3}\n",
    "new_series = pd.Series(data)\n",
    "new_series"
   ]
  },
  {
   "cell_type": "markdown",
   "id": "3a450c95",
   "metadata": {},
   "source": [
    "## 3.2. Indexing and slicing <a id='indexing-and-slicing'></a>"
   ]
  },
  {
   "cell_type": "markdown",
   "id": "abb0a949",
   "metadata": {},
   "source": [
    "As mentioned before, Pandas relies heavily on the NumPy library. It can be said that Pandas is built on top of NumPy. This means that if you are already familiar with Numpy, understanding Pandas will be easier since much of the functionality is similar.\n",
    "\n",
    "For example, accessing items in a `Series` works exactly the same way as accessing items in a one-dimensional NumPy array. However, Pandas has extended this idea to indices composed of strings as well. Therefore, we can access items in the `s` Series by their index like so:"
   ]
  },
  {
   "cell_type": "code",
   "execution_count": 11,
   "id": "d1448621",
   "metadata": {
    "scrolled": true
   },
   "outputs": [
    {
     "name": "stdout",
     "output_type": "stream",
     "text": [
      "1\n",
      "2\n",
      "3\n",
      "4\n",
      "5\n"
     ]
    }
   ],
   "source": [
    "print(s[\"a\"])\n",
    "print(s[\"b\"])\n",
    "print(s[\"c\"])\n",
    "print(s[\"d\"])\n",
    "print(s[\"e\"])"
   ]
  },
  {
   "cell_type": "markdown",
   "id": "e05c5029",
   "metadata": {},
   "source": [
    "This is exactly how you would access items in a dictionary by their key. However, since a `Series` is an ordered collection of data (just like an array), Pandas also allows us to perform slicing with string indices:"
   ]
  },
  {
   "cell_type": "code",
   "execution_count": 12,
   "id": "f45df4d9",
   "metadata": {
    "scrolled": false
   },
   "outputs": [
    {
     "data": {
      "text/plain": [
       "b    2\n",
       "c    3\n",
       "d    4\n",
       "dtype: int64"
      ]
     },
     "execution_count": 12,
     "metadata": {},
     "output_type": "execute_result"
    }
   ],
   "source": [
    "s[\"b\":\"d\"]"
   ]
  },
  {
   "cell_type": "markdown",
   "id": "cfc81bcc",
   "metadata": {},
   "source": [
    "As can be seen above, slicing a `Series` returns another `Series` containing the collection of items specified by the splice operator. This second `Series` is called a \"view\" of the original `Series`.\n",
    "\n",
    "We can also pass a list of indices to obtain a specific view of the original `Series`:"
   ]
  },
  {
   "cell_type": "code",
   "execution_count": 13,
   "id": "991951e7",
   "metadata": {
    "scrolled": false
   },
   "outputs": [
    {
     "data": {
      "text/plain": [
       "a    1\n",
       "c    3\n",
       "e    5\n",
       "dtype: int64"
      ]
     },
     "execution_count": 13,
     "metadata": {},
     "output_type": "execute_result"
    }
   ],
   "source": [
    "s[[\"a\", \"c\", \"e\"]]"
   ]
  },
  {
   "cell_type": "markdown",
   "id": "950ae54e",
   "metadata": {},
   "source": [
    "And we can also use logical expressions to create views:"
   ]
  },
  {
   "cell_type": "code",
   "execution_count": 14,
   "id": "9eecb383",
   "metadata": {},
   "outputs": [
    {
     "data": {
      "text/plain": [
       "a    1\n",
       "b    2\n",
       "c    3\n",
       "dtype: int64"
      ]
     },
     "execution_count": 14,
     "metadata": {},
     "output_type": "execute_result"
    }
   ],
   "source": [
    "s[s < 4]"
   ]
  },
  {
   "cell_type": "markdown",
   "id": "5e824150",
   "metadata": {},
   "source": [
    "Similarly to NumPy arrays, we can assign values to locations in a `Series` with the use of indexing and slicing:"
   ]
  },
  {
   "cell_type": "code",
   "execution_count": 15,
   "id": "1a765513",
   "metadata": {},
   "outputs": [
    {
     "data": {
      "text/plain": [
       "a     1\n",
       "b    99\n",
       "c     3\n",
       "d     4\n",
       "e     5\n",
       "dtype: int64"
      ]
     },
     "execution_count": 15,
     "metadata": {},
     "output_type": "execute_result"
    }
   ],
   "source": [
    "s[\"b\"] = 99\n",
    "s"
   ]
  },
  {
   "cell_type": "code",
   "execution_count": 16,
   "id": "6ec8cea6",
   "metadata": {},
   "outputs": [
    {
     "data": {
      "text/plain": [
       "a     1\n",
       "b    20\n",
       "c    30\n",
       "d     4\n",
       "e     5\n",
       "dtype: int64"
      ]
     },
     "execution_count": 16,
     "metadata": {},
     "output_type": "execute_result"
    }
   ],
   "source": [
    "s[\"b\":\"c\"] = [20, 30]\n",
    "s"
   ]
  },
  {
   "cell_type": "markdown",
   "id": "7d017f35",
   "metadata": {},
   "source": [
    "Of course a `Series` with a numerical index works analogously to a one-dimensional NumPy array:"
   ]
  },
  {
   "cell_type": "code",
   "execution_count": 17,
   "id": "f629889d",
   "metadata": {},
   "outputs": [
    {
     "data": {
      "text/plain": [
       "1"
      ]
     },
     "execution_count": 17,
     "metadata": {},
     "output_type": "execute_result"
    }
   ],
   "source": [
    "s2 = pd.Series([1, 2, 3, 4, 5])\n",
    "s2[0]"
   ]
  },
  {
   "cell_type": "code",
   "execution_count": 18,
   "id": "23bdfa9e",
   "metadata": {
    "scrolled": true
   },
   "outputs": [
    {
     "data": {
      "text/plain": [
       "1    2\n",
       "2    3\n",
       "3    4\n",
       "dtype: int64"
      ]
     },
     "execution_count": 18,
     "metadata": {},
     "output_type": "execute_result"
    }
   ],
   "source": [
    "s2[1:4]"
   ]
  },
  {
   "cell_type": "code",
   "execution_count": 19,
   "id": "c94b7bb9",
   "metadata": {
    "scrolled": true
   },
   "outputs": [
    {
     "data": {
      "text/plain": [
       "0    1\n",
       "2    3\n",
       "4    5\n",
       "dtype: int64"
      ]
     },
     "execution_count": 19,
     "metadata": {},
     "output_type": "execute_result"
    }
   ],
   "source": [
    "s2[[0, 2, 4]]"
   ]
  },
  {
   "cell_type": "code",
   "execution_count": 20,
   "id": "56c57e0d",
   "metadata": {
    "scrolled": true
   },
   "outputs": [
    {
     "data": {
      "text/plain": [
       "0    1\n",
       "1    2\n",
       "2    3\n",
       "dtype: int64"
      ]
     },
     "execution_count": 20,
     "metadata": {},
     "output_type": "execute_result"
    }
   ],
   "source": [
    "s2[s2 < 4]"
   ]
  },
  {
   "cell_type": "code",
   "execution_count": 21,
   "id": "1f4c58d6",
   "metadata": {},
   "outputs": [
    {
     "data": {
      "text/plain": [
       "0     1\n",
       "1    99\n",
       "2     3\n",
       "3     4\n",
       "4     5\n",
       "dtype: int64"
      ]
     },
     "execution_count": 21,
     "metadata": {},
     "output_type": "execute_result"
    }
   ],
   "source": [
    "s2[1] = 99\n",
    "s2"
   ]
  },
  {
   "cell_type": "code",
   "execution_count": 22,
   "id": "8b94306a",
   "metadata": {
    "scrolled": false
   },
   "outputs": [
    {
     "data": {
      "text/plain": [
       "0     1\n",
       "1    20\n",
       "2    30\n",
       "3     4\n",
       "4     5\n",
       "dtype: int64"
      ]
     },
     "execution_count": 22,
     "metadata": {},
     "output_type": "execute_result"
    }
   ],
   "source": [
    "s2[1:3] = [20, 30]\n",
    "s2"
   ]
  },
  {
   "cell_type": "markdown",
   "id": "cb6e98cb",
   "metadata": {},
   "source": [
    "## 3.3. Operations on series <a id='operations-on-series'></a>"
   ]
  },
  {
   "cell_type": "markdown",
   "id": "5f010b55",
   "metadata": {},
   "source": [
    "Performing operations on `Series` works analogously to performing operations on one-dimensional NumPy arrays:"
   ]
  },
  {
   "cell_type": "code",
   "execution_count": 23,
   "id": "1b68341f",
   "metadata": {},
   "outputs": [
    {
     "data": {
      "text/plain": [
       "a     1\n",
       "b    20\n",
       "c    30\n",
       "d     4\n",
       "e     5\n",
       "dtype: int64"
      ]
     },
     "execution_count": 23,
     "metadata": {},
     "output_type": "execute_result"
    }
   ],
   "source": [
    "s"
   ]
  },
  {
   "cell_type": "code",
   "execution_count": 24,
   "id": "9702011f",
   "metadata": {
    "scrolled": true
   },
   "outputs": [
    {
     "data": {
      "text/plain": [
       "a     2\n",
       "b    40\n",
       "c    60\n",
       "d     8\n",
       "e    10\n",
       "dtype: int64"
      ]
     },
     "execution_count": 24,
     "metadata": {},
     "output_type": "execute_result"
    }
   ],
   "source": [
    "s * 2"
   ]
  },
  {
   "cell_type": "code",
   "execution_count": 25,
   "id": "6c25a8b5",
   "metadata": {
    "scrolled": true
   },
   "outputs": [
    {
     "data": {
      "text/plain": [
       "a     2\n",
       "b    22\n",
       "c    33\n",
       "d     8\n",
       "e    10\n",
       "dtype: int64"
      ]
     },
     "execution_count": 25,
     "metadata": {},
     "output_type": "execute_result"
    }
   ],
   "source": [
    "s + [1, 2, 3, 4, 5]"
   ]
  },
  {
   "cell_type": "code",
   "execution_count": 26,
   "id": "a26c14a8",
   "metadata": {
    "scrolled": false
   },
   "outputs": [
    {
     "data": {
      "text/plain": [
       "a      1\n",
       "b    400\n",
       "c    900\n",
       "d     16\n",
       "e     25\n",
       "dtype: int64"
      ]
     },
     "execution_count": 26,
     "metadata": {},
     "output_type": "execute_result"
    }
   ],
   "source": [
    "s * s"
   ]
  },
  {
   "cell_type": "code",
   "execution_count": 27,
   "id": "b3f1e3ee",
   "metadata": {
    "scrolled": true
   },
   "outputs": [
    {
     "name": "stdout",
     "output_type": "stream",
     "text": [
      "1\n",
      "30\n",
      "60\n",
      "12.0\n",
      "12.469963913339926\n",
      "155.5\n"
     ]
    }
   ],
   "source": [
    "print(s.min())\n",
    "print(s.max())\n",
    "print(s.sum())\n",
    "print(s.mean())\n",
    "print(s.std())\n",
    "print(s.var())"
   ]
  },
  {
   "cell_type": "code",
   "execution_count": 28,
   "id": "9cb6a6e5",
   "metadata": {
    "scrolled": false
   },
   "outputs": [
    {
     "name": "stdout",
     "output_type": "stream",
     "text": [
      "True\n",
      "False\n"
     ]
    }
   ],
   "source": [
    "print(1 in s.values)\n",
    "print(-999 in s.values)"
   ]
  },
  {
   "cell_type": "code",
   "execution_count": 29,
   "id": "ca4b1dc4",
   "metadata": {},
   "outputs": [
    {
     "name": "stdout",
     "output_type": "stream",
     "text": [
      "True\n",
      "True\n",
      "False\n",
      "False\n"
     ]
    }
   ],
   "source": [
    "print(\"a\" in s.index)\n",
    "print(\"a\" in s)\n",
    "\n",
    "print(\"z\" in s.index)\n",
    "print(\"z\" in s)"
   ]
  },
  {
   "cell_type": "code",
   "execution_count": 30,
   "id": "83a5e121",
   "metadata": {},
   "outputs": [
    {
     "name": "stdout",
     "output_type": "stream",
     "text": [
      "1\n",
      "20\n",
      "30\n",
      "4\n",
      "5\n"
     ]
    }
   ],
   "source": [
    "for value in s.values:\n",
    "    print(value)"
   ]
  },
  {
   "cell_type": "code",
   "execution_count": 31,
   "id": "de987bde",
   "metadata": {
    "scrolled": false
   },
   "outputs": [
    {
     "name": "stdout",
     "output_type": "stream",
     "text": [
      "a\n",
      "b\n",
      "c\n",
      "d\n",
      "e\n"
     ]
    }
   ],
   "source": [
    "for index_value in s.index:\n",
    "    print(index_value)"
   ]
  },
  {
   "cell_type": "markdown",
   "id": "65248a4e",
   "metadata": {},
   "source": [
    "# 4. Keyword arguments <a id='keyword-arguments'></a>"
   ]
  },
  {
   "cell_type": "markdown",
   "id": "2b883c20",
   "metadata": {},
   "source": [
    "Before we proceed to discussing the `DataFrame` object, it is worth briefly covering what keyword arguments are. Until now, whenever passing some arguments to a function or method, you had to pass the arguments in the correct order. For example, when creating a `Series`, you had to remember that the data argument is first, while the index argument is second:"
   ]
  },
  {
   "cell_type": "code",
   "execution_count": 32,
   "id": "34e35c4b",
   "metadata": {
    "scrolled": true
   },
   "outputs": [
    {
     "data": {
      "text/plain": [
       "a    1\n",
       "b    2\n",
       "c    3\n",
       "dtype: int64"
      ]
     },
     "execution_count": 32,
     "metadata": {},
     "output_type": "execute_result"
    }
   ],
   "source": [
    "x = [1, 2, 3]\n",
    "y = [\"a\", \"b\", \"c\"]\n",
    "\n",
    "pd.Series(x, y)"
   ]
  },
  {
   "cell_type": "markdown",
   "id": "0a9818b7",
   "metadata": {},
   "source": [
    "However, each parameter in a function has a name, and therefore you can pass arguments in any order, as long as you specify the correct parameter names. The names of parameters are usually intuitive. For example, the names of the data and index parameters are \"data\" and \"index\":"
   ]
  },
  {
   "cell_type": "code",
   "execution_count": 33,
   "id": "62e9b405",
   "metadata": {
    "scrolled": true
   },
   "outputs": [
    {
     "data": {
      "text/plain": [
       "a    1\n",
       "b    2\n",
       "c    3\n",
       "dtype: int64"
      ]
     },
     "execution_count": 33,
     "metadata": {},
     "output_type": "execute_result"
    }
   ],
   "source": [
    "pd.Series(data=x, index=y)"
   ]
  },
  {
   "cell_type": "code",
   "execution_count": 34,
   "id": "f465c961",
   "metadata": {
    "scrolled": true
   },
   "outputs": [
    {
     "data": {
      "text/plain": [
       "a    1\n",
       "b    2\n",
       "c    3\n",
       "dtype: int64"
      ]
     },
     "execution_count": 34,
     "metadata": {},
     "output_type": "execute_result"
    }
   ],
   "source": [
    "pd.Series(index=y, data=x)"
   ]
  },
  {
   "cell_type": "markdown",
   "id": "30d7e009",
   "metadata": {},
   "source": [
    "As we can see above, if we use keyword arguments in the form of `{name}={value}`, the order of arguments does not matter anymore. Keyword arguments can be used in all functions or methods, since every parameter in a function has a name (there is a small exception to this rule, but it is not important for now). We can check what keyword arguments `Series()` accepts by looking at the [official documentation page](https://pandas.pydata.org/docs/reference/api/pandas.Series.html).\n",
    "\n",
    "There we can see that `Series()` has the following parameters: \"data\", \"index\", \"dtype\", \"name\", \"copy\" and \"fastpath\". We don't have to worry about what all of those parameters do, but let's look at another example where we pass in the `dtype` argument, but we do not pass in the index."
   ]
  },
  {
   "cell_type": "code",
   "execution_count": 35,
   "id": "e0066351",
   "metadata": {
    "scrolled": false
   },
   "outputs": [
    {
     "data": {
      "text/plain": [
       "0    1.0\n",
       "1    2.0\n",
       "2    3.0\n",
       "dtype: float64"
      ]
     },
     "execution_count": 35,
     "metadata": {},
     "output_type": "execute_result"
    }
   ],
   "source": [
    "pd.Series(data=x, dtype=\"float64\")"
   ]
  },
  {
   "cell_type": "markdown",
   "id": "f1e2cb2a",
   "metadata": {},
   "source": [
    "In the examples above, we stored the data in a variable called `x` and the index in a variable called `y`. However, often it is convenient to store this data in variables named identically to the parameters of a function or method to which they correspond."
   ]
  },
  {
   "cell_type": "code",
   "execution_count": 36,
   "id": "99fed9e1",
   "metadata": {
    "scrolled": true
   },
   "outputs": [
    {
     "data": {
      "text/plain": [
       "a    1\n",
       "b    2\n",
       "c    3\n",
       "dtype: int64"
      ]
     },
     "execution_count": 36,
     "metadata": {},
     "output_type": "execute_result"
    }
   ],
   "source": [
    "data = [1, 2, 3]\n",
    "index = [\"a\", \"b\", \"c\"]\n",
    "\n",
    "pd.Series(data=data, index=index)"
   ]
  },
  {
   "cell_type": "markdown",
   "id": "89755c5c",
   "metadata": {},
   "source": [
    "The `data=data` and `index=index` may seem a bit strange at first, but all you have to remember is that on the left we specify the name of the keyword argument, and on the right we specify the value of the keyword argument.\n",
    "\n",
    "Sometimes, you will see people mixing arguments and keyword arguments. For example, below we pass in the data as an argument, but the index and dtype are passed in as a keyword arguments:"
   ]
  },
  {
   "cell_type": "code",
   "execution_count": 37,
   "id": "c267d60c",
   "metadata": {
    "scrolled": true
   },
   "outputs": [
    {
     "data": {
      "text/plain": [
       "a    1.0\n",
       "b    2.0\n",
       "c    3.0\n",
       "dtype: float64"
      ]
     },
     "execution_count": 37,
     "metadata": {},
     "output_type": "execute_result"
    }
   ],
   "source": [
    "pd.Series(data, index=index, dtype=\"float64\")"
   ]
  },
  {
   "cell_type": "markdown",
   "id": "da84d279",
   "metadata": {},
   "source": [
    "# 5. DataFrame <a id='dataframe'></a>"
   ]
  },
  {
   "cell_type": "markdown",
   "id": "7a2a8833",
   "metadata": {},
   "source": [
    "A DataFrame is a two-dimensional, table-like data structure with rows and columns. The `DataFrame` is composed of a collection of `Series` objects, each of which represents a single column in the `DataFrame`. All of the `Series` share the same index, which is also the index of the `DataFrame`."
   ]
  },
  {
   "cell_type": "markdown",
   "id": "af9d375f",
   "metadata": {},
   "source": [
    "## 5.1 Creating a DataFrame <a id='creating-a-dataframe'></a>"
   ]
  },
  {
   "cell_type": "markdown",
   "id": "e03e73a8",
   "metadata": {},
   "source": [
    "There are many different ways to create a `DataFrame` in Pandas, however, one of the most common ways is to use a dictionary containing equal-length lists of values:"
   ]
  },
  {
   "cell_type": "code",
   "execution_count": 2,
   "id": "e702d34d",
   "metadata": {
    "scrolled": true
   },
   "outputs": [
    {
     "data": {
      "text/html": [
       "<div>\n",
       "<style scoped>\n",
       "    .dataframe tbody tr th:only-of-type {\n",
       "        vertical-align: middle;\n",
       "    }\n",
       "\n",
       "    .dataframe tbody tr th {\n",
       "        vertical-align: top;\n",
       "    }\n",
       "\n",
       "    .dataframe thead th {\n",
       "        text-align: right;\n",
       "    }\n",
       "</style>\n",
       "<table border=\"1\" class=\"dataframe\">\n",
       "  <thead>\n",
       "    <tr style=\"text-align: right;\">\n",
       "      <th></th>\n",
       "      <th>name</th>\n",
       "      <th>breed</th>\n",
       "      <th>weight</th>\n",
       "    </tr>\n",
       "  </thead>\n",
       "  <tbody>\n",
       "    <tr>\n",
       "      <th>0</th>\n",
       "      <td>Coco</td>\n",
       "      <td>Poodle</td>\n",
       "      <td>16.4</td>\n",
       "    </tr>\n",
       "    <tr>\n",
       "      <th>1</th>\n",
       "      <td>Luna</td>\n",
       "      <td>Shih tzu</td>\n",
       "      <td>5.9</td>\n",
       "    </tr>\n",
       "    <tr>\n",
       "      <th>2</th>\n",
       "      <td>Teddy</td>\n",
       "      <td>Poodle</td>\n",
       "      <td>18.7</td>\n",
       "    </tr>\n",
       "    <tr>\n",
       "      <th>3</th>\n",
       "      <td>Nala</td>\n",
       "      <td>Husky</td>\n",
       "      <td>24.8</td>\n",
       "    </tr>\n",
       "  </tbody>\n",
       "</table>\n",
       "</div>"
      ],
      "text/plain": [
       "    name     breed  weight\n",
       "0   Coco    Poodle    16.4\n",
       "1   Luna  Shih tzu     5.9\n",
       "2  Teddy    Poodle    18.7\n",
       "3   Nala     Husky    24.8"
      ]
     },
     "execution_count": 2,
     "metadata": {},
     "output_type": "execute_result"
    }
   ],
   "source": [
    "data = {\n",
    "    \"name\": [\"Coco\", \"Luna\", \"Teddy\", \"Nala\"],\n",
    "    \"breed\": [\"Poodle\", \"Shih tzu\", \"Poodle\", \"Husky\"],\n",
    "    \"weight\": [16.4, 5.9, 18.7, 24.8]\n",
    "}\n",
    "\n",
    "df = pd.DataFrame(data)\n",
    "\n",
    "df"
   ]
  },
  {
   "cell_type": "markdown",
   "id": "99a8aebf",
   "metadata": {},
   "source": [
    "As we can see above, a `DataFrame` can be represented as a table with named columns (\"name\", \"breed\", \"weight\") and rows containing an index (0, 1, 2, 3). The `DataFrame` above contains various information about  dogs - you might imagine a veterinary clinic having a table like that in their database. Of course, the table would have more columns containing information about the dogs, such as their age or the date of their last visit etc."
   ]
  },
  {
   "cell_type": "markdown",
   "id": "15f2b306",
   "metadata": {},
   "source": [
    "As mentioned before, each column in a `DataFrame` is in fact a `Series`. We can access a column in a `DataFrame` with the use of the column's name (in a dictionary-like fashion): "
   ]
  },
  {
   "cell_type": "code",
   "execution_count": 4,
   "id": "583d33d5",
   "metadata": {
    "scrolled": true
   },
   "outputs": [
    {
     "data": {
      "text/plain": [
       "0      Poodle\n",
       "1    Shih tzu\n",
       "2      Poodle\n",
       "3       Husky\n",
       "Name: breed, dtype: object"
      ]
     },
     "execution_count": 4,
     "metadata": {},
     "output_type": "execute_result"
    }
   ],
   "source": [
    "df[\"breed\"]"
   ]
  },
  {
   "cell_type": "markdown",
   "id": "7a0504e9",
   "metadata": {},
   "source": [
    "As we can see, the code above returns a `Series` containing the dog breeds with the same index as the `DataFrame`. We can also pass in a `list` of column names to get a dataframe view containing a subset of the columns:"
   ]
  },
  {
   "cell_type": "code",
   "execution_count": 5,
   "id": "1a1af663",
   "metadata": {
    "scrolled": true
   },
   "outputs": [
    {
     "data": {
      "text/html": [
       "<div>\n",
       "<style scoped>\n",
       "    .dataframe tbody tr th:only-of-type {\n",
       "        vertical-align: middle;\n",
       "    }\n",
       "\n",
       "    .dataframe tbody tr th {\n",
       "        vertical-align: top;\n",
       "    }\n",
       "\n",
       "    .dataframe thead th {\n",
       "        text-align: right;\n",
       "    }\n",
       "</style>\n",
       "<table border=\"1\" class=\"dataframe\">\n",
       "  <thead>\n",
       "    <tr style=\"text-align: right;\">\n",
       "      <th></th>\n",
       "      <th>breed</th>\n",
       "      <th>weight</th>\n",
       "    </tr>\n",
       "  </thead>\n",
       "  <tbody>\n",
       "    <tr>\n",
       "      <th>0</th>\n",
       "      <td>Poodle</td>\n",
       "      <td>16.4</td>\n",
       "    </tr>\n",
       "    <tr>\n",
       "      <th>1</th>\n",
       "      <td>Shih tzu</td>\n",
       "      <td>5.9</td>\n",
       "    </tr>\n",
       "    <tr>\n",
       "      <th>2</th>\n",
       "      <td>Poodle</td>\n",
       "      <td>18.7</td>\n",
       "    </tr>\n",
       "    <tr>\n",
       "      <th>3</th>\n",
       "      <td>Husky</td>\n",
       "      <td>24.8</td>\n",
       "    </tr>\n",
       "  </tbody>\n",
       "</table>\n",
       "</div>"
      ],
      "text/plain": [
       "      breed  weight\n",
       "0    Poodle    16.4\n",
       "1  Shih tzu     5.9\n",
       "2    Poodle    18.7\n",
       "3     Husky    24.8"
      ]
     },
     "execution_count": 5,
     "metadata": {},
     "output_type": "execute_result"
    }
   ],
   "source": [
    "column_names = [\"breed\", \"weight\"]\n",
    "df[column_names]"
   ]
  },
  {
   "cell_type": "markdown",
   "id": "639ea5e2",
   "metadata": {},
   "source": [
    "It is also worth mentioning that just like with a `Series`, we can pass in an index when creating a `DataFrame`.  "
   ]
  },
  {
   "cell_type": "code",
   "execution_count": 6,
   "id": "5f583e3a",
   "metadata": {},
   "outputs": [
    {
     "data": {
      "text/html": [
       "<div>\n",
       "<style scoped>\n",
       "    .dataframe tbody tr th:only-of-type {\n",
       "        vertical-align: middle;\n",
       "    }\n",
       "\n",
       "    .dataframe tbody tr th {\n",
       "        vertical-align: top;\n",
       "    }\n",
       "\n",
       "    .dataframe thead th {\n",
       "        text-align: right;\n",
       "    }\n",
       "</style>\n",
       "<table border=\"1\" class=\"dataframe\">\n",
       "  <thead>\n",
       "    <tr style=\"text-align: right;\">\n",
       "      <th></th>\n",
       "      <th>name</th>\n",
       "      <th>breed</th>\n",
       "      <th>weight</th>\n",
       "    </tr>\n",
       "  </thead>\n",
       "  <tbody>\n",
       "    <tr>\n",
       "      <th>a</th>\n",
       "      <td>Coco</td>\n",
       "      <td>Poodle</td>\n",
       "      <td>16.4</td>\n",
       "    </tr>\n",
       "    <tr>\n",
       "      <th>b</th>\n",
       "      <td>Luna</td>\n",
       "      <td>Shih tzu</td>\n",
       "      <td>5.9</td>\n",
       "    </tr>\n",
       "    <tr>\n",
       "      <th>c</th>\n",
       "      <td>Teddy</td>\n",
       "      <td>Poodle</td>\n",
       "      <td>18.7</td>\n",
       "    </tr>\n",
       "    <tr>\n",
       "      <th>d</th>\n",
       "      <td>Nala</td>\n",
       "      <td>Husky</td>\n",
       "      <td>24.8</td>\n",
       "    </tr>\n",
       "  </tbody>\n",
       "</table>\n",
       "</div>"
      ],
      "text/plain": [
       "    name     breed  weight\n",
       "a   Coco    Poodle    16.4\n",
       "b   Luna  Shih tzu     5.9\n",
       "c  Teddy    Poodle    18.7\n",
       "d   Nala     Husky    24.8"
      ]
     },
     "execution_count": 6,
     "metadata": {},
     "output_type": "execute_result"
    }
   ],
   "source": [
    "index = [\"a\", \"b\", \"c\", \"d\"]\n",
    "\n",
    "df = pd.DataFrame(data, index=index)\n",
    "\n",
    "df"
   ]
  },
  {
   "cell_type": "markdown",
   "id": "9d6b7cdd",
   "metadata": {},
   "source": [
    "## 5.2 Indexing and slicing <a id='indexing-and-slicing'></a>"
   ]
  },
  {
   "cell_type": "markdown",
   "id": "156f0678",
   "metadata": {},
   "source": [
    "If we want a slice of a particular column, we can simply retrieve the corresponding `Series` object and then slice it accordingly. However, what about retrieving a slice of a `DataFrame` along the rows dimension? To do so, we could simply slice the `DataFrame` object, instead of the `Series` object:"
   ]
  },
  {
   "cell_type": "code",
   "execution_count": 7,
   "id": "09708aaa",
   "metadata": {
    "scrolled": true
   },
   "outputs": [
    {
     "data": {
      "text/html": [
       "<div>\n",
       "<style scoped>\n",
       "    .dataframe tbody tr th:only-of-type {\n",
       "        vertical-align: middle;\n",
       "    }\n",
       "\n",
       "    .dataframe tbody tr th {\n",
       "        vertical-align: top;\n",
       "    }\n",
       "\n",
       "    .dataframe thead th {\n",
       "        text-align: right;\n",
       "    }\n",
       "</style>\n",
       "<table border=\"1\" class=\"dataframe\">\n",
       "  <thead>\n",
       "    <tr style=\"text-align: right;\">\n",
       "      <th></th>\n",
       "      <th>name</th>\n",
       "      <th>breed</th>\n",
       "      <th>weight</th>\n",
       "    </tr>\n",
       "  </thead>\n",
       "  <tbody>\n",
       "    <tr>\n",
       "      <th>b</th>\n",
       "      <td>Luna</td>\n",
       "      <td>Shih tzu</td>\n",
       "      <td>5.9</td>\n",
       "    </tr>\n",
       "    <tr>\n",
       "      <th>c</th>\n",
       "      <td>Teddy</td>\n",
       "      <td>Poodle</td>\n",
       "      <td>18.7</td>\n",
       "    </tr>\n",
       "  </tbody>\n",
       "</table>\n",
       "</div>"
      ],
      "text/plain": [
       "    name     breed  weight\n",
       "b   Luna  Shih tzu     5.9\n",
       "c  Teddy    Poodle    18.7"
      ]
     },
     "execution_count": 7,
     "metadata": {},
     "output_type": "execute_result"
    }
   ],
   "source": [
    "df[1:3]"
   ]
  },
  {
   "cell_type": "markdown",
   "id": "923891ae",
   "metadata": {},
   "source": [
    "More typically, if we want to retrieve a specific row or column, or a slice of rows and columns, we can use one of two attributes: `loc` or `iloc`.\n",
    "\n",
    "The `loc` attribute allows for defining a slice primarily based on labels. For example, we can retrieve a specific row in a `DataFrame`, like so:"
   ]
  },
  {
   "cell_type": "code",
   "execution_count": 8,
   "id": "32e4657e",
   "metadata": {},
   "outputs": [
    {
     "data": {
      "text/plain": [
       "name        Coco\n",
       "breed     Poodle\n",
       "weight      16.4\n",
       "Name: a, dtype: object"
      ]
     },
     "execution_count": 8,
     "metadata": {},
     "output_type": "execute_result"
    }
   ],
   "source": [
    "df.loc[\"a\"]"
   ]
  },
  {
   "cell_type": "markdown",
   "id": "a9e7e65f",
   "metadata": {},
   "source": [
    "The code above returns the data in the row with index \"a\" as a `Series`, where the index of the `Series` consists of the names of the columns in `df`. We can also retrieve more than one row by passing in a `list` of indices. In this case, the expression will return a `DataFrame` with the corresponding rows:"
   ]
  },
  {
   "cell_type": "code",
   "execution_count": 9,
   "id": "a614df62",
   "metadata": {
    "scrolled": false
   },
   "outputs": [
    {
     "data": {
      "text/html": [
       "<div>\n",
       "<style scoped>\n",
       "    .dataframe tbody tr th:only-of-type {\n",
       "        vertical-align: middle;\n",
       "    }\n",
       "\n",
       "    .dataframe tbody tr th {\n",
       "        vertical-align: top;\n",
       "    }\n",
       "\n",
       "    .dataframe thead th {\n",
       "        text-align: right;\n",
       "    }\n",
       "</style>\n",
       "<table border=\"1\" class=\"dataframe\">\n",
       "  <thead>\n",
       "    <tr style=\"text-align: right;\">\n",
       "      <th></th>\n",
       "      <th>name</th>\n",
       "      <th>breed</th>\n",
       "      <th>weight</th>\n",
       "    </tr>\n",
       "  </thead>\n",
       "  <tbody>\n",
       "    <tr>\n",
       "      <th>a</th>\n",
       "      <td>Coco</td>\n",
       "      <td>Poodle</td>\n",
       "      <td>16.4</td>\n",
       "    </tr>\n",
       "    <tr>\n",
       "      <th>c</th>\n",
       "      <td>Teddy</td>\n",
       "      <td>Poodle</td>\n",
       "      <td>18.7</td>\n",
       "    </tr>\n",
       "  </tbody>\n",
       "</table>\n",
       "</div>"
      ],
      "text/plain": [
       "    name   breed  weight\n",
       "a   Coco  Poodle    16.4\n",
       "c  Teddy  Poodle    18.7"
      ]
     },
     "execution_count": 9,
     "metadata": {},
     "output_type": "execute_result"
    }
   ],
   "source": [
    "df.loc[[\"a\", \"c\"]]"
   ]
  },
  {
   "cell_type": "markdown",
   "id": "03d19fa8",
   "metadata": {},
   "source": [
    "We can also pass in a list with a single index to retrieve a single row as a `DataFrame`:"
   ]
  },
  {
   "cell_type": "code",
   "execution_count": 10,
   "id": "39552652",
   "metadata": {
    "scrolled": false
   },
   "outputs": [
    {
     "data": {
      "text/html": [
       "<div>\n",
       "<style scoped>\n",
       "    .dataframe tbody tr th:only-of-type {\n",
       "        vertical-align: middle;\n",
       "    }\n",
       "\n",
       "    .dataframe tbody tr th {\n",
       "        vertical-align: top;\n",
       "    }\n",
       "\n",
       "    .dataframe thead th {\n",
       "        text-align: right;\n",
       "    }\n",
       "</style>\n",
       "<table border=\"1\" class=\"dataframe\">\n",
       "  <thead>\n",
       "    <tr style=\"text-align: right;\">\n",
       "      <th></th>\n",
       "      <th>name</th>\n",
       "      <th>breed</th>\n",
       "      <th>weight</th>\n",
       "    </tr>\n",
       "  </thead>\n",
       "  <tbody>\n",
       "    <tr>\n",
       "      <th>a</th>\n",
       "      <td>Coco</td>\n",
       "      <td>Poodle</td>\n",
       "      <td>16.4</td>\n",
       "    </tr>\n",
       "  </tbody>\n",
       "</table>\n",
       "</div>"
      ],
      "text/plain": [
       "   name   breed  weight\n",
       "a  Coco  Poodle    16.4"
      ]
     },
     "execution_count": 10,
     "metadata": {},
     "output_type": "execute_result"
    }
   ],
   "source": [
    "df.loc[[\"a\"]]"
   ]
  },
  {
   "cell_type": "markdown",
   "id": "be732049",
   "metadata": {},
   "source": [
    "We can also retrieve a slice of rows:"
   ]
  },
  {
   "cell_type": "code",
   "execution_count": 11,
   "id": "357cdd3c",
   "metadata": {
    "scrolled": false
   },
   "outputs": [
    {
     "data": {
      "text/html": [
       "<div>\n",
       "<style scoped>\n",
       "    .dataframe tbody tr th:only-of-type {\n",
       "        vertical-align: middle;\n",
       "    }\n",
       "\n",
       "    .dataframe tbody tr th {\n",
       "        vertical-align: top;\n",
       "    }\n",
       "\n",
       "    .dataframe thead th {\n",
       "        text-align: right;\n",
       "    }\n",
       "</style>\n",
       "<table border=\"1\" class=\"dataframe\">\n",
       "  <thead>\n",
       "    <tr style=\"text-align: right;\">\n",
       "      <th></th>\n",
       "      <th>name</th>\n",
       "      <th>breed</th>\n",
       "      <th>weight</th>\n",
       "    </tr>\n",
       "  </thead>\n",
       "  <tbody>\n",
       "    <tr>\n",
       "      <th>b</th>\n",
       "      <td>Luna</td>\n",
       "      <td>Shih tzu</td>\n",
       "      <td>5.9</td>\n",
       "    </tr>\n",
       "    <tr>\n",
       "      <th>c</th>\n",
       "      <td>Teddy</td>\n",
       "      <td>Poodle</td>\n",
       "      <td>18.7</td>\n",
       "    </tr>\n",
       "    <tr>\n",
       "      <th>d</th>\n",
       "      <td>Nala</td>\n",
       "      <td>Husky</td>\n",
       "      <td>24.8</td>\n",
       "    </tr>\n",
       "  </tbody>\n",
       "</table>\n",
       "</div>"
      ],
      "text/plain": [
       "    name     breed  weight\n",
       "b   Luna  Shih tzu     5.9\n",
       "c  Teddy    Poodle    18.7\n",
       "d   Nala     Husky    24.8"
      ]
     },
     "execution_count": 11,
     "metadata": {},
     "output_type": "execute_result"
    }
   ],
   "source": [
    "df.loc[\"b\":]"
   ]
  },
  {
   "cell_type": "markdown",
   "id": "73579b78",
   "metadata": {},
   "source": [
    "The same rules apply for the indexing and slicing of columns using the `loc` attribute:"
   ]
  },
  {
   "cell_type": "code",
   "execution_count": 12,
   "id": "1cb7fe0c",
   "metadata": {
    "scrolled": false
   },
   "outputs": [
    {
     "data": {
      "text/html": [
       "<div>\n",
       "<style scoped>\n",
       "    .dataframe tbody tr th:only-of-type {\n",
       "        vertical-align: middle;\n",
       "    }\n",
       "\n",
       "    .dataframe tbody tr th {\n",
       "        vertical-align: top;\n",
       "    }\n",
       "\n",
       "    .dataframe thead th {\n",
       "        text-align: right;\n",
       "    }\n",
       "</style>\n",
       "<table border=\"1\" class=\"dataframe\">\n",
       "  <thead>\n",
       "    <tr style=\"text-align: right;\">\n",
       "      <th></th>\n",
       "      <th>name</th>\n",
       "      <th>weight</th>\n",
       "    </tr>\n",
       "  </thead>\n",
       "  <tbody>\n",
       "    <tr>\n",
       "      <th>b</th>\n",
       "      <td>Luna</td>\n",
       "      <td>5.9</td>\n",
       "    </tr>\n",
       "    <tr>\n",
       "      <th>c</th>\n",
       "      <td>Teddy</td>\n",
       "      <td>18.7</td>\n",
       "    </tr>\n",
       "    <tr>\n",
       "      <th>d</th>\n",
       "      <td>Nala</td>\n",
       "      <td>24.8</td>\n",
       "    </tr>\n",
       "  </tbody>\n",
       "</table>\n",
       "</div>"
      ],
      "text/plain": [
       "    name  weight\n",
       "b   Luna     5.9\n",
       "c  Teddy    18.7\n",
       "d   Nala    24.8"
      ]
     },
     "execution_count": 12,
     "metadata": {},
     "output_type": "execute_result"
    }
   ],
   "source": [
    "df.loc[\"b\":, [\"name\", \"weight\"]]"
   ]
  },
  {
   "cell_type": "code",
   "execution_count": 13,
   "id": "85390dff",
   "metadata": {},
   "outputs": [
    {
     "data": {
      "text/html": [
       "<div>\n",
       "<style scoped>\n",
       "    .dataframe tbody tr th:only-of-type {\n",
       "        vertical-align: middle;\n",
       "    }\n",
       "\n",
       "    .dataframe tbody tr th {\n",
       "        vertical-align: top;\n",
       "    }\n",
       "\n",
       "    .dataframe thead th {\n",
       "        text-align: right;\n",
       "    }\n",
       "</style>\n",
       "<table border=\"1\" class=\"dataframe\">\n",
       "  <thead>\n",
       "    <tr style=\"text-align: right;\">\n",
       "      <th></th>\n",
       "      <th>name</th>\n",
       "      <th>breed</th>\n",
       "    </tr>\n",
       "  </thead>\n",
       "  <tbody>\n",
       "    <tr>\n",
       "      <th>a</th>\n",
       "      <td>Coco</td>\n",
       "      <td>Poodle</td>\n",
       "    </tr>\n",
       "    <tr>\n",
       "      <th>b</th>\n",
       "      <td>Luna</td>\n",
       "      <td>Shih tzu</td>\n",
       "    </tr>\n",
       "    <tr>\n",
       "      <th>c</th>\n",
       "      <td>Teddy</td>\n",
       "      <td>Poodle</td>\n",
       "    </tr>\n",
       "    <tr>\n",
       "      <th>d</th>\n",
       "      <td>Nala</td>\n",
       "      <td>Husky</td>\n",
       "    </tr>\n",
       "  </tbody>\n",
       "</table>\n",
       "</div>"
      ],
      "text/plain": [
       "    name     breed\n",
       "a   Coco    Poodle\n",
       "b   Luna  Shih tzu\n",
       "c  Teddy    Poodle\n",
       "d   Nala     Husky"
      ]
     },
     "execution_count": 13,
     "metadata": {},
     "output_type": "execute_result"
    }
   ],
   "source": [
    "df.loc[:, :\"breed\"]"
   ]
  },
  {
   "cell_type": "code",
   "execution_count": 14,
   "id": "be425035",
   "metadata": {},
   "outputs": [
    {
     "data": {
      "text/plain": [
       "a    16.4\n",
       "b     5.9\n",
       "Name: weight, dtype: float64"
      ]
     },
     "execution_count": 14,
     "metadata": {},
     "output_type": "execute_result"
    }
   ],
   "source": [
    "df.loc[[\"a\", \"b\"], \"weight\"]"
   ]
  },
  {
   "cell_type": "markdown",
   "id": "cdb00daa",
   "metadata": {},
   "source": [
    "As mentioned previously, we can also use the `iloc` attribute which works analogously to the `loc` attribute, but uses positions instead of labels. "
   ]
  },
  {
   "cell_type": "code",
   "execution_count": 15,
   "id": "93355249",
   "metadata": {
    "scrolled": true
   },
   "outputs": [
    {
     "data": {
      "text/html": [
       "<div>\n",
       "<style scoped>\n",
       "    .dataframe tbody tr th:only-of-type {\n",
       "        vertical-align: middle;\n",
       "    }\n",
       "\n",
       "    .dataframe tbody tr th {\n",
       "        vertical-align: top;\n",
       "    }\n",
       "\n",
       "    .dataframe thead th {\n",
       "        text-align: right;\n",
       "    }\n",
       "</style>\n",
       "<table border=\"1\" class=\"dataframe\">\n",
       "  <thead>\n",
       "    <tr style=\"text-align: right;\">\n",
       "      <th></th>\n",
       "      <th>name</th>\n",
       "      <th>breed</th>\n",
       "      <th>weight</th>\n",
       "    </tr>\n",
       "  </thead>\n",
       "  <tbody>\n",
       "    <tr>\n",
       "      <th>b</th>\n",
       "      <td>Luna</td>\n",
       "      <td>Shih tzu</td>\n",
       "      <td>5.9</td>\n",
       "    </tr>\n",
       "    <tr>\n",
       "      <th>c</th>\n",
       "      <td>Teddy</td>\n",
       "      <td>Poodle</td>\n",
       "      <td>18.7</td>\n",
       "    </tr>\n",
       "  </tbody>\n",
       "</table>\n",
       "</div>"
      ],
      "text/plain": [
       "    name     breed  weight\n",
       "b   Luna  Shih tzu     5.9\n",
       "c  Teddy    Poodle    18.7"
      ]
     },
     "execution_count": 15,
     "metadata": {},
     "output_type": "execute_result"
    }
   ],
   "source": [
    "df.iloc[1:3]"
   ]
  },
  {
   "cell_type": "code",
   "execution_count": 16,
   "id": "ae71a150",
   "metadata": {
    "scrolled": true
   },
   "outputs": [
    {
     "data": {
      "text/html": [
       "<div>\n",
       "<style scoped>\n",
       "    .dataframe tbody tr th:only-of-type {\n",
       "        vertical-align: middle;\n",
       "    }\n",
       "\n",
       "    .dataframe tbody tr th {\n",
       "        vertical-align: top;\n",
       "    }\n",
       "\n",
       "    .dataframe thead th {\n",
       "        text-align: right;\n",
       "    }\n",
       "</style>\n",
       "<table border=\"1\" class=\"dataframe\">\n",
       "  <thead>\n",
       "    <tr style=\"text-align: right;\">\n",
       "      <th></th>\n",
       "      <th>breed</th>\n",
       "      <th>weight</th>\n",
       "    </tr>\n",
       "  </thead>\n",
       "  <tbody>\n",
       "    <tr>\n",
       "      <th>a</th>\n",
       "      <td>Poodle</td>\n",
       "      <td>16.4</td>\n",
       "    </tr>\n",
       "    <tr>\n",
       "      <th>b</th>\n",
       "      <td>Shih tzu</td>\n",
       "      <td>5.9</td>\n",
       "    </tr>\n",
       "    <tr>\n",
       "      <th>c</th>\n",
       "      <td>Poodle</td>\n",
       "      <td>18.7</td>\n",
       "    </tr>\n",
       "    <tr>\n",
       "      <th>d</th>\n",
       "      <td>Husky</td>\n",
       "      <td>24.8</td>\n",
       "    </tr>\n",
       "  </tbody>\n",
       "</table>\n",
       "</div>"
      ],
      "text/plain": [
       "      breed  weight\n",
       "a    Poodle    16.4\n",
       "b  Shih tzu     5.9\n",
       "c    Poodle    18.7\n",
       "d     Husky    24.8"
      ]
     },
     "execution_count": 16,
     "metadata": {},
     "output_type": "execute_result"
    }
   ],
   "source": [
    "df.iloc[:, 1:]"
   ]
  },
  {
   "cell_type": "code",
   "execution_count": 17,
   "id": "2397a0ad",
   "metadata": {
    "scrolled": false
   },
   "outputs": [
    {
     "data": {
      "text/html": [
       "<div>\n",
       "<style scoped>\n",
       "    .dataframe tbody tr th:only-of-type {\n",
       "        vertical-align: middle;\n",
       "    }\n",
       "\n",
       "    .dataframe tbody tr th {\n",
       "        vertical-align: top;\n",
       "    }\n",
       "\n",
       "    .dataframe thead th {\n",
       "        text-align: right;\n",
       "    }\n",
       "</style>\n",
       "<table border=\"1\" class=\"dataframe\">\n",
       "  <thead>\n",
       "    <tr style=\"text-align: right;\">\n",
       "      <th></th>\n",
       "      <th>name</th>\n",
       "      <th>weight</th>\n",
       "    </tr>\n",
       "  </thead>\n",
       "  <tbody>\n",
       "    <tr>\n",
       "      <th>b</th>\n",
       "      <td>Luna</td>\n",
       "      <td>5.9</td>\n",
       "    </tr>\n",
       "    <tr>\n",
       "      <th>d</th>\n",
       "      <td>Nala</td>\n",
       "      <td>24.8</td>\n",
       "    </tr>\n",
       "  </tbody>\n",
       "</table>\n",
       "</div>"
      ],
      "text/plain": [
       "   name  weight\n",
       "b  Luna     5.9\n",
       "d  Nala    24.8"
      ]
     },
     "execution_count": 17,
     "metadata": {},
     "output_type": "execute_result"
    }
   ],
   "source": [
    "df.iloc[[1, 3], [0, 2]]"
   ]
  },
  {
   "cell_type": "markdown",
   "id": "57cf1ce7",
   "metadata": {},
   "source": [
    "Aside from the `loc` and `iloc` attribute, we can use masks based on logical conditions, similarly as in the case of NumPy arrays:"
   ]
  },
  {
   "cell_type": "code",
   "execution_count": 18,
   "id": "122c3e74",
   "metadata": {
    "scrolled": false
   },
   "outputs": [
    {
     "data": {
      "text/html": [
       "<div>\n",
       "<style scoped>\n",
       "    .dataframe tbody tr th:only-of-type {\n",
       "        vertical-align: middle;\n",
       "    }\n",
       "\n",
       "    .dataframe tbody tr th {\n",
       "        vertical-align: top;\n",
       "    }\n",
       "\n",
       "    .dataframe thead th {\n",
       "        text-align: right;\n",
       "    }\n",
       "</style>\n",
       "<table border=\"1\" class=\"dataframe\">\n",
       "  <thead>\n",
       "    <tr style=\"text-align: right;\">\n",
       "      <th></th>\n",
       "      <th>name</th>\n",
       "      <th>breed</th>\n",
       "      <th>weight</th>\n",
       "    </tr>\n",
       "  </thead>\n",
       "  <tbody>\n",
       "    <tr>\n",
       "      <th>a</th>\n",
       "      <td>Coco</td>\n",
       "      <td>Poodle</td>\n",
       "      <td>16.4</td>\n",
       "    </tr>\n",
       "    <tr>\n",
       "      <th>c</th>\n",
       "      <td>Teddy</td>\n",
       "      <td>Poodle</td>\n",
       "      <td>18.7</td>\n",
       "    </tr>\n",
       "  </tbody>\n",
       "</table>\n",
       "</div>"
      ],
      "text/plain": [
       "    name   breed  weight\n",
       "a   Coco  Poodle    16.4\n",
       "c  Teddy  Poodle    18.7"
      ]
     },
     "execution_count": 18,
     "metadata": {},
     "output_type": "execute_result"
    }
   ],
   "source": [
    "mask = df[\"breed\"] == \"Poodle\"\n",
    "\n",
    "df[mask]"
   ]
  },
  {
   "cell_type": "markdown",
   "id": "5458fd73",
   "metadata": {},
   "source": [
    "We can also assign values to specific locations in a `DataFrame`:"
   ]
  },
  {
   "cell_type": "code",
   "execution_count": 19,
   "id": "0fb6ac84",
   "metadata": {
    "scrolled": true
   },
   "outputs": [
    {
     "data": {
      "text/html": [
       "<div>\n",
       "<style scoped>\n",
       "    .dataframe tbody tr th:only-of-type {\n",
       "        vertical-align: middle;\n",
       "    }\n",
       "\n",
       "    .dataframe tbody tr th {\n",
       "        vertical-align: top;\n",
       "    }\n",
       "\n",
       "    .dataframe thead th {\n",
       "        text-align: right;\n",
       "    }\n",
       "</style>\n",
       "<table border=\"1\" class=\"dataframe\">\n",
       "  <thead>\n",
       "    <tr style=\"text-align: right;\">\n",
       "      <th></th>\n",
       "      <th>name</th>\n",
       "      <th>breed</th>\n",
       "      <th>weight</th>\n",
       "    </tr>\n",
       "  </thead>\n",
       "  <tbody>\n",
       "    <tr>\n",
       "      <th>a</th>\n",
       "      <td>Coco</td>\n",
       "      <td>Poodle</td>\n",
       "      <td>17.2</td>\n",
       "    </tr>\n",
       "    <tr>\n",
       "      <th>c</th>\n",
       "      <td>Teddy</td>\n",
       "      <td>Poodle</td>\n",
       "      <td>19.1</td>\n",
       "    </tr>\n",
       "  </tbody>\n",
       "</table>\n",
       "</div>"
      ],
      "text/plain": [
       "    name   breed  weight\n",
       "a   Coco  Poodle    17.2\n",
       "c  Teddy  Poodle    19.1"
      ]
     },
     "execution_count": 19,
     "metadata": {},
     "output_type": "execute_result"
    }
   ],
   "source": [
    "df.loc[[\"a\", \"c\"], \"weight\"] = [17.2, 19.1]\n",
    "df[mask]"
   ]
  },
  {
   "cell_type": "markdown",
   "id": "be61a208",
   "metadata": {},
   "source": [
    "We can also assign values based on a mask. However, in order to do so, it is recommended to use `.loc` together with a mask, like so:"
   ]
  },
  {
   "cell_type": "code",
   "execution_count": 20,
   "id": "8cc5d132",
   "metadata": {
    "scrolled": true
   },
   "outputs": [
    {
     "data": {
      "text/html": [
       "<div>\n",
       "<style scoped>\n",
       "    .dataframe tbody tr th:only-of-type {\n",
       "        vertical-align: middle;\n",
       "    }\n",
       "\n",
       "    .dataframe tbody tr th {\n",
       "        vertical-align: top;\n",
       "    }\n",
       "\n",
       "    .dataframe thead th {\n",
       "        text-align: right;\n",
       "    }\n",
       "</style>\n",
       "<table border=\"1\" class=\"dataframe\">\n",
       "  <thead>\n",
       "    <tr style=\"text-align: right;\">\n",
       "      <th></th>\n",
       "      <th>name</th>\n",
       "      <th>breed</th>\n",
       "      <th>weight</th>\n",
       "    </tr>\n",
       "  </thead>\n",
       "  <tbody>\n",
       "    <tr>\n",
       "      <th>a</th>\n",
       "      <td>Coco</td>\n",
       "      <td>Poodle</td>\n",
       "      <td>17.3</td>\n",
       "    </tr>\n",
       "    <tr>\n",
       "      <th>c</th>\n",
       "      <td>Teddy</td>\n",
       "      <td>Poodle</td>\n",
       "      <td>19.2</td>\n",
       "    </tr>\n",
       "  </tbody>\n",
       "</table>\n",
       "</div>"
      ],
      "text/plain": [
       "    name   breed  weight\n",
       "a   Coco  Poodle    17.3\n",
       "c  Teddy  Poodle    19.2"
      ]
     },
     "execution_count": 20,
     "metadata": {},
     "output_type": "execute_result"
    }
   ],
   "source": [
    "df.loc[mask, \"weight\"] = [17.3, 19.2]\n",
    "df[mask]"
   ]
  },
  {
   "cell_type": "markdown",
   "id": "da46f7aa",
   "metadata": {},
   "source": [
    "## 5.3 Adding rows and columns <a id='adding-rows-and-columns'></a>"
   ]
  },
  {
   "cell_type": "markdown",
   "id": "65efbe46",
   "metadata": {},
   "source": [
    "We can add rows to the `DataFrame` assigned to the variable `df` by creating a new `DataFrame` object and concatenating it with `df` using the `concat()` function: "
   ]
  },
  {
   "cell_type": "code",
   "execution_count": 57,
   "id": "d83f1e13",
   "metadata": {
    "scrolled": false
   },
   "outputs": [
    {
     "data": {
      "text/html": [
       "<div>\n",
       "<style scoped>\n",
       "    .dataframe tbody tr th:only-of-type {\n",
       "        vertical-align: middle;\n",
       "    }\n",
       "\n",
       "    .dataframe tbody tr th {\n",
       "        vertical-align: top;\n",
       "    }\n",
       "\n",
       "    .dataframe thead th {\n",
       "        text-align: right;\n",
       "    }\n",
       "</style>\n",
       "<table border=\"1\" class=\"dataframe\">\n",
       "  <thead>\n",
       "    <tr style=\"text-align: right;\">\n",
       "      <th></th>\n",
       "      <th>name</th>\n",
       "      <th>breed</th>\n",
       "      <th>weight</th>\n",
       "    </tr>\n",
       "  </thead>\n",
       "  <tbody>\n",
       "    <tr>\n",
       "      <th>a</th>\n",
       "      <td>Coco</td>\n",
       "      <td>Poodle</td>\n",
       "      <td>17.3</td>\n",
       "    </tr>\n",
       "    <tr>\n",
       "      <th>b</th>\n",
       "      <td>Luna</td>\n",
       "      <td>Shih tzu</td>\n",
       "      <td>5.9</td>\n",
       "    </tr>\n",
       "    <tr>\n",
       "      <th>c</th>\n",
       "      <td>Teddy</td>\n",
       "      <td>Poodle</td>\n",
       "      <td>19.2</td>\n",
       "    </tr>\n",
       "    <tr>\n",
       "      <th>d</th>\n",
       "      <td>Nala</td>\n",
       "      <td>Husky</td>\n",
       "      <td>24.8</td>\n",
       "    </tr>\n",
       "    <tr>\n",
       "      <th>e</th>\n",
       "      <td>Milo</td>\n",
       "      <td>Beagle</td>\n",
       "      <td>9.4</td>\n",
       "    </tr>\n",
       "    <tr>\n",
       "      <th>f</th>\n",
       "      <td>Millie</td>\n",
       "      <td>Scottish Terrier</td>\n",
       "      <td>8.4</td>\n",
       "    </tr>\n",
       "  </tbody>\n",
       "</table>\n",
       "</div>"
      ],
      "text/plain": [
       "     name             breed  weight\n",
       "a    Coco            Poodle    17.3\n",
       "b    Luna          Shih tzu     5.9\n",
       "c   Teddy            Poodle    19.2\n",
       "d    Nala             Husky    24.8\n",
       "e    Milo            Beagle     9.4\n",
       "f  Millie  Scottish Terrier     8.4"
      ]
     },
     "execution_count": 57,
     "metadata": {},
     "output_type": "execute_result"
    }
   ],
   "source": [
    "data = {\n",
    "    \"name\": [\"Milo\", \"Millie\"],\n",
    "    \"breed\": [\"Beagle\", \"Scottish Terrier\"],\n",
    "    \"weight\": [9.4, 8.4]\n",
    "}\n",
    "\n",
    "index = [\"e\", \"f\"]\n",
    "\n",
    "pd.concat([df, pd.DataFrame(data, index=index)])"
   ]
  },
  {
   "cell_type": "markdown",
   "id": "246a2171",
   "metadata": {},
   "source": [
    "The `concat()` function returns a new `DataFrame`, and therefore the original `df` dataframe is unaffected unless we assign the result returned by the `concat()` function to the variable `df`"
   ]
  },
  {
   "cell_type": "code",
   "execution_count": 58,
   "id": "91b7d113",
   "metadata": {
    "scrolled": true
   },
   "outputs": [
    {
     "data": {
      "text/html": [
       "<div>\n",
       "<style scoped>\n",
       "    .dataframe tbody tr th:only-of-type {\n",
       "        vertical-align: middle;\n",
       "    }\n",
       "\n",
       "    .dataframe tbody tr th {\n",
       "        vertical-align: top;\n",
       "    }\n",
       "\n",
       "    .dataframe thead th {\n",
       "        text-align: right;\n",
       "    }\n",
       "</style>\n",
       "<table border=\"1\" class=\"dataframe\">\n",
       "  <thead>\n",
       "    <tr style=\"text-align: right;\">\n",
       "      <th></th>\n",
       "      <th>name</th>\n",
       "      <th>breed</th>\n",
       "      <th>weight</th>\n",
       "    </tr>\n",
       "  </thead>\n",
       "  <tbody>\n",
       "    <tr>\n",
       "      <th>a</th>\n",
       "      <td>Coco</td>\n",
       "      <td>Poodle</td>\n",
       "      <td>17.3</td>\n",
       "    </tr>\n",
       "    <tr>\n",
       "      <th>b</th>\n",
       "      <td>Luna</td>\n",
       "      <td>Shih tzu</td>\n",
       "      <td>5.9</td>\n",
       "    </tr>\n",
       "    <tr>\n",
       "      <th>c</th>\n",
       "      <td>Teddy</td>\n",
       "      <td>Poodle</td>\n",
       "      <td>19.2</td>\n",
       "    </tr>\n",
       "    <tr>\n",
       "      <th>d</th>\n",
       "      <td>Nala</td>\n",
       "      <td>Husky</td>\n",
       "      <td>24.8</td>\n",
       "    </tr>\n",
       "  </tbody>\n",
       "</table>\n",
       "</div>"
      ],
      "text/plain": [
       "    name     breed  weight\n",
       "a   Coco    Poodle    17.3\n",
       "b   Luna  Shih tzu     5.9\n",
       "c  Teddy    Poodle    19.2\n",
       "d   Nala     Husky    24.8"
      ]
     },
     "execution_count": 58,
     "metadata": {},
     "output_type": "execute_result"
    }
   ],
   "source": [
    "df"
   ]
  },
  {
   "cell_type": "code",
   "execution_count": 59,
   "id": "8f6136a9",
   "metadata": {},
   "outputs": [
    {
     "data": {
      "text/html": [
       "<div>\n",
       "<style scoped>\n",
       "    .dataframe tbody tr th:only-of-type {\n",
       "        vertical-align: middle;\n",
       "    }\n",
       "\n",
       "    .dataframe tbody tr th {\n",
       "        vertical-align: top;\n",
       "    }\n",
       "\n",
       "    .dataframe thead th {\n",
       "        text-align: right;\n",
       "    }\n",
       "</style>\n",
       "<table border=\"1\" class=\"dataframe\">\n",
       "  <thead>\n",
       "    <tr style=\"text-align: right;\">\n",
       "      <th></th>\n",
       "      <th>name</th>\n",
       "      <th>breed</th>\n",
       "      <th>weight</th>\n",
       "    </tr>\n",
       "  </thead>\n",
       "  <tbody>\n",
       "    <tr>\n",
       "      <th>a</th>\n",
       "      <td>Coco</td>\n",
       "      <td>Poodle</td>\n",
       "      <td>17.3</td>\n",
       "    </tr>\n",
       "    <tr>\n",
       "      <th>b</th>\n",
       "      <td>Luna</td>\n",
       "      <td>Shih tzu</td>\n",
       "      <td>5.9</td>\n",
       "    </tr>\n",
       "    <tr>\n",
       "      <th>c</th>\n",
       "      <td>Teddy</td>\n",
       "      <td>Poodle</td>\n",
       "      <td>19.2</td>\n",
       "    </tr>\n",
       "    <tr>\n",
       "      <th>d</th>\n",
       "      <td>Nala</td>\n",
       "      <td>Husky</td>\n",
       "      <td>24.8</td>\n",
       "    </tr>\n",
       "    <tr>\n",
       "      <th>e</th>\n",
       "      <td>Milo</td>\n",
       "      <td>Beagle</td>\n",
       "      <td>9.4</td>\n",
       "    </tr>\n",
       "    <tr>\n",
       "      <th>f</th>\n",
       "      <td>Millie</td>\n",
       "      <td>Scottish Terrier</td>\n",
       "      <td>8.4</td>\n",
       "    </tr>\n",
       "  </tbody>\n",
       "</table>\n",
       "</div>"
      ],
      "text/plain": [
       "     name             breed  weight\n",
       "a    Coco            Poodle    17.3\n",
       "b    Luna          Shih tzu     5.9\n",
       "c   Teddy            Poodle    19.2\n",
       "d    Nala             Husky    24.8\n",
       "e    Milo            Beagle     9.4\n",
       "f  Millie  Scottish Terrier     8.4"
      ]
     },
     "execution_count": 59,
     "metadata": {},
     "output_type": "execute_result"
    }
   ],
   "source": [
    "df = pd.concat([df, pd.DataFrame(data, index=index)])\n",
    "df"
   ]
  },
  {
   "cell_type": "markdown",
   "id": "aea8bc22",
   "metadata": {},
   "source": [
    "We can add a new column to a `DataFrame` similarly to the way we would add a new key-value pair to a dictionary. More specifically, we can use a column name that does not yet exist and assign a value to it:"
   ]
  },
  {
   "cell_type": "code",
   "execution_count": 60,
   "id": "6e3c46d3",
   "metadata": {
    "scrolled": false
   },
   "outputs": [
    {
     "data": {
      "text/html": [
       "<div>\n",
       "<style scoped>\n",
       "    .dataframe tbody tr th:only-of-type {\n",
       "        vertical-align: middle;\n",
       "    }\n",
       "\n",
       "    .dataframe tbody tr th {\n",
       "        vertical-align: top;\n",
       "    }\n",
       "\n",
       "    .dataframe thead th {\n",
       "        text-align: right;\n",
       "    }\n",
       "</style>\n",
       "<table border=\"1\" class=\"dataframe\">\n",
       "  <thead>\n",
       "    <tr style=\"text-align: right;\">\n",
       "      <th></th>\n",
       "      <th>name</th>\n",
       "      <th>breed</th>\n",
       "      <th>weight</th>\n",
       "      <th>age</th>\n",
       "    </tr>\n",
       "  </thead>\n",
       "  <tbody>\n",
       "    <tr>\n",
       "      <th>a</th>\n",
       "      <td>Coco</td>\n",
       "      <td>Poodle</td>\n",
       "      <td>17.3</td>\n",
       "      <td>3</td>\n",
       "    </tr>\n",
       "    <tr>\n",
       "      <th>b</th>\n",
       "      <td>Luna</td>\n",
       "      <td>Shih tzu</td>\n",
       "      <td>5.9</td>\n",
       "      <td>3</td>\n",
       "    </tr>\n",
       "    <tr>\n",
       "      <th>c</th>\n",
       "      <td>Teddy</td>\n",
       "      <td>Poodle</td>\n",
       "      <td>19.2</td>\n",
       "      <td>3</td>\n",
       "    </tr>\n",
       "    <tr>\n",
       "      <th>d</th>\n",
       "      <td>Nala</td>\n",
       "      <td>Husky</td>\n",
       "      <td>24.8</td>\n",
       "      <td>3</td>\n",
       "    </tr>\n",
       "    <tr>\n",
       "      <th>e</th>\n",
       "      <td>Milo</td>\n",
       "      <td>Beagle</td>\n",
       "      <td>9.4</td>\n",
       "      <td>3</td>\n",
       "    </tr>\n",
       "    <tr>\n",
       "      <th>f</th>\n",
       "      <td>Millie</td>\n",
       "      <td>Scottish Terrier</td>\n",
       "      <td>8.4</td>\n",
       "      <td>3</td>\n",
       "    </tr>\n",
       "  </tbody>\n",
       "</table>\n",
       "</div>"
      ],
      "text/plain": [
       "     name             breed  weight  age\n",
       "a    Coco            Poodle    17.3    3\n",
       "b    Luna          Shih tzu     5.9    3\n",
       "c   Teddy            Poodle    19.2    3\n",
       "d    Nala             Husky    24.8    3\n",
       "e    Milo            Beagle     9.4    3\n",
       "f  Millie  Scottish Terrier     8.4    3"
      ]
     },
     "execution_count": 60,
     "metadata": {},
     "output_type": "execute_result"
    }
   ],
   "source": [
    "df[\"age\"] = 3\n",
    "df"
   ]
  },
  {
   "cell_type": "markdown",
   "id": "29e03913",
   "metadata": {},
   "source": [
    "Notice that the above statement modifies `df` directly (unlike the `concat()` function, which returns a new `DataFrame`). We can also assign different values to each row, like so:"
   ]
  },
  {
   "cell_type": "code",
   "execution_count": 61,
   "id": "c0911b3c",
   "metadata": {
    "scrolled": true
   },
   "outputs": [
    {
     "data": {
      "text/html": [
       "<div>\n",
       "<style scoped>\n",
       "    .dataframe tbody tr th:only-of-type {\n",
       "        vertical-align: middle;\n",
       "    }\n",
       "\n",
       "    .dataframe tbody tr th {\n",
       "        vertical-align: top;\n",
       "    }\n",
       "\n",
       "    .dataframe thead th {\n",
       "        text-align: right;\n",
       "    }\n",
       "</style>\n",
       "<table border=\"1\" class=\"dataframe\">\n",
       "  <thead>\n",
       "    <tr style=\"text-align: right;\">\n",
       "      <th></th>\n",
       "      <th>name</th>\n",
       "      <th>breed</th>\n",
       "      <th>weight</th>\n",
       "      <th>age</th>\n",
       "    </tr>\n",
       "  </thead>\n",
       "  <tbody>\n",
       "    <tr>\n",
       "      <th>a</th>\n",
       "      <td>Coco</td>\n",
       "      <td>Poodle</td>\n",
       "      <td>17.3</td>\n",
       "      <td>1</td>\n",
       "    </tr>\n",
       "    <tr>\n",
       "      <th>b</th>\n",
       "      <td>Luna</td>\n",
       "      <td>Shih tzu</td>\n",
       "      <td>5.9</td>\n",
       "      <td>2</td>\n",
       "    </tr>\n",
       "    <tr>\n",
       "      <th>c</th>\n",
       "      <td>Teddy</td>\n",
       "      <td>Poodle</td>\n",
       "      <td>19.2</td>\n",
       "      <td>3</td>\n",
       "    </tr>\n",
       "    <tr>\n",
       "      <th>d</th>\n",
       "      <td>Nala</td>\n",
       "      <td>Husky</td>\n",
       "      <td>24.8</td>\n",
       "      <td>4</td>\n",
       "    </tr>\n",
       "    <tr>\n",
       "      <th>e</th>\n",
       "      <td>Milo</td>\n",
       "      <td>Beagle</td>\n",
       "      <td>9.4</td>\n",
       "      <td>5</td>\n",
       "    </tr>\n",
       "    <tr>\n",
       "      <th>f</th>\n",
       "      <td>Millie</td>\n",
       "      <td>Scottish Terrier</td>\n",
       "      <td>8.4</td>\n",
       "      <td>6</td>\n",
       "    </tr>\n",
       "  </tbody>\n",
       "</table>\n",
       "</div>"
      ],
      "text/plain": [
       "     name             breed  weight  age\n",
       "a    Coco            Poodle    17.3    1\n",
       "b    Luna          Shih tzu     5.9    2\n",
       "c   Teddy            Poodle    19.2    3\n",
       "d    Nala             Husky    24.8    4\n",
       "e    Milo            Beagle     9.4    5\n",
       "f  Millie  Scottish Terrier     8.4    6"
      ]
     },
     "execution_count": 61,
     "metadata": {},
     "output_type": "execute_result"
    }
   ],
   "source": [
    "df[\"age\"] = [1, 2, 3, 4, 5, 6]\n",
    "df"
   ]
  },
  {
   "cell_type": "markdown",
   "id": "2b066169",
   "metadata": {},
   "source": [
    "In the above case, we modified the existing \"age\" column by assigning new data to it. We can also make new columns by applying operations to existing columns:"
   ]
  },
  {
   "cell_type": "code",
   "execution_count": 62,
   "id": "d7324b7d",
   "metadata": {
    "scrolled": true
   },
   "outputs": [
    {
     "data": {
      "text/html": [
       "<div>\n",
       "<style scoped>\n",
       "    .dataframe tbody tr th:only-of-type {\n",
       "        vertical-align: middle;\n",
       "    }\n",
       "\n",
       "    .dataframe tbody tr th {\n",
       "        vertical-align: top;\n",
       "    }\n",
       "\n",
       "    .dataframe thead th {\n",
       "        text-align: right;\n",
       "    }\n",
       "</style>\n",
       "<table border=\"1\" class=\"dataframe\">\n",
       "  <thead>\n",
       "    <tr style=\"text-align: right;\">\n",
       "      <th></th>\n",
       "      <th>name</th>\n",
       "      <th>breed</th>\n",
       "      <th>weight</th>\n",
       "      <th>age</th>\n",
       "      <th>weight_x2</th>\n",
       "    </tr>\n",
       "  </thead>\n",
       "  <tbody>\n",
       "    <tr>\n",
       "      <th>a</th>\n",
       "      <td>Coco</td>\n",
       "      <td>Poodle</td>\n",
       "      <td>17.3</td>\n",
       "      <td>1</td>\n",
       "      <td>34.6</td>\n",
       "    </tr>\n",
       "    <tr>\n",
       "      <th>b</th>\n",
       "      <td>Luna</td>\n",
       "      <td>Shih tzu</td>\n",
       "      <td>5.9</td>\n",
       "      <td>2</td>\n",
       "      <td>11.8</td>\n",
       "    </tr>\n",
       "    <tr>\n",
       "      <th>c</th>\n",
       "      <td>Teddy</td>\n",
       "      <td>Poodle</td>\n",
       "      <td>19.2</td>\n",
       "      <td>3</td>\n",
       "      <td>38.4</td>\n",
       "    </tr>\n",
       "    <tr>\n",
       "      <th>d</th>\n",
       "      <td>Nala</td>\n",
       "      <td>Husky</td>\n",
       "      <td>24.8</td>\n",
       "      <td>4</td>\n",
       "      <td>49.6</td>\n",
       "    </tr>\n",
       "    <tr>\n",
       "      <th>e</th>\n",
       "      <td>Milo</td>\n",
       "      <td>Beagle</td>\n",
       "      <td>9.4</td>\n",
       "      <td>5</td>\n",
       "      <td>18.8</td>\n",
       "    </tr>\n",
       "    <tr>\n",
       "      <th>f</th>\n",
       "      <td>Millie</td>\n",
       "      <td>Scottish Terrier</td>\n",
       "      <td>8.4</td>\n",
       "      <td>6</td>\n",
       "      <td>16.8</td>\n",
       "    </tr>\n",
       "  </tbody>\n",
       "</table>\n",
       "</div>"
      ],
      "text/plain": [
       "     name             breed  weight  age  weight_x2\n",
       "a    Coco            Poodle    17.3    1       34.6\n",
       "b    Luna          Shih tzu     5.9    2       11.8\n",
       "c   Teddy            Poodle    19.2    3       38.4\n",
       "d    Nala             Husky    24.8    4       49.6\n",
       "e    Milo            Beagle     9.4    5       18.8\n",
       "f  Millie  Scottish Terrier     8.4    6       16.8"
      ]
     },
     "execution_count": 62,
     "metadata": {},
     "output_type": "execute_result"
    }
   ],
   "source": [
    "df[\"weight_x2\"] = df[\"weight\"] * 2\n",
    "df"
   ]
  },
  {
   "cell_type": "markdown",
   "id": "5edd10c6",
   "metadata": {},
   "source": [
    "As we can see above, the values in the column \"weight_x2\" are equal to the values of the \"weight\" column multiplied by two."
   ]
  },
  {
   "cell_type": "markdown",
   "id": "8491d03b",
   "metadata": {},
   "source": [
    "## 5.4 Removing rows and columns <a id='removing-rows-and-columns'></a>"
   ]
  },
  {
   "cell_type": "markdown",
   "id": "7d1e9120",
   "metadata": {},
   "source": [
    "The `drop()` method of a `DataFrame` object allows us to remove rows or columns of data. The `drop()` method takes in two arguments: \"labels\" and \"axis\". The \"labels\" argument is a list of strings (or a single string) containing the index values or column names to remove from the `DataFrame`. The \"axis\" argument specifies whether to drop rows or columns based on the \"labels\" argument (`axis=0` means rows, whereas `axis=1` means columns)."
   ]
  },
  {
   "cell_type": "code",
   "execution_count": 63,
   "id": "dc4c754d",
   "metadata": {
    "scrolled": true
   },
   "outputs": [
    {
     "data": {
      "text/html": [
       "<div>\n",
       "<style scoped>\n",
       "    .dataframe tbody tr th:only-of-type {\n",
       "        vertical-align: middle;\n",
       "    }\n",
       "\n",
       "    .dataframe tbody tr th {\n",
       "        vertical-align: top;\n",
       "    }\n",
       "\n",
       "    .dataframe thead th {\n",
       "        text-align: right;\n",
       "    }\n",
       "</style>\n",
       "<table border=\"1\" class=\"dataframe\">\n",
       "  <thead>\n",
       "    <tr style=\"text-align: right;\">\n",
       "      <th></th>\n",
       "      <th>name</th>\n",
       "      <th>breed</th>\n",
       "      <th>weight</th>\n",
       "      <th>age</th>\n",
       "      <th>weight_x2</th>\n",
       "    </tr>\n",
       "  </thead>\n",
       "  <tbody>\n",
       "    <tr>\n",
       "      <th>a</th>\n",
       "      <td>Coco</td>\n",
       "      <td>Poodle</td>\n",
       "      <td>17.3</td>\n",
       "      <td>1</td>\n",
       "      <td>34.6</td>\n",
       "    </tr>\n",
       "    <tr>\n",
       "      <th>b</th>\n",
       "      <td>Luna</td>\n",
       "      <td>Shih tzu</td>\n",
       "      <td>5.9</td>\n",
       "      <td>2</td>\n",
       "      <td>11.8</td>\n",
       "    </tr>\n",
       "    <tr>\n",
       "      <th>c</th>\n",
       "      <td>Teddy</td>\n",
       "      <td>Poodle</td>\n",
       "      <td>19.2</td>\n",
       "      <td>3</td>\n",
       "      <td>38.4</td>\n",
       "    </tr>\n",
       "    <tr>\n",
       "      <th>d</th>\n",
       "      <td>Nala</td>\n",
       "      <td>Husky</td>\n",
       "      <td>24.8</td>\n",
       "      <td>4</td>\n",
       "      <td>49.6</td>\n",
       "    </tr>\n",
       "  </tbody>\n",
       "</table>\n",
       "</div>"
      ],
      "text/plain": [
       "    name     breed  weight  age  weight_x2\n",
       "a   Coco    Poodle    17.3    1       34.6\n",
       "b   Luna  Shih tzu     5.9    2       11.8\n",
       "c  Teddy    Poodle    19.2    3       38.4\n",
       "d   Nala     Husky    24.8    4       49.6"
      ]
     },
     "execution_count": 63,
     "metadata": {},
     "output_type": "execute_result"
    }
   ],
   "source": [
    "df.drop(labels=[\"e\", \"f\"], axis=0)"
   ]
  },
  {
   "cell_type": "markdown",
   "id": "a6be8824",
   "metadata": {},
   "source": [
    "As usual, almost all functions and methods in the Pandas library return a new copy of the `DataFrame` object. Therefore, if we do not re-assign the value returned by `drop()` to `df`, then `df` will remain unchanged."
   ]
  },
  {
   "cell_type": "code",
   "execution_count": 64,
   "id": "29289096",
   "metadata": {
    "scrolled": true
   },
   "outputs": [
    {
     "data": {
      "text/html": [
       "<div>\n",
       "<style scoped>\n",
       "    .dataframe tbody tr th:only-of-type {\n",
       "        vertical-align: middle;\n",
       "    }\n",
       "\n",
       "    .dataframe tbody tr th {\n",
       "        vertical-align: top;\n",
       "    }\n",
       "\n",
       "    .dataframe thead th {\n",
       "        text-align: right;\n",
       "    }\n",
       "</style>\n",
       "<table border=\"1\" class=\"dataframe\">\n",
       "  <thead>\n",
       "    <tr style=\"text-align: right;\">\n",
       "      <th></th>\n",
       "      <th>name</th>\n",
       "      <th>breed</th>\n",
       "      <th>weight</th>\n",
       "      <th>age</th>\n",
       "      <th>weight_x2</th>\n",
       "    </tr>\n",
       "  </thead>\n",
       "  <tbody>\n",
       "    <tr>\n",
       "      <th>a</th>\n",
       "      <td>Coco</td>\n",
       "      <td>Poodle</td>\n",
       "      <td>17.3</td>\n",
       "      <td>1</td>\n",
       "      <td>34.6</td>\n",
       "    </tr>\n",
       "    <tr>\n",
       "      <th>b</th>\n",
       "      <td>Luna</td>\n",
       "      <td>Shih tzu</td>\n",
       "      <td>5.9</td>\n",
       "      <td>2</td>\n",
       "      <td>11.8</td>\n",
       "    </tr>\n",
       "    <tr>\n",
       "      <th>c</th>\n",
       "      <td>Teddy</td>\n",
       "      <td>Poodle</td>\n",
       "      <td>19.2</td>\n",
       "      <td>3</td>\n",
       "      <td>38.4</td>\n",
       "    </tr>\n",
       "    <tr>\n",
       "      <th>d</th>\n",
       "      <td>Nala</td>\n",
       "      <td>Husky</td>\n",
       "      <td>24.8</td>\n",
       "      <td>4</td>\n",
       "      <td>49.6</td>\n",
       "    </tr>\n",
       "    <tr>\n",
       "      <th>e</th>\n",
       "      <td>Milo</td>\n",
       "      <td>Beagle</td>\n",
       "      <td>9.4</td>\n",
       "      <td>5</td>\n",
       "      <td>18.8</td>\n",
       "    </tr>\n",
       "    <tr>\n",
       "      <th>f</th>\n",
       "      <td>Millie</td>\n",
       "      <td>Scottish Terrier</td>\n",
       "      <td>8.4</td>\n",
       "      <td>6</td>\n",
       "      <td>16.8</td>\n",
       "    </tr>\n",
       "  </tbody>\n",
       "</table>\n",
       "</div>"
      ],
      "text/plain": [
       "     name             breed  weight  age  weight_x2\n",
       "a    Coco            Poodle    17.3    1       34.6\n",
       "b    Luna          Shih tzu     5.9    2       11.8\n",
       "c   Teddy            Poodle    19.2    3       38.4\n",
       "d    Nala             Husky    24.8    4       49.6\n",
       "e    Milo            Beagle     9.4    5       18.8\n",
       "f  Millie  Scottish Terrier     8.4    6       16.8"
      ]
     },
     "execution_count": 64,
     "metadata": {},
     "output_type": "execute_result"
    }
   ],
   "source": [
    "df"
   ]
  },
  {
   "cell_type": "code",
   "execution_count": 65,
   "id": "ffb2d243",
   "metadata": {
    "scrolled": true
   },
   "outputs": [
    {
     "data": {
      "text/html": [
       "<div>\n",
       "<style scoped>\n",
       "    .dataframe tbody tr th:only-of-type {\n",
       "        vertical-align: middle;\n",
       "    }\n",
       "\n",
       "    .dataframe tbody tr th {\n",
       "        vertical-align: top;\n",
       "    }\n",
       "\n",
       "    .dataframe thead th {\n",
       "        text-align: right;\n",
       "    }\n",
       "</style>\n",
       "<table border=\"1\" class=\"dataframe\">\n",
       "  <thead>\n",
       "    <tr style=\"text-align: right;\">\n",
       "      <th></th>\n",
       "      <th>name</th>\n",
       "      <th>breed</th>\n",
       "      <th>weight</th>\n",
       "      <th>age</th>\n",
       "      <th>weight_x2</th>\n",
       "    </tr>\n",
       "  </thead>\n",
       "  <tbody>\n",
       "    <tr>\n",
       "      <th>a</th>\n",
       "      <td>Coco</td>\n",
       "      <td>Poodle</td>\n",
       "      <td>17.3</td>\n",
       "      <td>1</td>\n",
       "      <td>34.6</td>\n",
       "    </tr>\n",
       "    <tr>\n",
       "      <th>b</th>\n",
       "      <td>Luna</td>\n",
       "      <td>Shih tzu</td>\n",
       "      <td>5.9</td>\n",
       "      <td>2</td>\n",
       "      <td>11.8</td>\n",
       "    </tr>\n",
       "    <tr>\n",
       "      <th>c</th>\n",
       "      <td>Teddy</td>\n",
       "      <td>Poodle</td>\n",
       "      <td>19.2</td>\n",
       "      <td>3</td>\n",
       "      <td>38.4</td>\n",
       "    </tr>\n",
       "    <tr>\n",
       "      <th>d</th>\n",
       "      <td>Nala</td>\n",
       "      <td>Husky</td>\n",
       "      <td>24.8</td>\n",
       "      <td>4</td>\n",
       "      <td>49.6</td>\n",
       "    </tr>\n",
       "  </tbody>\n",
       "</table>\n",
       "</div>"
      ],
      "text/plain": [
       "    name     breed  weight  age  weight_x2\n",
       "a   Coco    Poodle    17.3    1       34.6\n",
       "b   Luna  Shih tzu     5.9    2       11.8\n",
       "c  Teddy    Poodle    19.2    3       38.4\n",
       "d   Nala     Husky    24.8    4       49.6"
      ]
     },
     "execution_count": 65,
     "metadata": {},
     "output_type": "execute_result"
    }
   ],
   "source": [
    "df = df.drop([\"e\", \"f\"], axis=0)\n",
    "df"
   ]
  },
  {
   "cell_type": "markdown",
   "id": "01e2ae06",
   "metadata": {},
   "source": [
    "We can remove columns with the `drop()` method in the following way: "
   ]
  },
  {
   "cell_type": "code",
   "execution_count": 66,
   "id": "53a1cfcb",
   "metadata": {
    "scrolled": true
   },
   "outputs": [
    {
     "data": {
      "text/html": [
       "<div>\n",
       "<style scoped>\n",
       "    .dataframe tbody tr th:only-of-type {\n",
       "        vertical-align: middle;\n",
       "    }\n",
       "\n",
       "    .dataframe tbody tr th {\n",
       "        vertical-align: top;\n",
       "    }\n",
       "\n",
       "    .dataframe thead th {\n",
       "        text-align: right;\n",
       "    }\n",
       "</style>\n",
       "<table border=\"1\" class=\"dataframe\">\n",
       "  <thead>\n",
       "    <tr style=\"text-align: right;\">\n",
       "      <th></th>\n",
       "      <th>name</th>\n",
       "      <th>breed</th>\n",
       "      <th>weight</th>\n",
       "    </tr>\n",
       "  </thead>\n",
       "  <tbody>\n",
       "    <tr>\n",
       "      <th>a</th>\n",
       "      <td>Coco</td>\n",
       "      <td>Poodle</td>\n",
       "      <td>17.3</td>\n",
       "    </tr>\n",
       "    <tr>\n",
       "      <th>b</th>\n",
       "      <td>Luna</td>\n",
       "      <td>Shih tzu</td>\n",
       "      <td>5.9</td>\n",
       "    </tr>\n",
       "    <tr>\n",
       "      <th>c</th>\n",
       "      <td>Teddy</td>\n",
       "      <td>Poodle</td>\n",
       "      <td>19.2</td>\n",
       "    </tr>\n",
       "    <tr>\n",
       "      <th>d</th>\n",
       "      <td>Nala</td>\n",
       "      <td>Husky</td>\n",
       "      <td>24.8</td>\n",
       "    </tr>\n",
       "  </tbody>\n",
       "</table>\n",
       "</div>"
      ],
      "text/plain": [
       "    name     breed  weight\n",
       "a   Coco    Poodle    17.3\n",
       "b   Luna  Shih tzu     5.9\n",
       "c  Teddy    Poodle    19.2\n",
       "d   Nala     Husky    24.8"
      ]
     },
     "execution_count": 66,
     "metadata": {},
     "output_type": "execute_result"
    }
   ],
   "source": [
    "df.drop(labels=[\"weight_x2\", \"age\"], axis=1)"
   ]
  },
  {
   "cell_type": "markdown",
   "id": "c47fece6",
   "metadata": {},
   "source": [
    "# 5. Operations on DataFrames"
   ]
  },
  {
   "cell_type": "markdown",
   "id": "86edd5be",
   "metadata": {},
   "source": [
    "Many of the operations that can be performed on a `Series` can also be performed on a `DataFrame`. Usually this means that an operation will be applied to each `Series`/column separately. So for example, `DataFrame.min()` returns the minimum value for each column.\n",
    "\n",
    "Before we test this out, let's add some columns containing numerical data to the dataframe stored in `df`:"
   ]
  },
  {
   "cell_type": "code",
   "execution_count": 4,
   "id": "cdf4f598",
   "metadata": {
    "scrolled": true
   },
   "outputs": [
    {
     "data": {
      "text/html": [
       "<div>\n",
       "<style scoped>\n",
       "    .dataframe tbody tr th:only-of-type {\n",
       "        vertical-align: middle;\n",
       "    }\n",
       "\n",
       "    .dataframe tbody tr th {\n",
       "        vertical-align: top;\n",
       "    }\n",
       "\n",
       "    .dataframe thead th {\n",
       "        text-align: right;\n",
       "    }\n",
       "</style>\n",
       "<table border=\"1\" class=\"dataframe\">\n",
       "  <thead>\n",
       "    <tr style=\"text-align: right;\">\n",
       "      <th></th>\n",
       "      <th>name</th>\n",
       "      <th>breed</th>\n",
       "      <th>weight</th>\n",
       "      <th>age</th>\n",
       "      <th>height</th>\n",
       "    </tr>\n",
       "  </thead>\n",
       "  <tbody>\n",
       "    <tr>\n",
       "      <th>0</th>\n",
       "      <td>Coco</td>\n",
       "      <td>Poodle</td>\n",
       "      <td>16.4</td>\n",
       "      <td>1</td>\n",
       "      <td>1.02</td>\n",
       "    </tr>\n",
       "    <tr>\n",
       "      <th>1</th>\n",
       "      <td>Luna</td>\n",
       "      <td>Shih tzu</td>\n",
       "      <td>5.9</td>\n",
       "      <td>2</td>\n",
       "      <td>0.46</td>\n",
       "    </tr>\n",
       "    <tr>\n",
       "      <th>2</th>\n",
       "      <td>Teddy</td>\n",
       "      <td>Poodle</td>\n",
       "      <td>18.7</td>\n",
       "      <td>3</td>\n",
       "      <td>0.87</td>\n",
       "    </tr>\n",
       "    <tr>\n",
       "      <th>3</th>\n",
       "      <td>Nala</td>\n",
       "      <td>Husky</td>\n",
       "      <td>24.8</td>\n",
       "      <td>4</td>\n",
       "      <td>1.12</td>\n",
       "    </tr>\n",
       "  </tbody>\n",
       "</table>\n",
       "</div>"
      ],
      "text/plain": [
       "    name     breed  weight  age  height\n",
       "0   Coco    Poodle    16.4    1    1.02\n",
       "1   Luna  Shih tzu     5.9    2    0.46\n",
       "2  Teddy    Poodle    18.7    3    0.87\n",
       "3   Nala     Husky    24.8    4    1.12"
      ]
     },
     "execution_count": 4,
     "metadata": {},
     "output_type": "execute_result"
    }
   ],
   "source": [
    "df[\"age\"] = [1, 2, 3, 4]\n",
    "df[\"height\"] = [1.02, 0.46, 0.87, 1.12]\n",
    "df"
   ]
  },
  {
   "cell_type": "markdown",
   "id": "5b9115e1",
   "metadata": {},
   "source": [
    "Now lets select only the columns with numerical data:"
   ]
  },
  {
   "cell_type": "code",
   "execution_count": 5,
   "id": "49957ad2",
   "metadata": {},
   "outputs": [
    {
     "data": {
      "text/html": [
       "<div>\n",
       "<style scoped>\n",
       "    .dataframe tbody tr th:only-of-type {\n",
       "        vertical-align: middle;\n",
       "    }\n",
       "\n",
       "    .dataframe tbody tr th {\n",
       "        vertical-align: top;\n",
       "    }\n",
       "\n",
       "    .dataframe thead th {\n",
       "        text-align: right;\n",
       "    }\n",
       "</style>\n",
       "<table border=\"1\" class=\"dataframe\">\n",
       "  <thead>\n",
       "    <tr style=\"text-align: right;\">\n",
       "      <th></th>\n",
       "      <th>weight</th>\n",
       "      <th>age</th>\n",
       "      <th>height</th>\n",
       "    </tr>\n",
       "  </thead>\n",
       "  <tbody>\n",
       "    <tr>\n",
       "      <th>0</th>\n",
       "      <td>16.4</td>\n",
       "      <td>1</td>\n",
       "      <td>1.02</td>\n",
       "    </tr>\n",
       "    <tr>\n",
       "      <th>1</th>\n",
       "      <td>5.9</td>\n",
       "      <td>2</td>\n",
       "      <td>0.46</td>\n",
       "    </tr>\n",
       "    <tr>\n",
       "      <th>2</th>\n",
       "      <td>18.7</td>\n",
       "      <td>3</td>\n",
       "      <td>0.87</td>\n",
       "    </tr>\n",
       "    <tr>\n",
       "      <th>3</th>\n",
       "      <td>24.8</td>\n",
       "      <td>4</td>\n",
       "      <td>1.12</td>\n",
       "    </tr>\n",
       "  </tbody>\n",
       "</table>\n",
       "</div>"
      ],
      "text/plain": [
       "   weight  age  height\n",
       "0    16.4    1    1.02\n",
       "1     5.9    2    0.46\n",
       "2    18.7    3    0.87\n",
       "3    24.8    4    1.12"
      ]
     },
     "execution_count": 5,
     "metadata": {},
     "output_type": "execute_result"
    }
   ],
   "source": [
    "column_names = [\"weight\", \"age\", \"height\"]\n",
    "df_num = df[column_names]\n",
    "df_num"
   ]
  },
  {
   "cell_type": "markdown",
   "id": "9c1eab9f",
   "metadata": {},
   "source": [
    "Now lets see what happens when we call the `DataFrame.min()` method:"
   ]
  },
  {
   "cell_type": "code",
   "execution_count": 6,
   "id": "4600c157",
   "metadata": {},
   "outputs": [
    {
     "data": {
      "text/plain": [
       "weight    5.90\n",
       "age       1.00\n",
       "height    0.46\n",
       "dtype: float64"
      ]
     },
     "execution_count": 6,
     "metadata": {},
     "output_type": "execute_result"
    }
   ],
   "source": [
    "df_num.min()"
   ]
  },
  {
   "cell_type": "markdown",
   "id": "9205f5a5",
   "metadata": {},
   "source": [
    "As we can see, the `DataFrame.min()` method returned a `Series` whose indices are column names, and the corresponding values are the minimum values in each column.\n",
    "\n",
    "The code cells below contain more examples of methods that can be used with a `DataFrame` object."
   ]
  },
  {
   "cell_type": "code",
   "execution_count": 7,
   "id": "5c1972b3",
   "metadata": {},
   "outputs": [
    {
     "data": {
      "text/plain": [
       "weight    24.80\n",
       "age        4.00\n",
       "height     1.12\n",
       "dtype: float64"
      ]
     },
     "execution_count": 7,
     "metadata": {},
     "output_type": "execute_result"
    }
   ],
   "source": [
    "df_num.max()"
   ]
  },
  {
   "cell_type": "code",
   "execution_count": 8,
   "id": "cafc191b",
   "metadata": {},
   "outputs": [
    {
     "data": {
      "text/plain": [
       "weight    65.80\n",
       "age       10.00\n",
       "height     3.47\n",
       "dtype: float64"
      ]
     },
     "execution_count": 8,
     "metadata": {},
     "output_type": "execute_result"
    }
   ],
   "source": [
    "df_num.sum()"
   ]
  },
  {
   "cell_type": "code",
   "execution_count": 9,
   "id": "cdecbdad",
   "metadata": {},
   "outputs": [
    {
     "data": {
      "text/plain": [
       "weight    16.4500\n",
       "age        2.5000\n",
       "height     0.8675\n",
       "dtype: float64"
      ]
     },
     "execution_count": 9,
     "metadata": {},
     "output_type": "execute_result"
    }
   ],
   "source": [
    "df_num.mean()"
   ]
  },
  {
   "cell_type": "code",
   "execution_count": 10,
   "id": "5c1c0c72",
   "metadata": {},
   "outputs": [
    {
     "data": {
      "text/plain": [
       "weight    7.875913\n",
       "age       1.290994\n",
       "height    0.290445\n",
       "dtype: float64"
      ]
     },
     "execution_count": 10,
     "metadata": {},
     "output_type": "execute_result"
    }
   ],
   "source": [
    "df_num.std()"
   ]
  },
  {
   "cell_type": "code",
   "execution_count": 11,
   "id": "d027ae8c",
   "metadata": {},
   "outputs": [
    {
     "data": {
      "text/plain": [
       "weight    62.030000\n",
       "age        1.666667\n",
       "height     0.084358\n",
       "dtype: float64"
      ]
     },
     "execution_count": 11,
     "metadata": {},
     "output_type": "execute_result"
    }
   ],
   "source": [
    "df_num.var()"
   ]
  }
 ],
 "metadata": {
  "kernelspec": {
   "display_name": "Python 3 (ipykernel)",
   "language": "python",
   "name": "python3"
  },
  "language_info": {
   "codemirror_mode": {
    "name": "ipython",
    "version": 3
   },
   "file_extension": ".py",
   "mimetype": "text/x-python",
   "name": "python",
   "nbconvert_exporter": "python",
   "pygments_lexer": "ipython3",
   "version": "3.9.13"
  }
 },
 "nbformat": 4,
 "nbformat_minor": 5
}
