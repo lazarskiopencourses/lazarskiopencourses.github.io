{
 "cells": [
  {
   "cell_type": "markdown",
   "id": "d1f7ff50",
   "metadata": {},
   "source": [
    "### Sections\n",
    "\n",
    "1. [Introduction](#1)\n",
    "2. [What is inferential statistics?](#2)\n",
    "3. [Sampling](#3)  \n",
    "    3.1. [Sample vs population](#3-1)  \n",
    "    3.2. [Representative sample](#3-2)  \n",
    "    3.3. [Simple random sampling](#3-3)  \n",
    "    3.4. [Stratified random sampling](#3-4)  \n",
    "4. [Central Limit Theorem ](#4)  \n",
    "    4.1. [Definition](#4-1)  \n",
    "    4.2. [An example](#4-2)  \n",
    "    4.3. [Verifying the Central Limit Theorem in practice ](#4-3)  \n",
    "5. [Standard error](#5)  \n",
    "6. [Confidence intervals](#6)  \n",
    "    6.1. [Definition](#6-1)  \n",
    "    6.2. [The empirical rule](#6-2)  \n",
    "    6.3. [The z-table](#6-3)  \n",
    "    6.4. [Confidence intervals in practice](#6-4)  \n",
    "    6.5. [External learning resources](#6-5)  \n",
    "7. [Hypothesis testing ](#6)  \n",
    "    7.1. [What is a hypothesis?](#7-1)  \n",
    "    7.2. [The null hypothesis vs the alternative hypothesis](#7-2)  \n",
    "    7.3. [Type I error](#7-3)  \n",
    "    7.4. [Type II error](#7-4)  \n",
    "    7.5. [The p-value](#7-5)  \n",
    "    7.6. [Statistical tests](#7-6)  \n",
    "    7.7. [One sample z-test](#7-7)  \n",
    "    7.8. [Two sample z-test](#7-8)  \n",
    "    7.9. [The t-test](#7-9)  \n",
    "    7.10. [Other tests ](#7-10)  "
   ]
  },
  {
   "cell_type": "markdown",
   "id": "201255a7",
   "metadata": {},
   "source": [
    "# 1. Introduction <a id='1'></a>"
   ]
  },
  {
   "cell_type": "markdown",
   "id": "ea0ccd45",
   "metadata": {},
   "source": [
    "In this notebook we will cover some topics in inferential statistics, while working with the [Pima Indians Diabetes Dataset](https://www.kaggle.com/datasets/uciml/pima-indians-diabetes-database). The code cell below loads the dataset into a `DataFrame` object, stores it in the variable `df` and then displays it."
   ]
  },
  {
   "cell_type": "code",
   "execution_count": 1,
   "id": "6f330b1b",
   "metadata": {
    "scrolled": true
   },
   "outputs": [
    {
     "data": {
      "text/html": [
       "<div>\n",
       "<style scoped>\n",
       "    .dataframe tbody tr th:only-of-type {\n",
       "        vertical-align: middle;\n",
       "    }\n",
       "\n",
       "    .dataframe tbody tr th {\n",
       "        vertical-align: top;\n",
       "    }\n",
       "\n",
       "    .dataframe thead th {\n",
       "        text-align: right;\n",
       "    }\n",
       "</style>\n",
       "<table border=\"1\" class=\"dataframe\">\n",
       "  <thead>\n",
       "    <tr style=\"text-align: right;\">\n",
       "      <th></th>\n",
       "      <th>Pregnancies</th>\n",
       "      <th>Glucose</th>\n",
       "      <th>BloodPressure</th>\n",
       "      <th>SkinThickness</th>\n",
       "      <th>Insulin</th>\n",
       "      <th>BMI</th>\n",
       "      <th>DiabetesPedigreeFunction</th>\n",
       "      <th>Age</th>\n",
       "      <th>Outcome</th>\n",
       "    </tr>\n",
       "  </thead>\n",
       "  <tbody>\n",
       "    <tr>\n",
       "      <th>0</th>\n",
       "      <td>6</td>\n",
       "      <td>148</td>\n",
       "      <td>72</td>\n",
       "      <td>35</td>\n",
       "      <td>0</td>\n",
       "      <td>33.6</td>\n",
       "      <td>0.627</td>\n",
       "      <td>50</td>\n",
       "      <td>1</td>\n",
       "    </tr>\n",
       "    <tr>\n",
       "      <th>1</th>\n",
       "      <td>1</td>\n",
       "      <td>85</td>\n",
       "      <td>66</td>\n",
       "      <td>29</td>\n",
       "      <td>0</td>\n",
       "      <td>26.6</td>\n",
       "      <td>0.351</td>\n",
       "      <td>31</td>\n",
       "      <td>0</td>\n",
       "    </tr>\n",
       "    <tr>\n",
       "      <th>2</th>\n",
       "      <td>8</td>\n",
       "      <td>183</td>\n",
       "      <td>64</td>\n",
       "      <td>0</td>\n",
       "      <td>0</td>\n",
       "      <td>23.3</td>\n",
       "      <td>0.672</td>\n",
       "      <td>32</td>\n",
       "      <td>1</td>\n",
       "    </tr>\n",
       "    <tr>\n",
       "      <th>3</th>\n",
       "      <td>1</td>\n",
       "      <td>89</td>\n",
       "      <td>66</td>\n",
       "      <td>23</td>\n",
       "      <td>94</td>\n",
       "      <td>28.1</td>\n",
       "      <td>0.167</td>\n",
       "      <td>21</td>\n",
       "      <td>0</td>\n",
       "    </tr>\n",
       "    <tr>\n",
       "      <th>4</th>\n",
       "      <td>0</td>\n",
       "      <td>137</td>\n",
       "      <td>40</td>\n",
       "      <td>35</td>\n",
       "      <td>168</td>\n",
       "      <td>43.1</td>\n",
       "      <td>2.288</td>\n",
       "      <td>33</td>\n",
       "      <td>1</td>\n",
       "    </tr>\n",
       "    <tr>\n",
       "      <th>...</th>\n",
       "      <td>...</td>\n",
       "      <td>...</td>\n",
       "      <td>...</td>\n",
       "      <td>...</td>\n",
       "      <td>...</td>\n",
       "      <td>...</td>\n",
       "      <td>...</td>\n",
       "      <td>...</td>\n",
       "      <td>...</td>\n",
       "    </tr>\n",
       "    <tr>\n",
       "      <th>763</th>\n",
       "      <td>10</td>\n",
       "      <td>101</td>\n",
       "      <td>76</td>\n",
       "      <td>48</td>\n",
       "      <td>180</td>\n",
       "      <td>32.9</td>\n",
       "      <td>0.171</td>\n",
       "      <td>63</td>\n",
       "      <td>0</td>\n",
       "    </tr>\n",
       "    <tr>\n",
       "      <th>764</th>\n",
       "      <td>2</td>\n",
       "      <td>122</td>\n",
       "      <td>70</td>\n",
       "      <td>27</td>\n",
       "      <td>0</td>\n",
       "      <td>36.8</td>\n",
       "      <td>0.340</td>\n",
       "      <td>27</td>\n",
       "      <td>0</td>\n",
       "    </tr>\n",
       "    <tr>\n",
       "      <th>765</th>\n",
       "      <td>5</td>\n",
       "      <td>121</td>\n",
       "      <td>72</td>\n",
       "      <td>23</td>\n",
       "      <td>112</td>\n",
       "      <td>26.2</td>\n",
       "      <td>0.245</td>\n",
       "      <td>30</td>\n",
       "      <td>0</td>\n",
       "    </tr>\n",
       "    <tr>\n",
       "      <th>766</th>\n",
       "      <td>1</td>\n",
       "      <td>126</td>\n",
       "      <td>60</td>\n",
       "      <td>0</td>\n",
       "      <td>0</td>\n",
       "      <td>30.1</td>\n",
       "      <td>0.349</td>\n",
       "      <td>47</td>\n",
       "      <td>1</td>\n",
       "    </tr>\n",
       "    <tr>\n",
       "      <th>767</th>\n",
       "      <td>1</td>\n",
       "      <td>93</td>\n",
       "      <td>70</td>\n",
       "      <td>31</td>\n",
       "      <td>0</td>\n",
       "      <td>30.4</td>\n",
       "      <td>0.315</td>\n",
       "      <td>23</td>\n",
       "      <td>0</td>\n",
       "    </tr>\n",
       "  </tbody>\n",
       "</table>\n",
       "<p>768 rows × 9 columns</p>\n",
       "</div>"
      ],
      "text/plain": [
       "     Pregnancies  Glucose  BloodPressure  SkinThickness  Insulin   BMI  \\\n",
       "0              6      148             72             35        0  33.6   \n",
       "1              1       85             66             29        0  26.6   \n",
       "2              8      183             64              0        0  23.3   \n",
       "3              1       89             66             23       94  28.1   \n",
       "4              0      137             40             35      168  43.1   \n",
       "..           ...      ...            ...            ...      ...   ...   \n",
       "763           10      101             76             48      180  32.9   \n",
       "764            2      122             70             27        0  36.8   \n",
       "765            5      121             72             23      112  26.2   \n",
       "766            1      126             60              0        0  30.1   \n",
       "767            1       93             70             31        0  30.4   \n",
       "\n",
       "     DiabetesPedigreeFunction  Age  Outcome  \n",
       "0                       0.627   50        1  \n",
       "1                       0.351   31        0  \n",
       "2                       0.672   32        1  \n",
       "3                       0.167   21        0  \n",
       "4                       2.288   33        1  \n",
       "..                        ...  ...      ...  \n",
       "763                     0.171   63        0  \n",
       "764                     0.340   27        0  \n",
       "765                     0.245   30        0  \n",
       "766                     0.349   47        1  \n",
       "767                     0.315   23        0  \n",
       "\n",
       "[768 rows x 9 columns]"
      ]
     },
     "execution_count": 1,
     "metadata": {},
     "output_type": "execute_result"
    }
   ],
   "source": [
    "import pandas as pd\n",
    "\n",
    "df = pd.read_csv(\"diabetes.csv\")\n",
    "df"
   ]
  },
  {
   "cell_type": "markdown",
   "id": "00163811",
   "metadata": {},
   "source": [
    "Each row in this `DataFrame` contains some information about a person. The \"Outcome\" row contains information on whether or not the person has diabetes (`1` means they have diabetes, while `0` means they do not). There is some data cleaning that could be done on this dataset first, such as replacing `0` with missing values in columns, where the value `0` is definitely not possible (eg. \"SkinThickness\" or \"BloodPressure\"). However, for now we will skip the data cleaning/data preparation process."
   ]
  },
  {
   "cell_type": "markdown",
   "id": "b1228477",
   "metadata": {},
   "source": [
    "# 2. What is inferential statistics? <a id='2'></a>"
   ]
  },
  {
   "cell_type": "markdown",
   "id": "a8946b1b",
   "metadata": {},
   "source": [
    "Inferential statistics is a branch of statistics that uses data from a sample to make inferences or conclusions about a larger population. In simple terms, it is a way to use information from a small group to make predictions or estimates about a larger group. For example, a political poll may survey a small group of people to make predictions about how all people in a certain area will vote in an election. \n",
    "\n",
    "Inferential statistics also involves testing hypotheses about a population based on the data obtained from a sample. For example, a researcher might have a theory that a new drug is effective in treating a certain disease, and use hypothesis testing to determine if the data from a study of the drug supports or rejects that theory."
   ]
  },
  {
   "cell_type": "markdown",
   "id": "c7fe9a2c",
   "metadata": {},
   "source": [
    "# 3. Sampling <a id='3'></a>"
   ]
  },
  {
   "cell_type": "markdown",
   "id": "a0332f49",
   "metadata": {},
   "source": [
    "## 3.1. Sample vs population <a id='3-1'></a>"
   ]
  },
  {
   "cell_type": "markdown",
   "id": "39ffa27b",
   "metadata": {},
   "source": [
    "A sample is a subset of a population. The population is the entire group of individuals or objects that we are interested in studying. For example, if we want to study the number of tree species in a certain forest, the population would be all the tree species in that forest. A sample, on the other hand, would be a smaller group of tree species selected from the population."
   ]
  },
  {
   "cell_type": "markdown",
   "id": "eb6b77ee",
   "metadata": {},
   "source": [
    "## 3.2. Representative sample <a id='3-2'></a>"
   ]
  },
  {
   "cell_type": "markdown",
   "id": "cf7f0682",
   "metadata": {},
   "source": [
    "A representative sample is a small group of individuals or objects that is chosen from a larger group (the population) in such a way that it accurately reflects the characteristics of the larger group. Imagine you want to know the average height of all the students in your school. It would be impossible to measure the height of every student, so instead, you might choose a smaller group of students (the sample) and measure their heights. If the sample is representative, it should have the same average height as the entire school population, so you can use the sample to make inferences about the population."
   ]
  },
  {
   "cell_type": "markdown",
   "id": "5112b1e4",
   "metadata": {},
   "source": [
    "## 3.3. Simple random sampling"
   ]
  },
  {
   "cell_type": "markdown",
   "id": "842f9e48",
   "metadata": {},
   "source": [
    "Simple random sampling is a method of selecting a sample from a population in which each individual or object has an equal chance of being selected. This is typically done by using a random number generator or a random sampling tool, such as a random number table, to select individuals or objects from the population. For example, if we are sampling from a population of 1000 individuals, each individual has a $\\frac{1}{1000}$ chance of being selected.\n",
    "\n",
    "The goal of simple random sampling is to ensure that the sample is representative of the population, and that the sample is selected in a unbiased way. This method is widely used in statistical research as it allows for accurate generalizations to be made about the population based on the sample."
   ]
  },
  {
   "cell_type": "markdown",
   "id": "bc504891",
   "metadata": {},
   "source": [
    "## 3.4. Stratified random sampling <a id='3-4'></a>"
   ]
  },
  {
   "cell_type": "markdown",
   "id": "fe3f7bbe",
   "metadata": {},
   "source": [
    "Stratified random sampling is a method of sampling where the population is divided into smaller groups, called strata, based on certain characteristics. The sample is then chosen by randomly selecting individuals or objects from each stratum. This method is used when the population has subgroups that have different characteristics and it is important to ensure that these subgroups are represented in the sample.\n",
    "\n",
    "For example, if you want to study the average income of people in a city, you might divide the population into strata based on income levels (low, medium, high). Then, you would randomly select individuals from each stratum to ensure that the sample accurately reflects the income distribution of the population.\n",
    "\n",
    "Stratified random sampling can be more effective than simple random sampling in ensuring that the sample is representative of the population, but it can also be more time-consuming and expensive."
   ]
  },
  {
   "cell_type": "markdown",
   "id": "468e3c37",
   "metadata": {},
   "source": [
    "# 4. Central Limit Theorem <a id='4'></a>"
   ]
  },
  {
   "cell_type": "markdown",
   "id": "b48c9953",
   "metadata": {},
   "source": [
    "## 4.1. Definition <a id='4-1'></a>"
   ]
  },
  {
   "cell_type": "markdown",
   "id": "fc30517f",
   "metadata": {},
   "source": [
    "**Below is a somewhat formal definition of the Central Limit Theorem. It's not easy to grasp, especially if this is the first time you're learning about the Central Limit Theorem. Don't worry though, things will get clearer in the next subsections, as you will see some examples.**\n",
    "\n",
    "The Central Limit Theorem is a fundamental concept in statistics that states that, given a large enough sample size, the distribution of sample means will be approximately normal, regardless of the shape of the population distribution. In other words, as the sample size increases, the distribution of sample means will become more and more like a normal distribution, even if the population distribution is not normal."
   ]
  },
  {
   "cell_type": "markdown",
   "id": "e1691da8",
   "metadata": {},
   "source": [
    "## 4.2. An example <a id='4-2'></a>"
   ]
  },
  {
   "cell_type": "markdown",
   "id": "b36283fb",
   "metadata": {},
   "source": [
    "Here is an example: imagine you want to know the average height of all adult males in a certain country. But instead of measuring the height of every adult male, which would be impractical, you decide to take a sample of 100 adult males at random. You measure their heights and calculate the average height of this sample, let's say it's 175 cm. Now you repeat this process multiple times, each time taking a sample of 100 adult males and calculating the average height of each sample.\n",
    "\n",
    "According to the Central Limit Theorem, even though the population of adult males in the country may have a different distribution of heights, the distribution of the average heights of all these samples will be approximately normal and will have a mean equal to the population mean. This means that you can use the normal distribution to make inferences about the population mean, such as computing a confidence interval for the population mean, or testing a hypothesis about the population mean (more on that in later sections).\n",
    "\n",
    "In other words, the central limit theorem tells us that if we take many random samples from a population, the mean of those samples will be similar to the mean of the population, and the way those averages are distributed will be in a bell-shaped curve, which is characteristic of the normal distribution. It is also worth knowing that The Central Limit Theorem has several assumptions, such as random sampling, independence of observations, and a large sample size. The exact definition of \"large sample size\" can vary depending on the context and the population distribution, but it is generally considered to be 30 or more."
   ]
  },
  {
   "cell_type": "markdown",
   "id": "654b9ad9",
   "metadata": {},
   "source": [
    "## 4.3. Verifying the Central Limit Theorem in practice <a id='4-3'></a>"
   ]
  },
  {
   "cell_type": "markdown",
   "id": "270c9d1a",
   "metadata": {},
   "source": [
    "Let's verify the Central Limit Theorem in practice. To do this, let's first assume that the rows in the `DataFrame` stored in the variable `df` represent the entire population. In this case, the size of our population is 768:"
   ]
  },
  {
   "cell_type": "code",
   "execution_count": 8,
   "id": "9bf359e9",
   "metadata": {},
   "outputs": [
    {
     "data": {
      "text/plain": [
       "768"
      ]
     },
     "execution_count": 8,
     "metadata": {},
     "output_type": "execute_result"
    }
   ],
   "source": [
    "len(df)"
   ]
  },
  {
   "cell_type": "markdown",
   "id": "e6437a64",
   "metadata": {},
   "source": [
    "As a reminder, let's preview the dataframe:"
   ]
  },
  {
   "cell_type": "code",
   "execution_count": 9,
   "id": "46fdbf0e",
   "metadata": {
    "scrolled": true
   },
   "outputs": [
    {
     "data": {
      "text/html": [
       "<div>\n",
       "<style scoped>\n",
       "    .dataframe tbody tr th:only-of-type {\n",
       "        vertical-align: middle;\n",
       "    }\n",
       "\n",
       "    .dataframe tbody tr th {\n",
       "        vertical-align: top;\n",
       "    }\n",
       "\n",
       "    .dataframe thead th {\n",
       "        text-align: right;\n",
       "    }\n",
       "</style>\n",
       "<table border=\"1\" class=\"dataframe\">\n",
       "  <thead>\n",
       "    <tr style=\"text-align: right;\">\n",
       "      <th></th>\n",
       "      <th>Pregnancies</th>\n",
       "      <th>Glucose</th>\n",
       "      <th>BloodPressure</th>\n",
       "      <th>SkinThickness</th>\n",
       "      <th>Insulin</th>\n",
       "      <th>BMI</th>\n",
       "      <th>DiabetesPedigreeFunction</th>\n",
       "      <th>Age</th>\n",
       "      <th>Outcome</th>\n",
       "    </tr>\n",
       "  </thead>\n",
       "  <tbody>\n",
       "    <tr>\n",
       "      <th>0</th>\n",
       "      <td>6</td>\n",
       "      <td>148</td>\n",
       "      <td>72</td>\n",
       "      <td>35</td>\n",
       "      <td>0</td>\n",
       "      <td>33.6</td>\n",
       "      <td>0.627</td>\n",
       "      <td>50</td>\n",
       "      <td>1</td>\n",
       "    </tr>\n",
       "    <tr>\n",
       "      <th>1</th>\n",
       "      <td>1</td>\n",
       "      <td>85</td>\n",
       "      <td>66</td>\n",
       "      <td>29</td>\n",
       "      <td>0</td>\n",
       "      <td>26.6</td>\n",
       "      <td>0.351</td>\n",
       "      <td>31</td>\n",
       "      <td>0</td>\n",
       "    </tr>\n",
       "    <tr>\n",
       "      <th>2</th>\n",
       "      <td>8</td>\n",
       "      <td>183</td>\n",
       "      <td>64</td>\n",
       "      <td>0</td>\n",
       "      <td>0</td>\n",
       "      <td>23.3</td>\n",
       "      <td>0.672</td>\n",
       "      <td>32</td>\n",
       "      <td>1</td>\n",
       "    </tr>\n",
       "    <tr>\n",
       "      <th>3</th>\n",
       "      <td>1</td>\n",
       "      <td>89</td>\n",
       "      <td>66</td>\n",
       "      <td>23</td>\n",
       "      <td>94</td>\n",
       "      <td>28.1</td>\n",
       "      <td>0.167</td>\n",
       "      <td>21</td>\n",
       "      <td>0</td>\n",
       "    </tr>\n",
       "    <tr>\n",
       "      <th>4</th>\n",
       "      <td>0</td>\n",
       "      <td>137</td>\n",
       "      <td>40</td>\n",
       "      <td>35</td>\n",
       "      <td>168</td>\n",
       "      <td>43.1</td>\n",
       "      <td>2.288</td>\n",
       "      <td>33</td>\n",
       "      <td>1</td>\n",
       "    </tr>\n",
       "    <tr>\n",
       "      <th>...</th>\n",
       "      <td>...</td>\n",
       "      <td>...</td>\n",
       "      <td>...</td>\n",
       "      <td>...</td>\n",
       "      <td>...</td>\n",
       "      <td>...</td>\n",
       "      <td>...</td>\n",
       "      <td>...</td>\n",
       "      <td>...</td>\n",
       "    </tr>\n",
       "    <tr>\n",
       "      <th>763</th>\n",
       "      <td>10</td>\n",
       "      <td>101</td>\n",
       "      <td>76</td>\n",
       "      <td>48</td>\n",
       "      <td>180</td>\n",
       "      <td>32.9</td>\n",
       "      <td>0.171</td>\n",
       "      <td>63</td>\n",
       "      <td>0</td>\n",
       "    </tr>\n",
       "    <tr>\n",
       "      <th>764</th>\n",
       "      <td>2</td>\n",
       "      <td>122</td>\n",
       "      <td>70</td>\n",
       "      <td>27</td>\n",
       "      <td>0</td>\n",
       "      <td>36.8</td>\n",
       "      <td>0.340</td>\n",
       "      <td>27</td>\n",
       "      <td>0</td>\n",
       "    </tr>\n",
       "    <tr>\n",
       "      <th>765</th>\n",
       "      <td>5</td>\n",
       "      <td>121</td>\n",
       "      <td>72</td>\n",
       "      <td>23</td>\n",
       "      <td>112</td>\n",
       "      <td>26.2</td>\n",
       "      <td>0.245</td>\n",
       "      <td>30</td>\n",
       "      <td>0</td>\n",
       "    </tr>\n",
       "    <tr>\n",
       "      <th>766</th>\n",
       "      <td>1</td>\n",
       "      <td>126</td>\n",
       "      <td>60</td>\n",
       "      <td>0</td>\n",
       "      <td>0</td>\n",
       "      <td>30.1</td>\n",
       "      <td>0.349</td>\n",
       "      <td>47</td>\n",
       "      <td>1</td>\n",
       "    </tr>\n",
       "    <tr>\n",
       "      <th>767</th>\n",
       "      <td>1</td>\n",
       "      <td>93</td>\n",
       "      <td>70</td>\n",
       "      <td>31</td>\n",
       "      <td>0</td>\n",
       "      <td>30.4</td>\n",
       "      <td>0.315</td>\n",
       "      <td>23</td>\n",
       "      <td>0</td>\n",
       "    </tr>\n",
       "  </tbody>\n",
       "</table>\n",
       "<p>768 rows × 9 columns</p>\n",
       "</div>"
      ],
      "text/plain": [
       "     Pregnancies  Glucose  BloodPressure  SkinThickness  Insulin   BMI  \\\n",
       "0              6      148             72             35        0  33.6   \n",
       "1              1       85             66             29        0  26.6   \n",
       "2              8      183             64              0        0  23.3   \n",
       "3              1       89             66             23       94  28.1   \n",
       "4              0      137             40             35      168  43.1   \n",
       "..           ...      ...            ...            ...      ...   ...   \n",
       "763           10      101             76             48      180  32.9   \n",
       "764            2      122             70             27        0  36.8   \n",
       "765            5      121             72             23      112  26.2   \n",
       "766            1      126             60              0        0  30.1   \n",
       "767            1       93             70             31        0  30.4   \n",
       "\n",
       "     DiabetesPedigreeFunction  Age  Outcome  \n",
       "0                       0.627   50        1  \n",
       "1                       0.351   31        0  \n",
       "2                       0.672   32        1  \n",
       "3                       0.167   21        0  \n",
       "4                       2.288   33        1  \n",
       "..                        ...  ...      ...  \n",
       "763                     0.171   63        0  \n",
       "764                     0.340   27        0  \n",
       "765                     0.245   30        0  \n",
       "766                     0.349   47        1  \n",
       "767                     0.315   23        0  \n",
       "\n",
       "[768 rows x 9 columns]"
      ]
     },
     "execution_count": 9,
     "metadata": {},
     "output_type": "execute_result"
    }
   ],
   "source": [
    "df"
   ]
  },
  {
   "cell_type": "markdown",
   "id": "b7b524ae",
   "metadata": {},
   "source": [
    "So our dataframe consists of 767 people, for whom we have measured certain features. Let's take \"Age\" as the feature for which we will verify the Central Limit Theorem. Let's check the mean age, as well as the data distribution:"
   ]
  },
  {
   "cell_type": "code",
   "execution_count": 18,
   "id": "dcaa067c",
   "metadata": {},
   "outputs": [
    {
     "data": {
      "text/plain": [
       "33.240885416666664"
      ]
     },
     "execution_count": 18,
     "metadata": {},
     "output_type": "execute_result"
    }
   ],
   "source": [
    "df[\"Age\"].mean()"
   ]
  },
  {
   "cell_type": "code",
   "execution_count": 19,
   "id": "ae023e27",
   "metadata": {
    "scrolled": true
   },
   "outputs": [
    {
     "data": {
      "text/plain": [
       "<AxesSubplot: >"
      ]
     },
     "execution_count": 19,
     "metadata": {},
     "output_type": "execute_result"
    },
    {
     "data": {
      "image/png": "[encoded data removed]",
      "text/plain": [
       "<Figure size 640x480 with 1 Axes>"
      ]
     },
     "metadata": {},
     "output_type": "display_data"
    }
   ],
   "source": [
    "df[\"Age\"].hist()"
   ]
  },
  {
   "cell_type": "markdown",
   "id": "5ac2d7d5",
   "metadata": {},
   "source": [
    "The data distribution is clearly not a normal distribution. Instead, we see a clear patter that as the age increases, the frequency decreases. The Central Limit Theorem tells us that if we take many samples from our population, the distribution of the mean age of those samples will be normal, regradless of the distribution of the population. Let's verify this!\n",
    "\n",
    "Let's first take a sample from our dataframe. We can do this using the `DataFrame.sample()` method:"
   ]
  },
  {
   "cell_type": "code",
   "execution_count": 22,
   "id": "111c68bf",
   "metadata": {},
   "outputs": [
    {
     "data": {
      "text/html": [
       "<div>\n",
       "<style scoped>\n",
       "    .dataframe tbody tr th:only-of-type {\n",
       "        vertical-align: middle;\n",
       "    }\n",
       "\n",
       "    .dataframe tbody tr th {\n",
       "        vertical-align: top;\n",
       "    }\n",
       "\n",
       "    .dataframe thead th {\n",
       "        text-align: right;\n",
       "    }\n",
       "</style>\n",
       "<table border=\"1\" class=\"dataframe\">\n",
       "  <thead>\n",
       "    <tr style=\"text-align: right;\">\n",
       "      <th></th>\n",
       "      <th>Pregnancies</th>\n",
       "      <th>Glucose</th>\n",
       "      <th>BloodPressure</th>\n",
       "      <th>SkinThickness</th>\n",
       "      <th>Insulin</th>\n",
       "      <th>BMI</th>\n",
       "      <th>DiabetesPedigreeFunction</th>\n",
       "      <th>Age</th>\n",
       "      <th>Outcome</th>\n",
       "    </tr>\n",
       "  </thead>\n",
       "  <tbody>\n",
       "    <tr>\n",
       "      <th>372</th>\n",
       "      <td>0</td>\n",
       "      <td>84</td>\n",
       "      <td>64</td>\n",
       "      <td>22</td>\n",
       "      <td>66</td>\n",
       "      <td>35.8</td>\n",
       "      <td>0.545</td>\n",
       "      <td>21</td>\n",
       "      <td>0</td>\n",
       "    </tr>\n",
       "    <tr>\n",
       "      <th>688</th>\n",
       "      <td>1</td>\n",
       "      <td>140</td>\n",
       "      <td>74</td>\n",
       "      <td>26</td>\n",
       "      <td>180</td>\n",
       "      <td>24.1</td>\n",
       "      <td>0.828</td>\n",
       "      <td>23</td>\n",
       "      <td>0</td>\n",
       "    </tr>\n",
       "    <tr>\n",
       "      <th>715</th>\n",
       "      <td>7</td>\n",
       "      <td>187</td>\n",
       "      <td>50</td>\n",
       "      <td>33</td>\n",
       "      <td>392</td>\n",
       "      <td>33.9</td>\n",
       "      <td>0.826</td>\n",
       "      <td>34</td>\n",
       "      <td>1</td>\n",
       "    </tr>\n",
       "    <tr>\n",
       "      <th>521</th>\n",
       "      <td>3</td>\n",
       "      <td>124</td>\n",
       "      <td>80</td>\n",
       "      <td>33</td>\n",
       "      <td>130</td>\n",
       "      <td>33.2</td>\n",
       "      <td>0.305</td>\n",
       "      <td>26</td>\n",
       "      <td>0</td>\n",
       "    </tr>\n",
       "    <tr>\n",
       "      <th>207</th>\n",
       "      <td>5</td>\n",
       "      <td>162</td>\n",
       "      <td>104</td>\n",
       "      <td>0</td>\n",
       "      <td>0</td>\n",
       "      <td>37.7</td>\n",
       "      <td>0.151</td>\n",
       "      <td>52</td>\n",
       "      <td>1</td>\n",
       "    </tr>\n",
       "  </tbody>\n",
       "</table>\n",
       "</div>"
      ],
      "text/plain": [
       "     Pregnancies  Glucose  BloodPressure  SkinThickness  Insulin   BMI  \\\n",
       "372            0       84             64             22       66  35.8   \n",
       "688            1      140             74             26      180  24.1   \n",
       "715            7      187             50             33      392  33.9   \n",
       "521            3      124             80             33      130  33.2   \n",
       "207            5      162            104              0        0  37.7   \n",
       "\n",
       "     DiabetesPedigreeFunction  Age  Outcome  \n",
       "372                     0.545   21        0  \n",
       "688                     0.828   23        0  \n",
       "715                     0.826   34        1  \n",
       "521                     0.305   26        0  \n",
       "207                     0.151   52        1  "
      ]
     },
     "execution_count": 22,
     "metadata": {},
     "output_type": "execute_result"
    }
   ],
   "source": [
    "df.sample(5)"
   ]
  },
  {
   "cell_type": "markdown",
   "id": "cfcb0033",
   "metadata": {},
   "source": [
    "As we can see above, the `df.sample(5)` method returned a dataframe with 5 rows that were randomly sampled from the dataframe stored in `df`. Let's now take a bigger sample and calculate the mean age of that sample:"
   ]
  },
  {
   "cell_type": "code",
   "execution_count": 35,
   "id": "9c212c89",
   "metadata": {},
   "outputs": [
    {
     "data": {
      "text/plain": [
       "32.42"
      ]
     },
     "execution_count": 35,
     "metadata": {},
     "output_type": "execute_result"
    }
   ],
   "source": [
    "df.sample(50)[\"Age\"].mean()"
   ]
  },
  {
   "cell_type": "markdown",
   "id": "5ee7c7c5",
   "metadata": {},
   "source": [
    "Now let's repeat this process a 1000 times and then plot a histogram showing the distribution of the mean age of our samples:"
   ]
  },
  {
   "cell_type": "code",
   "execution_count": 11,
   "id": "a58dd268",
   "metadata": {},
   "outputs": [
    {
     "data": {
      "text/plain": [
       "<AxesSubplot: xlabel='Sample mean', ylabel='Frequency'>"
      ]
     },
     "execution_count": 11,
     "metadata": {},
     "output_type": "execute_result"
    },
    {
     "data": {
      "image/png": "[encoded data removed]",
      "text/plain": [
       "<Figure size 640x480 with 1 Axes>"
      ]
     },
     "metadata": {},
     "output_type": "display_data"
    }
   ],
   "source": [
    "sample_size = 50\n",
    "num_samples = 1000\n",
    "\n",
    "sample_means = []\n",
    "for i in range(num_samples):\n",
    "    sample_means.append(df.sample(sample_size)[\"Age\"].mean())\n",
    "\n",
    "sample_means = pd.Series(sample_means, name=\"mean\")\n",
    "\n",
    "plot = sample_means.hist()\n",
    "plot.set_xlabel(\"Sample mean\")\n",
    "plot.set_ylabel(\"Frequency\")\n",
    "plot"
   ]
  },
  {
   "cell_type": "markdown",
   "id": "667e65af",
   "metadata": {},
   "source": [
    "Indeed we see that the distribution of sample means is normal. We can also see that the mean of the sample means is close to the population mean:"
   ]
  },
  {
   "cell_type": "code",
   "execution_count": 34,
   "id": "e46d00a3",
   "metadata": {
    "scrolled": true
   },
   "outputs": [
    {
     "name": "stdout",
     "output_type": "stream",
     "text": [
      "mean of sample means: 33.17756\n",
      "population mean: 33.240885416666664\n"
     ]
    }
   ],
   "source": [
    "print(\"mean of sample means:\", pd.Series(sample_means).mean())\n",
    "print(\"population mean:\", df[\"Age\"].mean())"
   ]
  },
  {
   "cell_type": "markdown",
   "id": "fc08bac8",
   "metadata": {},
   "source": [
    "# 5. Standard Error <a id='5'></a>"
   ]
  },
  {
   "cell_type": "markdown",
   "id": "48010127",
   "metadata": {},
   "source": [
    "If we take a look at our sample means, we can see that the sample means vary due to random sampling, which means they have some non-zero standard deviation:"
   ]
  },
  {
   "cell_type": "code",
   "execution_count": 20,
   "id": "0a90f7cd",
   "metadata": {
    "scrolled": true
   },
   "outputs": [
    {
     "data": {
      "text/plain": [
       "0      35.44\n",
       "1      32.86\n",
       "2      33.40\n",
       "3      32.24\n",
       "4      31.36\n",
       "       ...  \n",
       "995    31.72\n",
       "996    33.66\n",
       "997    33.92\n",
       "998    32.32\n",
       "999    31.50\n",
       "Name: mean, Length: 1000, dtype: float64"
      ]
     },
     "execution_count": 20,
     "metadata": {},
     "output_type": "execute_result"
    }
   ],
   "source": [
    "sample_means"
   ]
  },
  {
   "cell_type": "markdown",
   "id": "d973dd5f",
   "metadata": {},
   "source": [
    "Let's see what the standard deviation is:"
   ]
  },
  {
   "cell_type": "code",
   "execution_count": 22,
   "id": "a9ac89a1",
   "metadata": {},
   "outputs": [
    {
     "data": {
      "text/plain": [
       "1.5201451644237536"
      ]
     },
     "execution_count": 22,
     "metadata": {},
     "output_type": "execute_result"
    }
   ],
   "source": [
    "sample_means.std()"
   ]
  },
  {
   "cell_type": "markdown",
   "id": "7f1cadd3",
   "metadata": {},
   "source": [
    "The standard deviation of sample means is called the **standard error** of the mean. In general, the standard error is the standard deviation of a sampling distribution - in this case, it is the sampling distribution of the mean age.\n",
    "\n",
    "The higher the standard error of the mean, the less likely it is that our sample mean is close to the true population mean. This is because a high standard error of the mean is a consequence of the high standard deviation of a population parameter, whose mean we are trying to estimate. However, if we have a good approximation of the standard error of the mean, we can know by how much - on average - each sample mean differs from the true population mean.\n",
    "\n",
    "\n",
    "In the case of `sample_means`, the standard error is approximately `1.52`. This means that, on average, the mean age in a sample is off by roughly 1.52 from the true population mean age. However, this is only an approximation of the standard error, derived from the standard deviation of the means of 1000 samples. We can calculate the standard error of the mean precisely, if we know the standard deviation of the population (which in this case we do). To do so, we can use the following formula:\n",
    "\n",
    "$ SE = \\large \\frac{\\sigma}{\\sqrt{n}} $\n",
    "\n",
    "where\n",
    "\n",
    "1. $ \\sigma $ is the standard deviation of the population\n",
    "2. $ n $ is the sample size\n",
    "\n",
    "Let's calculate the true standard deviation of our population:"
   ]
  },
  {
   "cell_type": "code",
   "execution_count": 8,
   "id": "b16d9a9b",
   "metadata": {
    "scrolled": true
   },
   "outputs": [
    {
     "data": {
      "text/plain": [
       "1.6631478941475635"
      ]
     },
     "execution_count": 8,
     "metadata": {},
     "output_type": "execute_result"
    }
   ],
   "source": [
    "population_std = df[\"Age\"].std()\n",
    "standard_error = population_std / (sample_size ** 0.5)\n",
    "standard_error"
   ]
  },
  {
   "cell_type": "markdown",
   "id": "eddda976",
   "metadata": {},
   "source": [
    "As we can see our approximation of the standard error is close to the true standard error. If we have a good approximation of the standard error of the sample mean, we can then include this knowledge in our estimates - one way to do this is through confidence intervals (we will go over confidence intervals in the next section).\n",
    "\n",
    "However, in practice, gathering many samples or calculating the standard deviation of a population is often impractical due to various reasons, such as being too expensive time-wise or money-wise.  Fortunately, there is a way to approximate the standard error of the sample mean with only a single sample. To do this, we simply use the standard deviation of the sample instead of the standard deviation of the population:"
   ]
  },
  {
   "cell_type": "code",
   "execution_count": 9,
   "id": "5fbc16ce",
   "metadata": {
    "scrolled": true
   },
   "outputs": [
    {
     "data": {
      "text/plain": [
       "1.565247584249853"
      ]
     },
     "execution_count": 9,
     "metadata": {},
     "output_type": "execute_result"
    }
   ],
   "source": [
    "sample_std = df.sample(sample_size)[\"Age\"].std()\n",
    "standard_error = sample_std / (sample_size ** 0.5)\n",
    "standard_error"
   ]
  },
  {
   "cell_type": "markdown",
   "id": "08df88a4",
   "metadata": {},
   "source": [
    "As we can see, this is a good approximation of the true standard error."
   ]
  },
  {
   "cell_type": "markdown",
   "id": "a3dc4dda",
   "metadata": {},
   "source": [
    "# 6. Confidence intervals <a id='6'></a>"
   ]
  },
  {
   "cell_type": "markdown",
   "id": "192fcd02",
   "metadata": {},
   "source": [
    "## 6.1 Definition <a id='6-1'></a>"
   ]
  },
  {
   "cell_type": "markdown",
   "id": "e70b5f12",
   "metadata": {},
   "source": [
    "A confidence interval is a range of values that is likely to contain the true value of a population parameter, such as the mean, with a certain level of confidence. For example, a 95% confidence interval for the mean of a population means that if we were to repeat the sampling process many times and create a confidence interval each time, approximately 95% of those intervals would contain the true population mean.\n",
    "\n",
    "Below is the formula for calculating a confidence interval:\n",
    "\n",
    "$ \\large CI = \\bar{x} \\pm z \\cdot SE $\n",
    "\n",
    "where \n",
    "\n",
    "1. $ \\large \\bar{x}$ is the sample mean.\n",
    "2. $ \\large z$  is a value derived based on the normal distribution and the chosen confidence level (we will cover what that means in a bit)\n",
    "3. $ SE $ is the standard error\n",
    "\n",
    "You are already familiar with how to calculate the sample mean and the standarard error, however, we have not yet discussed how to calculate the $ \\large z$ value based on the confidence level. In order to do so, we will first discuss the \"empirical rule\"."
   ]
  },
  {
   "cell_type": "markdown",
   "id": "79cbc88c",
   "metadata": {},
   "source": [
    "## 6.2. The empirical rule <a id='1'></a>"
   ]
  },
  {
   "cell_type": "markdown",
   "id": "b033223b",
   "metadata": {},
   "source": [
    "The empirical rule, also known as the 68-95-99.7 rule, is a guideline for interpreting data that has been distributed normally. It states that for a normal distribution, approximately 68% of the data will fall within one standard deviation of the mean, approximately 95% of the data will fall within two standard deviations of the mean, and approximately 99.7% of the data will fall within three standard deviations of the mean.\n",
    "\n",
    "Let's verify the empirical rule with empirical data. As you may recall, we have previously created a variable called `sample_means`, which holds 1000 values, each corresponding to the mean age, calculated from a 1000 samples. The Central Limit Theorem states that the distribution of sample means is normal. Let's verify this once again quickly:"
   ]
  },
  {
   "cell_type": "code",
   "execution_count": 4,
   "id": "ade16faa",
   "metadata": {},
   "outputs": [
    {
     "data": {
      "text/plain": [
       "<AxesSubplot: >"
      ]
     },
     "execution_count": 4,
     "metadata": {},
     "output_type": "execute_result"
    },
    {
     "data": {
      "image/png": "[encoded data removed]",
      "text/plain": [
       "<Figure size 640x480 with 1 Axes>"
      ]
     },
     "metadata": {},
     "output_type": "display_data"
    }
   ],
   "source": [
    "sample_means.hist()"
   ]
  },
  {
   "cell_type": "markdown",
   "id": "1a0a93ed",
   "metadata": {},
   "source": [
    "Now let's create a function that will calculate the percentage of values that lies within a range, defined by the mean value $\\pm$ some number of standard deviations (range = $  \\bar{x} \\pm n \\sigma$, where $n$ is the number of standard deviations). For example, a range of two standard deviations from the mean can be calculated in the following way: "
   ]
  },
  {
   "cell_type": "code",
   "execution_count": 12,
   "id": "3979b12d",
   "metadata": {},
   "outputs": [
    {
     "name": "stdout",
     "output_type": "stream",
     "text": [
      "range from 30.127479222935 to 36.571480777064984\n"
     ]
    }
   ],
   "source": [
    "n = 2\n",
    "lower_bound = sample_means.mean() - sample_means.std() * n\n",
    "upper_bound = sample_means.mean() + sample_means.std() * n\n",
    "print(f\"range from {lower_bound} to {upper_bound}\")"
   ]
  },
  {
   "cell_type": "markdown",
   "id": "9277b8c7",
   "metadata": {},
   "source": [
    "Now let's define a function that will calculate the percentage of values within a given range:"
   ]
  },
  {
   "cell_type": "code",
   "execution_count": 13,
   "id": "429fb1e5",
   "metadata": {
    "scrolled": true
   },
   "outputs": [],
   "source": [
    "def percentage_of_values_in_range(s, n):\n",
    "    mask_1 = s >= s.mean() - s.std() * n\n",
    "    mask_2 = s <= s.mean() + s.std() * n\n",
    "    full_mask = mask_1 & mask_2\n",
    "    return len(s[full_mask]) / len(s)"
   ]
  },
  {
   "cell_type": "markdown",
   "id": "07b65b55",
   "metadata": {},
   "source": [
    "Now, let's call the function to see what percentage of values in our `sample_means` series lie within 1, 2, and 3 standard deviations from the mean:"
   ]
  },
  {
   "cell_type": "code",
   "execution_count": 14,
   "id": "d38de0b3",
   "metadata": {
    "scrolled": true
   },
   "outputs": [
    {
     "name": "stdout",
     "output_type": "stream",
     "text": [
      "0.669\n",
      "0.956\n",
      "0.998\n"
     ]
    }
   ],
   "source": [
    "print(percentage_of_values_in_range(sample_means, 1))\n",
    "print(percentage_of_values_in_range(sample_means, 2))\n",
    "print(percentage_of_values_in_range(sample_means, 3))"
   ]
  },
  {
   "cell_type": "markdown",
   "id": "166c36ce",
   "metadata": {},
   "source": [
    "As we can see, the values are approximately 69-95-99.7, in accordance with the empirical rule. Let's repeat this for some other data. For example, let's choose the \"BloodPressure\" column, which is also normally distributed:"
   ]
  },
  {
   "cell_type": "code",
   "execution_count": 15,
   "id": "e1e336cb",
   "metadata": {
    "scrolled": true
   },
   "outputs": [
    {
     "data": {
      "text/plain": [
       "<AxesSubplot: >"
      ]
     },
     "execution_count": 15,
     "metadata": {},
     "output_type": "execute_result"
    },
    {
     "data": {
      "image/png": "[encoded data removed]",
      "text/plain": [
       "<Figure size 640x480 with 1 Axes>"
      ]
     },
     "metadata": {},
     "output_type": "display_data"
    }
   ],
   "source": [
    "df[\"BloodPressure\"].hist()"
   ]
  },
  {
   "cell_type": "markdown",
   "id": "62a9b07d",
   "metadata": {},
   "source": [
    "We can see that the distribution of data in the \"BloodPressure\" column is approximately normal. However, we also see a bump on the very left of the histogram. This is because some of the values in that column are `0`:"
   ]
  },
  {
   "cell_type": "code",
   "execution_count": 16,
   "id": "35da58ef",
   "metadata": {
    "scrolled": true
   },
   "outputs": [
    {
     "data": {
      "text/plain": [
       "35"
      ]
     },
     "execution_count": 16,
     "metadata": {},
     "output_type": "execute_result"
    }
   ],
   "source": [
    "df[\"BloodPressure\"].value_counts()[0]"
   ]
  },
  {
   "cell_type": "markdown",
   "id": "f847321d",
   "metadata": {},
   "source": [
    "This is certainly a mistake, as the blood pressure cannot be `0`. In this case, we should convert the `0` values to missing values:"
   ]
  },
  {
   "cell_type": "code",
   "execution_count": 17,
   "id": "334941ba",
   "metadata": {},
   "outputs": [
    {
     "data": {
      "text/plain": [
       "<AxesSubplot: >"
      ]
     },
     "execution_count": 17,
     "metadata": {},
     "output_type": "execute_result"
    },
    {
     "data": {
      "image/png": "[encoded data removed]",
      "text/plain": [
       "<Figure size 640x480 with 1 Axes>"
      ]
     },
     "metadata": {},
     "output_type": "display_data"
    }
   ],
   "source": [
    "df[\"BloodPressure\"] = df[\"BloodPressure\"].replace(0, None)\n",
    "df[\"BloodPressure\"].hist()"
   ]
  },
  {
   "cell_type": "code",
   "execution_count": 18,
   "id": "5e8fa49c",
   "metadata": {
    "scrolled": false
   },
   "outputs": [
    {
     "name": "stdout",
     "output_type": "stream",
     "text": [
      "0.6484375\n",
      "0.9153645833333334\n",
      "0.9440104166666666\n"
     ]
    }
   ],
   "source": [
    "for i in range(1, 4):\n",
    "    print(percentage_of_values_in_range(df[\"BloodPressure\"], i))"
   ]
  },
  {
   "cell_type": "markdown",
   "id": "99de6e14",
   "metadata": {},
   "source": [
    "The data in the \"BloodPressure\" column also follows the empirical rule approximately, although not as closely as the sample means.z"
   ]
  },
  {
   "cell_type": "markdown",
   "id": "81860e18",
   "metadata": {},
   "source": [
    "## 6.3. The z-table <a id='6-3'></a>"
   ]
  },
  {
   "cell_type": "markdown",
   "id": "f4c89d84",
   "metadata": {},
   "source": [
    "If we want to calculate a 95% confidence interval for our sample mean, we want to find a range of values, which has a 95% chance of containing the true population mean. In other words, if we took many samples and calculated 95% confidence intervals each time, about 95% of those confidence intervals would contain the true population mean.\n",
    "\n",
    "The standard error is the standard deviation of sample means (or an approximation), and the empirical rule tells us that approximately 95% of values fall within 2 standard deviations from the mean. This means that approximately 95% of our sample means will fall within two standard deviations of the true population mean (given large enough samples gathered via random sampling).\n",
    "\n",
    "Therefore, if we calculated the standard error and the sample mean (which is an approximation of the true population mean), we can calculate confidence intervals with the following formula:\n",
    "\n",
    "$ \\large CI = \\bar{x} \\pm z \\cdot SE $\n",
    "\n",
    "where $\\bar{x}$ is the sample mean, $SE$ is the standard error, and $\\large z$ is the number of standard deviations that correspond to the confidence level. We know that for a 95% confidence level, this is approximately 2 standard deviations. But what about a 94% or 90% confidence level? In this case, we can check the z-table, which contains the number of standard deviations for any confidence level - not just 68%, 95% and 97.5%. You can learn more about the z-table [here](https://www.ztable.net/)."
   ]
  },
  {
   "cell_type": "markdown",
   "id": "50859f06",
   "metadata": {},
   "source": [
    "## 6.4. Confidence intervals in practice <a id='6-4'></a>"
   ]
  },
  {
   "cell_type": "markdown",
   "id": "4fc7b458",
   "metadata": {},
   "source": [
    "Let's gather a sample of size `50` and calculate the mean age, along with a 95% confidence interval. The first step is get a sample from our \"population\":"
   ]
  },
  {
   "cell_type": "code",
   "execution_count": 19,
   "id": "ccc17b05",
   "metadata": {},
   "outputs": [],
   "source": [
    "sample_size = 50\n",
    "s = df[\"Age\"].sample(sample_size)"
   ]
  },
  {
   "cell_type": "markdown",
   "id": "eef83fb0",
   "metadata": {},
   "source": [
    "Next we can calculate the standard error, based on our sample (which will be an approximation of the standard deviation of sample means):"
   ]
  },
  {
   "cell_type": "code",
   "execution_count": 20,
   "id": "abda98aa",
   "metadata": {},
   "outputs": [],
   "source": [
    "standard_error = s.std() / (sample_size**0.5)"
   ]
  },
  {
   "cell_type": "markdown",
   "id": "76a6ae71",
   "metadata": {},
   "source": [
    "Now that we have the standard error, we can calculate the confidence interval. If we check the [z-table](https://www.ztable.net/), we can see that for a 95% confidence interval, we actually want a range of 1.96 standard deviations from the mean."
   ]
  },
  {
   "cell_type": "code",
   "execution_count": 23,
   "id": "312789a6",
   "metadata": {
    "scrolled": false
   },
   "outputs": [
    {
     "name": "stdout",
     "output_type": "stream",
     "text": [
      "95% confidence interval for the mean age: 30.05 - 36.65\n"
     ]
    }
   ],
   "source": [
    "lower_bound = sample_means.mean() - 1.96 * standard_error\n",
    "upper_bound = sample_means.mean() + 1.96 * standard_error\n",
    "\n",
    "print(f\"95% confidence interval for the mean age: {lower_bound.round(2)} - {upper_bound.round(2)}\")"
   ]
  },
  {
   "cell_type": "markdown",
   "id": "5eba3d3b",
   "metadata": {},
   "source": [
    "## 6.5. External learning resources <a id='6-5'></a>"
   ]
  },
  {
   "cell_type": "markdown",
   "id": "b9176640",
   "metadata": {},
   "source": [
    "Feel free to check out [this video](https://www.youtube.com/watch?v=TqOeMYtOc1w&ab_channel=StatQuestwithJoshStarmer), which contains an excellent explanation of confidence intervals."
   ]
  },
  {
   "cell_type": "markdown",
   "id": "e5974dfe",
   "metadata": {},
   "source": [
    "# 7. Hypothesis testing <a id='7'></a>"
   ]
  },
  {
   "cell_type": "markdown",
   "id": "5c097259",
   "metadata": {},
   "source": [
    "## 7.1. What is a hypothesis? <a id='7-1'></a>"
   ]
  },
  {
   "cell_type": "markdown",
   "id": "28d0b360",
   "metadata": {},
   "source": [
    "A hypothesis is like a guess or a prediction about something. It's an explanation or an idea that can be tested through observation and experimentation. For example, a hypothesis might be \"I think that taking vitamin C will help prevent colds,\" or \"I think that the average height of adult men is 1 meter and 72 centimeters\". \n",
    "\n",
    "In order to test a hypothesis using statistics, we have to be able to express the hypothesis in mathematical terms. For example, the hypothesis that \"the average height of adult men is 1 meter and 72 centimeters\" is a statement about the mean height of the population of adult men. It is already expressed mathematically, and we could write it down more formally as: $\\mu = 1.72 $.\n",
    "\n",
    "In the case of the hypothesis about vitamin C preventing colds, we could set up an experiment, in which we randomly sample a population of people and split them into two groups - one group receives vitamin C and another other group (the control group) receives a placebo. We could then express our hypothesis more mathematically by stating that the mean number of colds is lower in the **population** of people that take vitamin C. We would then test this hypothesis based on our **sample**. This hypothesis could be expressed symbolically as: $\\mu_1 \\lt \\mu_2$, where $\\mu_1$ is the mean number of colds in the **population** of people who take vitamin C, and $\\mu_2$ is the mean number of colds in the **population** of people who don't take vitamin C.\n",
    "\n",
    "However, simply observing a lower mean number of colds in our **sample** of people who received vitamin C is not enough to prove our hypothesis. This is due to the inherent variability in random sampling. In other words, there are likely differences in various characteristics (such as the mean number of colds) between our two groups, which may be the due to the nature of random sampling and not vitamin C. Therefore, we have to test whether the difference between the means of the two groups is statistically significant (this is where statistical tests come into play). Only then can we determine whether the data supports our hypothesis."
   ]
  },
  {
   "cell_type": "markdown",
   "id": "894f3365",
   "metadata": {},
   "source": [
    "## 7.2. The null hypothesis vs the alternative hypothesis <a id='7-2'></a>"
   ]
  },
  {
   "cell_type": "markdown",
   "id": "4beb9cb3",
   "metadata": {},
   "source": [
    "Whenever we are testing a hypothesis with statistical tests, we are actually considering two contradictory hypotheses called: \n",
    "\n",
    "1. the **null hypothesis** (typically denoted by $H_0$). The null hypothesis typically states that there is no relationship between two variables or that there is no difference between two groups.\n",
    "2. the **alternative hypothesis** (typically denoted by $H_a$). The alternative hypothesis is contradictory to the null hypothesis and typically states that there is a relationship between two variables or that there is a difference between two groups.\n",
    "\n",
    "For example, a nutritionist may want to test the hypothesis that a certain diet plan causes weight loss. In this case, the null hypothesis would be that the diet plan does not cause weight loss, while the alternative hypothesis would be that the diet plan does cause weight loss.\n",
    "\n",
    "Of course these hypotheses should be expressed mathematically. We can imagine the nutritionist collecting a representative sample of people and assigning them to two groups - one on the diet plan, and one not on the diet plan (the control group). In this case, the null hypothesis is that the mean weight of people on the diet plan is equal to or greater than the mean weight of people not on the diet plan. The alternative hypothesis is that the mean weight of people on the diet plan is smaller than the mean weight of people not on the diet plan. These hypothesis can be expressed symbolically in the following way:\n",
    "\n",
    "$H_0: \\mu_1 \\geq \\mu_2$\n",
    "\n",
    "$H_a: \\mu_1 < \\mu_2 $\n",
    "\n",
    "where $\\mu_1$ is the mean weight of the population of people on the diet plan, and $\\mu_2$ is the mean weight of the population of people not on the diet plan.\n",
    "\n",
    "If the null hypothesis is true, it implies the following: if the mean weight of the diet plan group happens to be smaller than the mean weight of the control group, this difference arose simply due to chance, as a result of the inherent variability of the population parameter (weight in this case), combined with the process of random sampling.\n",
    "\n",
    "Once we have ran the experiment and calculated the mean weights of the two groups, we can ask the following question: how likely were we to obtain such results, if the null hypothesis is true? This is the question that statistical tests answer, and the answer they give is called the **p-value**. The **p-value** is the probability of observing our data, if the null hypothesis is true (more will be said about p-values later). If we find that the probability of observing our data is very small, we reject the null hypothesis, because this would mean that the smaller mean weight in the diet plan group is unlikely to have been caused by random sampling.\n",
    "\n",
    "Based on the framework above, there are two types of errors we can make:\n",
    "\n",
    "1. A **type I error** occurs when we the null hypothesis is true, but we reject it.\n",
    "2. A **type II error** occurs when the null hypothesis is false, but we do not reject it."
   ]
  },
  {
   "cell_type": "markdown",
   "id": "0dd78358",
   "metadata": {},
   "source": [
    "## 7.3. Type I error <a id='7-3'></a>"
   ]
  },
  {
   "cell_type": "markdown",
   "id": "e516bff5",
   "metadata": {},
   "source": [
    "A type I (type one) error is when a false positive occurs. More specifically, it means we reject the null hypothesis, when it is actually true. The probability of making a type 1 error is represented by the Greek letter alpha (α) and is also known as the level of significance. A common threshold for the level of significance is 0.05, which means that there is a 5% chance of making a type 1 error.\n",
    "\n",
    "An example of a type 1 error could be when a researcher conducts a study to determine if there is a significant difference in exam scores between students who study with flashcards and students who study without them. The researcher sets the significance level at 0.05 and finds that there is a significant difference in exam scores between the two groups. However, in reality, there is no difference in exam scores and the significant difference found in the study is due to chance. This would be a type 1 error because the researcher incorrectly rejected the null hypothesis that there is no difference in exam scores between the two groups of students."
   ]
  },
  {
   "cell_type": "markdown",
   "id": "571bed55",
   "metadata": {},
   "source": [
    "## 7.4. Type II error <a id='7-4'></a>"
   ]
  },
  {
   "cell_type": "markdown",
   "id": "40b27a5d",
   "metadata": {},
   "source": [
    "A type 2 error in statistics, also known as a false negative, occurs when a false null hypothesis is not rejected. This type of error results in failing to detect an effect that is actually present.\n",
    "\n",
    "Suppose a medical researcher is testing a new drug to determine if it can cure a certain disease. The null hypothesis is that the new drug has no effect on the disease (i.e., it is not a cure), and the alternative hypothesis is that the drug is effective in curing the disease. In this case, a type 2 error would occur if the researcher performs the test and fails to reject the null hypothesis (concludes that the drug is not a cure), when in fact it is. This means that the researcher has missed the opportunity to identify a cure for the disease, simply because the sample size was too small or the test was not powerful enough to detect the true effect of the drug."
   ]
  },
  {
   "cell_type": "markdown",
   "id": "0680dab0",
   "metadata": {},
   "source": [
    "## 7.5. The p-value <a id='7-5'></a>"
   ]
  },
  {
   "cell_type": "markdown",
   "id": "b2ea6049",
   "metadata": {},
   "source": [
    "The p-value is a numerical measure used to determine the strength of evidence against the null hypothesis. It represents the probability of observing our data (the sample(s) we collected), if the null hypothesis is true. We can obtain a p-value via statistical tests, such as the z-test or t-test, which we will cover in the next subsections.\n",
    "\n",
    "If the p-value is something small, like 0.03, it means that there's a 3% chance of observing our data, if the null hypothesis is true. This means that the data provides strong evidence against the null hypothesis. Usually before performing statistical tests, researches will choose a significance level (denoted by $\\alpha$). If the p-value is smaller than the chosen significance level ($P < \\alpha$), we reject the null hypothesis in favor of the alternative hypothesis. On the other hand, if the p-value is greater than the significance level ($P > \\alpha$), it means that the data is consistent with the null hypothesis, and there is not enough evidence to reject it.\n",
    "\n",
    "A common significance level is 0.05 ($\\alpha = 0.05$). If we assume such a level of significance, and we obtain a p-value of 0.03, we would reject the null hypothesis in favor of the alternative hypothesis. Conversely, if our p-value was 0.09, we would not reject the null hypothesis. Feel free to check out [this video](https://www.youtube.com/watch?v=vemZtEM63GY&ab_channel=StatQuestwithJoshStarmer) for a more in-depth explanation of p-values."
   ]
  },
  {
   "cell_type": "markdown",
   "id": "a3ebf2b7",
   "metadata": {},
   "source": [
    "## 7.6 Statistical tests <a id='7-6'></a>"
   ]
  },
  {
   "cell_type": "markdown",
   "id": "5c0a77ec",
   "metadata": {},
   "source": [
    "We recommended that you watch [this video](https://www.youtube.com/watch?v=QZ7kgmhdIwA&list=PLH2l6uzC4UEW3iJO4T0qUeUEp_X-f1U7S&index=27&ab_channel=CrashCourse) on test statistics, before proceeding with the rest of this notebook. This is because the material in the subsequent subsections relies on the knowledge presented in this video. "
   ]
  },
  {
   "cell_type": "markdown",
   "id": "4a1896ed",
   "metadata": {},
   "source": [
    "## 7.7. One sample z-test <a id='7-7'></a>"
   ]
  },
  {
   "cell_type": "markdown",
   "id": "fe45a69e",
   "metadata": {},
   "source": [
    "Although a **z-test** is not performed very often, as it requires knowing the standard deviation of a population (which rarely happens in the real world), learning about the **z-test** will help you build an intuitive understanding of what statistical testing is all about. Additionally, once you understand the **z-test**, you will be able to understand the **t-test** (since it is similar), which is used more often in the real world.\n",
    "\n",
    "The z-test can be performed with one sample or two samples. In a one sample z-test, we are trying to test a hypothesis about the parameter of a population, based on the sample we obtained. For example, we may have a hypothesis that, on average, professional swimmers train for more than 2.5 hours per day. In this case, our null hypothesis will be that the mean training time of the population of professional swimmers is less than or equal to 2.5 hours per day ($H_0: \\mu \\leq 2.5$), and our alternative hypothesis is that the mean is greater than 2.5 hours per day ($H_a: \\mu \\gt 2.5$).\n",
    "\n",
    "We can then collect self-reported training times from a random sample of professional swimmers. Once we have our data, we can use a z-test to determine whether the data in our **sample** supports our hypothesis about the **population**. More specifically, the z-test will yield a value called the z-statistic or z-score, which tells us how far away our sample mean is from the \"most extreme\" null hypothesis mean, in terms of the standard error (which is the standard deviation of sample means). In this case, the \"most extreme\" mean in the null hypothesis is 2.5, as this mean is on the boundary between the null hypothesis and the alternative hypothesis - a mean greater than 2.5 would mean that the null hypothesis is false. Therefore, the z-test tells us how many standard errors away our sample mean is from the hypothesized population mean. The formula for the z-test is as follows:\n",
    "\n",
    "$ Z = \\large \\frac{\\bar{x} - \\mu}{SE}$ \n",
    "\n",
    "where $\\bar{x}$ is the sample mean, $\\mu$ is the population mean, and $SE$ is the standard error calculated with the population standard deviation.\n",
    "\n",
    "\n",
    "You may remember that a z-table allows us to calculate what percentage of data falls within a certain range defined by distance away from the mean in terms of standard deviations. The z-table allows us to do so for data that is distributed normally, and as you may also remember from the Central Limit Theorem, the distribution of sample means is normal. Therefore, once we have the distance (in standard deviations) between our sample mean and the hypothesized population mean, we can calculate how likely such a mean would be based on the z-table - this value is the p-value. If it turns out the the p-value is lower than our predetermined significance level $\\alpha$, then we can reject the null hypothesis; otherwise, we do not reject it.\n",
    "\n",
    "The following combinations of hypotheses are possible when doing a one sample z-test ($\\mu$ is the actual population mean and $\\mu_h$ is the hypothesized mean):\n",
    "\n",
    "| |$H_0$              |$H_a$            |\n",
    "|-|-------------------|-----------------|\n",
    "|1|$\\mu \\leq  \\mu_h$  |$ \\mu \\gt  \\mu_h$| \n",
    "|2|$\\mu = \\mu_h$  |$ \\mu \\neq  \\mu_h$   | \n",
    "|3|$\\mu \\geq  \\mu_h$  |$ \\mu \\lt  \\mu_h$|\n",
    "\n",
    "It is worth remembering that in the case of the first and third pairs of hypotheses, we perform a single-tailed test, which means we have to divide the final p-value by 2."
   ]
  },
  {
   "cell_type": "markdown",
   "id": "e444cf14",
   "metadata": {},
   "source": [
    "Let's test the hypothesis that the mean age of our example population (stored in `df`) is **not** 36. First, let's take peak at the actual mean age of the population:"
   ]
  },
  {
   "cell_type": "code",
   "execution_count": 4,
   "id": "db436065",
   "metadata": {},
   "outputs": [
    {
     "data": {
      "text/plain": [
       "33.240885416666664"
      ]
     },
     "execution_count": 4,
     "metadata": {},
     "output_type": "execute_result"
    }
   ],
   "source": [
    "df[\"Age\"].mean()"
   ]
  },
  {
   "cell_type": "markdown",
   "id": "43b2ef01",
   "metadata": {},
   "source": [
    "So our hypothesis is correct, but let's see if we can prove this via statistical testing. Let's state our null hypothesis and our alternative hypothesis symbolically:\n",
    "\n",
    "$H_0: \\mu = 36$\n",
    "\n",
    "$H_0: \\mu \\neq 36$\n",
    "\n",
    "Let's assume a significance level of 0.05 ($\\alpha = 0.05$). Now let's perform the z-test:"
   ]
  },
  {
   "cell_type": "code",
   "execution_count": 11,
   "id": "3e0acd5f",
   "metadata": {},
   "outputs": [
    {
     "data": {
      "text/plain": [
       "-2.1164684225537007"
      ]
     },
     "execution_count": 11,
     "metadata": {},
     "output_type": "execute_result"
    }
   ],
   "source": [
    "sample_size = 50\n",
    "hypothesized_mean = 36\n",
    "\n",
    "sample_mean = df[\"Age\"].sample(sample_size).mean()\n",
    "standard_error = df[\"Age\"].std() / sample_size**0.5\n",
    "\n",
    "z_score = (sample_mean - hypothesized_mean) / standard_error\n",
    "z_score"
   ]
  },
  {
   "cell_type": "markdown",
   "id": "67ebacd6",
   "metadata": {},
   "source": [
    "We now have our z-score, let's find the corresponding p-value. We can actually do this in Python using the `scipy` package:"
   ]
  },
  {
   "cell_type": "code",
   "execution_count": 29,
   "id": "04a99626",
   "metadata": {
    "scrolled": true
   },
   "outputs": [
    {
     "name": "stdout",
     "output_type": "stream",
     "text": [
      "Requirement already satisfied: scipy in /home/dvrki/anaconda3/envs/online_courses/lib/python3.9/site-packages (1.10.0)\r\n",
      "Requirement already satisfied: numpy<1.27.0,>=1.19.5 in /home/dvrki/anaconda3/envs/online_courses/lib/python3.9/site-packages (from scipy) (1.23.2)\r\n"
     ]
    }
   ],
   "source": [
    "!pip install scipy"
   ]
  },
  {
   "cell_type": "markdown",
   "id": "95b6175d",
   "metadata": {},
   "source": [
    "Let's import `scipy` and use the `scipy.stats.norm.sf` function to find the p-value. Notice that we pass in the absolute value of `z_score` as the argument to the function. We do so by first passing `z_score` into the built-in `abs` function:"
   ]
  },
  {
   "cell_type": "code",
   "execution_count": 12,
   "id": "efba3c0a",
   "metadata": {
    "scrolled": true
   },
   "outputs": [
    {
     "data": {
      "text/plain": [
       "0.017152494053685"
      ]
     },
     "execution_count": 12,
     "metadata": {},
     "output_type": "execute_result"
    }
   ],
   "source": [
    "import scipy\n",
    "\n",
    "p_value = scipy.stats.norm.sf(abs(z_score))\n",
    "p_value"
   ]
  },
  {
   "cell_type": "markdown",
   "id": "2a27f639",
   "metadata": {},
   "source": [
    "Since the code above uses random sampling, the resulting p-value will be different each time. If the p-value is below 0.05, we reject the null hypothesis - otherwise we do not reject the null hypothesis."
   ]
  },
  {
   "cell_type": "markdown",
   "id": "cde4736d",
   "metadata": {},
   "source": [
    "## 7.8. Two sample z-test <a id='7-8'></a>"
   ]
  },
  {
   "cell_type": "markdown",
   "id": "75fc0181",
   "metadata": {},
   "source": [
    "In a two sample z-test, we are trying to test a hypothesis about the relationship between two population means. The formula for a two sample z-test is as follows:\n",
    "\n",
    "$ Z = \\Large \\frac{\\bar{x}_1 - \\bar{x}_2}{\\sqrt{\\frac{\\sigma_1^2}{n_1} + \\frac{\\sigma_2^2}{n_2}}}$\n",
    "\n",
    "where\n",
    "\n",
    "1. $\\bar{x}_1$ and $\\bar{x}_2$ are the sample means\n",
    "2. $\\sigma_1$ and $\\sigma_2$ are the population standard deviations\n",
    "3. $n_1$ and $n_2$ are the sample sizes\n",
    " \n",
    "Let's test the hypothesis that diabetes affects the blood glucose level. Even though we may know that diabetes tends to cause higher blood glucose levels, let's assume we don't know the direction of the effect. Therefore our hypothesis are as follows:\n",
    "\n",
    "$H_0: \\mu_1 = \\mu_2 $\n",
    "\n",
    "$H_a: \\mu \\neq \\mu_2$"
   ]
  },
  {
   "cell_type": "markdown",
   "id": "bc4c8883",
   "metadata": {},
   "source": [
    "Let's first check what the \"population\" means are first (because we can):"
   ]
  },
  {
   "cell_type": "code",
   "execution_count": 13,
   "id": "84930739",
   "metadata": {},
   "outputs": [
    {
     "name": "stdout",
     "output_type": "stream",
     "text": [
      "141.25746268656715\n",
      "109.98\n"
     ]
    }
   ],
   "source": [
    "mask_diabetic = df[\"Outcome\"] == 1\n",
    "mask_non_diabetic = df[\"Outcome\"] == 0\n",
    "\n",
    "print(df[mask_diabetic][\"Glucose\"].mean())\n",
    "print(df[mask_non_diabetic][\"Glucose\"].mean())"
   ]
  },
  {
   "cell_type": "markdown",
   "id": "e44979fc",
   "metadata": {},
   "source": [
    "Now lets create a function, which will perform the two sample z-test:"
   ]
  },
  {
   "cell_type": "code",
   "execution_count": 21,
   "id": "6b6c6b1e",
   "metadata": {},
   "outputs": [],
   "source": [
    "def two_sample_z_test(sample_1, sample_2, std_1, std_2):\n",
    "    \n",
    "    means_diff = sample_1.mean() - sample_2.mean()\n",
    "    \n",
    "    combined_std = (std_1**2 / len(sample_1)) + (std_2**2 / len(sample_2))\n",
    "    combined_std = combined_std**0.5\n",
    "    \n",
    "    z_score = means_diff / combined_std\n",
    "    p_value = scipy.stats.norm.sf(abs(z_score))\n",
    "    \n",
    "    return z_score, p_value"
   ]
  },
  {
   "cell_type": "markdown",
   "id": "b0e1e98a",
   "metadata": {},
   "source": [
    "Now let's perform the z_test on two samples of size 50 each, in order to prove that there is a statistically significant difference between the population means. We'll use a significance level of 0.01 this time:"
   ]
  },
  {
   "cell_type": "code",
   "execution_count": 22,
   "id": "a9edf542",
   "metadata": {
    "scrolled": false
   },
   "outputs": [
    {
     "name": "stdout",
     "output_type": "stream",
     "text": [
      "z-score: 4.488642295413446\n",
      "p-value: 3.583926924144087e-06\n"
     ]
    }
   ],
   "source": [
    "sample_size = 50\n",
    "\n",
    "sample_diabetic = df[mask_diabetic][\"Glucose\"].sample(sample_size)\n",
    "sample_non_diabetic = df[mask_non_diabetic][\"Glucose\"].sample(sample_size)\n",
    "\n",
    "std_diabetic = df[mask_diabetic][\"Glucose\"].std()\n",
    "std_non_diabetic = df[mask_non_diabetic][\"Glucose\"].std()\n",
    "\n",
    "z_score, p_value = two_sample_z_test(sample_diabetic, sample_non_diabetic, std_diabetic, std_non_diabetic)\n",
    "\n",
    "print(\"z-score:\", z_score)\n",
    "print(\"p-value:\", p_value)"
   ]
  },
  {
   "cell_type": "markdown",
   "id": "00f32fc8",
   "metadata": {},
   "source": [
    "As we can see, the p-value is much smaller than 0.01 (note that the p-value might be displayed in scientific notation), therefore we can reject the null hypothesis that the population means are the same. It is also worth mentioning that in this case we performed a double-tailed test, but arguably we could have performed a one-tailed test, because we know that diabetes tends to increase blood glucose levels. If we know the direction of an effect (meaning that an opposite direction does not make sense), we can perform a one-tailed test, which means we divide the p-value in half. However, we have to be very careful when deciding to do a one-tailed test. [Click here](https://stats.oarc.ucla.edu/other/mult-pkg/faq/pvalue-htm/) to read more about one-tailed tests and when its appropriate to use them."
   ]
  },
  {
   "cell_type": "markdown",
   "id": "1be322b8",
   "metadata": {},
   "source": [
    "## 7.9. The t-test <a id='7-9'></a>"
   ]
  },
  {
   "cell_type": "markdown",
   "id": "e0f5e7f4",
   "metadata": {},
   "source": [
    "A t-test is like a z-test, except we use the standard deviation of our sample to calculate the standard error, and we use a different distribution (the t distribution) to obtain our p-value. The t distribution is similar to the normal distribution, but it accounts for the uncertainty related to our sample size. The t distribution changes based on our sample size. As our sample size increases, the t distribution approaches the normal distribution (it becomes more and more like the normal distribution). However, if our sample size is small, the t distribution contains \"fatter\" tails. Once we perform the t-test and obtain our t-statistic, we can use the t-table to find the corresponding p-value (similarly as in the case of a z-table).\n",
    "\n",
    "Let's perform a two sample t-test to determine whether people with diabetes have a higher blood glucose level (let's also assume a significance level of 0.01). This time, we'll use the entire dataframe as our sample and we'll use a function from the Scipy library to perform the t-test:"
   ]
  },
  {
   "cell_type": "code",
   "execution_count": 14,
   "id": "2857b113",
   "metadata": {},
   "outputs": [
    {
     "name": "stdout",
     "output_type": "stream",
     "text": [
      "t-statistic: 14.600060005973894\n",
      "p-value: 8.935431645289913e-43\n"
     ]
    }
   ],
   "source": [
    "sample_diabetic = df[mask_diabetic][\"Glucose\"]\n",
    "sample_non_diabetic = df[mask_non_diabetic][\"Glucose\"]\n",
    "\n",
    "t_statistic, p_value = scipy.stats.ttest_ind(sample_diabetic, sample_non_diabetic)\n",
    "\n",
    "print(\"t-statistic:\", t_statistic)\n",
    "print(\"p-value:\", p_value)"
   ]
  },
  {
   "cell_type": "markdown",
   "id": "74397c12",
   "metadata": {},
   "source": [
    "As we can see above, the p-value is below 0.01, so we can reject the null hypothesis once again. The p-value is much lower in the case of this t-test (as compared to the previous z-tests), because our sample sizes were much bigger this time:"
   ]
  },
  {
   "cell_type": "code",
   "execution_count": 29,
   "id": "74f93cdb",
   "metadata": {},
   "outputs": [
    {
     "name": "stdout",
     "output_type": "stream",
     "text": [
      "268\n",
      "500\n"
     ]
    }
   ],
   "source": [
    "print(len(sample_diabetic))\n",
    "print(len(sample_non_diabetic))"
   ]
  },
  {
   "cell_type": "markdown",
   "id": "69e4054b",
   "metadata": {},
   "source": [
    "## 7.10. Other tests <a id='7-10'></a>"
   ]
  },
  {
   "cell_type": "markdown",
   "id": "e3c99ada",
   "metadata": {},
   "source": [
    "Although we won't be covering other statistical tests here, it is worth knowing that there are many other tests, such as ANOVA or the Chi-squared test. The type of test we use depends on the data we have and what our hypotheses are."
   ]
  }
 ],
 "metadata": {
  "kernelspec": {
   "display_name": "Python 3 (ipykernel)",
   "language": "python",
   "name": "python3"
  },
  "language_info": {
   "codemirror_mode": {
    "name": "ipython",
    "version": 3
   },
   "file_extension": ".py",
   "mimetype": "text/x-python",
   "name": "python",
   "nbconvert_exporter": "python",
   "pygments_lexer": "ipython3",
   "version": "3.9.13"
  }
 },
 "nbformat": 4,
 "nbformat_minor": 5
}
