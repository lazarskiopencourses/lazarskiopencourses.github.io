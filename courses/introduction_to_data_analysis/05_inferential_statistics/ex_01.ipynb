{
 "cells": [
  {
   "cell_type": "markdown",
   "id": "ad64db8a",
   "metadata": {},
   "source": [
    "**Important:** in order to complete the exercises below, please first load the [Pima Indians Diabetes Dataset](https://www.kaggle.com/datasets/uciml/pima-indians-diabetes-database) using the code cell below. Do not change the value in the variable `FILE_NAME`, as this can lead to errors during automatic grading."
   ]
  },
  {
   "cell_type": "code",
   "execution_count": 38,
   "id": "42680b80",
   "metadata": {},
   "outputs": [],
   "source": [
    "import pandas as pd\n",
    "\n",
    "FILE_NAME = \"diabetes.csv\"\n",
    "df = pd.read_csv(FILE_NAME)"
   ]
  },
  {
   "cell_type": "markdown",
   "id": "bc97bd36",
   "metadata": {},
   "source": [
    "### Exercise 1.1 (5 points)\n",
    "\n",
    "Calculate an **80%** confidence interval for the column \"SkinThickness\". However, before you calculate the confidence interval, exclude all of the `0` values in that column (you can convert these values to missing values for example). \n",
    "\n",
    "Store the lower bound value of the confidence interval in the variable `lower_bound` and store the upper bound value in the variable `upper_bound`:"
   ]
  },
  {
   "cell_type": "code",
   "execution_count": null,
   "id": "1ec98e12",
   "metadata": {},
   "outputs": [],
   "source": [
    "\n",
    "\n",
    "lower_bound =\n",
    "upper_bound ="
   ]
  },
  {
   "cell_type": "markdown",
   "id": "957fe6cc",
   "metadata": {},
   "source": [
    "### Exercise 1.2 (5 points)\n",
    "\n",
    "Use a **t-test** to test the hypothesis that diabetes has an effect on the body mass index (BMI). More specifically, the null hypothesis is that the mean BMI in the population of people with diabetes is the same as the mean BMI of the population of people without diabetes. The alternative hypothesis is that the two means are different. \n",
    "\n",
    "Assuming a significance level of **0.05**, calculate the t-statistic, p-value, and determine whether or not the null hypothesis should be rejected. \n",
    "\n",
    "1. Store the t-statistic in the variable `t_statistic`\n",
    "2. Store p-value in the variable `p_value`.\n",
    "3. Store the boolean `True` in the variable `reject_null_hypothesis`, if the null hypothesis should be rejected - otherwise store the boolean `False` in that variable.\n",
    "4. **IMPORTANT:** before you perform the t-test, exclude all of the rows with `0` in the \"BMI\" column."
   ]
  },
  {
   "cell_type": "code",
   "execution_count": null,
   "id": "8774682c",
   "metadata": {},
   "outputs": [],
   "source": [
    "\n",
    "\n",
    "t_statistic =\n",
    "p_value =\n",
    "reject_null_hypothesis ="
   ]
  }
 ],
 "metadata": {
  "kernelspec": {
   "display_name": "Python 3 (ipykernel)",
   "language": "python",
   "name": "python3"
  },
  "language_info": {
   "codemirror_mode": {
    "name": "ipython",
    "version": 3
   },
   "file_extension": ".py",
   "mimetype": "text/x-python",
   "name": "python",
   "nbconvert_exporter": "python",
   "pygments_lexer": "ipython3",
   "version": "3.9.13"
  }
 },
 "nbformat": 4,
 "nbformat_minor": 5
}
