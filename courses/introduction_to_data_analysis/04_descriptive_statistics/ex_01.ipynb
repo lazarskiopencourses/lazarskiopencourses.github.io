{
 "cells": [
  {
   "cell_type": "markdown",
   "id": "ad64db8a",
   "metadata": {},
   "source": [
    "**Important:** in order to complete the exercises below, please first load the UFO sightings dataset using the code cell below. Do not change the value in the variable `FILE_NAME`, as this can lead to errors during automatic grading."
   ]
  },
  {
   "cell_type": "code",
   "execution_count": null,
   "id": "42680b80",
   "metadata": {},
   "outputs": [],
   "source": [
    "import pandas as pd\n",
    "\n",
    "FILE_NAME = \"ufo_sightings_dataset_clean.csv\"\n",
    "df = pd.read_csv(FILE_NAME, sep=\"\\t\", parse_dates=[\"datetime\", \"date posted\"])"
   ]
  },
  {
   "cell_type": "markdown",
   "id": "bc97bd36",
   "metadata": {},
   "source": [
    "### Exercise 1.1 (1 point)\n",
    "\n",
    "Calculate the mean, median and range of the duration of UFO sightings in **Canada**.  Store the results in the variable `ex_1_mean`, `ex_1_median` and `ex_1_range`.\n",
    "\n",
    "**Hint:** this exercise requires creating a mask that selects rows with the value \"ca\" in the \"country\" column. Once the mask has been applied to the dataframe, the mean, median and range of the \"duration (seconds)\" column can be calculated."
   ]
  },
  {
   "cell_type": "code",
   "execution_count": null,
   "id": "649b4ed9",
   "metadata": {},
   "outputs": [],
   "source": [
    "\n",
    "ex_1_mean =\n",
    "ex_1_median = \n",
    "ex_1_range ="
   ]
  },
  {
   "cell_type": "markdown",
   "id": "957fe6cc",
   "metadata": {},
   "source": [
    "### Exercise 1.2 (1 point)\n",
    "\n",
    "Calculate the standard deviation, variance, and 90th percentile of the duration of UFO sightings in **Canada**. Store the results in `ex_2_std`, `ex_2_var`, `ex_2_90th_percentile`."
   ]
  },
  {
   "cell_type": "code",
   "execution_count": null,
   "id": "6248cd11",
   "metadata": {},
   "outputs": [],
   "source": [
    "\n",
    "ex_2_std =\n",
    "ex_2_var =\n",
    "ex_2_90th_percentile = "
   ]
  },
  {
   "cell_type": "markdown",
   "id": "8c0865ac",
   "metadata": {},
   "source": [
    "### Exercise 1.3 (2 points)\n",
    "\n",
    "Which city in the **US** has the highest number of UFO sightings? Store the answer in the variable `ex_3_city` (the variable should contain a string with the city's name)."
   ]
  },
  {
   "cell_type": "code",
   "execution_count": null,
   "id": "b3e604c3",
   "metadata": {},
   "outputs": [],
   "source": [
    "\n",
    "\n",
    "ex_3_city = "
   ]
  },
  {
   "cell_type": "markdown",
   "id": "c38946c7",
   "metadata": {},
   "source": [
    "### Exercise 1.4 (2 points)\n",
    "\n",
    "Create a `list` or `Series` containing the names of UFO shapes (from the \"shapes\" column), for which the mean duration (from the \"duration (seconds)\" column) is above `10 000` seconds. Store this `list` or `Series` in the variable `ex_4_shapes`.\n",
    "\n",
    "**Hint:** this exercise requires grouping rows by the \"shape\" column and then calculating the mean duration of UFO sightings for each shape. The grouping of rows can be done with the `DataFrame.groupby()` method."
   ]
  },
  {
   "cell_type": "code",
   "execution_count": null,
   "id": "cc0aab9a",
   "metadata": {},
   "outputs": [],
   "source": [
    "\n",
    "\n",
    "ex_4_shapes = "
   ]
  },
  {
   "cell_type": "markdown",
   "id": "0cefe754",
   "metadata": {},
   "source": [
    "### Exercise 1.5 (2 points)"
   ]
  },
  {
   "cell_type": "markdown",
   "id": "7676e1a5",
   "metadata": {},
   "source": [
    "Create a bar graph containing the frequency of different UFO shapes for UFO sightings in **Canada**. \n",
    "\n",
    "1. The bar graph should have the title \"Frequency of UFO shapes in Canada\"\n",
    "2. The x-axis label should be \"Shape\"\n",
    "3. The y-axis label should be \"Frequency\".\n",
    "4. Store the object returned by the `DataFrame.plot.bar()` method in the variable `ex_5_bar`:\n",
    "\n",
    "**Hint:** frequency is the raw number of times a value occurs, whereas the percentage is the frequency divided by the total number of values, and then multiplied by 100."
   ]
  },
  {
   "cell_type": "code",
   "execution_count": null,
   "id": "982e584b",
   "metadata": {},
   "outputs": [],
   "source": [
    "\n",
    "\n",
    "ex_5_bar"
   ]
  },
  {
   "cell_type": "markdown",
   "id": "1f158220",
   "metadata": {},
   "source": [
    "### Exercise 1.6 (2 points)\n",
    "\n",
    "Create a line graph containing the year on the x-axis and the median duration of UFO sightings on the y-axis. The line graph will essentially show how the median duration of UFO sightings has evolved over the years. \n",
    "\n",
    "1. The title of the graph should be \"Median duration of UFO sightings over time\"\n",
    "2. The x-axis label should be \"Year\"\n",
    "3. The y-axis label should be \"Median duration of UFO sightings\". \n",
    "4. The object returned by the `DataFrame.plot.line()` method in the variable `ex_6_line`:"
   ]
  },
  {
   "cell_type": "code",
   "execution_count": null,
   "id": "f98a5687",
   "metadata": {},
   "outputs": [],
   "source": [
    "\n",
    "\n",
    "ex_6_line"
   ]
  }
 ],
 "metadata": {
  "kernelspec": {
   "display_name": "Python 3 (ipykernel)",
   "language": "python",
   "name": "python3"
  },
  "language_info": {
   "codemirror_mode": {
    "name": "ipython",
    "version": 3
   },
   "file_extension": ".py",
   "mimetype": "text/x-python",
   "name": "python",
   "nbconvert_exporter": "python",
   "pygments_lexer": "ipython3",
   "version": "3.9.13"
  }
 },
 "nbformat": 4,
 "nbformat_minor": 5
}
