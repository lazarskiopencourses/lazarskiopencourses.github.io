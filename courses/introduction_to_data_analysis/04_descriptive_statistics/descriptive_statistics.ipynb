{
 "cells": [
  {
   "cell_type": "markdown",
   "id": "bbe4501a",
   "metadata": {},
   "source": [
    "### Sections\n",
    "\n",
    "1. [Introduction](#downloading-the-dataset)\n",
    "2. [What is descriptive statistics?](#what-is-descriptive-statistics)\n",
    "3. [Types of data](#types-of-data)  \n",
    "    3.1. [Quantitative vs qualitative](#quantitative-vs-qualitative)  \n",
    "    3.2. [Nominal](#nominal)  \n",
    "    3.3. [Ordinal](#ordinal)  \n",
    "    3.4. [Discrete](#discrete)  \n",
    "    3.5. [Continuous](#continuous)\n",
    "4. [Central tendencies](#central-tendencies)  \n",
    "    4.1. [Mean](#mean)  \n",
    "    4.2. [Median](#median)  \n",
    "    4.3. [Mode](#mode)  \n",
    "5. [Measures of variability](#measures-of-variability)  \n",
    "    5.1. [Range](#range)  \n",
    "    5.2. [Interquartile range](#interquartile-range)  \n",
    "    5.3. [Standard deviation](#standard-deviation)  \n",
    "    5.4. [Variance](#variance)\n",
    "6. [Data distribution](#data-distribution)  \n",
    "    6.1. [Histogram](#histogram)  \n",
    "    6.2. [The data distribution of the \"duration (seconds)\" column](#data-distribution-2)  \n",
    "    6.3. [The normal distribution](#the-normal-distribution)  \n",
    "    6.4. [The uniform distribution](#the-uniform-distribution)\n",
    "7. [Answering questions with descriptive statistics](#answering-questions)  \n",
    "    7.1. [What is the most commonly reported UFO shape?](#7-1)  \n",
    "    7.2. [What is the average duration of a UFO sighting?](#7-2)  \n",
    "    7.3. [When do UFO sightings occur?](#7-3)  \n",
    "    7.4. [Where do UFO sightings occur?](#7-4)\n",
    "8. [Too many functions and libraries](#8)"
   ]
  },
  {
   "cell_type": "markdown",
   "id": "cca69d38",
   "metadata": {},
   "source": [
    "# 1. Introduction <a id='introduction'></a>"
   ]
  },
  {
   "cell_type": "markdown",
   "id": "2fd2fea3",
   "metadata": {},
   "source": [
    "In this notebook, we'll be using descriptive statistics to analyze the data in the \"UFO sightings\" dataset and answer the questions posed in the previous notebook. However, before we answer those questions, we'll also go through a general overview of descriptive statistics. \n",
    "\n",
    "Nevertheless, we'll be working with the cleaned version of the \"UFO Sightings\" dataset throughout this notebook, so let's first load it into a dataframe:"
   ]
  },
  {
   "cell_type": "code",
   "execution_count": 1,
   "id": "c3d50e43",
   "metadata": {},
   "outputs": [],
   "source": [
    "import pandas as pd\n",
    "\n",
    "df = pd.read_csv(\"ufo_sightings_dataset_clean.csv\", sep=\"\\t\", parse_dates=[\"datetime\", \"date posted\"])"
   ]
  },
  {
   "cell_type": "markdown",
   "id": "613440c0",
   "metadata": {},
   "source": [
    "**Note:** we specify the tab character (`\"\\t\"`) as the separator, since this is the separator we used when saving the dataset after preparing it last time. Also, we have to explicitly pass in a list of column names containing datetimes as the `parse_dates` argument; otherwise those columns will be of type `object` and we will have to convert them manually after we load the dataset (which is also an option)."
   ]
  },
  {
   "cell_type": "markdown",
   "id": "af568486",
   "metadata": {},
   "source": [
    "# 2. What is descriptive statistics? <a id='what-is-descriptive-statistics'></a>\n",
    "\n",
    "Descriptive statistics is a branch of statistics that deals with summarizing and describing data. It's used to help make sense of large amounts of data by identifying patterns, trends, and relationships. Some common descriptive statistics include measures of central tendency (like the mean, median, and mode) and measures of variability (like the range and standard deviation). These statistics can be used to create graphs, charts, and tables that make it easier to understand and communicate the data. In simple terms, descriptive statistics helps to describe the data with numbers and figures."
   ]
  },
  {
   "cell_type": "markdown",
   "id": "f85ea09e",
   "metadata": {},
   "source": [
    "# 3. Types of data <a id='types-of-data'></a>"
   ]
  },
  {
   "cell_type": "markdown",
   "id": "be56bf8e",
   "metadata": {},
   "source": [
    "## 3.1. Quantitative vs qualitative <a id='quantitative-vs-qualitative'></a>"
   ]
  },
  {
   "cell_type": "markdown",
   "id": "2e01903e",
   "metadata": {},
   "source": [
    "Quantitative data is numerical data that can be measured and quantified, such as: age, height or income. Qualitative data is non-numerical data, such as: hair color, nationality, or occupation.\n",
    "\n",
    "In our UFO Sightings dataset, the \"duration (seconds)\" column is a good example of quantitative data:"
   ]
  },
  {
   "cell_type": "code",
   "execution_count": 2,
   "id": "cca0860a",
   "metadata": {
    "scrolled": false
   },
   "outputs": [
    {
     "data": {
      "text/html": [
       "<div>\n",
       "<style scoped>\n",
       "    .dataframe tbody tr th:only-of-type {\n",
       "        vertical-align: middle;\n",
       "    }\n",
       "\n",
       "    .dataframe tbody tr th {\n",
       "        vertical-align: top;\n",
       "    }\n",
       "\n",
       "    .dataframe thead th {\n",
       "        text-align: right;\n",
       "    }\n",
       "</style>\n",
       "<table border=\"1\" class=\"dataframe\">\n",
       "  <thead>\n",
       "    <tr style=\"text-align: right;\">\n",
       "      <th></th>\n",
       "      <th>duration (seconds)</th>\n",
       "    </tr>\n",
       "  </thead>\n",
       "  <tbody>\n",
       "    <tr>\n",
       "      <th>0</th>\n",
       "      <td>2700.0</td>\n",
       "    </tr>\n",
       "    <tr>\n",
       "      <th>1</th>\n",
       "      <td>7200.0</td>\n",
       "    </tr>\n",
       "    <tr>\n",
       "      <th>2</th>\n",
       "      <td>20.0</td>\n",
       "    </tr>\n",
       "    <tr>\n",
       "      <th>3</th>\n",
       "      <td>20.0</td>\n",
       "    </tr>\n",
       "    <tr>\n",
       "      <th>4</th>\n",
       "      <td>900.0</td>\n",
       "    </tr>\n",
       "    <tr>\n",
       "      <th>...</th>\n",
       "      <td>...</td>\n",
       "    </tr>\n",
       "    <tr>\n",
       "      <th>80327</th>\n",
       "      <td>600.0</td>\n",
       "    </tr>\n",
       "    <tr>\n",
       "      <th>80328</th>\n",
       "      <td>1200.0</td>\n",
       "    </tr>\n",
       "    <tr>\n",
       "      <th>80329</th>\n",
       "      <td>1200.0</td>\n",
       "    </tr>\n",
       "    <tr>\n",
       "      <th>80330</th>\n",
       "      <td>5.0</td>\n",
       "    </tr>\n",
       "    <tr>\n",
       "      <th>80331</th>\n",
       "      <td>1020.0</td>\n",
       "    </tr>\n",
       "  </tbody>\n",
       "</table>\n",
       "<p>80332 rows × 1 columns</p>\n",
       "</div>"
      ],
      "text/plain": [
       "       duration (seconds)\n",
       "0                  2700.0\n",
       "1                  7200.0\n",
       "2                    20.0\n",
       "3                    20.0\n",
       "4                   900.0\n",
       "...                   ...\n",
       "80327               600.0\n",
       "80328              1200.0\n",
       "80329              1200.0\n",
       "80330                 5.0\n",
       "80331              1020.0\n",
       "\n",
       "[80332 rows x 1 columns]"
      ]
     },
     "execution_count": 2,
     "metadata": {},
     "output_type": "execute_result"
    }
   ],
   "source": [
    "df[[\"duration (seconds)\"]]"
   ]
  },
  {
   "cell_type": "markdown",
   "id": "21606158",
   "metadata": {},
   "source": [
    "One advantage of quantitative data is that it can be easily analyzed using statistical methods, which can provide a more objective and rigorous way to test hypotheses and draw conclusions."
   ]
  },
  {
   "cell_type": "markdown",
   "id": "0a9b96b1",
   "metadata": {},
   "source": [
    "The \"city\" column, on the other hand, is an example of qualitative data:"
   ]
  },
  {
   "cell_type": "code",
   "execution_count": 3,
   "id": "eb5e79c4",
   "metadata": {},
   "outputs": [
    {
     "data": {
      "text/html": [
       "<div>\n",
       "<style scoped>\n",
       "    .dataframe tbody tr th:only-of-type {\n",
       "        vertical-align: middle;\n",
       "    }\n",
       "\n",
       "    .dataframe tbody tr th {\n",
       "        vertical-align: top;\n",
       "    }\n",
       "\n",
       "    .dataframe thead th {\n",
       "        text-align: right;\n",
       "    }\n",
       "</style>\n",
       "<table border=\"1\" class=\"dataframe\">\n",
       "  <thead>\n",
       "    <tr style=\"text-align: right;\">\n",
       "      <th></th>\n",
       "      <th>city</th>\n",
       "    </tr>\n",
       "  </thead>\n",
       "  <tbody>\n",
       "    <tr>\n",
       "      <th>0</th>\n",
       "      <td>san marcos</td>\n",
       "    </tr>\n",
       "    <tr>\n",
       "      <th>1</th>\n",
       "      <td>lackland afb</td>\n",
       "    </tr>\n",
       "    <tr>\n",
       "      <th>2</th>\n",
       "      <td>chester (uk/england)</td>\n",
       "    </tr>\n",
       "    <tr>\n",
       "      <th>3</th>\n",
       "      <td>edna</td>\n",
       "    </tr>\n",
       "    <tr>\n",
       "      <th>4</th>\n",
       "      <td>kaneohe</td>\n",
       "    </tr>\n",
       "    <tr>\n",
       "      <th>...</th>\n",
       "      <td>...</td>\n",
       "    </tr>\n",
       "    <tr>\n",
       "      <th>80327</th>\n",
       "      <td>nashville</td>\n",
       "    </tr>\n",
       "    <tr>\n",
       "      <th>80328</th>\n",
       "      <td>boise</td>\n",
       "    </tr>\n",
       "    <tr>\n",
       "      <th>80329</th>\n",
       "      <td>napa</td>\n",
       "    </tr>\n",
       "    <tr>\n",
       "      <th>80330</th>\n",
       "      <td>vienna</td>\n",
       "    </tr>\n",
       "    <tr>\n",
       "      <th>80331</th>\n",
       "      <td>edmond</td>\n",
       "    </tr>\n",
       "  </tbody>\n",
       "</table>\n",
       "<p>80332 rows × 1 columns</p>\n",
       "</div>"
      ],
      "text/plain": [
       "                       city\n",
       "0                san marcos\n",
       "1              lackland afb\n",
       "2      chester (uk/england)\n",
       "3                      edna\n",
       "4                   kaneohe\n",
       "...                     ...\n",
       "80327             nashville\n",
       "80328                 boise\n",
       "80329                  napa\n",
       "80330                vienna\n",
       "80331                edmond\n",
       "\n",
       "[80332 rows x 1 columns]"
      ]
     },
     "execution_count": 3,
     "metadata": {},
     "output_type": "execute_result"
    }
   ],
   "source": [
    "df[[\"city\"]]"
   ]
  },
  {
   "cell_type": "markdown",
   "id": "b5ebc2d3",
   "metadata": {},
   "source": [
    "This data is not numeric in nature, and therefore it cannot be easily analyzed using statistical methods. However, sometimes qualitative data can provide a rich, in-depth understanding of a phenomenon and can be particularly useful for exploring complex social and cultural issues. This is especially true for unstructured qualitative data, such as the data in the \"comments\" column of our UFO Sightings dataset:"
   ]
  },
  {
   "cell_type": "code",
   "execution_count": 4,
   "id": "e921c994",
   "metadata": {
    "scrolled": true
   },
   "outputs": [
    {
     "data": {
      "text/html": [
       "<div>\n",
       "<style scoped>\n",
       "    .dataframe tbody tr th:only-of-type {\n",
       "        vertical-align: middle;\n",
       "    }\n",
       "\n",
       "    .dataframe tbody tr th {\n",
       "        vertical-align: top;\n",
       "    }\n",
       "\n",
       "    .dataframe thead th {\n",
       "        text-align: right;\n",
       "    }\n",
       "</style>\n",
       "<table border=\"1\" class=\"dataframe\">\n",
       "  <thead>\n",
       "    <tr style=\"text-align: right;\">\n",
       "      <th></th>\n",
       "      <th>comments</th>\n",
       "    </tr>\n",
       "  </thead>\n",
       "  <tbody>\n",
       "    <tr>\n",
       "      <th>0</th>\n",
       "      <td>This event took place in early fall around 194...</td>\n",
       "    </tr>\n",
       "    <tr>\n",
       "      <th>1</th>\n",
       "      <td>1949 Lackland AFB&amp;#44 TX.  Lights racing acros...</td>\n",
       "    </tr>\n",
       "    <tr>\n",
       "      <th>2</th>\n",
       "      <td>Green/Orange circular disc over Chester&amp;#44 En...</td>\n",
       "    </tr>\n",
       "    <tr>\n",
       "      <th>3</th>\n",
       "      <td>My older brother and twin sister were leaving ...</td>\n",
       "    </tr>\n",
       "    <tr>\n",
       "      <th>4</th>\n",
       "      <td>AS a Marine 1st Lt. flying an FJ4B fighter/att...</td>\n",
       "    </tr>\n",
       "    <tr>\n",
       "      <th>...</th>\n",
       "      <td>...</td>\n",
       "    </tr>\n",
       "    <tr>\n",
       "      <th>80327</th>\n",
       "      <td>Round from the distance/slowly changing colors...</td>\n",
       "    </tr>\n",
       "    <tr>\n",
       "      <th>80328</th>\n",
       "      <td>Boise&amp;#44 ID&amp;#44 spherical&amp;#44 20 min&amp;#44 10 r...</td>\n",
       "    </tr>\n",
       "    <tr>\n",
       "      <th>80329</th>\n",
       "      <td>Napa UFO&amp;#44</td>\n",
       "    </tr>\n",
       "    <tr>\n",
       "      <th>80330</th>\n",
       "      <td>Saw a five gold lit cicular craft moving fastl...</td>\n",
       "    </tr>\n",
       "    <tr>\n",
       "      <th>80331</th>\n",
       "      <td>2 witnesses 2  miles apart&amp;#44 Red &amp;amp; White...</td>\n",
       "    </tr>\n",
       "  </tbody>\n",
       "</table>\n",
       "<p>80332 rows × 1 columns</p>\n",
       "</div>"
      ],
      "text/plain": [
       "                                                comments\n",
       "0      This event took place in early fall around 194...\n",
       "1      1949 Lackland AFB&#44 TX.  Lights racing acros...\n",
       "2      Green/Orange circular disc over Chester&#44 En...\n",
       "3      My older brother and twin sister were leaving ...\n",
       "4      AS a Marine 1st Lt. flying an FJ4B fighter/att...\n",
       "...                                                  ...\n",
       "80327  Round from the distance/slowly changing colors...\n",
       "80328  Boise&#44 ID&#44 spherical&#44 20 min&#44 10 r...\n",
       "80329                                       Napa UFO&#44\n",
       "80330  Saw a five gold lit cicular craft moving fastl...\n",
       "80331  2 witnesses 2  miles apart&#44 Red &amp; White...\n",
       "\n",
       "[80332 rows x 1 columns]"
      ]
     },
     "execution_count": 4,
     "metadata": {},
     "output_type": "execute_result"
    }
   ],
   "source": [
    "df[[\"comments\"]]"
   ]
  },
  {
   "cell_type": "markdown",
   "id": "7af90bd9",
   "metadata": {},
   "source": [
    "Structured quantitative and qualitative data can be further categorized into 4 categories: nominal, ordinal, discrete, continuous."
   ]
  },
  {
   "cell_type": "markdown",
   "id": "c7e1967c",
   "metadata": {},
   "source": [
    "## 3.2. Nominal <a id='nominal'></a>"
   ]
  },
  {
   "cell_type": "markdown",
   "id": "9967cd73",
   "metadata": {},
   "source": [
    "Nominal data is a type of categorical data, which refers to data that can be separated into distinct categories, but the categories do not have any inherent order or ranking. The categories are simply used to label or identify the data. Nominal data is often used to classify observations into groups or to identify certain characteristics of the observations.\n",
    "\n",
    "For example, the type of car that a person owns would be nominal data because it describes the category of car (e.g. Sedan, SUV, truck) and there is no inherent order in the types of cars. Nominal data can be described and summarized by counting the number of observations in each category, but it is not suitable for mathematical operations such as averaging or statistical analysis.\n",
    "\n",
    "When it comes to our UFO Sightings dataset, the following columns contain nominal data:"
   ]
  },
  {
   "cell_type": "code",
   "execution_count": 5,
   "id": "0324a93f",
   "metadata": {},
   "outputs": [
    {
     "data": {
      "text/html": [
       "<div>\n",
       "<style scoped>\n",
       "    .dataframe tbody tr th:only-of-type {\n",
       "        vertical-align: middle;\n",
       "    }\n",
       "\n",
       "    .dataframe tbody tr th {\n",
       "        vertical-align: top;\n",
       "    }\n",
       "\n",
       "    .dataframe thead th {\n",
       "        text-align: right;\n",
       "    }\n",
       "</style>\n",
       "<table border=\"1\" class=\"dataframe\">\n",
       "  <thead>\n",
       "    <tr style=\"text-align: right;\">\n",
       "      <th></th>\n",
       "      <th>city</th>\n",
       "      <th>state</th>\n",
       "      <th>country</th>\n",
       "      <th>shape</th>\n",
       "    </tr>\n",
       "  </thead>\n",
       "  <tbody>\n",
       "    <tr>\n",
       "      <th>0</th>\n",
       "      <td>san marcos</td>\n",
       "      <td>tx</td>\n",
       "      <td>us</td>\n",
       "      <td>cylinder</td>\n",
       "    </tr>\n",
       "    <tr>\n",
       "      <th>1</th>\n",
       "      <td>lackland afb</td>\n",
       "      <td>tx</td>\n",
       "      <td>us</td>\n",
       "      <td>light</td>\n",
       "    </tr>\n",
       "    <tr>\n",
       "      <th>2</th>\n",
       "      <td>chester (uk/england)</td>\n",
       "      <td>NaN</td>\n",
       "      <td>gb</td>\n",
       "      <td>circle</td>\n",
       "    </tr>\n",
       "    <tr>\n",
       "      <th>3</th>\n",
       "      <td>edna</td>\n",
       "      <td>tx</td>\n",
       "      <td>us</td>\n",
       "      <td>circle</td>\n",
       "    </tr>\n",
       "    <tr>\n",
       "      <th>4</th>\n",
       "      <td>kaneohe</td>\n",
       "      <td>hi</td>\n",
       "      <td>us</td>\n",
       "      <td>light</td>\n",
       "    </tr>\n",
       "    <tr>\n",
       "      <th>...</th>\n",
       "      <td>...</td>\n",
       "      <td>...</td>\n",
       "      <td>...</td>\n",
       "      <td>...</td>\n",
       "    </tr>\n",
       "    <tr>\n",
       "      <th>80327</th>\n",
       "      <td>nashville</td>\n",
       "      <td>tn</td>\n",
       "      <td>us</td>\n",
       "      <td>light</td>\n",
       "    </tr>\n",
       "    <tr>\n",
       "      <th>80328</th>\n",
       "      <td>boise</td>\n",
       "      <td>id</td>\n",
       "      <td>us</td>\n",
       "      <td>circle</td>\n",
       "    </tr>\n",
       "    <tr>\n",
       "      <th>80329</th>\n",
       "      <td>napa</td>\n",
       "      <td>ca</td>\n",
       "      <td>us</td>\n",
       "      <td>other</td>\n",
       "    </tr>\n",
       "    <tr>\n",
       "      <th>80330</th>\n",
       "      <td>vienna</td>\n",
       "      <td>va</td>\n",
       "      <td>us</td>\n",
       "      <td>circle</td>\n",
       "    </tr>\n",
       "    <tr>\n",
       "      <th>80331</th>\n",
       "      <td>edmond</td>\n",
       "      <td>ok</td>\n",
       "      <td>us</td>\n",
       "      <td>cigar</td>\n",
       "    </tr>\n",
       "  </tbody>\n",
       "</table>\n",
       "<p>80332 rows × 4 columns</p>\n",
       "</div>"
      ],
      "text/plain": [
       "                       city state country     shape\n",
       "0                san marcos    tx      us  cylinder\n",
       "1              lackland afb    tx      us     light\n",
       "2      chester (uk/england)   NaN      gb    circle\n",
       "3                      edna    tx      us    circle\n",
       "4                   kaneohe    hi      us     light\n",
       "...                     ...   ...     ...       ...\n",
       "80327             nashville    tn      us     light\n",
       "80328                 boise    id      us    circle\n",
       "80329                  napa    ca      us     other\n",
       "80330                vienna    va      us    circle\n",
       "80331                edmond    ok      us     cigar\n",
       "\n",
       "[80332 rows x 4 columns]"
      ]
     },
     "execution_count": 5,
     "metadata": {},
     "output_type": "execute_result"
    }
   ],
   "source": [
    "nominal_variables = [\"city\", \"state\", \"country\", \"shape\"]\n",
    "df[nominal_variables]"
   ]
  },
  {
   "cell_type": "markdown",
   "id": "98583b9b",
   "metadata": {},
   "source": [
    "## 3.3. Ordinal <a id='ordinal'></a>"
   ]
  },
  {
   "cell_type": "markdown",
   "id": "9bed71b0",
   "metadata": {},
   "source": [
    "Ordinal data is a type of data in which the values have a natural order or ranking. For example, a survey question that asks people to rate their satisfaction on a scale of 1 to 5 (with 1 being \"very unsatisfied\" and 5 being \"very satisfied\") is collecting ordinal data. It's important to note that ordinal data cannot tell you the exact difference or ratio between the values - it can only tell you the order of the values.\n",
    "\n",
    "There are no examples of ordinal data in our UFO Sightings dataset, but here are some other examples:\n",
    "\n",
    "1. Educational degrees: A list of educational degrees (such as high school diploma, associate's degree, bachelor's degree, master's degree, and doctorate) is an example of ordinal data, since each degree represents a higher level of education than the previous one.\n",
    "\n",
    "2. Race results: The ranking of runners in a race is an example of ordinal data, since each runner's place (first, second, third, etc.) represents their relative position in the race.\n",
    "\n",
    "3. Movie ratings: Movie ratings (such as G, PG, PG-13, R, NC-17) is an example of ordinal data, since each rating represents a different level of appropriateness for various age groups (each rating being progressively less appropriate for a younger audience)."
   ]
  },
  {
   "cell_type": "markdown",
   "id": "19858a9d",
   "metadata": {},
   "source": [
    "## 3.3. Discrete <a id='discrete'></a>"
   ]
  },
  {
   "cell_type": "markdown",
   "id": "18d0f576",
   "metadata": {},
   "source": [
    "Discrete data is a type of data that can only take certain specific values, rather than any value within a range.  For example, the number of students in a class is discrete data because it can only be a whole number (e.g. 8, 15, 25) - the data cannot be fractional (e.g. 8.74, 15.11, 25.39 students).\n",
    "\n",
    "There are no examples of ordinal data in our UFO Sightings dataset, but here are some other examples:\n",
    "\n",
    "1. The number of heads flipped in a coin toss experiment\n",
    "2. The number of cars passing through an intersection during a certain time period\n",
    "3. The number of times a specific word appears in a book"
   ]
  },
  {
   "cell_type": "markdown",
   "id": "f201bc65",
   "metadata": {},
   "source": [
    "## 3.4. Continuous <a id='continuous'></a>"
   ]
  },
  {
   "cell_type": "markdown",
   "id": "6780793d",
   "metadata": {},
   "source": [
    "Continuous data in statistics refers to data that can take any value within a range. For example, the height of a person is continuous data because it can be any value within some range (e.g. from 40 cm to 280 cm). It makes sense for the height values to be fractional. For example, 162.4 cm still makes sense - we can even express it using different units: 162 cm and 4 mm, or 1624 mm.\n",
    "\n",
    "We can even go in smaller increments. The length of atoms and molecules is measured on the nanoscale ($10^{-9}\n",
    "$ meters), and there are even smaller objects (such as subatomic particles). It is also possible to think of continuous data as data that can be divided into smaller and smaller increments without any gaps, like weight, height, time, temperature, etc.\n",
    "\n",
    "In our UFO Sightings, the \"duration (seconds)\" column is a good example of continuous data:"
   ]
  },
  {
   "cell_type": "code",
   "execution_count": 6,
   "id": "dac9789d",
   "metadata": {
    "scrolled": false
   },
   "outputs": [
    {
     "data": {
      "text/plain": [
       "0        2700.0\n",
       "1        7200.0\n",
       "2          20.0\n",
       "3          20.0\n",
       "4         900.0\n",
       "          ...  \n",
       "80327     600.0\n",
       "80328    1200.0\n",
       "80329    1200.0\n",
       "80330       5.0\n",
       "80331    1020.0\n",
       "Name: duration (seconds), Length: 80332, dtype: float64"
      ]
     },
     "execution_count": 6,
     "metadata": {},
     "output_type": "execute_result"
    }
   ],
   "source": [
    "df[\"duration (seconds)\"]"
   ]
  },
  {
   "cell_type": "markdown",
   "id": "09401666",
   "metadata": {},
   "source": [
    "# 4. Central tendencies <a id='central-tendencies'></a>"
   ]
  },
  {
   "cell_type": "markdown",
   "id": "d5ef0ef5",
   "metadata": {},
   "source": [
    "## 4.1. Mean <a id='mean'></a>"
   ]
  },
  {
   "cell_type": "markdown",
   "id": "43ffd54c",
   "metadata": {},
   "source": [
    "The mean in statistics is a way to describe the \"average\" value of a set of numbers. To find the mean, you add up all the values in the set and then divide by the total number of values in the set. Below is the mathematical formula for the mean:\n",
    "\n",
    "$ \\Large \\frac{1}{n} \\sum_{i=1}^{n} x_{i} $\n",
    "\n",
    "In other words, if you have the numbers `1, 2, 3, 4, 5`, the mean would be `(1 + 2 + 3 + 4 + 5) / 5 = 3`. The mean can only be calculated for **discrete** or **continuous** data.\n"
   ]
  },
  {
   "cell_type": "code",
   "execution_count": 7,
   "id": "4f6d7f20",
   "metadata": {
    "scrolled": false
   },
   "outputs": [
    {
     "data": {
      "text/plain": [
       "9016.889016344669"
      ]
     },
     "execution_count": 7,
     "metadata": {},
     "output_type": "execute_result"
    }
   ],
   "source": [
    "df[\"duration (seconds)\"].mean()"
   ]
  },
  {
   "cell_type": "markdown",
   "id": "87e8df38",
   "metadata": {},
   "source": [
    "It's important to note that the mean can be affected by outliers, or values that are much larger or smaller than the other values in the set. For example, the mean of the following numbers is 55: `50, 50, 50, 60, 60, 60`. Similarly, the mean of the following numbers is also 55: `5, 5, 5, 5, 5, 305`. In the first case, all numbers are close to the mean and it can be said that the mean gives a good estimate of the typical value in the set. However, in the second case, every value in the set is much further away from the mean.\n",
    "\n",
    "One real-world example of this is when a small percentage of people earn a very high income in some region, which significantly raises the mean income for that region. In effect, the mean does not accurately reflect a typical income very well. Fortunately, there is another measure of the average/typical value - the median - which is not sensitive to outliers."
   ]
  },
  {
   "cell_type": "markdown",
   "id": "e822b7e0",
   "metadata": {},
   "source": [
    "## 4.2. Median <a id='median'></a>"
   ]
  },
  {
   "cell_type": "markdown",
   "id": "5ba82239",
   "metadata": {},
   "source": [
    "The median in statistics is a way to describe the \"middle\" value of a set of numbers. To find the median, you first arrange all the numbers in the set in numerical order (from smallest to largest), and then pick the number that is in the middle.\n",
    "\n",
    "For example, if you have the numbers `7, 2, 7, 1, 4`, you would arrange them in numerical order like `1, 2, 4, 7, 7`, the median would be `4`. It means that half of the values in the set are greater than `4` and half of the values are less than `4`.\n",
    "\n",
    "If the set has an even number of values, you would take the average of the two middle numbers instead. So for the numbers `1, 2, 4, 7, 7, 8`, the median is `(4 + 7) / 2 = 5.5`. In simple terms, the median is a way of describing the middle value of a set of numbers, and it's not affected by outliers or extreme values like the mean can be. The median can be calculated for **ordinal**, **discrete** or **continuous** data, but it is typically calculated only for **discrete** or **continuous** data."
   ]
  },
  {
   "cell_type": "code",
   "execution_count": 8,
   "id": "3a3e4fdb",
   "metadata": {},
   "outputs": [
    {
     "data": {
      "text/plain": [
       "180.0"
      ]
     },
     "execution_count": 8,
     "metadata": {},
     "output_type": "execute_result"
    }
   ],
   "source": [
    "df[\"duration (seconds)\"].median()"
   ]
  },
  {
   "cell_type": "markdown",
   "id": "025f8b05",
   "metadata": {},
   "source": [
    "The large difference in the median (180) and the mean (9016) suggests that there are some outliers. More specifically, there are some very large values in the \"duration (seconds)\" column."
   ]
  },
  {
   "cell_type": "markdown",
   "id": "8876a001",
   "metadata": {},
   "source": [
    "## 4.3. Mode <a id='mode'></a>"
   ]
  },
  {
   "cell_type": "markdown",
   "id": "a1f640a0",
   "metadata": {},
   "source": [
    "The mode is the value that appears most often in a set of values. For example, if we have a set of numbers like `1, 2, 3, 4, 4, 5`, the mode is `4` because it appears twice, while all the other numbers appear only once. Similarly, if we have a set of values such as `Germany, France, Spain, France, France, Spain`, the mode is `France` because it appears three times - more than any other value. The mode can be calculated for any type of structured data (**nominal**, **ordinal**, **discrete**, or **continuous**), but it is typically calculated for **nominal** data."
   ]
  },
  {
   "cell_type": "code",
   "execution_count": 9,
   "id": "5b47975d",
   "metadata": {},
   "outputs": [
    {
     "data": {
      "text/plain": [
       "0    light\n",
       "Name: shape, dtype: object"
      ]
     },
     "execution_count": 9,
     "metadata": {},
     "output_type": "execute_result"
    }
   ],
   "source": [
    "df[\"shape\"].mode()"
   ]
  },
  {
   "cell_type": "markdown",
   "id": "9aaf7c96",
   "metadata": {},
   "source": [
    "# 5. Measures of variability <a id='measures-of-variability'></a>"
   ]
  },
  {
   "cell_type": "markdown",
   "id": "e2c1a2e7",
   "metadata": {},
   "source": [
    "## 5.1. Range <a id='range'></a>"
   ]
  },
  {
   "cell_type": "markdown",
   "id": "d0e0f998",
   "metadata": {},
   "source": [
    "In statistics, the \"range\" is a measure of how spread out a set of numbers is. It is calculated by taking the difference between the largest and smallest values in the set. So, if a set of numbers is `1, 2, 3, 4, 5`, the range would be `5 - 1 = 4`, because the difference between the largest number (`5`) and the smallest number (`1`) is `4`. "
   ]
  },
  {
   "cell_type": "code",
   "execution_count": 10,
   "id": "496e2454",
   "metadata": {},
   "outputs": [
    {
     "data": {
      "text/plain": [
       "0.001"
      ]
     },
     "execution_count": 10,
     "metadata": {},
     "output_type": "execute_result"
    }
   ],
   "source": [
    "df[\"duration (seconds)\"].min()"
   ]
  },
  {
   "cell_type": "code",
   "execution_count": 11,
   "id": "0f187891",
   "metadata": {},
   "outputs": [
    {
     "data": {
      "text/plain": [
       "97836000.0"
      ]
     },
     "execution_count": 11,
     "metadata": {},
     "output_type": "execute_result"
    }
   ],
   "source": [
    "df[\"duration (seconds)\"].max()"
   ]
  },
  {
   "cell_type": "code",
   "execution_count": 12,
   "id": "b88f2d34",
   "metadata": {
    "scrolled": true
   },
   "outputs": [
    {
     "data": {
      "text/plain": [
       "97835999.999"
      ]
     },
     "execution_count": 12,
     "metadata": {},
     "output_type": "execute_result"
    }
   ],
   "source": [
    "df[\"duration (seconds)\"].max() - df[\"duration (seconds)\"].min()"
   ]
  },
  {
   "cell_type": "markdown",
   "id": "b3b1e41f",
   "metadata": {},
   "source": [
    "## 5.2. Interquartile range <a id='interquartile-range'></a>"
   ]
  },
  {
   "cell_type": "markdown",
   "id": "f55d9e67",
   "metadata": {},
   "source": [
    "The interquartile range is a measure of how spread out the middle of a set of numbers is. It is calculated by taking the difference between the the 75th and 25th percentiles (also known as the first and third quartiles, Q1 and Q3). It gives an idea of the range of the middle 50% of the data. It is a robust measure of spread, as it is not affected by outliers or extreme values in the dataset.\n",
    "\n",
    "The first quartile is the middle number of the bottom half when numbers are listed in ascending order - it separates the lowest 25% of the data from the rest. The third quartile is the middle number of the upper half of the data so it separates the lowest 75% of the data from the rest.\n",
    "\n",
    "For example, let's say you have the following set of numbers:\n",
    "\n",
    "`2, 5, 5, 7, 8, 10, 12, 12, 18, 20`\n",
    "\n",
    "To calculate the IQR, you would first find the median (also known as the 50th percentile or the second quartile, Q2) of the dataset, which is `9` (the average of `10` and `12`).\n",
    "\n",
    "Then, to find Q1 and Q3, you would divide the dataset into two parts: the lower half and the upper half.\n",
    "\n",
    "The lower half is:\n",
    "`2, 5, 5, 7, 8`\n",
    "and Q1 is the median of this subset, which is `5`.\n",
    "\n",
    "The upper half is:\n",
    "`10, 12, 12, 18, 20`\n",
    "and Q3 is the median of this subset, which is `12`.\n",
    "\n",
    "The interquartile range (IQR) is the difference between Q3 and Q1. So in this example, `IQR = 12 - 5 = 7`.\n",
    "\n"
   ]
  },
  {
   "cell_type": "code",
   "execution_count": 13,
   "id": "c674d09b",
   "metadata": {
    "scrolled": true
   },
   "outputs": [
    {
     "data": {
      "text/plain": [
       "0.25     30.0\n",
       "0.50    180.0\n",
       "0.75    600.0\n",
       "Name: duration (seconds), dtype: float64"
      ]
     },
     "execution_count": 13,
     "metadata": {},
     "output_type": "execute_result"
    }
   ],
   "source": [
    "df[\"duration (seconds)\"].quantile([0.25,0.5,0.75])"
   ]
  },
  {
   "cell_type": "code",
   "execution_count": 14,
   "id": "3da948af",
   "metadata": {},
   "outputs": [],
   "source": [
    "q1 = df[\"duration (seconds)\"].quantile(0.25)\n",
    "q3 = df[\"duration (seconds)\"].quantile(0.75)"
   ]
  },
  {
   "cell_type": "code",
   "execution_count": 15,
   "id": "7a069c56",
   "metadata": {},
   "outputs": [
    {
     "data": {
      "text/plain": [
       "570.0"
      ]
     },
     "execution_count": 15,
     "metadata": {},
     "output_type": "execute_result"
    }
   ],
   "source": [
    "iqr = q3 - q1\n",
    "iqr"
   ]
  },
  {
   "cell_type": "markdown",
   "id": "d7e86514",
   "metadata": {},
   "source": [
    "## 5.3. Standard deviation <a id='standard-deviation'></a>"
   ]
  },
  {
   "cell_type": "markdown",
   "id": "d662adb2",
   "metadata": {},
   "source": [
    "The standard deviation is a measure of how spread out a set of numbers is. It tells you, on average, how far away each number in a set is from the average (mean) of the set. A smaller standard deviation means that most of the numbers in the set are close to the average, while a larger standard deviation means that the numbers are more spread out.\n",
    "\n",
    "To calculate the standard deviation, you first find the average of the set of numbers. Then, for each number in the set, you subtract the average and square the result. You then add up all of these squared differences, divide by the number of numbers in the set, and take the square root of that number. This is encapsulated by the following formula:\n",
    "\n",
    "$ \\Large \\sigma = \\sqrt{\\frac{1}{N} \\sum_{i=1}^n (x_i - \\mu)^2} $\n",
    "\n",
    "where:\n",
    "\n",
    "1. $\\large \\sigma$ is the conventional symbol for the standard deviation of a population (in the next notebook we will explore what a population is).\n",
    "2. $\\large \\mu $ is the mean of the population\n",
    "3. $ N$ is the population size\n",
    "\n",
    "Let's calculate the standard deviation for the following two lists of numbers:"
   ]
  },
  {
   "cell_type": "code",
   "execution_count": 16,
   "id": "7eb9eba6",
   "metadata": {},
   "outputs": [],
   "source": [
    "a = [50, 50, 50, 60, 60, 60]\n",
    "b = [20, 20, 20, 90, 90, 90]"
   ]
  },
  {
   "cell_type": "code",
   "execution_count": 17,
   "id": "c91f66ad",
   "metadata": {
    "code_folding": []
   },
   "outputs": [],
   "source": [
    "def calculate_std(numbers):\n",
    "    mean = sum(numbers) / len(numbers) \n",
    "    \n",
    "    squared_differences = []\n",
    "    for number in numbers:\n",
    "        squared_differences.append((mean - number)**2)\n",
    "        \n",
    "    return (sum(squared_differences) / len(squared_differences))**0.5"
   ]
  },
  {
   "cell_type": "code",
   "execution_count": 18,
   "id": "6d86b0d1",
   "metadata": {},
   "outputs": [
    {
     "name": "stdout",
     "output_type": "stream",
     "text": [
      "5.0\n",
      "35.0\n"
     ]
    }
   ],
   "source": [
    "print(calculate_std(a))\n",
    "print(calculate_std(b))"
   ]
  },
  {
   "cell_type": "markdown",
   "id": "32c15629",
   "metadata": {},
   "source": [
    "**Note:** we could have also converted the lists to numpy arrays and use the `.std()` method to calculate the standard deviation:"
   ]
  },
  {
   "cell_type": "code",
   "execution_count": 19,
   "id": "670818ac",
   "metadata": {},
   "outputs": [
    {
     "name": "stdout",
     "output_type": "stream",
     "text": [
      "5.0\n",
      "35.0\n"
     ]
    }
   ],
   "source": [
    "import numpy as np\n",
    "\n",
    "std_a = np.array(a).std()\n",
    "std_b = np.array(b).std()\n",
    "\n",
    "print(std_a)\n",
    "print(std_b)"
   ]
  },
  {
   "cell_type": "markdown",
   "id": "95a52c15",
   "metadata": {},
   "source": [
    "As we can see, the standard deviation of list `a` is smaller than the standard deviation of list `b`. This makes sense because the standard deviation tells us how far away, on average, are the values from the mean. In the case of list `a`, the standard deviation is `5`, which makes sense, because all of the numbers are `5` away from the mean (`55`). In the case of list `b`, the standard deviation is `35`, which is how far away each number is from the mean (`55`). In the real world, data consists of many more numbers, whose distance from the mean varies - the standard deviation allows us to quickly gain an idea of how spread out the data is."
   ]
  },
  {
   "cell_type": "code",
   "execution_count": 20,
   "id": "61faa2de",
   "metadata": {},
   "outputs": [
    {
     "data": {
      "text/plain": [
       "620216.790291459"
      ]
     },
     "execution_count": 20,
     "metadata": {},
     "output_type": "execute_result"
    }
   ],
   "source": [
    "df[\"duration (seconds)\"].std()"
   ]
  },
  {
   "cell_type": "markdown",
   "id": "e9a873f1",
   "metadata": {},
   "source": [
    "As we can see, the standard deviation is much bigger than the interquartile range, which suggest that we have outliers (values that are much bigger or smaller than the majority of values)."
   ]
  },
  {
   "cell_type": "markdown",
   "id": "b46b193d",
   "metadata": {},
   "source": [
    "## 5.3. Variance <a id='variance'></a>"
   ]
  },
  {
   "cell_type": "markdown",
   "id": "29fca585",
   "metadata": {},
   "source": [
    "The variance can be calculated using the `Series.var()` method and it is equivalent to the standard deviation squared:"
   ]
  },
  {
   "cell_type": "code",
   "execution_count": 21,
   "id": "ace4efa5",
   "metadata": {},
   "outputs": [
    {
     "data": {
      "text/plain": [
       "True"
      ]
     },
     "execution_count": 21,
     "metadata": {},
     "output_type": "execute_result"
    }
   ],
   "source": [
    "var = df[\"duration (seconds)\"].var()\n",
    "std = df[\"duration (seconds)\"].std()\n",
    "\n",
    "var.round(2) == (std**2).round(2)"
   ]
  },
  {
   "cell_type": "markdown",
   "id": "496e902e",
   "metadata": {},
   "source": [
    "In other words, the formula for variance is the same as the formula for the standard deviation, but without the square root:\n",
    "\n",
    "$ \\Large \\sigma^{2} = \\frac{1}{N} \\sum_{i=1}^n (x_i - \\mu)^2 $"
   ]
  },
  {
   "cell_type": "markdown",
   "id": "4f8577cb",
   "metadata": {},
   "source": [
    "The standard deviation is used more commonly because it is in the same unit as the original data, while the variance is in squared units. This makes the standard deviation more interpretable and easier to understand."
   ]
  },
  {
   "cell_type": "markdown",
   "id": "4768ceda",
   "metadata": {},
   "source": [
    "# 6. Data distribution <a id='data-distribution'></a>"
   ]
  },
  {
   "cell_type": "markdown",
   "id": "9826a845",
   "metadata": {},
   "source": [
    "From here on out we'll be creating some data visualizations, and therefore we need to install the Matplotlib library, which is integrated with Pandas and will allow us to do so easily:"
   ]
  },
  {
   "cell_type": "code",
   "execution_count": 22,
   "id": "5c4b387a",
   "metadata": {
    "scrolled": true
   },
   "outputs": [
    {
     "name": "stdout",
     "output_type": "stream",
     "text": [
      "Requirement already satisfied: matplotlib in /home/dvrki/anaconda3/envs/online_courses/lib/python3.9/site-packages (3.6.3)\n",
      "Requirement already satisfied: python-dateutil>=2.7 in /home/dvrki/anaconda3/envs/online_courses/lib/python3.9/site-packages (from matplotlib) (2.8.2)\n",
      "Requirement already satisfied: kiwisolver>=1.0.1 in /home/dvrki/anaconda3/envs/online_courses/lib/python3.9/site-packages (from matplotlib) (1.4.4)\n",
      "Requirement already satisfied: pillow>=6.2.0 in /home/dvrki/anaconda3/envs/online_courses/lib/python3.9/site-packages (from matplotlib) (9.4.0)\n",
      "Requirement already satisfied: numpy>=1.19 in /home/dvrki/anaconda3/envs/online_courses/lib/python3.9/site-packages (from matplotlib) (1.23.2)\n",
      "Requirement already satisfied: contourpy>=1.0.1 in /home/dvrki/anaconda3/envs/online_courses/lib/python3.9/site-packages (from matplotlib) (1.0.7)\n",
      "Requirement already satisfied: packaging>=20.0 in /home/dvrki/anaconda3/envs/online_courses/lib/python3.9/site-packages (from matplotlib) (21.3)\n",
      "Requirement already satisfied: fonttools>=4.22.0 in /home/dvrki/anaconda3/envs/online_courses/lib/python3.9/site-packages (from matplotlib) (4.38.0)\n",
      "Requirement already satisfied: cycler>=0.10 in /home/dvrki/anaconda3/envs/online_courses/lib/python3.9/site-packages (from matplotlib) (0.11.0)\n",
      "Requirement already satisfied: pyparsing>=2.2.1 in /home/dvrki/anaconda3/envs/online_courses/lib/python3.9/site-packages (from matplotlib) (3.0.9)\n",
      "Requirement already satisfied: six>=1.5 in /home/dvrki/anaconda3/envs/online_courses/lib/python3.9/site-packages (from python-dateutil>=2.7->matplotlib) (1.16.0)\n"
     ]
    }
   ],
   "source": [
    "!pip install matplotlib"
   ]
  },
  {
   "cell_type": "markdown",
   "id": "75213fd1",
   "metadata": {},
   "source": [
    "## 6.1. Histogram <a id='histogram'></a>"
   ]
  },
  {
   "cell_type": "markdown",
   "id": "1d7b9bd0",
   "metadata": {},
   "source": [
    "A data distribution is a way to describe and summarize a set of data. It shows how often different values appear in the data. For example, a histogram is a common way to show a data distribution. It shows how many times each value appears in the data by using bars. The height of each bar shows how often that value appears in the data. This can help you understand the overall pattern of the data and look for any unusual values.\n",
    "\n",
    "Below is an example of a histogram created from some synthetic data. We first create a list, then we create a `Series` from that list, and then we call the `Series.hist()` method, which returns a histogram that is then displayed (if we did not have Matplotlib installed, calling the `Series.hist()` method would result in an error):"
   ]
  },
  {
   "cell_type": "code",
   "execution_count": 23,
   "id": "faa7998d",
   "metadata": {
    "scrolled": true
   },
   "outputs": [
    {
     "data": {
      "text/plain": [
       "<AxesSubplot: >"
      ]
     },
     "execution_count": 23,
     "metadata": {},
     "output_type": "execute_result"
    },
    {
     "data": {
      "image/png": "[encoded data removed]",
      "text/plain": [
       "<Figure size 640x480 with 1 Axes>"
      ]
     },
     "metadata": {},
     "output_type": "display_data"
    }
   ],
   "source": [
    "data = [15, 23, 4, 6 ,4, 18, 12, 15, 7, 4, 32, 16, 14, 17, 6, 7, 8, 8, 12, 25]\n",
    "pd.Series(data).hist()"
   ]
  },
  {
   "cell_type": "markdown",
   "id": "170b9480",
   "metadata": {},
   "source": [
    "The y-axis corresponds to the number of times (frequency) a certain value appears, while the x-axis corresponds to the values. Let's label the axes and add a title to our histogram first:"
   ]
  },
  {
   "cell_type": "code",
   "execution_count": 24,
   "id": "a96dbfe8",
   "metadata": {},
   "outputs": [
    {
     "data": {
      "text/plain": [
       "Text(0.5, 1.0, 'A demo histogram of synthetic data')"
      ]
     },
     "execution_count": 24,
     "metadata": {},
     "output_type": "execute_result"
    },
    {
     "data": {
      "image/png": "[encoded data removed]",
      "text/plain": [
       "<Figure size 640x480 with 1 Axes>"
      ]
     },
     "metadata": {},
     "output_type": "display_data"
    }
   ],
   "source": [
    "plot = pd.Series(data).hist()\n",
    "\n",
    "plot.set_xlabel(\"values\")\n",
    "plot.set_ylabel(\"frequency\")\n",
    "plot.set_title(\"A demo histogram of synthetic data\")"
   ]
  },
  {
   "cell_type": "markdown",
   "id": "54ed6816",
   "metadata": {},
   "source": [
    "Since a histogram is made up of bars, each bar represents a range of values. The range of values covered by each bar can be set manually with the `bins` argument. For example, we can pass in a list:"
   ]
  },
  {
   "cell_type": "code",
   "execution_count": 25,
   "id": "4c9e080c",
   "metadata": {
    "scrolled": true
   },
   "outputs": [
    {
     "data": {
      "text/plain": [
       "<AxesSubplot: >"
      ]
     },
     "execution_count": 25,
     "metadata": {},
     "output_type": "execute_result"
    },
    {
     "data": {
      "image/png": "[encoded data removed]",
      "text/plain": [
       "<Figure size 640x480 with 1 Axes>"
      ]
     },
     "metadata": {},
     "output_type": "display_data"
    }
   ],
   "source": [
    "pd.Series(data).hist(bins=[0, 10, 20, 40])"
   ]
  },
  {
   "cell_type": "markdown",
   "id": "29094ba1",
   "metadata": {},
   "source": [
    "Now there are three bars, with the following ranges: 0-10, 10-20, 20-40. The ranges exclude the right value (with the exception of the last range). We can also pass in an `int` as the `bins` argument, which will create a specific number of bars, each of which will cover an equivalent range of values and which together cover the entire range of values:"
   ]
  },
  {
   "cell_type": "code",
   "execution_count": 26,
   "id": "9f669965",
   "metadata": {},
   "outputs": [
    {
     "data": {
      "text/plain": [
       "<AxesSubplot: >"
      ]
     },
     "execution_count": 26,
     "metadata": {},
     "output_type": "execute_result"
    },
    {
     "data": {
      "image/png": "[encoded data removed]",
      "text/plain": [
       "<Figure size 640x480 with 1 Axes>"
      ]
     },
     "metadata": {},
     "output_type": "display_data"
    }
   ],
   "source": [
    "pd.Series(data).hist(bins=20)"
   ]
  },
  {
   "cell_type": "markdown",
   "id": "a2eda5a1",
   "metadata": {},
   "source": [
    "The default value for the `bins` argument is `10`. Therefore, if we do not pass in any arguments, by default the `Series.hist()` method creates 10 bins (10 ranges of values), which are equally spaced."
   ]
  },
  {
   "cell_type": "markdown",
   "id": "b5317b84",
   "metadata": {},
   "source": [
    "## 6.2. the data distribution of the \"duration (seconds)\" column <a id='data-distribution-2'></a>"
   ]
  },
  {
   "cell_type": "markdown",
   "id": "3532e2fe",
   "metadata": {},
   "source": [
    "Let's look at the data distribution of the \"duration (seconds)\" column:"
   ]
  },
  {
   "cell_type": "code",
   "execution_count": 27,
   "id": "5a505506",
   "metadata": {
    "scrolled": false
   },
   "outputs": [
    {
     "data": {
      "text/plain": [
       "<AxesSubplot: >"
      ]
     },
     "execution_count": 27,
     "metadata": {},
     "output_type": "execute_result"
    },
    {
     "data": {
      "image/png": "[encoded data removed]",
      "text/plain": [
       "<Figure size 640x480 with 1 Axes>"
      ]
     },
     "metadata": {},
     "output_type": "display_data"
    }
   ],
   "source": [
    "df[\"duration (seconds)\"].hist()"
   ]
  },
  {
   "cell_type": "markdown",
   "id": "251e4fef",
   "metadata": {},
   "source": [
    "This histogram isn't very useful. If we look at the x-axis, we can see that `1e8` appears in the bottom right, which means the scale of the x-axis goes up to `100 000 000` seconds. This is a lot since most values are much smaller, as indicated by the single visible bar on the histogram.\n",
    "\n",
    "Let's create a histogram of the middle 95% of data, to exclude outliers. In other words, we are excluding 2.5% of the smallest values and 2.5% of the largest values:"
   ]
  },
  {
   "cell_type": "code",
   "execution_count": 28,
   "id": "fd80061b",
   "metadata": {
    "scrolled": false
   },
   "outputs": [
    {
     "data": {
      "text/plain": [
       "<AxesSubplot: >"
      ]
     },
     "execution_count": 28,
     "metadata": {},
     "output_type": "execute_result"
    },
    {
     "data": {
      "image/png": "[encoded data removed]",
      "text/plain": [
       "<Figure size 640x480 with 1 Axes>"
      ]
     },
     "metadata": {},
     "output_type": "display_data"
    }
   ],
   "source": [
    "mask_1 = df[\"duration (seconds)\"] >= df[\"duration (seconds)\"].quantile(0.025) \n",
    "mask_2 = df[\"duration (seconds)\"] <= df[\"duration (seconds)\"].quantile(0.975)\n",
    "mask = mask_1 & mask_2\n",
    "\n",
    "df[mask][\"duration (seconds)\"].hist()"
   ]
  },
  {
   "cell_type": "markdown",
   "id": "ca97b551",
   "metadata": {},
   "source": [
    "It seems that the majority of the reported UFO Sightings last less than 1000 seconds. We know that the median value is actually 180, so let's increase the resolution of this histogram, by increasing the number of bins:"
   ]
  },
  {
   "cell_type": "code",
   "execution_count": 29,
   "id": "2c07ea90",
   "metadata": {
    "scrolled": true
   },
   "outputs": [
    {
     "data": {
      "text/plain": [
       "<AxesSubplot: >"
      ]
     },
     "execution_count": 29,
     "metadata": {},
     "output_type": "execute_result"
    },
    {
     "data": {
      "image/png": "[encoded data removed]",
      "text/plain": [
       "<Figure size 640x480 with 1 Axes>"
      ]
     },
     "metadata": {},
     "output_type": "display_data"
    }
   ],
   "source": [
    "df[mask][\"duration (seconds)\"].hist(bins=30)"
   ]
  },
  {
   "cell_type": "markdown",
   "id": "b860cf1e",
   "metadata": {},
   "source": [
    "Now we can see a bit clearer how the data is distributed. Let's add labels and a title:"
   ]
  },
  {
   "cell_type": "code",
   "execution_count": 30,
   "id": "1fd0ebbb",
   "metadata": {},
   "outputs": [
    {
     "data": {
      "text/plain": [
       "<AxesSubplot: title={'center': 'Duration of UFO sightings histogram'}, xlabel='Duration (seconds)', ylabel='Frequency'>"
      ]
     },
     "execution_count": 30,
     "metadata": {},
     "output_type": "execute_result"
    },
    {
     "data": {
      "image/png": "[encoded data removed]",
      "text/plain": [
       "<Figure size 640x480 with 1 Axes>"
      ]
     },
     "metadata": {},
     "output_type": "display_data"
    }
   ],
   "source": [
    "plot = df[mask][\"duration (seconds)\"].hist(bins=30)\n",
    "\n",
    "plot.set_xlabel(\"Duration (seconds)\")\n",
    "plot.set_ylabel(\"Frequency\")\n",
    "plot.set_title(\"Duration of UFO sightings histogram\")\n",
    "plot"
   ]
  },
  {
   "cell_type": "markdown",
   "id": "daeeeb0e",
   "metadata": {},
   "source": [
    "## 6.3. The normal distribution <a id='the-normal-distribution'></a>"
   ]
  },
  {
   "cell_type": "markdown",
   "id": "ff619aab",
   "metadata": {},
   "source": [
    "Before you proceed with this subsection, it is recommended that you watch [this video](https://www.youtube.com/watch?v=rzFX5NWojp0&ab_channel=StatQuestwithJoshStarmer), which does an excellent job of explaining what the normal distribution is.\n",
    "\n",
    "The normal distribution, also known as the Gaussian distribution or the bell curve, is a kind of symmetric distribution of data, with a single peak, that looks approximately like this:"
   ]
  },
  {
   "cell_type": "code",
   "execution_count": 31,
   "id": "4788aa19",
   "metadata": {
    "scrolled": true
   },
   "outputs": [
    {
     "data": {
      "text/plain": [
       "<AxesSubplot: >"
      ]
     },
     "execution_count": 31,
     "metadata": {},
     "output_type": "execute_result"
    },
    {
     "data": {
      "image/png": "[encoded data removed]",
      "text/plain": [
       "<Figure size 640x480 with 1 Axes>"
      ]
     },
     "metadata": {},
     "output_type": "display_data"
    }
   ],
   "source": [
    "data = np.random.normal(5, 1, 3000)\n",
    "pd.Series(data).hist(bins=20)"
   ]
  },
  {
   "cell_type": "markdown",
   "id": "a32f8c45",
   "metadata": {},
   "source": [
    "The normal distribution is important as it often appears in the real world. To some extent this is intuitive. Imagine what the distribution of height in a population might look like. You may imagine that most people will have a height near the mean, and as you get further away from the mean height, you are less likely to find people who have that height. We have just described the normal distribution. As you can see on the histogram above, most of the values are concentrated around the mean (which is `5` in this case), and as we get further away from the mean, the height of the bars decreases (meaning the frequency of those values is smaller.\n",
    "\n",
    "\n",
    "The normal distribution is characterized by two parameters: the mean (μ) and the standard deviation (σ). The mean represents the center of the distribution, and the standard deviation represents the spread of the data, which translates to how wide the distribution is on a histogram. In the code cell above, the mean is `5` and the standard deviation is `1`.\n",
    "\n",
    "Take a look at what happens if we increase the standard deviation:"
   ]
  },
  {
   "cell_type": "code",
   "execution_count": 32,
   "id": "e3216bb4",
   "metadata": {
    "scrolled": true
   },
   "outputs": [
    {
     "data": {
      "text/plain": [
       "<AxesSubplot: >"
      ]
     },
     "execution_count": 32,
     "metadata": {},
     "output_type": "execute_result"
    },
    {
     "data": {
      "image/png": "[encoded data removed]",
      "text/plain": [
       "<Figure size 640x480 with 1 Axes>"
      ]
     },
     "metadata": {},
     "output_type": "display_data"
    }
   ],
   "source": [
    "data = np.random.normal(5, 5, 1000)\n",
    "pd.Series(data).hist()"
   ]
  },
  {
   "cell_type": "markdown",
   "id": "4e8ca08c",
   "metadata": {},
   "source": [
    "The shape of the distribution is wider. If we look at the the values in the x-axis, we can see that the data is distributed roughly between the values `-10` and `20` (whereas previously it was roughly between `2` and `8`).\n",
    "\n",
    "Now take a look at what happens if we change the mean:"
   ]
  },
  {
   "cell_type": "code",
   "execution_count": 33,
   "id": "c660c824",
   "metadata": {
    "scrolled": true
   },
   "outputs": [
    {
     "data": {
      "text/plain": [
       "<AxesSubplot: >"
      ]
     },
     "execution_count": 33,
     "metadata": {},
     "output_type": "execute_result"
    },
    {
     "data": {
      "image/png": "[encoded data removed]",
      "text/plain": [
       "<Figure size 640x480 with 1 Axes>"
      ]
     },
     "metadata": {},
     "output_type": "display_data"
    }
   ],
   "source": [
    "data = np.random.normal(20, 5, 1000)\n",
    "pd.Series(data).hist()"
   ]
  },
  {
   "cell_type": "markdown",
   "id": "7ad3e863",
   "metadata": {},
   "source": [
    "The width of the normal distribution is the same, but it has been shifted to the right, since the mean is now `20`"
   ]
  },
  {
   "cell_type": "markdown",
   "id": "f9dbb91b",
   "metadata": {},
   "source": [
    "The normal distribution is an important concept in statistics, as the data distribution of many real-world phenomena is roughly approximated by the normal distribution. The normal distribution also has interesting properties, such as:\n",
    "\n",
    "1. The mean, median, and mode of a normal distribution are all equal.\n",
    "2. About 68% of data falls within one standard deviation of the mean, about 95% falls within two standard deviations, and about 99.7% falls within three standard deviations."
   ]
  },
  {
   "cell_type": "markdown",
   "id": "444f06cf",
   "metadata": {},
   "source": [
    "## 6.4. The uniform distribution <a id='the-uniform-distribution'></a>"
   ]
  },
  {
   "cell_type": "markdown",
   "id": "1edab63f",
   "metadata": {},
   "source": [
    "The uniform distribution is another distribution worth knowing about. Here's what a histogram of values sampled from a uniform distribution looks like:"
   ]
  },
  {
   "cell_type": "code",
   "execution_count": 34,
   "id": "1ec91919",
   "metadata": {},
   "outputs": [
    {
     "data": {
      "text/plain": [
       "<AxesSubplot: >"
      ]
     },
     "execution_count": 34,
     "metadata": {},
     "output_type": "execute_result"
    },
    {
     "data": {
      "image/png": "[encoded data removed]",
      "text/plain": [
       "<Figure size 640x480 with 1 Axes>"
      ]
     },
     "metadata": {},
     "output_type": "display_data"
    }
   ],
   "source": [
    "data = np.random.uniform(1, 10, 10000)\n",
    "pd.Series(data).hist(bins=20)"
   ]
  },
  {
   "cell_type": "markdown",
   "id": "a7df3c70",
   "metadata": {},
   "source": [
    "A perfectly uniform distribution means that all values have the same frequency. "
   ]
  },
  {
   "cell_type": "markdown",
   "id": "32b1b21e",
   "metadata": {},
   "source": [
    "# 7. Answering questions with descriptive statistics <a id='answering-questions'></a>"
   ]
  },
  {
   "cell_type": "markdown",
   "id": "9f88727f",
   "metadata": {},
   "source": [
    "Now we will use Pandas and the UFO sightings dataset to answer the questions posed in the previous notebook."
   ]
  },
  {
   "cell_type": "markdown",
   "id": "65ea2fba",
   "metadata": {},
   "source": [
    "##  7.1. What is the most commonly reported UFO shape? <a id='7-1'></a>"
   ]
  },
  {
   "cell_type": "code",
   "execution_count": 35,
   "id": "4ce548e0",
   "metadata": {
    "scrolled": true
   },
   "outputs": [
    {
     "data": {
      "text/plain": [
       "0    light\n",
       "Name: shape, dtype: object"
      ]
     },
     "execution_count": 35,
     "metadata": {},
     "output_type": "execute_result"
    }
   ],
   "source": [
    "df[\"shape\"].mode()"
   ]
  },
  {
   "cell_type": "markdown",
   "id": "1c328eef",
   "metadata": {},
   "source": [
    "Let's also show a bar graph with the percentage of different shapes reported. We can use the `Series.value_counts()` method to get the frequency of values:"
   ]
  },
  {
   "cell_type": "code",
   "execution_count": 36,
   "id": "84a5f8c6",
   "metadata": {},
   "outputs": [
    {
     "data": {
      "text/plain": [
       "light        16565\n",
       "triangle      7865\n",
       "circle        7608\n",
       "fireball      6208\n",
       "other         5649\n",
       "sphere        5387\n",
       "disk          5213\n",
       "oval          3733\n",
       "formation     2457\n",
       "cigar         2057\n",
       "changing      1962\n",
       "flash         1328\n",
       "rectangle     1297\n",
       "cylinder      1283\n",
       "diamond       1178\n",
       "chevron        952\n",
       "egg            759\n",
       "teardrop       750\n",
       "cone           316\n",
       "cross          233\n",
       "delta            7\n",
       "round            2\n",
       "crescent         2\n",
       "pyramid          1\n",
       "flare            1\n",
       "hexagon          1\n",
       "dome             1\n",
       "changed          1\n",
       "Name: shape, dtype: int64"
      ]
     },
     "execution_count": 36,
     "metadata": {},
     "output_type": "execute_result"
    }
   ],
   "source": [
    "df[\"shape\"].value_counts()"
   ]
  },
  {
   "cell_type": "markdown",
   "id": "6a359edf",
   "metadata": {},
   "source": [
    "If we pass in `True` as the `normalize` argument, then we will get the value counts as a fraction of total number of values:"
   ]
  },
  {
   "cell_type": "code",
   "execution_count": 37,
   "id": "769935e3",
   "metadata": {
    "scrolled": true
   },
   "outputs": [
    {
     "data": {
      "text/plain": [
       "light        0.227491\n",
       "triangle     0.108012\n",
       "circle       0.104483\n",
       "fireball     0.085256\n",
       "other        0.077579\n",
       "sphere       0.073981\n",
       "disk         0.071591\n",
       "oval         0.051266\n",
       "formation    0.033743\n",
       "cigar        0.028249\n",
       "changing     0.026945\n",
       "flash        0.018238\n",
       "rectangle    0.017812\n",
       "cylinder     0.017620\n",
       "diamond      0.016178\n",
       "chevron      0.013074\n",
       "egg          0.010424\n",
       "teardrop     0.010300\n",
       "cone         0.004340\n",
       "cross        0.003200\n",
       "delta        0.000096\n",
       "round        0.000027\n",
       "crescent     0.000027\n",
       "pyramid      0.000014\n",
       "flare        0.000014\n",
       "hexagon      0.000014\n",
       "dome         0.000014\n",
       "changed      0.000014\n",
       "Name: shape, dtype: float64"
      ]
     },
     "execution_count": 37,
     "metadata": {},
     "output_type": "execute_result"
    }
   ],
   "source": [
    "df[\"shape\"].value_counts(normalize=True)"
   ]
  },
  {
   "cell_type": "markdown",
   "id": "3bc3eb86",
   "metadata": {},
   "source": [
    "We can multiply this by a 100 to get the percentage:"
   ]
  },
  {
   "cell_type": "code",
   "execution_count": 38,
   "id": "0ccd890d",
   "metadata": {},
   "outputs": [
    {
     "data": {
      "text/plain": [
       "light        22.749121\n",
       "triangle     10.801198\n",
       "circle       10.448253\n",
       "fireball      8.525599\n",
       "other         7.757910\n",
       "sphere        7.398099\n",
       "disk          7.159141\n",
       "oval          5.126621\n",
       "formation     3.374258\n",
       "cigar         2.824929\n",
       "changing      2.694463\n",
       "flash         1.823775\n",
       "rectangle     1.781202\n",
       "cylinder      1.761975\n",
       "diamond       1.617776\n",
       "chevron       1.307405\n",
       "egg           1.042353\n",
       "teardrop      1.029993\n",
       "cone          0.433971\n",
       "cross         0.319985\n",
       "delta         0.009613\n",
       "round         0.002747\n",
       "crescent      0.002747\n",
       "pyramid       0.001373\n",
       "flare         0.001373\n",
       "hexagon       0.001373\n",
       "dome          0.001373\n",
       "changed       0.001373\n",
       "Name: shape, dtype: float64"
      ]
     },
     "execution_count": 38,
     "metadata": {},
     "output_type": "execute_result"
    }
   ],
   "source": [
    "df[\"shape\"].value_counts(normalize=True) * 100"
   ]
  },
  {
   "cell_type": "markdown",
   "id": "028e31db",
   "metadata": {},
   "source": [
    "Let's use all of this together with the `Series.plot.bar()` method to create a bar graph:"
   ]
  },
  {
   "cell_type": "code",
   "execution_count": 39,
   "id": "9c2e9c78",
   "metadata": {
    "scrolled": false
   },
   "outputs": [
    {
     "data": {
      "text/plain": [
       "<AxesSubplot: title={'center': 'Shape of UFO'}, ylabel='Percentage'>"
      ]
     },
     "execution_count": 39,
     "metadata": {},
     "output_type": "execute_result"
    },
    {
     "data": {
      "image/png": "[encoded data removed]",
      "text/plain": [
       "<Figure size 640x480 with 1 Axes>"
      ]
     },
     "metadata": {},
     "output_type": "display_data"
    }
   ],
   "source": [
    "data = df[\"shape\"].value_counts(normalize=True) * 100\n",
    "\n",
    "data.plot.bar(\n",
    "    title=\"Shape of UFO\",\n",
    "    ylabel=\"Percentage\",\n",
    "    color=[\"blue\", \"cyan\", \"turquoise\", \"magenta\"]\n",
    ")"
   ]
  },
  {
   "cell_type": "markdown",
   "id": "889e246a",
   "metadata": {},
   "source": [
    "## 7.2. What is the average duration of a UFO sighting? <a id='7-2'></a>"
   ]
  },
  {
   "cell_type": "markdown",
   "id": "d09c6b95",
   "metadata": {},
   "source": [
    "As discussed previously, due to there being outliers, it is better to use the median to represent the average duration:"
   ]
  },
  {
   "cell_type": "code",
   "execution_count": 40,
   "id": "54cb615c",
   "metadata": {},
   "outputs": [
    {
     "data": {
      "text/plain": [
       "180.0"
      ]
     },
     "execution_count": 40,
     "metadata": {},
     "output_type": "execute_result"
    }
   ],
   "source": [
    "df[\"duration (seconds)\"].median()"
   ]
  },
  {
   "cell_type": "markdown",
   "id": "48dd0333",
   "metadata": {},
   "source": [
    "We may also want to display a histogram of the values, to get a better sense of the data distribution (the code below is copy-pasted from previous cells):"
   ]
  },
  {
   "cell_type": "code",
   "execution_count": 41,
   "id": "e28d6e64",
   "metadata": {},
   "outputs": [
    {
     "data": {
      "text/plain": [
       "Text(0.5, 1.0, 'Duration of UFO sightings histogram')"
      ]
     },
     "execution_count": 41,
     "metadata": {},
     "output_type": "execute_result"
    },
    {
     "data": {
      "image/png": "[encoded data removed]",
      "text/plain": [
       "<Figure size 640x480 with 1 Axes>"
      ]
     },
     "metadata": {},
     "output_type": "display_data"
    }
   ],
   "source": [
    "# exclude outliers\n",
    "mask_1 = df[\"duration (seconds)\"] >= df[\"duration (seconds)\"].quantile(0.025) \n",
    "mask_2 = df[\"duration (seconds)\"] <= df[\"duration (seconds)\"].quantile(0.975)\n",
    "mask = mask_1 & mask_2\n",
    "\n",
    "# create plot\n",
    "plot = df[mask][\"duration (seconds)\"].hist(bins=30)\n",
    "\n",
    "# add labels and title\n",
    "plot.set_xlabel(\"Duration (seconds)\")\n",
    "plot.set_ylabel(\"Frequency\")\n",
    "plot.set_title(\"Duration of UFO sightings histogram\")"
   ]
  },
  {
   "cell_type": "markdown",
   "id": "6adf24ae",
   "metadata": {},
   "source": [
    "We could also, for example, compare the median duration of UFO sightings in different states in the US:"
   ]
  },
  {
   "cell_type": "code",
   "execution_count": 42,
   "id": "c35d8220",
   "metadata": {
    "scrolled": false
   },
   "outputs": [
    {
     "data": {
      "text/plain": [
       "state\n",
       "bc    7200.0\n",
       "ab    1950.0\n",
       "az     300.0\n",
       "ak     300.0\n",
       "me     300.0\n",
       "ky     240.0\n",
       "wi     240.0\n",
       "nv     240.0\n",
       "nm     240.0\n",
       "nd     240.0\n",
       "mt     240.0\n",
       "ms     240.0\n",
       "de     240.0\n",
       "ga     180.0\n",
       "nh     180.0\n",
       "ca     180.0\n",
       "ar     180.0\n",
       "ny     180.0\n",
       "oh     180.0\n",
       "ok     180.0\n",
       "or     180.0\n",
       "pa     180.0\n",
       "ri     180.0\n",
       "sc     180.0\n",
       "tn     180.0\n",
       "tx     180.0\n",
       "ut     180.0\n",
       "va     180.0\n",
       "vt     180.0\n",
       "al     180.0\n",
       "wv     180.0\n",
       "hi     180.0\n",
       "nj     180.0\n",
       "ne     180.0\n",
       "ks     180.0\n",
       "la     180.0\n",
       "ma     180.0\n",
       "in     180.0\n",
       "il     180.0\n",
       "md     180.0\n",
       "mi     180.0\n",
       "id     180.0\n",
       "mn     180.0\n",
       "mo     180.0\n",
       "ia     180.0\n",
       "ct     180.0\n",
       "nc     180.0\n",
       "fl     180.0\n",
       "sd     165.0\n",
       "wa     120.0\n",
       "wy     120.0\n",
       "co     120.0\n",
       "pr     120.0\n",
       "on      60.0\n",
       "mb      30.0\n",
       "dc      10.0\n",
       "pe       5.0\n",
       "Name: duration (seconds), dtype: float64"
      ]
     },
     "execution_count": 42,
     "metadata": {},
     "output_type": "execute_result"
    }
   ],
   "source": [
    "mask = df[\"country\"] == \"us\"\n",
    "data = df[mask].groupby(\"state\")[\"duration (seconds)\"].median().sort_values(ascending=False)\n",
    "data"
   ]
  },
  {
   "cell_type": "markdown",
   "id": "878cd300",
   "metadata": {},
   "source": [
    "We could then display the data in a bar graph, like so:"
   ]
  },
  {
   "cell_type": "code",
   "execution_count": 43,
   "id": "1a0e4f6c",
   "metadata": {
    "scrolled": false
   },
   "outputs": [
    {
     "data": {
      "text/plain": [
       "<AxesSubplot: title={'center': 'Median duration of UFO sightings (by state in the US)'}, xlabel='state', ylabel='Median duration of UFO sightings'>"
      ]
     },
     "execution_count": 43,
     "metadata": {},
     "output_type": "execute_result"
    },
    {
     "data": {
      "image/png": "[encoded data removed]",
      "text/plain": [
       "<Figure size 640x480 with 1 Axes>"
      ]
     },
     "metadata": {},
     "output_type": "display_data"
    }
   ],
   "source": [
    "plot = data.plot.bar(\n",
    "    title=\"Median duration of UFO sightings (by state in the US)\",\n",
    "    ylabel=\"Median duration of UFO sightings\",\n",
    "    color=\"orange\"\n",
    ")\n",
    "plot"
   ]
  },
  {
   "cell_type": "markdown",
   "id": "abd1063c",
   "metadata": {},
   "source": [
    "It's a bit small - we can increase the width of the graph like so:"
   ]
  },
  {
   "cell_type": "code",
   "execution_count": 44,
   "id": "49b54936",
   "metadata": {},
   "outputs": [
    {
     "data": {
      "image/png": "[encoded data removed]",
      "text/plain": [
       "<Figure size 1200x500 with 1 Axes>"
      ]
     },
     "execution_count": 44,
     "metadata": {},
     "output_type": "execute_result"
    }
   ],
   "source": [
    "plot.figure.set_size_inches(12, 5)\n",
    "plot.figure # writing just plot for some reason no longer works here after resizing"
   ]
  },
  {
   "cell_type": "markdown",
   "id": "347651bc",
   "metadata": {},
   "source": [
    "## 7.3. When do UFO sightings occur? <a id='7-3'></a>"
   ]
  },
  {
   "cell_type": "markdown",
   "id": "80c3343a",
   "metadata": {},
   "source": [
    "This question is not as specific as the previous two questions. For example, we could break it down by:\n",
    "\n",
    "1. hour\n",
    "2. day of the week\n",
    "3. month\n",
    "4. season\n",
    "5. year\n",
    "\n",
    "Let's do all of the above!"
   ]
  },
  {
   "cell_type": "markdown",
   "id": "dd00edd8",
   "metadata": {},
   "source": [
    "### When do UFO sightings occur? (hour)"
   ]
  },
  {
   "cell_type": "code",
   "execution_count": 45,
   "id": "bbe1c4e7",
   "metadata": {
    "scrolled": true
   },
   "outputs": [
    {
     "data": {
      "text/plain": [
       "<AxesSubplot: title={'center': 'Percentage distribution of UFO sightings (by hour)'}, ylabel='Percentage'>"
      ]
     },
     "execution_count": 45,
     "metadata": {},
     "output_type": "execute_result"
    },
    {
     "data": {
      "image/png": "[encoded data removed]",
      "text/plain": [
       "<Figure size 640x480 with 1 Axes>"
      ]
     },
     "metadata": {},
     "output_type": "display_data"
    }
   ],
   "source": [
    "data = df['datetime'].dt.hour.value_counts(normalize=True).sort_index() * 100\n",
    "\n",
    "data.plot.bar(\n",
    "    title=\"Percentage distribution of UFO sightings (by hour)\",\n",
    "    ylabel=\"Percentage\",\n",
    "    color=\"purple\"\n",
    ")"
   ]
  },
  {
   "cell_type": "markdown",
   "id": "41444e0c",
   "metadata": {},
   "source": [
    "### When do UFO sightings occur? (day of week)"
   ]
  },
  {
   "cell_type": "code",
   "execution_count": 46,
   "id": "1b5626ed",
   "metadata": {},
   "outputs": [
    {
     "data": {
      "text/plain": [
       "<AxesSubplot: title={'center': 'Percentage distribution of UFO sightings by day of week'}, ylabel='Percentage'>"
      ]
     },
     "execution_count": 46,
     "metadata": {},
     "output_type": "execute_result"
    },
    {
     "data": {
      "image/png": "[encoded data removed]",
      "text/plain": [
       "<Figure size 640x480 with 1 Axes>"
      ]
     },
     "metadata": {},
     "output_type": "display_data"
    }
   ],
   "source": [
    "data = df['datetime'].dt.dayofweek.value_counts(normalize=True).sort_index() * 100\n",
    "data.index = pd.Index([\"monday\", \"tuesday\", \"wednesday\", \"thursday\", \"friday\", \"saturday\", \"sunday\"])\n",
    "\n",
    "data.plot.bar(\n",
    "    title=\"Percentage distribution of UFO sightings by day of week\",\n",
    "    color=\"purple\",\n",
    "    ylabel=\"Percentage\",\n",
    ")"
   ]
  },
  {
   "cell_type": "markdown",
   "id": "e1d5c82b",
   "metadata": {
    "code_folding": []
   },
   "source": [
    "### When do UFO sightings occur? (month)"
   ]
  },
  {
   "cell_type": "code",
   "execution_count": 47,
   "id": "e6d64e20",
   "metadata": {},
   "outputs": [
    {
     "data": {
      "text/plain": [
       "<AxesSubplot: title={'center': 'Percentage distribution of UFO sightings by month'}, ylabel='Percentage'>"
      ]
     },
     "execution_count": 47,
     "metadata": {},
     "output_type": "execute_result"
    },
    {
     "data": {
      "image/png": "[encoded data removed]",
      "text/plain": [
       "<Figure size 640x480 with 1 Axes>"
      ]
     },
     "metadata": {},
     "output_type": "display_data"
    }
   ],
   "source": [
    "data = df['datetime'].dt.month.value_counts(normalize=True).sort_index() * 100\n",
    "data.index = pd.Index([\n",
    "    \"jan\",\n",
    "    \"feb\",\n",
    "    \"mar\",\n",
    "    \"apr\",\n",
    "    \"may\",\n",
    "    \"jun\",\n",
    "    \"jul\",\n",
    "    \"aug\",\n",
    "    \"sep\",\n",
    "    \"oct\",\n",
    "    \"nov\",\n",
    "    \"dec\"\n",
    "])\n",
    "\n",
    "data.plot.bar(\n",
    "    title=\"Percentage distribution of UFO sightings by month\",\n",
    "    color=\"purple\",\n",
    "    ylabel=\"Percentage\",\n",
    ")"
   ]
  },
  {
   "cell_type": "markdown",
   "id": "35a10f52",
   "metadata": {},
   "source": [
    "### When do UFO sightings occur? (season)"
   ]
  },
  {
   "cell_type": "markdown",
   "id": "7c5e86e9",
   "metadata": {},
   "source": [
    "Let's first create a \"season\" Series based on the month of the year. We can access the month value in the \"datetime\" column like so:"
   ]
  },
  {
   "cell_type": "code",
   "execution_count": 48,
   "id": "7572a418",
   "metadata": {
    "scrolled": false
   },
   "outputs": [
    {
     "data": {
      "text/plain": [
       "0        10\n",
       "1        10\n",
       "2        10\n",
       "3        10\n",
       "4        10\n",
       "         ..\n",
       "80327     9\n",
       "80328     9\n",
       "80329     9\n",
       "80330     9\n",
       "80331     9\n",
       "Name: datetime, Length: 80332, dtype: int64"
      ]
     },
     "execution_count": 48,
     "metadata": {},
     "output_type": "execute_result"
    }
   ],
   "source": [
    "df[\"datetime\"].dt.month"
   ]
  },
  {
   "cell_type": "markdown",
   "id": "3b9f7736",
   "metadata": {},
   "source": [
    "If we look at the unique values, we can see that the month values go from 1 to 12:"
   ]
  },
  {
   "cell_type": "code",
   "execution_count": 49,
   "id": "fee12d72",
   "metadata": {
    "scrolled": true
   },
   "outputs": [
    {
     "data": {
      "text/plain": [
       "array([10,  1, 11, 12,  2,  3,  4,  5,  6,  7,  8,  9])"
      ]
     },
     "execution_count": 49,
     "metadata": {},
     "output_type": "execute_result"
    }
   ],
   "source": [
    "df[\"datetime\"].dt.month.unique()"
   ]
  },
  {
   "cell_type": "markdown",
   "id": "68b3a978",
   "metadata": {},
   "source": [
    "Let's create a function that returns the name of the season based on the month:"
   ]
  },
  {
   "cell_type": "code",
   "execution_count": 50,
   "id": "067855a5",
   "metadata": {},
   "outputs": [],
   "source": [
    "def convert_month_to_season(month):\n",
    "    if month in [12, 1, 2]:\n",
    "        return \"winter\"\n",
    "    elif month in [3, 4, 5]:\n",
    "        return \"spring\"\n",
    "    elif month in [6, 7, 8]:\n",
    "        return \"summer\"\n",
    "    elif month in [9, 10, 11]:\n",
    "        return \"autumn\"\n",
    "    else:\n",
    "        raise ValueError(\"Invalid month value: \" + str(month))"
   ]
  },
  {
   "cell_type": "markdown",
   "id": "d476caec",
   "metadata": {},
   "source": [
    "Now let's see what happens if we apply it to the month values in the \"datetime\" column:"
   ]
  },
  {
   "cell_type": "code",
   "execution_count": 51,
   "id": "ff3359b7",
   "metadata": {
    "scrolled": true
   },
   "outputs": [
    {
     "data": {
      "text/plain": [
       "0        autumn\n",
       "1        autumn\n",
       "2        autumn\n",
       "3        autumn\n",
       "4        autumn\n",
       "          ...  \n",
       "80327    autumn\n",
       "80328    autumn\n",
       "80329    autumn\n",
       "80330    autumn\n",
       "80331    autumn\n",
       "Name: datetime, Length: 80332, dtype: object"
      ]
     },
     "execution_count": 51,
     "metadata": {},
     "output_type": "execute_result"
    }
   ],
   "source": [
    "df[\"datetime\"].dt.month.apply(convert_month_to_season)"
   ]
  },
  {
   "cell_type": "markdown",
   "id": "3a04ae7a",
   "metadata": {},
   "source": [
    "Let's check the unique values to double-check that everything is correct:"
   ]
  },
  {
   "cell_type": "code",
   "execution_count": 52,
   "id": "5f6e6330",
   "metadata": {
    "scrolled": false
   },
   "outputs": [
    {
     "data": {
      "text/plain": [
       "array(['autumn', 'winter', 'spring', 'summer'], dtype=object)"
      ]
     },
     "execution_count": 52,
     "metadata": {},
     "output_type": "execute_result"
    }
   ],
   "source": [
    "df[\"datetime\"].dt.month.apply(convert_month_to_season).unique()"
   ]
  },
  {
   "cell_type": "code",
   "execution_count": 53,
   "id": "fc807c48",
   "metadata": {
    "scrolled": true
   },
   "outputs": [
    {
     "data": {
      "text/plain": [
       "summer    0.327491\n",
       "autumn    0.270565\n",
       "spring    0.202534\n",
       "winter    0.199410\n",
       "Name: datetime, dtype: float64"
      ]
     },
     "execution_count": 53,
     "metadata": {},
     "output_type": "execute_result"
    }
   ],
   "source": [
    "data = df[\"datetime\"].dt.month.apply(convert_month_to_season).value_counts(normalize=True)\n",
    "data"
   ]
  },
  {
   "cell_type": "markdown",
   "id": "a2f43c21",
   "metadata": {},
   "source": [
    "We now want to sort the index so that it is in the following order: summer, autumn, winter, spring. In order to do so, first we have to create an index sorting function that will replace index values with their position. Then we can call the `Series.sort_index()` method and pass in our function as the `key` argument."
   ]
  },
  {
   "cell_type": "code",
   "execution_count": 54,
   "id": "d42e0ec3",
   "metadata": {},
   "outputs": [
    {
     "data": {
      "text/plain": [
       "summer    32.749091\n",
       "autumn    27.056466\n",
       "winter    19.940995\n",
       "spring    20.253448\n",
       "Name: datetime, dtype: float64"
      ]
     },
     "execution_count": 54,
     "metadata": {},
     "output_type": "execute_result"
    }
   ],
   "source": [
    "def sort_index_key(current_index):\n",
    "    mapping = {\"summer\": 0, \"autumn\": 1, \"winter\": 2, \"spring\": 3}\n",
    "    # convert index to series, so that we can use the .replace() method\n",
    "    new_index = pd.Series(current_index)\n",
    "    for key, value in mapping.items():\n",
    "        # replace original index values with numbers representing position\n",
    "        new_index = new_index.replace(key, value)\n",
    "    return new_index\n",
    "\n",
    "data = data.sort_index(key=sort_index_key) * 100\n",
    "data"
   ]
  },
  {
   "cell_type": "markdown",
   "id": "9732c924",
   "metadata": {},
   "source": [
    "Now let's create a bar graph:"
   ]
  },
  {
   "cell_type": "code",
   "execution_count": 55,
   "id": "ef2626cd",
   "metadata": {
    "scrolled": true
   },
   "outputs": [
    {
     "data": {
      "text/plain": [
       "<AxesSubplot: title={'center': 'Percentage distribution of UFO sightings by season'}, ylabel='Percentage'>"
      ]
     },
     "execution_count": 55,
     "metadata": {},
     "output_type": "execute_result"
    },
    {
     "data": {
      "image/png": "[encoded data removed]",
      "text/plain": [
       "<Figure size 640x480 with 1 Axes>"
      ]
     },
     "metadata": {},
     "output_type": "display_data"
    }
   ],
   "source": [
    "data.plot.bar(\n",
    "    title=\"Percentage distribution of UFO sightings by season\",\n",
    "    color=[\"yellow\", \"orange\", \"blue\", \"green\"],\n",
    "    ylabel=\"Percentage\",\n",
    ")"
   ]
  },
  {
   "cell_type": "markdown",
   "id": "ad80d4e0",
   "metadata": {},
   "source": [
    "We can also create a piechart:"
   ]
  },
  {
   "cell_type": "code",
   "execution_count": 56,
   "id": "3a6df425",
   "metadata": {},
   "outputs": [
    {
     "data": {
      "text/plain": [
       "<AxesSubplot: title={'center': 'Percentage distribution of UFO sightings by season'}>"
      ]
     },
     "execution_count": 56,
     "metadata": {},
     "output_type": "execute_result"
    },
    {
     "data": {
      "image/png": "[encoded data removed]",
      "text/plain": [
       "<Figure size 640x480 with 1 Axes>"
      ]
     },
     "metadata": {},
     "output_type": "display_data"
    }
   ],
   "source": [
    "data.plot.pie(\n",
    "    title=\"Percentage distribution of UFO sightings by season\",\n",
    "    ylabel=\"\",\n",
    "    legend=True,\n",
    "    autopct='%1.1f%%',\n",
    "    labeldistance=None\n",
    ")"
   ]
  },
  {
   "cell_type": "markdown",
   "id": "dea70209",
   "metadata": {},
   "source": [
    "### When do UFO sightings occur? (year)"
   ]
  },
  {
   "cell_type": "code",
   "execution_count": 57,
   "id": "e812fdbf",
   "metadata": {
    "scrolled": true
   },
   "outputs": [
    {
     "data": {
      "text/plain": [
       "<AxesSubplot: title={'center': 'UFO sightings by year'}, ylabel='Frequency'>"
      ]
     },
     "execution_count": 57,
     "metadata": {},
     "output_type": "execute_result"
    },
    {
     "data": {
      "image/png": "[encoded data removed]",
      "text/plain": [
       "<Figure size 640x480 with 1 Axes>"
      ]
     },
     "metadata": {},
     "output_type": "display_data"
    }
   ],
   "source": [
    "data = df[\"datetime\"].dt.year.value_counts().sort_index()\n",
    "\n",
    "data.plot.line(\n",
    "    title=\"UFO sightings by year\",\n",
    "    ylabel=\"Frequency\"\n",
    ")"
   ]
  },
  {
   "cell_type": "markdown",
   "id": "8234332f",
   "metadata": {},
   "source": [
    "It seems that the number of UFO sightings has been increasing over the years, but there's a suspicious drop right at the end. Perhaps this is caused by the fact that the data collection for the last year was incomplete. For example, the data was only collected until May. In this case, we should probably remove the data from the last year, when creating the line graph, as it gives a false impression of a decrease in UFO sighting reports. However, first we have to verify that our assumption is correct.\n",
    "\n",
    "Let's first check what is the last year:"
   ]
  },
  {
   "cell_type": "code",
   "execution_count": 58,
   "id": "d7b5f1da",
   "metadata": {},
   "outputs": [
    {
     "data": {
      "text/plain": [
       "2014"
      ]
     },
     "execution_count": 58,
     "metadata": {},
     "output_type": "execute_result"
    }
   ],
   "source": [
    "df[\"datetime\"].dt.year.max()"
   ]
  },
  {
   "cell_type": "markdown",
   "id": "864066b6",
   "metadata": {},
   "source": [
    "Let's create a mask based on the last year:"
   ]
  },
  {
   "cell_type": "code",
   "execution_count": 59,
   "id": "21b74876",
   "metadata": {},
   "outputs": [],
   "source": [
    "mask = df[\"datetime\"].dt.year != df[\"datetime\"].dt.year.max()"
   ]
  },
  {
   "cell_type": "markdown",
   "id": "a2d94f1f",
   "metadata": {},
   "source": [
    "Let's use this mask to find out the what is the largest month value for that year (2014):"
   ]
  },
  {
   "cell_type": "code",
   "execution_count": 60,
   "id": "3aee56f6",
   "metadata": {
    "scrolled": true
   },
   "outputs": [
    {
     "data": {
      "text/plain": [
       "12"
      ]
     },
     "execution_count": 60,
     "metadata": {},
     "output_type": "execute_result"
    }
   ],
   "source": [
    "df[\"datetime\"][mask].dt.month.max()"
   ]
  },
  {
   "cell_type": "markdown",
   "id": "6acda45b",
   "metadata": {},
   "source": [
    "It seems our assumption was wrong - there are UFO sightings reported in December of 2014, which means the data collection isn't incomplete for that year. Therefore our graph is accurate, and there is a decline in UFO sighting reports for some other reason. Nevertheless, it is good to be vigilant when analyzing data, especially when some data seems suspicious. It is always better to investigate and make sure that the data analysis is as accurate as it can be."
   ]
  },
  {
   "cell_type": "markdown",
   "id": "c0e9b63e",
   "metadata": {},
   "source": [
    "## 7.4. Where do UFO sightings occur? <a id='7-4'></a>"
   ]
  },
  {
   "cell_type": "markdown",
   "id": "6cedca11",
   "metadata": {},
   "source": [
    "Similarly, this question is not very specific, and therefore it could be answered in terms of the country, state or city. Let's first answer it in terms of the country:"
   ]
  },
  {
   "cell_type": "code",
   "execution_count": 61,
   "id": "519288cb",
   "metadata": {
    "scrolled": false
   },
   "outputs": [
    {
     "data": {
      "text/plain": [
       "<AxesSubplot: title={'center': 'Frequency of UFO sightings (by country)'}, ylabel='Frequency'>"
      ]
     },
     "execution_count": 61,
     "metadata": {},
     "output_type": "execute_result"
    },
    {
     "data": {
      "image/png": "[encoded data removed]",
      "text/plain": [
       "<Figure size 640x480 with 1 Axes>"
      ]
     },
     "metadata": {},
     "output_type": "display_data"
    }
   ],
   "source": [
    "df[\"country\"].value_counts().plot.bar(title=\"Frequency of UFO sightings (by country)\", ylabel=\"Frequency\")"
   ]
  },
  {
   "cell_type": "markdown",
   "id": "20795e34",
   "metadata": {},
   "source": [
    "Now we can answer it in terms of the state (in the US):"
   ]
  },
  {
   "cell_type": "code",
   "execution_count": 62,
   "id": "524ad924",
   "metadata": {
    "scrolled": true
   },
   "outputs": [
    {
     "data": {
      "text/plain": [
       "<AxesSubplot: title={'center': 'Frequency of UFO sightings (by state in the US)'}, ylabel='Frequency'>"
      ]
     },
     "execution_count": 62,
     "metadata": {},
     "output_type": "execute_result"
    },
    {
     "data": {
      "image/png": "[encoded data removed]",
      "text/plain": [
       "<Figure size 1200x500 with 1 Axes>"
      ]
     },
     "metadata": {},
     "output_type": "display_data"
    }
   ],
   "source": [
    "mask = df[\"country\"] == \"us\"\n",
    "plot = df[mask][\"state\"].value_counts().plot.bar(title=\"Frequency of UFO sightings (by state in the US)\")\n",
    "plot.figure.set_size_inches(12, 5)\n",
    "plot.set_ylabel(\"Frequency\")\n",
    "plot"
   ]
  },
  {
   "cell_type": "markdown",
   "id": "65fbd4c2",
   "metadata": {},
   "source": [
    "If we want to show the frequency of UFO sightings by city, the bar graph is not a good choice because there are just too many cities. We could, however, show the UFO sighting locations on a map since we have the longitude and latitude values. Let's first install the Folium library, which will allow us to do so easily:"
   ]
  },
  {
   "cell_type": "code",
   "execution_count": 63,
   "id": "aaf125d8",
   "metadata": {
    "scrolled": true
   },
   "outputs": [
    {
     "name": "stdout",
     "output_type": "stream",
     "text": [
      "Requirement already satisfied: folium in /home/dvrki/anaconda3/envs/online_courses/lib/python3.9/site-packages (0.14.0)\r\n",
      "Requirement already satisfied: jinja2>=2.9 in /home/dvrki/anaconda3/envs/online_courses/lib/python3.9/site-packages (from folium) (3.1.2)\r\n",
      "Requirement already satisfied: numpy in /home/dvrki/anaconda3/envs/online_courses/lib/python3.9/site-packages (from folium) (1.23.2)\r\n",
      "Requirement already satisfied: branca>=0.6.0 in /home/dvrki/anaconda3/envs/online_courses/lib/python3.9/site-packages (from folium) (0.6.0)\r\n",
      "Requirement already satisfied: requests in /home/dvrki/anaconda3/envs/online_courses/lib/python3.9/site-packages (from folium) (2.28.1)\r\n",
      "Requirement already satisfied: MarkupSafe>=2.0 in /home/dvrki/anaconda3/envs/online_courses/lib/python3.9/site-packages (from jinja2>=2.9->folium) (2.1.1)\r\n",
      "Requirement already satisfied: idna<4,>=2.5 in /home/dvrki/anaconda3/envs/online_courses/lib/python3.9/site-packages (from requests->folium) (3.3)\r\n",
      "Requirement already satisfied: charset-normalizer<3,>=2 in /home/dvrki/anaconda3/envs/online_courses/lib/python3.9/site-packages (from requests->folium) (2.1.1)\r\n",
      "Requirement already satisfied: urllib3<1.27,>=1.21.1 in /home/dvrki/anaconda3/envs/online_courses/lib/python3.9/site-packages (from requests->folium) (1.26.12)\r\n",
      "Requirement already satisfied: certifi>=2017.4.17 in /home/dvrki/anaconda3/envs/online_courses/lib/python3.9/site-packages (from requests->folium) (2022.6.15)\r\n"
     ]
    }
   ],
   "source": [
    "!pip install folium"
   ]
  },
  {
   "cell_type": "markdown",
   "id": "b7e30133",
   "metadata": {},
   "source": [
    "Let's import the library:"
   ]
  },
  {
   "cell_type": "code",
   "execution_count": 64,
   "id": "27647fc9",
   "metadata": {},
   "outputs": [],
   "source": [
    "import folium"
   ]
  },
  {
   "cell_type": "markdown",
   "id": "81a86f80",
   "metadata": {},
   "source": [
    "Let's create an interactive map pointing roughly to the united states:"
   ]
  },
  {
   "cell_type": "code",
   "execution_count": 65,
   "id": "1c2dd034",
   "metadata": {
    "scrolled": false
   },
   "outputs": [
    {
     "data": {
      "text/html": [
       "<div style=\"width:100%;\"><div style=\"position:relative;width:100%;height:0;padding-bottom:60%;\"><span style=\"color:#565656\">Make this Notebook Trusted to load map: File -> Trust Notebook</span><iframe srcdoc=\"&lt;!DOCTYPE html&gt;\n",
       "&lt;html&gt;\n",
       "&lt;head&gt;\n",
       "    \n",
       "    &lt;meta http-equiv=&quot;content-type&quot; content=&quot;text/html; charset=UTF-8&quot; /&gt;\n",
       "    \n",
       "        &lt;script&gt;\n",
       "            L_NO_TOUCH = false;\n",
       "            L_DISABLE_3D = false;\n",
       "        &lt;/script&gt;\n",
       "    \n",
       "    &lt;style&gt;html, body {width: 100%;height: 100%;margin: 0;padding: 0;}&lt;/style&gt;\n",
       "    &lt;style&gt;#map {position:absolute;top:0;bottom:0;right:0;left:0;}&lt;/style&gt;\n",
       "    &lt;script src=&quot;https://cdn.jsdelivr.net/npm/leaflet@1.9.3/dist/leaflet.js&quot;&gt;&lt;/script&gt;\n",
       "    &lt;script src=&quot;https://code.jquery.com/jquery-1.12.4.min.js&quot;&gt;&lt;/script&gt;\n",
       "    &lt;script src=&quot;https://cdn.jsdelivr.net/npm/bootstrap@5.2.2/dist/js/bootstrap.bundle.min.js&quot;&gt;&lt;/script&gt;\n",
       "    &lt;script src=&quot;https://cdnjs.cloudflare.com/ajax/libs/Leaflet.awesome-markers/2.0.2/leaflet.awesome-markers.js&quot;&gt;&lt;/script&gt;\n",
       "    &lt;link rel=&quot;stylesheet&quot; href=&quot;https://cdn.jsdelivr.net/npm/leaflet@1.9.3/dist/leaflet.css&quot;/&gt;\n",
       "    &lt;link rel=&quot;stylesheet&quot; href=&quot;https://cdn.jsdelivr.net/npm/bootstrap@5.2.2/dist/css/bootstrap.min.css&quot;/&gt;\n",
       "    &lt;link rel=&quot;stylesheet&quot; href=&quot;https://netdna.bootstrapcdn.com/bootstrap/3.0.0/css/bootstrap.min.css&quot;/&gt;\n",
       "    &lt;link rel=&quot;stylesheet&quot; href=&quot;https://cdn.jsdelivr.net/npm/@fortawesome/fontawesome-free@6.2.0/css/all.min.css&quot;/&gt;\n",
       "    &lt;link rel=&quot;stylesheet&quot; href=&quot;https://cdnjs.cloudflare.com/ajax/libs/Leaflet.awesome-markers/2.0.2/leaflet.awesome-markers.css&quot;/&gt;\n",
       "    &lt;link rel=&quot;stylesheet&quot; href=&quot;https://cdn.jsdelivr.net/gh/python-visualization/folium/folium/templates/leaflet.awesome.rotate.min.css&quot;/&gt;\n",
       "    \n",
       "            &lt;meta name=&quot;viewport&quot; content=&quot;width=device-width,\n",
       "                initial-scale=1.0, maximum-scale=1.0, user-scalable=no&quot; /&gt;\n",
       "            &lt;style&gt;\n",
       "                #map_48eb1d9a5d2f3e624b5c45ace6bdc442 {\n",
       "                    position: relative;\n",
       "                    width: 100.0%;\n",
       "                    height: 100.0%;\n",
       "                    left: 0.0%;\n",
       "                    top: 0.0%;\n",
       "                }\n",
       "                .leaflet-container { font-size: 1rem; }\n",
       "            &lt;/style&gt;\n",
       "        \n",
       "&lt;/head&gt;\n",
       "&lt;body&gt;\n",
       "    \n",
       "    \n",
       "            &lt;div class=&quot;folium-map&quot; id=&quot;map_48eb1d9a5d2f3e624b5c45ace6bdc442&quot; &gt;&lt;/div&gt;\n",
       "        \n",
       "&lt;/body&gt;\n",
       "&lt;script&gt;\n",
       "    \n",
       "    \n",
       "            var map_48eb1d9a5d2f3e624b5c45ace6bdc442 = L.map(\n",
       "                &quot;map_48eb1d9a5d2f3e624b5c45ace6bdc442&quot;,\n",
       "                {\n",
       "                    center: [37.7, -97.94],\n",
       "                    crs: L.CRS.EPSG3857,\n",
       "                    zoom: 4,\n",
       "                    zoomControl: true,\n",
       "                    preferCanvas: false,\n",
       "                }\n",
       "            );\n",
       "\n",
       "            \n",
       "\n",
       "        \n",
       "    \n",
       "            var tile_layer_d6e0087e975397582c03ddaac95fd58f = L.tileLayer(\n",
       "                &quot;https://cartodb-basemaps-{s}.global.ssl.fastly.net/light_all/{z}/{x}/{y}.png&quot;,\n",
       "                {&quot;attribution&quot;: &quot;\\u0026copy; \\u003ca target=\\&quot;_blank\\&quot; href=\\&quot;http://www.openstreetmap.org/copyright\\&quot;\\u003eOpenStreetMap\\u003c/a\\u003e contributors \\u0026copy; \\u003ca target=\\&quot;_blank\\&quot; href=\\&quot;http://cartodb.com/attributions\\&quot;\\u003eCartoDB\\u003c/a\\u003e, CartoDB \\u003ca target=\\&quot;_blank\\&quot; href =\\&quot;http://cartodb.com/attributions\\&quot;\\u003eattributions\\u003c/a\\u003e&quot;, &quot;detectRetina&quot;: false, &quot;maxNativeZoom&quot;: 18, &quot;maxZoom&quot;: 18, &quot;minZoom&quot;: 0, &quot;noWrap&quot;: false, &quot;opacity&quot;: 1, &quot;subdomains&quot;: &quot;abc&quot;, &quot;tms&quot;: false}\n",
       "            ).addTo(map_48eb1d9a5d2f3e624b5c45ace6bdc442);\n",
       "        \n",
       "&lt;/script&gt;\n",
       "&lt;/html&gt;\" style=\"position:absolute;width:100%;height:100%;left:0;top:0;border:none !important;\" allowfullscreen webkitallowfullscreen mozallowfullscreen></iframe></div></div>"
      ],
      "text/plain": [
       "<folium.folium.Map at 0x7fbfea1a4bb0>"
      ]
     },
     "execution_count": 65,
     "metadata": {},
     "output_type": "execute_result"
    }
   ],
   "source": [
    "m = folium.Map(location=[37.70, -97.94], zoom_start=4, tiles='CartoDB positron')\n",
    "m"
   ]
  },
  {
   "cell_type": "markdown",
   "id": "ede7b1c9",
   "metadata": {},
   "source": [
    "Now let's add markers to the map that contain some information about specific UFO sightings. Here's a brief outline of what the code in the cell below does (we'll go over some of those things in more detail in just a bit)\n",
    "\n",
    "1. We first create a mask to only select UFO sightings within the US\n",
    "2. We then use a for loop with the `DataFrame.iterrows()` method, which returns an iterator that iterates over each row in the dataframe. The iterator returns a tuple containing an index and a Series, which we unpack to the variables `i` and `row`.\n",
    "3. To limit the number of markers that appear on the map (for visual clarity), we add a conditional statement, which will only add a marker for every 1000th row.\n",
    "4. We create a variable containing text that will popup if we click on the marker (we use f-strings to format the text - more will be said about this in a bit)\n",
    "5. We create a folium marker based on the latitude and longitude values in the row\n",
    "6. We add the marker to the map we created earlier and stored in the variable `m`\n",
    "7. We display the map stored in the variable `m`\n",
    "\n",
    "**Note:** the code cell below might take up to a minute to run. Also, you may notice that the \"longitude \" column name has a space at the end. This is  was not caught during the data preparation process, but fortunately it is only a small nuisance. "
   ]
  },
  {
   "cell_type": "code",
   "execution_count": 66,
   "id": "379d2c90",
   "metadata": {},
   "outputs": [
    {
     "data": {
      "text/html": [
       "<div style=\"width:100%;\"><div style=\"position:relative;width:100%;height:0;padding-bottom:60%;\"><span style=\"color:#565656\">Make this Notebook Trusted to load map: File -> Trust Notebook</span><iframe srcdoc=\"&lt;!DOCTYPE html&gt;\n",
       "&lt;html&gt;\n",
       "&lt;head&gt;\n",
       "    \n",
       "    &lt;meta http-equiv=&quot;content-type&quot; content=&quot;text/html; charset=UTF-8&quot; /&gt;\n",
       "    \n",
       "        &lt;script&gt;\n",
       "            L_NO_TOUCH = false;\n",
       "            L_DISABLE_3D = false;\n",
       "        &lt;/script&gt;\n",
       "    \n",
       "    &lt;style&gt;html, body {width: 100%;height: 100%;margin: 0;padding: 0;}&lt;/style&gt;\n",
       "    &lt;style&gt;#map {position:absolute;top:0;bottom:0;right:0;left:0;}&lt;/style&gt;\n",
       "    &lt;script src=&quot;https://cdn.jsdelivr.net/npm/leaflet@1.9.3/dist/leaflet.js&quot;&gt;&lt;/script&gt;\n",
       "    &lt;script src=&quot;https://code.jquery.com/jquery-1.12.4.min.js&quot;&gt;&lt;/script&gt;\n",
       "    &lt;script src=&quot;https://cdn.jsdelivr.net/npm/bootstrap@5.2.2/dist/js/bootstrap.bundle.min.js&quot;&gt;&lt;/script&gt;\n",
       "    &lt;script src=&quot;https://cdnjs.cloudflare.com/ajax/libs/Leaflet.awesome-markers/2.0.2/leaflet.awesome-markers.js&quot;&gt;&lt;/script&gt;\n",
       "    &lt;link rel=&quot;stylesheet&quot; href=&quot;https://cdn.jsdelivr.net/npm/leaflet@1.9.3/dist/leaflet.css&quot;/&gt;\n",
       "    &lt;link rel=&quot;stylesheet&quot; href=&quot;https://cdn.jsdelivr.net/npm/bootstrap@5.2.2/dist/css/bootstrap.min.css&quot;/&gt;\n",
       "    &lt;link rel=&quot;stylesheet&quot; href=&quot;https://netdna.bootstrapcdn.com/bootstrap/3.0.0/css/bootstrap.min.css&quot;/&gt;\n",
       "    &lt;link rel=&quot;stylesheet&quot; href=&quot;https://cdn.jsdelivr.net/npm/@fortawesome/fontawesome-free@6.2.0/css/all.min.css&quot;/&gt;\n",
       "    &lt;link rel=&quot;stylesheet&quot; href=&quot;https://cdnjs.cloudflare.com/ajax/libs/Leaflet.awesome-markers/2.0.2/leaflet.awesome-markers.css&quot;/&gt;\n",
       "    &lt;link rel=&quot;stylesheet&quot; href=&quot;https://cdn.jsdelivr.net/gh/python-visualization/folium/folium/templates/leaflet.awesome.rotate.min.css&quot;/&gt;\n",
       "    \n",
       "            &lt;meta name=&quot;viewport&quot; content=&quot;width=device-width,\n",
       "                initial-scale=1.0, maximum-scale=1.0, user-scalable=no&quot; /&gt;\n",
       "            &lt;style&gt;\n",
       "                #map_48eb1d9a5d2f3e624b5c45ace6bdc442 {\n",
       "                    position: relative;\n",
       "                    width: 100.0%;\n",
       "                    height: 100.0%;\n",
       "                    left: 0.0%;\n",
       "                    top: 0.0%;\n",
       "                }\n",
       "                .leaflet-container { font-size: 1rem; }\n",
       "            &lt;/style&gt;\n",
       "        \n",
       "&lt;/head&gt;\n",
       "&lt;body&gt;\n",
       "    \n",
       "    \n",
       "            &lt;div class=&quot;folium-map&quot; id=&quot;map_48eb1d9a5d2f3e624b5c45ace6bdc442&quot; &gt;&lt;/div&gt;\n",
       "        \n",
       "&lt;/body&gt;\n",
       "&lt;script&gt;\n",
       "    \n",
       "    \n",
       "            var map_48eb1d9a5d2f3e624b5c45ace6bdc442 = L.map(\n",
       "                &quot;map_48eb1d9a5d2f3e624b5c45ace6bdc442&quot;,\n",
       "                {\n",
       "                    center: [37.7, -97.94],\n",
       "                    crs: L.CRS.EPSG3857,\n",
       "                    zoom: 4,\n",
       "                    zoomControl: true,\n",
       "                    preferCanvas: false,\n",
       "                }\n",
       "            );\n",
       "\n",
       "            \n",
       "\n",
       "        \n",
       "    \n",
       "            var tile_layer_d6e0087e975397582c03ddaac95fd58f = L.tileLayer(\n",
       "                &quot;https://cartodb-basemaps-{s}.global.ssl.fastly.net/light_all/{z}/{x}/{y}.png&quot;,\n",
       "                {&quot;attribution&quot;: &quot;\\u0026copy; \\u003ca target=\\&quot;_blank\\&quot; href=\\&quot;http://www.openstreetmap.org/copyright\\&quot;\\u003eOpenStreetMap\\u003c/a\\u003e contributors \\u0026copy; \\u003ca target=\\&quot;_blank\\&quot; href=\\&quot;http://cartodb.com/attributions\\&quot;\\u003eCartoDB\\u003c/a\\u003e, CartoDB \\u003ca target=\\&quot;_blank\\&quot; href =\\&quot;http://cartodb.com/attributions\\&quot;\\u003eattributions\\u003c/a\\u003e&quot;, &quot;detectRetina&quot;: false, &quot;maxNativeZoom&quot;: 18, &quot;maxZoom&quot;: 18, &quot;minZoom&quot;: 0, &quot;noWrap&quot;: false, &quot;opacity&quot;: 1, &quot;subdomains&quot;: &quot;abc&quot;, &quot;tms&quot;: false}\n",
       "            ).addTo(map_48eb1d9a5d2f3e624b5c45ace6bdc442);\n",
       "        \n",
       "    \n",
       "            var marker_711e03eb6ad19c3101c084dd45b16a71 = L.marker(\n",
       "                [29.8830556, -97.9411111],\n",
       "                {}\n",
       "            ).addTo(map_48eb1d9a5d2f3e624b5c45ace6bdc442);\n",
       "        \n",
       "    \n",
       "        var popup_5446f646331a8d61f8bd3a0a52546778 = L.popup({&quot;maxWidth&quot;: &quot;100%&quot;});\n",
       "\n",
       "        \n",
       "            \n",
       "                var html_0106faf79fdb9f2e2e025b983ba40b01 = $(`&lt;div id=&quot;html_0106faf79fdb9f2e2e025b983ba40b01&quot; style=&quot;width: 100.0%; height: 100.0%;&quot;&gt;City: san marcos    Duration: 2700.0    Shape: cylinder&lt;/div&gt;`)[0];\n",
       "                popup_5446f646331a8d61f8bd3a0a52546778.setContent(html_0106faf79fdb9f2e2e025b983ba40b01);\n",
       "            \n",
       "        \n",
       "\n",
       "        marker_711e03eb6ad19c3101c084dd45b16a71.bindPopup(popup_5446f646331a8d61f8bd3a0a52546778)\n",
       "        ;\n",
       "\n",
       "        \n",
       "    \n",
       "    \n",
       "            var marker_13fc6d67a21aa07527cda4b0e4de89f8 = L.marker(\n",
       "                [36.8297222, -84.8491667],\n",
       "                {}\n",
       "            ).addTo(map_48eb1d9a5d2f3e624b5c45ace6bdc442);\n",
       "        \n",
       "    \n",
       "        var popup_3b0ef27d76ef8e8d58e7b1a3b3d3f8af = L.popup({&quot;maxWidth&quot;: &quot;100%&quot;});\n",
       "\n",
       "        \n",
       "            \n",
       "                var html_7788879813cf00e02786feb2366a68f0 = $(`&lt;div id=&quot;html_7788879813cf00e02786feb2366a68f0&quot; style=&quot;width: 100.0%; height: 100.0%;&quot;&gt;City: monticello    Duration: 120.0    Shape: chevron&lt;/div&gt;`)[0];\n",
       "                popup_3b0ef27d76ef8e8d58e7b1a3b3d3f8af.setContent(html_7788879813cf00e02786feb2366a68f0);\n",
       "            \n",
       "        \n",
       "\n",
       "        marker_13fc6d67a21aa07527cda4b0e4de89f8.bindPopup(popup_3b0ef27d76ef8e8d58e7b1a3b3d3f8af)\n",
       "        ;\n",
       "\n",
       "        \n",
       "    \n",
       "    \n",
       "            var marker_11b74de12d158fe3c4740a0cfc6f059e = L.marker(\n",
       "                [41.5922222, -119.8594444],\n",
       "                {}\n",
       "            ).addTo(map_48eb1d9a5d2f3e624b5c45ace6bdc442);\n",
       "        \n",
       "    \n",
       "        var popup_a54d0ce60fc028ccfb4cbdf30fb43b41 = L.popup({&quot;maxWidth&quot;: &quot;100%&quot;});\n",
       "\n",
       "        \n",
       "            \n",
       "                var html_72bafc53fcbc8acd33b575b46b246e5f = $(`&lt;div id=&quot;html_72bafc53fcbc8acd33b575b46b246e5f&quot; style=&quot;width: 100.0%; height: 100.0%;&quot;&gt;City: vya (ghost town)    Duration: 900.0    Shape: light&lt;/div&gt;`)[0];\n",
       "                popup_a54d0ce60fc028ccfb4cbdf30fb43b41.setContent(html_72bafc53fcbc8acd33b575b46b246e5f);\n",
       "            \n",
       "        \n",
       "\n",
       "        marker_11b74de12d158fe3c4740a0cfc6f059e.bindPopup(popup_a54d0ce60fc028ccfb4cbdf30fb43b41)\n",
       "        ;\n",
       "\n",
       "        \n",
       "    \n",
       "    \n",
       "            var marker_033f78b33128c0b57ec671169f61e735 = L.marker(\n",
       "                [45.0847222, -93.0097222],\n",
       "                {}\n",
       "            ).addTo(map_48eb1d9a5d2f3e624b5c45ace6bdc442);\n",
       "        \n",
       "    \n",
       "        var popup_1dddf6ec2e4b3b840594e7dfac60ba11 = L.popup({&quot;maxWidth&quot;: &quot;100%&quot;});\n",
       "\n",
       "        \n",
       "            \n",
       "                var html_fed7f60cdfaf9248c3b4c970a7d51e6d = $(`&lt;div id=&quot;html_fed7f60cdfaf9248c3b4c970a7d51e6d&quot; style=&quot;width: 100.0%; height: 100.0%;&quot;&gt;City: white bear lake    Duration: 600.0    Shape: triangle&lt;/div&gt;`)[0];\n",
       "                popup_1dddf6ec2e4b3b840594e7dfac60ba11.setContent(html_fed7f60cdfaf9248c3b4c970a7d51e6d);\n",
       "            \n",
       "        \n",
       "\n",
       "        marker_033f78b33128c0b57ec671169f61e735.bindPopup(popup_1dddf6ec2e4b3b840594e7dfac60ba11)\n",
       "        ;\n",
       "\n",
       "        \n",
       "    \n",
       "    \n",
       "            var marker_f431ec429e8487c804c18cfe65c8a6d6 = L.marker(\n",
       "                [42.3313889, -83.0458333],\n",
       "                {}\n",
       "            ).addTo(map_48eb1d9a5d2f3e624b5c45ace6bdc442);\n",
       "        \n",
       "    \n",
       "        var popup_6482685538dfdc6a23105a851ac63edf = L.popup({&quot;maxWidth&quot;: &quot;100%&quot;});\n",
       "\n",
       "        \n",
       "            \n",
       "                var html_37356cc9e76a655421db5a51cf004d64 = $(`&lt;div id=&quot;html_37356cc9e76a655421db5a51cf004d64&quot; style=&quot;width: 100.0%; height: 100.0%;&quot;&gt;City: detroit    Duration: 60.0    Shape: circle&lt;/div&gt;`)[0];\n",
       "                popup_6482685538dfdc6a23105a851ac63edf.setContent(html_37356cc9e76a655421db5a51cf004d64);\n",
       "            \n",
       "        \n",
       "\n",
       "        marker_f431ec429e8487c804c18cfe65c8a6d6.bindPopup(popup_6482685538dfdc6a23105a851ac63edf)\n",
       "        ;\n",
       "\n",
       "        \n",
       "    \n",
       "    \n",
       "            var marker_3fed8d8c297461469c0b6855bbb5460d = L.marker(\n",
       "                [38.6772222, -87.5286111],\n",
       "                {}\n",
       "            ).addTo(map_48eb1d9a5d2f3e624b5c45ace6bdc442);\n",
       "        \n",
       "    \n",
       "        var popup_4f0785a75769689fe0fc2cc7d71d8132 = L.popup({&quot;maxWidth&quot;: &quot;100%&quot;});\n",
       "\n",
       "        \n",
       "            \n",
       "                var html_156cf165e5a2e9d59c04b8aef6bb73a5 = $(`&lt;div id=&quot;html_156cf165e5a2e9d59c04b8aef6bb73a5&quot; style=&quot;width: 100.0%; height: 100.0%;&quot;&gt;City: vincennes    Duration: 10.0    Shape: triangle&lt;/div&gt;`)[0];\n",
       "                popup_4f0785a75769689fe0fc2cc7d71d8132.setContent(html_156cf165e5a2e9d59c04b8aef6bb73a5);\n",
       "            \n",
       "        \n",
       "\n",
       "        marker_3fed8d8c297461469c0b6855bbb5460d.bindPopup(popup_4f0785a75769689fe0fc2cc7d71d8132)\n",
       "        ;\n",
       "\n",
       "        \n",
       "    \n",
       "    \n",
       "            var marker_233ce88d571eb2cc0baed943c86f9b57 = L.marker(\n",
       "                [40.1672222, -105.1013889],\n",
       "                {}\n",
       "            ).addTo(map_48eb1d9a5d2f3e624b5c45ace6bdc442);\n",
       "        \n",
       "    \n",
       "        var popup_7564f2db989bbc7c6953093c5df1ec37 = L.popup({&quot;maxWidth&quot;: &quot;100%&quot;});\n",
       "\n",
       "        \n",
       "            \n",
       "                var html_1a0ac0ac57d9425c7417bb12f11c298a = $(`&lt;div id=&quot;html_1a0ac0ac57d9425c7417bb12f11c298a&quot; style=&quot;width: 100.0%; height: 100.0%;&quot;&gt;City: longmont    Duration: 7200.0    Shape: nan&lt;/div&gt;`)[0];\n",
       "                popup_7564f2db989bbc7c6953093c5df1ec37.setContent(html_1a0ac0ac57d9425c7417bb12f11c298a);\n",
       "            \n",
       "        \n",
       "\n",
       "        marker_233ce88d571eb2cc0baed943c86f9b57.bindPopup(popup_7564f2db989bbc7c6953093c5df1ec37)\n",
       "        ;\n",
       "\n",
       "        \n",
       "    \n",
       "    \n",
       "            var marker_f9e19e7148c53a72c2df655febf09bcf = L.marker(\n",
       "                [34.1083333, -117.2888889],\n",
       "                {}\n",
       "            ).addTo(map_48eb1d9a5d2f3e624b5c45ace6bdc442);\n",
       "        \n",
       "    \n",
       "        var popup_87623d5636979db68f8da08124975503 = L.popup({&quot;maxWidth&quot;: &quot;100%&quot;});\n",
       "\n",
       "        \n",
       "            \n",
       "                var html_ee6db286295cf0a3543a9973ccfe298f = $(`&lt;div id=&quot;html_ee6db286295cf0a3543a9973ccfe298f&quot; style=&quot;width: 100.0%; height: 100.0%;&quot;&gt;City: san bernardino    Duration: 60.0    Shape: light&lt;/div&gt;`)[0];\n",
       "                popup_87623d5636979db68f8da08124975503.setContent(html_ee6db286295cf0a3543a9973ccfe298f);\n",
       "            \n",
       "        \n",
       "\n",
       "        marker_f9e19e7148c53a72c2df655febf09bcf.bindPopup(popup_87623d5636979db68f8da08124975503)\n",
       "        ;\n",
       "\n",
       "        \n",
       "    \n",
       "    \n",
       "            var marker_c44668422423c2486047956a2738b8c6 = L.marker(\n",
       "                [32.7252778, -114.6236111],\n",
       "                {}\n",
       "            ).addTo(map_48eb1d9a5d2f3e624b5c45ace6bdc442);\n",
       "        \n",
       "    \n",
       "        var popup_e921440906a547eed68f2273d4d3b39f = L.popup({&quot;maxWidth&quot;: &quot;100%&quot;});\n",
       "\n",
       "        \n",
       "            \n",
       "                var html_3fd2df913bc124999d74e593fae6ea10 = $(`&lt;div id=&quot;html_3fd2df913bc124999d74e593fae6ea10&quot; style=&quot;width: 100.0%; height: 100.0%;&quot;&gt;City: yuma    Duration: 3000.0    Shape: oval&lt;/div&gt;`)[0];\n",
       "                popup_e921440906a547eed68f2273d4d3b39f.setContent(html_3fd2df913bc124999d74e593fae6ea10);\n",
       "            \n",
       "        \n",
       "\n",
       "        marker_c44668422423c2486047956a2738b8c6.bindPopup(popup_e921440906a547eed68f2273d4d3b39f)\n",
       "        ;\n",
       "\n",
       "        \n",
       "    \n",
       "    \n",
       "            var marker_15c6532e64ef3e57033ab83c0b83a356 = L.marker(\n",
       "                [41.865, -80.79],\n",
       "                {}\n",
       "            ).addTo(map_48eb1d9a5d2f3e624b5c45ace6bdc442);\n",
       "        \n",
       "    \n",
       "        var popup_ff50a0e984459cba1e185259aa0eb685 = L.popup({&quot;maxWidth&quot;: &quot;100%&quot;});\n",
       "\n",
       "        \n",
       "            \n",
       "                var html_6c0c8ad4116904a9dd1854a46dc7cf6d = $(`&lt;div id=&quot;html_6c0c8ad4116904a9dd1854a46dc7cf6d&quot; style=&quot;width: 100.0%; height: 100.0%;&quot;&gt;City: ashtabula    Duration: 900.0    Shape: triangle&lt;/div&gt;`)[0];\n",
       "                popup_ff50a0e984459cba1e185259aa0eb685.setContent(html_6c0c8ad4116904a9dd1854a46dc7cf6d);\n",
       "            \n",
       "        \n",
       "\n",
       "        marker_15c6532e64ef3e57033ab83c0b83a356.bindPopup(popup_ff50a0e984459cba1e185259aa0eb685)\n",
       "        ;\n",
       "\n",
       "        \n",
       "    \n",
       "    \n",
       "            var marker_1a9dd6548f8cd2fa58da2a0e0c9dde3d = L.marker(\n",
       "                [27.3361111, -82.5308333],\n",
       "                {}\n",
       "            ).addTo(map_48eb1d9a5d2f3e624b5c45ace6bdc442);\n",
       "        \n",
       "    \n",
       "        var popup_76e059839be7541a9e03e4aa359f5d4f = L.popup({&quot;maxWidth&quot;: &quot;100%&quot;});\n",
       "\n",
       "        \n",
       "            \n",
       "                var html_732bb8feb55fab89337fdfb02bb93627 = $(`&lt;div id=&quot;html_732bb8feb55fab89337fdfb02bb93627&quot; style=&quot;width: 100.0%; height: 100.0%;&quot;&gt;City: sarasota    Duration: 3600.0    Shape: light&lt;/div&gt;`)[0];\n",
       "                popup_76e059839be7541a9e03e4aa359f5d4f.setContent(html_732bb8feb55fab89337fdfb02bb93627);\n",
       "            \n",
       "        \n",
       "\n",
       "        marker_1a9dd6548f8cd2fa58da2a0e0c9dde3d.bindPopup(popup_76e059839be7541a9e03e4aa359f5d4f)\n",
       "        ;\n",
       "\n",
       "        \n",
       "    \n",
       "    \n",
       "            var marker_2a573b1c778749526d3e97a38ed6e105 = L.marker(\n",
       "                [40.8041667, -74.0125],\n",
       "                {}\n",
       "            ).addTo(map_48eb1d9a5d2f3e624b5c45ace6bdc442);\n",
       "        \n",
       "    \n",
       "        var popup_6060fdcda098967b6119af8f72023ddb = L.popup({&quot;maxWidth&quot;: &quot;100%&quot;});\n",
       "\n",
       "        \n",
       "            \n",
       "                var html_c1325badfd21b9303d00de08bc902c02 = $(`&lt;div id=&quot;html_c1325badfd21b9303d00de08bc902c02&quot; style=&quot;width: 100.0%; height: 100.0%;&quot;&gt;City: north bergen    Duration: 2700.0    Shape: other&lt;/div&gt;`)[0];\n",
       "                popup_6060fdcda098967b6119af8f72023ddb.setContent(html_c1325badfd21b9303d00de08bc902c02);\n",
       "            \n",
       "        \n",
       "\n",
       "        marker_2a573b1c778749526d3e97a38ed6e105.bindPopup(popup_6060fdcda098967b6119af8f72023ddb)\n",
       "        ;\n",
       "\n",
       "        \n",
       "    \n",
       "    \n",
       "            var marker_e16c5f899a99b5dc97785481e07ef77d = L.marker(\n",
       "                [33.787794, -117.853112],\n",
       "                {}\n",
       "            ).addTo(map_48eb1d9a5d2f3e624b5c45ace6bdc442);\n",
       "        \n",
       "    \n",
       "        var popup_0f5eaf867764c79830d4cb074e8c2b43 = L.popup({&quot;maxWidth&quot;: &quot;100%&quot;});\n",
       "\n",
       "        \n",
       "            \n",
       "                var html_65d6aa87497a103eafa6edd291902033 = $(`&lt;div id=&quot;html_65d6aa87497a103eafa6edd291902033&quot; style=&quot;width: 100.0%; height: 100.0%;&quot;&gt;City: orange county/san bernardino    Duration: 5.0    Shape: disk&lt;/div&gt;`)[0];\n",
       "                popup_0f5eaf867764c79830d4cb074e8c2b43.setContent(html_65d6aa87497a103eafa6edd291902033);\n",
       "            \n",
       "        \n",
       "\n",
       "        marker_e16c5f899a99b5dc97785481e07ef77d.bindPopup(popup_0f5eaf867764c79830d4cb074e8c2b43)\n",
       "        ;\n",
       "\n",
       "        \n",
       "    \n",
       "    \n",
       "            var marker_d3d956917833c1139069b8853fed5249 = L.marker(\n",
       "                [40.7141667, -74.0063889],\n",
       "                {}\n",
       "            ).addTo(map_48eb1d9a5d2f3e624b5c45ace6bdc442);\n",
       "        \n",
       "    \n",
       "        var popup_bd77852a528418e196c369af22a2ad2a = L.popup({&quot;maxWidth&quot;: &quot;100%&quot;});\n",
       "\n",
       "        \n",
       "            \n",
       "                var html_a37ba3163b7bbcc2b16c945426ec11eb = $(`&lt;div id=&quot;html_a37ba3163b7bbcc2b16c945426ec11eb&quot; style=&quot;width: 100.0%; height: 100.0%;&quot;&gt;City: new york city (manhattan) (upper east side)    Duration: 900.0    Shape: chevron&lt;/div&gt;`)[0];\n",
       "                popup_bd77852a528418e196c369af22a2ad2a.setContent(html_a37ba3163b7bbcc2b16c945426ec11eb);\n",
       "            \n",
       "        \n",
       "\n",
       "        marker_d3d956917833c1139069b8853fed5249.bindPopup(popup_bd77852a528418e196c369af22a2ad2a)\n",
       "        ;\n",
       "\n",
       "        \n",
       "    \n",
       "    \n",
       "            var marker_0a331c7a5567870a707d0f795a130b9e = L.marker(\n",
       "                [33.7091667, -117.1963889],\n",
       "                {}\n",
       "            ).addTo(map_48eb1d9a5d2f3e624b5c45ace6bdc442);\n",
       "        \n",
       "    \n",
       "        var popup_0a32ccb4e21695b75d44c1b136124406 = L.popup({&quot;maxWidth&quot;: &quot;100%&quot;});\n",
       "\n",
       "        \n",
       "            \n",
       "                var html_7e359e689ee6b33fcc6e7b1cff479366 = $(`&lt;div id=&quot;html_7e359e689ee6b33fcc6e7b1cff479366&quot; style=&quot;width: 100.0%; height: 100.0%;&quot;&gt;City: sun city    Duration: 10.0    Shape: formation&lt;/div&gt;`)[0];\n",
       "                popup_0a32ccb4e21695b75d44c1b136124406.setContent(html_7e359e689ee6b33fcc6e7b1cff479366);\n",
       "            \n",
       "        \n",
       "\n",
       "        marker_0a331c7a5567870a707d0f795a130b9e.bindPopup(popup_0a32ccb4e21695b75d44c1b136124406)\n",
       "        ;\n",
       "\n",
       "        \n",
       "    \n",
       "    \n",
       "            var marker_bbee364d8ce27f32d774382cdd29602b = L.marker(\n",
       "                [33.4716667, -86.8008333],\n",
       "                {}\n",
       "            ).addTo(map_48eb1d9a5d2f3e624b5c45ace6bdc442);\n",
       "        \n",
       "    \n",
       "        var popup_bdc1ccd5d65b691e1b830ec4039ae631 = L.popup({&quot;maxWidth&quot;: &quot;100%&quot;});\n",
       "\n",
       "        \n",
       "            \n",
       "                var html_e7df0275903b026a200fa3c3eecc30f6 = $(`&lt;div id=&quot;html_e7df0275903b026a200fa3c3eecc30f6&quot; style=&quot;width: 100.0%; height: 100.0%;&quot;&gt;City: homewood    Duration: 3.0    Shape: light&lt;/div&gt;`)[0];\n",
       "                popup_bdc1ccd5d65b691e1b830ec4039ae631.setContent(html_e7df0275903b026a200fa3c3eecc30f6);\n",
       "            \n",
       "        \n",
       "\n",
       "        marker_bbee364d8ce27f32d774382cdd29602b.bindPopup(popup_bdc1ccd5d65b691e1b830ec4039ae631)\n",
       "        ;\n",
       "\n",
       "        \n",
       "    \n",
       "    \n",
       "            var marker_36dff357af30f1dff2b654b19ebddbc2 = L.marker(\n",
       "                [37.6922222, -97.3372222],\n",
       "                {}\n",
       "            ).addTo(map_48eb1d9a5d2f3e624b5c45ace6bdc442);\n",
       "        \n",
       "    \n",
       "        var popup_85c582edfd45f5d001825c723fb8dc1d = L.popup({&quot;maxWidth&quot;: &quot;100%&quot;});\n",
       "\n",
       "        \n",
       "            \n",
       "                var html_1c451aa952f61720e7ac1ce7ba90b0d8 = $(`&lt;div id=&quot;html_1c451aa952f61720e7ac1ce7ba90b0d8&quot; style=&quot;width: 100.0%; height: 100.0%;&quot;&gt;City: wichita    Duration: 30.0    Shape: oval&lt;/div&gt;`)[0];\n",
       "                popup_85c582edfd45f5d001825c723fb8dc1d.setContent(html_1c451aa952f61720e7ac1ce7ba90b0d8);\n",
       "            \n",
       "        \n",
       "\n",
       "        marker_36dff357af30f1dff2b654b19ebddbc2.bindPopup(popup_85c582edfd45f5d001825c723fb8dc1d)\n",
       "        ;\n",
       "\n",
       "        \n",
       "    \n",
       "    \n",
       "            var marker_85ff9a4fb0c70e8d080c97e4405ef2c9 = L.marker(\n",
       "                [48.2766667, -116.5522222],\n",
       "                {}\n",
       "            ).addTo(map_48eb1d9a5d2f3e624b5c45ace6bdc442);\n",
       "        \n",
       "    \n",
       "        var popup_f63a7d506f9fa1bc740cf24f57a1ffcf = L.popup({&quot;maxWidth&quot;: &quot;100%&quot;});\n",
       "\n",
       "        \n",
       "            \n",
       "                var html_6ec86710f32018f1ce339989c818fe4d = $(`&lt;div id=&quot;html_6ec86710f32018f1ce339989c818fe4d&quot; style=&quot;width: 100.0%; height: 100.0%;&quot;&gt;City: sandpoint    Duration: 5400.0    Shape: nan&lt;/div&gt;`)[0];\n",
       "                popup_f63a7d506f9fa1bc740cf24f57a1ffcf.setContent(html_6ec86710f32018f1ce339989c818fe4d);\n",
       "            \n",
       "        \n",
       "\n",
       "        marker_85ff9a4fb0c70e8d080c97e4405ef2c9.bindPopup(popup_f63a7d506f9fa1bc740cf24f57a1ffcf)\n",
       "        ;\n",
       "\n",
       "        \n",
       "    \n",
       "    \n",
       "            var marker_f39a14651abdd5475aa4a395e80f767a = L.marker(\n",
       "                [38.5280556, -81.6311111],\n",
       "                {}\n",
       "            ).addTo(map_48eb1d9a5d2f3e624b5c45ace6bdc442);\n",
       "        \n",
       "    \n",
       "        var popup_544b269b8457d4cfe4450cf15a746054 = L.popup({&quot;maxWidth&quot;: &quot;100%&quot;});\n",
       "\n",
       "        \n",
       "            \n",
       "                var html_05f197c58618a360dd4455c5bba311e6 = $(`&lt;div id=&quot;html_05f197c58618a360dd4455c5bba311e6&quot; style=&quot;width: 100.0%; height: 100.0%;&quot;&gt;City: sissonville    Duration: 180.0    Shape: light&lt;/div&gt;`)[0];\n",
       "                popup_544b269b8457d4cfe4450cf15a746054.setContent(html_05f197c58618a360dd4455c5bba311e6);\n",
       "            \n",
       "        \n",
       "\n",
       "        marker_f39a14651abdd5475aa4a395e80f767a.bindPopup(popup_544b269b8457d4cfe4450cf15a746054)\n",
       "        ;\n",
       "\n",
       "        \n",
       "    \n",
       "    \n",
       "            var marker_855bd32f8f9e57b5323944542074c834 = L.marker(\n",
       "                [41.5261111, -87.8891667],\n",
       "                {}\n",
       "            ).addTo(map_48eb1d9a5d2f3e624b5c45ace6bdc442);\n",
       "        \n",
       "    \n",
       "        var popup_64aa32b2433edf978f8444c17415e703 = L.popup({&quot;maxWidth&quot;: &quot;100%&quot;});\n",
       "\n",
       "        \n",
       "            \n",
       "                var html_96117e29eed7d337a3429c89a8242e35 = $(`&lt;div id=&quot;html_96117e29eed7d337a3429c89a8242e35&quot; style=&quot;width: 100.0%; height: 100.0%;&quot;&gt;City: mokena    Duration: 180.0    Shape: triangle&lt;/div&gt;`)[0];\n",
       "                popup_64aa32b2433edf978f8444c17415e703.setContent(html_96117e29eed7d337a3429c89a8242e35);\n",
       "            \n",
       "        \n",
       "\n",
       "        marker_855bd32f8f9e57b5323944542074c834.bindPopup(popup_64aa32b2433edf978f8444c17415e703)\n",
       "        ;\n",
       "\n",
       "        \n",
       "    \n",
       "    \n",
       "            var marker_782675bd01eabbc151c48a26865420d4 = L.marker(\n",
       "                [47.3075, -122.2272222],\n",
       "                {}\n",
       "            ).addTo(map_48eb1d9a5d2f3e624b5c45ace6bdc442);\n",
       "        \n",
       "    \n",
       "        var popup_002cea97054e5e580782cffb4ac0af31 = L.popup({&quot;maxWidth&quot;: &quot;100%&quot;});\n",
       "\n",
       "        \n",
       "            \n",
       "                var html_14376d4a27ff63e209e2d8f01a44fb18 = $(`&lt;div id=&quot;html_14376d4a27ff63e209e2d8f01a44fb18&quot; style=&quot;width: 100.0%; height: 100.0%;&quot;&gt;City: auburn    Duration: 180.0    Shape: nan&lt;/div&gt;`)[0];\n",
       "                popup_002cea97054e5e580782cffb4ac0af31.setContent(html_14376d4a27ff63e209e2d8f01a44fb18);\n",
       "            \n",
       "        \n",
       "\n",
       "        marker_782675bd01eabbc151c48a26865420d4.bindPopup(popup_002cea97054e5e580782cffb4ac0af31)\n",
       "        ;\n",
       "\n",
       "        \n",
       "    \n",
       "    \n",
       "            var marker_6fa0b3c06f2b9f1a87b27c9f639bdaf4 = L.marker(\n",
       "                [34.3916667, -118.5416667],\n",
       "                {}\n",
       "            ).addTo(map_48eb1d9a5d2f3e624b5c45ace6bdc442);\n",
       "        \n",
       "    \n",
       "        var popup_3d2f030ac78f05fa3ec60210cefffd4e = L.popup({&quot;maxWidth&quot;: &quot;100%&quot;});\n",
       "\n",
       "        \n",
       "            \n",
       "                var html_a773220475d32c06305de039d9b48654 = $(`&lt;div id=&quot;html_a773220475d32c06305de039d9b48654&quot; style=&quot;width: 100.0%; height: 100.0%;&quot;&gt;City: santa clarita    Duration: 600.0    Shape: circle&lt;/div&gt;`)[0];\n",
       "                popup_3d2f030ac78f05fa3ec60210cefffd4e.setContent(html_a773220475d32c06305de039d9b48654);\n",
       "            \n",
       "        \n",
       "\n",
       "        marker_6fa0b3c06f2b9f1a87b27c9f639bdaf4.bindPopup(popup_3d2f030ac78f05fa3ec60210cefffd4e)\n",
       "        ;\n",
       "\n",
       "        \n",
       "    \n",
       "    \n",
       "            var marker_1fce241f25235db0114a36568a4e3601 = L.marker(\n",
       "                [43.6136111, -116.2025],\n",
       "                {}\n",
       "            ).addTo(map_48eb1d9a5d2f3e624b5c45ace6bdc442);\n",
       "        \n",
       "    \n",
       "        var popup_bbc400e6de06e27ee76046dc520c07ca = L.popup({&quot;maxWidth&quot;: &quot;100%&quot;});\n",
       "\n",
       "        \n",
       "            \n",
       "                var html_4b8deda89fe04b0805d2167cfc432df7 = $(`&lt;div id=&quot;html_4b8deda89fe04b0805d2167cfc432df7&quot; style=&quot;width: 100.0%; height: 100.0%;&quot;&gt;City: boise    Duration: 300.0    Shape: triangle&lt;/div&gt;`)[0];\n",
       "                popup_bbc400e6de06e27ee76046dc520c07ca.setContent(html_4b8deda89fe04b0805d2167cfc432df7);\n",
       "            \n",
       "        \n",
       "\n",
       "        marker_1fce241f25235db0114a36568a4e3601.bindPopup(popup_bbc400e6de06e27ee76046dc520c07ca)\n",
       "        ;\n",
       "\n",
       "        \n",
       "    \n",
       "    \n",
       "            var marker_971e18afbb8346f5c0b75647e97648f1 = L.marker(\n",
       "                [40.2969444, -111.6938889],\n",
       "                {}\n",
       "            ).addTo(map_48eb1d9a5d2f3e624b5c45ace6bdc442);\n",
       "        \n",
       "    \n",
       "        var popup_56c7ce4bdd3c84c1283b135787e03255 = L.popup({&quot;maxWidth&quot;: &quot;100%&quot;});\n",
       "\n",
       "        \n",
       "            \n",
       "                var html_d7d1e6bb2d3b8e0ad215c6b7543cfde1 = $(`&lt;div id=&quot;html_d7d1e6bb2d3b8e0ad215c6b7543cfde1&quot; style=&quot;width: 100.0%; height: 100.0%;&quot;&gt;City: orem    Duration: 900.0    Shape: fireball&lt;/div&gt;`)[0];\n",
       "                popup_56c7ce4bdd3c84c1283b135787e03255.setContent(html_d7d1e6bb2d3b8e0ad215c6b7543cfde1);\n",
       "            \n",
       "        \n",
       "\n",
       "        marker_971e18afbb8346f5c0b75647e97648f1.bindPopup(popup_56c7ce4bdd3c84c1283b135787e03255)\n",
       "        ;\n",
       "\n",
       "        \n",
       "    \n",
       "    \n",
       "            var marker_8310fe1b0abd067e40c5c171c469734f = L.marker(\n",
       "                [45.0097222, -93.3488889],\n",
       "                {}\n",
       "            ).addTo(map_48eb1d9a5d2f3e624b5c45ace6bdc442);\n",
       "        \n",
       "    \n",
       "        var popup_6f931c7cdf2873fd2998a091a786db13 = L.popup({&quot;maxWidth&quot;: &quot;100%&quot;});\n",
       "\n",
       "        \n",
       "            \n",
       "                var html_f5fbb1b35d4e038182e26c2d6872a9c1 = $(`&lt;div id=&quot;html_f5fbb1b35d4e038182e26c2d6872a9c1&quot; style=&quot;width: 100.0%; height: 100.0%;&quot;&gt;City: golden valley    Duration: 120.0    Shape: light&lt;/div&gt;`)[0];\n",
       "                popup_6f931c7cdf2873fd2998a091a786db13.setContent(html_f5fbb1b35d4e038182e26c2d6872a9c1);\n",
       "            \n",
       "        \n",
       "\n",
       "        marker_8310fe1b0abd067e40c5c171c469734f.bindPopup(popup_6f931c7cdf2873fd2998a091a786db13)\n",
       "        ;\n",
       "\n",
       "        \n",
       "    \n",
       "    \n",
       "            var marker_c0253bb1f6a3e21daf2b6e73b1176f5d = L.marker(\n",
       "                [34.61, -112.315],\n",
       "                {}\n",
       "            ).addTo(map_48eb1d9a5d2f3e624b5c45ace6bdc442);\n",
       "        \n",
       "    \n",
       "        var popup_32917747cccabe77028f14d0a778418f = L.popup({&quot;maxWidth&quot;: &quot;100%&quot;});\n",
       "\n",
       "        \n",
       "            \n",
       "                var html_46298a719119fad234408e2fc1d27b03 = $(`&lt;div id=&quot;html_46298a719119fad234408e2fc1d27b03&quot; style=&quot;width: 100.0%; height: 100.0%;&quot;&gt;City: prescott valley    Duration: 600.0    Shape: cylinder&lt;/div&gt;`)[0];\n",
       "                popup_32917747cccabe77028f14d0a778418f.setContent(html_46298a719119fad234408e2fc1d27b03);\n",
       "            \n",
       "        \n",
       "\n",
       "        marker_c0253bb1f6a3e21daf2b6e73b1176f5d.bindPopup(popup_32917747cccabe77028f14d0a778418f)\n",
       "        ;\n",
       "\n",
       "        \n",
       "    \n",
       "    \n",
       "            var marker_8859213f0b64dc1a63d0c9bf2655e89f = L.marker(\n",
       "                [37.2933333, -80.055],\n",
       "                {}\n",
       "            ).addTo(map_48eb1d9a5d2f3e624b5c45ace6bdc442);\n",
       "        \n",
       "    \n",
       "        var popup_377eb0e6561c50a76eb394756f53ff60 = L.popup({&quot;maxWidth&quot;: &quot;100%&quot;});\n",
       "\n",
       "        \n",
       "            \n",
       "                var html_ad48d08b2955f2f457aeece984477bca = $(`&lt;div id=&quot;html_ad48d08b2955f2f457aeece984477bca&quot; style=&quot;width: 100.0%; height: 100.0%;&quot;&gt;City: salem (south of)    Duration: 1800.0    Shape: light&lt;/div&gt;`)[0];\n",
       "                popup_377eb0e6561c50a76eb394756f53ff60.setContent(html_ad48d08b2955f2f457aeece984477bca);\n",
       "            \n",
       "        \n",
       "\n",
       "        marker_8859213f0b64dc1a63d0c9bf2655e89f.bindPopup(popup_377eb0e6561c50a76eb394756f53ff60)\n",
       "        ;\n",
       "\n",
       "        \n",
       "    \n",
       "    \n",
       "            var marker_c692517f5a04106190bc2d61bb614c49 = L.marker(\n",
       "                [36.8188889, -76.2752778],\n",
       "                {}\n",
       "            ).addTo(map_48eb1d9a5d2f3e624b5c45ace6bdc442);\n",
       "        \n",
       "    \n",
       "        var popup_6713765fa4e63354895931d32ff8d3e4 = L.popup({&quot;maxWidth&quot;: &quot;100%&quot;});\n",
       "\n",
       "        \n",
       "            \n",
       "                var html_eae73e419a09eb6d7653abf9d5ea1425 = $(`&lt;div id=&quot;html_eae73e419a09eb6d7653abf9d5ea1425&quot; style=&quot;width: 100.0%; height: 100.0%;&quot;&gt;City: chesapeake    Duration: 5.0    Shape: light&lt;/div&gt;`)[0];\n",
       "                popup_6713765fa4e63354895931d32ff8d3e4.setContent(html_eae73e419a09eb6d7653abf9d5ea1425);\n",
       "            \n",
       "        \n",
       "\n",
       "        marker_c692517f5a04106190bc2d61bb614c49.bindPopup(popup_6713765fa4e63354895931d32ff8d3e4)\n",
       "        ;\n",
       "\n",
       "        \n",
       "    \n",
       "    \n",
       "            var marker_9d283aa5f8c85a443faf21c908ae4be7 = L.marker(\n",
       "                [26.1336111, -80.1133333],\n",
       "                {}\n",
       "            ).addTo(map_48eb1d9a5d2f3e624b5c45ace6bdc442);\n",
       "        \n",
       "    \n",
       "        var popup_fd2781cdea585bc44c6ce32cb5c37f75 = L.popup({&quot;maxWidth&quot;: &quot;100%&quot;});\n",
       "\n",
       "        \n",
       "            \n",
       "                var html_428e8d914d15bd69472b5bdf9d5ac23e = $(`&lt;div id=&quot;html_428e8d914d15bd69472b5bdf9d5ac23e&quot; style=&quot;width: 100.0%; height: 100.0%;&quot;&gt;City: sunrise    Duration: 180.0    Shape: light&lt;/div&gt;`)[0];\n",
       "                popup_fd2781cdea585bc44c6ce32cb5c37f75.setContent(html_428e8d914d15bd69472b5bdf9d5ac23e);\n",
       "            \n",
       "        \n",
       "\n",
       "        marker_9d283aa5f8c85a443faf21c908ae4be7.bindPopup(popup_fd2781cdea585bc44c6ce32cb5c37f75)\n",
       "        ;\n",
       "\n",
       "        \n",
       "    \n",
       "    \n",
       "            var marker_607647a289c049841a443c7b06187b12 = L.marker(\n",
       "                [43.6136111, -116.2025],\n",
       "                {}\n",
       "            ).addTo(map_48eb1d9a5d2f3e624b5c45ace6bdc442);\n",
       "        \n",
       "    \n",
       "        var popup_ed7a1b6ffd2a4417b25345aea00204e0 = L.popup({&quot;maxWidth&quot;: &quot;100%&quot;});\n",
       "\n",
       "        \n",
       "            \n",
       "                var html_d647aab566fcc209198133818d3deb39 = $(`&lt;div id=&quot;html_d647aab566fcc209198133818d3deb39&quot; style=&quot;width: 100.0%; height: 100.0%;&quot;&gt;City: boise    Duration: 10.0    Shape: nan&lt;/div&gt;`)[0];\n",
       "                popup_ed7a1b6ffd2a4417b25345aea00204e0.setContent(html_d647aab566fcc209198133818d3deb39);\n",
       "            \n",
       "        \n",
       "\n",
       "        marker_607647a289c049841a443c7b06187b12.bindPopup(popup_ed7a1b6ffd2a4417b25345aea00204e0)\n",
       "        ;\n",
       "\n",
       "        \n",
       "    \n",
       "    \n",
       "            var marker_d36df862b4891b3b65e3ca097415e61b = L.marker(\n",
       "                [29.6513889, -82.325],\n",
       "                {}\n",
       "            ).addTo(map_48eb1d9a5d2f3e624b5c45ace6bdc442);\n",
       "        \n",
       "    \n",
       "        var popup_99aa6ca7fe9284e6e9c162321ab8f54f = L.popup({&quot;maxWidth&quot;: &quot;100%&quot;});\n",
       "\n",
       "        \n",
       "            \n",
       "                var html_6311d71f47968dda247c906dea8dc23f = $(`&lt;div id=&quot;html_6311d71f47968dda247c906dea8dc23f&quot; style=&quot;width: 100.0%; height: 100.0%;&quot;&gt;City: gainesville    Duration: 15.0    Shape: oval&lt;/div&gt;`)[0];\n",
       "                popup_99aa6ca7fe9284e6e9c162321ab8f54f.setContent(html_6311d71f47968dda247c906dea8dc23f);\n",
       "            \n",
       "        \n",
       "\n",
       "        marker_d36df862b4891b3b65e3ca097415e61b.bindPopup(popup_99aa6ca7fe9284e6e9c162321ab8f54f)\n",
       "        ;\n",
       "\n",
       "        \n",
       "    \n",
       "    \n",
       "            var marker_6d46e729502aa2bda72eda08541ebc7d = L.marker(\n",
       "                [42.3958333, -71.1791667],\n",
       "                {}\n",
       "            ).addTo(map_48eb1d9a5d2f3e624b5c45ace6bdc442);\n",
       "        \n",
       "    \n",
       "        var popup_75d864504919bddc104925204e1a861e = L.popup({&quot;maxWidth&quot;: &quot;100%&quot;});\n",
       "\n",
       "        \n",
       "            \n",
       "                var html_b6bd54c113081015d3dd5fb1068aae17 = $(`&lt;div id=&quot;html_b6bd54c113081015d3dd5fb1068aae17&quot; style=&quot;width: 100.0%; height: 100.0%;&quot;&gt;City: belmont    Duration: 2.0    Shape: fireball&lt;/div&gt;`)[0];\n",
       "                popup_75d864504919bddc104925204e1a861e.setContent(html_b6bd54c113081015d3dd5fb1068aae17);\n",
       "            \n",
       "        \n",
       "\n",
       "        marker_6d46e729502aa2bda72eda08541ebc7d.bindPopup(popup_75d864504919bddc104925204e1a861e)\n",
       "        ;\n",
       "\n",
       "        \n",
       "    \n",
       "    \n",
       "            var marker_261798e149591ae5e96474d6768c498e = L.marker(\n",
       "                [39.7683333, -86.1580556],\n",
       "                {}\n",
       "            ).addTo(map_48eb1d9a5d2f3e624b5c45ace6bdc442);\n",
       "        \n",
       "    \n",
       "        var popup_14e7d7275eeb23aefc5a37f02ce4b69b = L.popup({&quot;maxWidth&quot;: &quot;100%&quot;});\n",
       "\n",
       "        \n",
       "            \n",
       "                var html_54a7ae7766902f778ba65898ae3d08de = $(`&lt;div id=&quot;html_54a7ae7766902f778ba65898ae3d08de&quot; style=&quot;width: 100.0%; height: 100.0%;&quot;&gt;City: indianapolis    Duration: 3600.0    Shape: disk&lt;/div&gt;`)[0];\n",
       "                popup_14e7d7275eeb23aefc5a37f02ce4b69b.setContent(html_54a7ae7766902f778ba65898ae3d08de);\n",
       "            \n",
       "        \n",
       "\n",
       "        marker_261798e149591ae5e96474d6768c498e.bindPopup(popup_14e7d7275eeb23aefc5a37f02ce4b69b)\n",
       "        ;\n",
       "\n",
       "        \n",
       "    \n",
       "    \n",
       "            var marker_bbe30645367de106a8e2d4bb22af76be = L.marker(\n",
       "                [42.2411111, -88.3161111],\n",
       "                {}\n",
       "            ).addTo(map_48eb1d9a5d2f3e624b5c45ace6bdc442);\n",
       "        \n",
       "    \n",
       "        var popup_c95f230b1b551656fc2520f0739a51ee = L.popup({&quot;maxWidth&quot;: &quot;100%&quot;});\n",
       "\n",
       "        \n",
       "            \n",
       "                var html_6d454b0ddb6a019e687234a67dceca69 = $(`&lt;div id=&quot;html_6d454b0ddb6a019e687234a67dceca69&quot; style=&quot;width: 100.0%; height: 100.0%;&quot;&gt;City: crystal lake    Duration: 60.0    Shape: oval&lt;/div&gt;`)[0];\n",
       "                popup_c95f230b1b551656fc2520f0739a51ee.setContent(html_6d454b0ddb6a019e687234a67dceca69);\n",
       "            \n",
       "        \n",
       "\n",
       "        marker_bbe30645367de106a8e2d4bb22af76be.bindPopup(popup_c95f230b1b551656fc2520f0739a51ee)\n",
       "        ;\n",
       "\n",
       "        \n",
       "    \n",
       "    \n",
       "            var marker_0ca4cac6713d842985764fac3263b776 = L.marker(\n",
       "                [31.7244444, -96.165],\n",
       "                {}\n",
       "            ).addTo(map_48eb1d9a5d2f3e624b5c45ace6bdc442);\n",
       "        \n",
       "    \n",
       "        var popup_7fd5bbbb23a3b957f996efb5d67404cd = L.popup({&quot;maxWidth&quot;: &quot;100%&quot;});\n",
       "\n",
       "        \n",
       "            \n",
       "                var html_d57f0a4b8de463f03a28ce9ddd1b33f5 = $(`&lt;div id=&quot;html_d57f0a4b8de463f03a28ce9ddd1b33f5&quot; style=&quot;width: 100.0%; height: 100.0%;&quot;&gt;City: fairfield (east of)    Duration: 2700.0    Shape: changing&lt;/div&gt;`)[0];\n",
       "                popup_7fd5bbbb23a3b957f996efb5d67404cd.setContent(html_d57f0a4b8de463f03a28ce9ddd1b33f5);\n",
       "            \n",
       "        \n",
       "\n",
       "        marker_0ca4cac6713d842985764fac3263b776.bindPopup(popup_7fd5bbbb23a3b957f996efb5d67404cd)\n",
       "        ;\n",
       "\n",
       "        \n",
       "    \n",
       "    \n",
       "            var marker_f433b49beb8922702f1b5a4ee87ab48f = L.marker(\n",
       "                [41.3113889, -105.5905556],\n",
       "                {}\n",
       "            ).addTo(map_48eb1d9a5d2f3e624b5c45ace6bdc442);\n",
       "        \n",
       "    \n",
       "        var popup_b8a8914adddb41de342c21347fda5da8 = L.popup({&quot;maxWidth&quot;: &quot;100%&quot;});\n",
       "\n",
       "        \n",
       "            \n",
       "                var html_fc463fd4af0a93590a3ed6e6ae93cfb1 = $(`&lt;div id=&quot;html_fc463fd4af0a93590a3ed6e6ae93cfb1&quot; style=&quot;width: 100.0%; height: 100.0%;&quot;&gt;City: laramie    Duration: 8.0    Shape: light&lt;/div&gt;`)[0];\n",
       "                popup_b8a8914adddb41de342c21347fda5da8.setContent(html_fc463fd4af0a93590a3ed6e6ae93cfb1);\n",
       "            \n",
       "        \n",
       "\n",
       "        marker_f433b49beb8922702f1b5a4ee87ab48f.bindPopup(popup_b8a8914adddb41de342c21347fda5da8)\n",
       "        ;\n",
       "\n",
       "        \n",
       "    \n",
       "    \n",
       "            var marker_298f3534b9848577c823cc139e528842 = L.marker(\n",
       "                [42.077535, -72.654684],\n",
       "                {}\n",
       "            ).addTo(map_48eb1d9a5d2f3e624b5c45ace6bdc442);\n",
       "        \n",
       "    \n",
       "        var popup_df3a6f3d1822e157452264d14ae120d7 = L.popup({&quot;maxWidth&quot;: &quot;100%&quot;});\n",
       "\n",
       "        \n",
       "            \n",
       "                var html_4a1cad23930c6103e13b843f41472ff0 = $(`&lt;div id=&quot;html_4a1cad23930c6103e13b843f41472ff0&quot; style=&quot;width: 100.0%; height: 100.0%;&quot;&gt;City: portland    Duration: 300.0    Shape: triangle&lt;/div&gt;`)[0];\n",
       "                popup_df3a6f3d1822e157452264d14ae120d7.setContent(html_4a1cad23930c6103e13b843f41472ff0);\n",
       "            \n",
       "        \n",
       "\n",
       "        marker_298f3534b9848577c823cc139e528842.bindPopup(popup_df3a6f3d1822e157452264d14ae120d7)\n",
       "        ;\n",
       "\n",
       "        \n",
       "    \n",
       "    \n",
       "            var marker_ab1ceaa3e0c2fb26496f418d745cf11c = L.marker(\n",
       "                [40.7722222, -79.53],\n",
       "                {}\n",
       "            ).addTo(map_48eb1d9a5d2f3e624b5c45ace6bdc442);\n",
       "        \n",
       "    \n",
       "        var popup_71273df5e155ed5dac2dc57c45ddb985 = L.popup({&quot;maxWidth&quot;: &quot;100%&quot;});\n",
       "\n",
       "        \n",
       "            \n",
       "                var html_35fb5220408e66c805d4ffeeb350178e = $(`&lt;div id=&quot;html_35fb5220408e66c805d4ffeeb350178e&quot; style=&quot;width: 100.0%; height: 100.0%;&quot;&gt;City: ford city    Duration: 15.0    Shape: disk&lt;/div&gt;`)[0];\n",
       "                popup_71273df5e155ed5dac2dc57c45ddb985.setContent(html_35fb5220408e66c805d4ffeeb350178e);\n",
       "            \n",
       "        \n",
       "\n",
       "        marker_ab1ceaa3e0c2fb26496f418d745cf11c.bindPopup(popup_71273df5e155ed5dac2dc57c45ddb985)\n",
       "        ;\n",
       "\n",
       "        \n",
       "    \n",
       "    \n",
       "            var marker_0c2b66be9963418ddedfcbcf91af5e51 = L.marker(\n",
       "                [33.4483333, -112.0733333],\n",
       "                {}\n",
       "            ).addTo(map_48eb1d9a5d2f3e624b5c45ace6bdc442);\n",
       "        \n",
       "    \n",
       "        var popup_286247c9831c11daae885601be3e50b2 = L.popup({&quot;maxWidth&quot;: &quot;100%&quot;});\n",
       "\n",
       "        \n",
       "            \n",
       "                var html_8cd6d4524d327e31bfcaf3d906fca125 = $(`&lt;div id=&quot;html_8cd6d4524d327e31bfcaf3d906fca125&quot; style=&quot;width: 100.0%; height: 100.0%;&quot;&gt;City: phoenix    Duration: 180.0    Shape: disk&lt;/div&gt;`)[0];\n",
       "                popup_286247c9831c11daae885601be3e50b2.setContent(html_8cd6d4524d327e31bfcaf3d906fca125);\n",
       "            \n",
       "        \n",
       "\n",
       "        marker_0c2b66be9963418ddedfcbcf91af5e51.bindPopup(popup_286247c9831c11daae885601be3e50b2)\n",
       "        ;\n",
       "\n",
       "        \n",
       "    \n",
       "    \n",
       "            var marker_2a12a2ae171e4333defb189234a5cf93 = L.marker(\n",
       "                [32.7152778, -117.1563889],\n",
       "                {}\n",
       "            ).addTo(map_48eb1d9a5d2f3e624b5c45ace6bdc442);\n",
       "        \n",
       "    \n",
       "        var popup_722a95fe58139df8dcb719face119b26 = L.popup({&quot;maxWidth&quot;: &quot;100%&quot;});\n",
       "\n",
       "        \n",
       "            \n",
       "                var html_7f247b87697c3a8bb46c7aa7d541851c = $(`&lt;div id=&quot;html_7f247b87697c3a8bb46c7aa7d541851c&quot; style=&quot;width: 100.0%; height: 100.0%;&quot;&gt;City: san diego    Duration: 180.0    Shape: other&lt;/div&gt;`)[0];\n",
       "                popup_722a95fe58139df8dcb719face119b26.setContent(html_7f247b87697c3a8bb46c7aa7d541851c);\n",
       "            \n",
       "        \n",
       "\n",
       "        marker_2a12a2ae171e4333defb189234a5cf93.bindPopup(popup_722a95fe58139df8dcb719face119b26)\n",
       "        ;\n",
       "\n",
       "        \n",
       "    \n",
       "    \n",
       "            var marker_2f6dba29a6650e1c1dca57d3a8b7be68 = L.marker(\n",
       "                [28.0833333, -80.6083333],\n",
       "                {}\n",
       "            ).addTo(map_48eb1d9a5d2f3e624b5c45ace6bdc442);\n",
       "        \n",
       "    \n",
       "        var popup_f36409599bf75ebfbd7a4966f67c09f0 = L.popup({&quot;maxWidth&quot;: &quot;100%&quot;});\n",
       "\n",
       "        \n",
       "            \n",
       "                var html_34d0e8afe5a9701668a8d3425f2ca1d8 = $(`&lt;div id=&quot;html_34d0e8afe5a9701668a8d3425f2ca1d8&quot; style=&quot;width: 100.0%; height: 100.0%;&quot;&gt;City: melbourne    Duration: 45.0    Shape: sphere&lt;/div&gt;`)[0];\n",
       "                popup_f36409599bf75ebfbd7a4966f67c09f0.setContent(html_34d0e8afe5a9701668a8d3425f2ca1d8);\n",
       "            \n",
       "        \n",
       "\n",
       "        marker_2f6dba29a6650e1c1dca57d3a8b7be68.bindPopup(popup_f36409599bf75ebfbd7a4966f67c09f0)\n",
       "        ;\n",
       "\n",
       "        \n",
       "    \n",
       "    \n",
       "            var marker_917b7d52d357737d013fab5cda65b716 = L.marker(\n",
       "                [34.1141667, -116.4313889],\n",
       "                {}\n",
       "            ).addTo(map_48eb1d9a5d2f3e624b5c45ace6bdc442);\n",
       "        \n",
       "    \n",
       "        var popup_e19be073672bc720677feae1bc87b4b6 = L.popup({&quot;maxWidth&quot;: &quot;100%&quot;});\n",
       "\n",
       "        \n",
       "            \n",
       "                var html_8fc0ce2b1e16a45499ecba276c9d72eb = $(`&lt;div id=&quot;html_8fc0ce2b1e16a45499ecba276c9d72eb&quot; style=&quot;width: 100.0%; height: 100.0%;&quot;&gt;City: yucca valley    Duration: 300.0    Shape: light&lt;/div&gt;`)[0];\n",
       "                popup_e19be073672bc720677feae1bc87b4b6.setContent(html_8fc0ce2b1e16a45499ecba276c9d72eb);\n",
       "            \n",
       "        \n",
       "\n",
       "        marker_917b7d52d357737d013fab5cda65b716.bindPopup(popup_e19be073672bc720677feae1bc87b4b6)\n",
       "        ;\n",
       "\n",
       "        \n",
       "    \n",
       "    \n",
       "            var marker_30f34f06617a935db316b063b9c08b8f = L.marker(\n",
       "                [33.9488889, -118.4447222],\n",
       "                {}\n",
       "            ).addTo(map_48eb1d9a5d2f3e624b5c45ace6bdc442);\n",
       "        \n",
       "    \n",
       "        var popup_c7667cac814033b2cf193c2ffe638a3b = L.popup({&quot;maxWidth&quot;: &quot;100%&quot;});\n",
       "\n",
       "        \n",
       "            \n",
       "                var html_93ce50ebf4f6be956bca63f55e8fa138 = $(`&lt;div id=&quot;html_93ce50ebf4f6be956bca63f55e8fa138&quot; style=&quot;width: 100.0%; height: 100.0%;&quot;&gt;City: playa del rey    Duration: 300.0    Shape: light&lt;/div&gt;`)[0];\n",
       "                popup_c7667cac814033b2cf193c2ffe638a3b.setContent(html_93ce50ebf4f6be956bca63f55e8fa138);\n",
       "            \n",
       "        \n",
       "\n",
       "        marker_30f34f06617a935db316b063b9c08b8f.bindPopup(popup_c7667cac814033b2cf193c2ffe638a3b)\n",
       "        ;\n",
       "\n",
       "        \n",
       "    \n",
       "    \n",
       "            var marker_831e36f424e7d1f96689aa537787c3ae = L.marker(\n",
       "                [35.1494444, -90.0488889],\n",
       "                {}\n",
       "            ).addTo(map_48eb1d9a5d2f3e624b5c45ace6bdc442);\n",
       "        \n",
       "    \n",
       "        var popup_8923342a656beec571c342d5ffa0e5df = L.popup({&quot;maxWidth&quot;: &quot;100%&quot;});\n",
       "\n",
       "        \n",
       "            \n",
       "                var html_c1ccc41603f793a7440b0d899a53f29a = $(`&lt;div id=&quot;html_c1ccc41603f793a7440b0d899a53f29a&quot; style=&quot;width: 100.0%; height: 100.0%;&quot;&gt;City: memphis    Duration: 2.0    Shape: fireball&lt;/div&gt;`)[0];\n",
       "                popup_8923342a656beec571c342d5ffa0e5df.setContent(html_c1ccc41603f793a7440b0d899a53f29a);\n",
       "            \n",
       "        \n",
       "\n",
       "        marker_831e36f424e7d1f96689aa537787c3ae.bindPopup(popup_8923342a656beec571c342d5ffa0e5df)\n",
       "        ;\n",
       "\n",
       "        \n",
       "    \n",
       "    \n",
       "            var marker_c11326f2f3c00fbe2d83731cf3868364 = L.marker(\n",
       "                [38.612965, -122.769434],\n",
       "                {}\n",
       "            ).addTo(map_48eb1d9a5d2f3e624b5c45ace6bdc442);\n",
       "        \n",
       "    \n",
       "        var popup_836eac5aa4b9cf2d1ec45012d04e489d = L.popup({&quot;maxWidth&quot;: &quot;100%&quot;});\n",
       "\n",
       "        \n",
       "            \n",
       "                var html_dcedb4373077507dbe6efd664a21d002 = $(`&lt;div id=&quot;html_dcedb4373077507dbe6efd664a21d002&quot; style=&quot;width: 100.0%; height: 100.0%;&quot;&gt;City: allexander valley    Duration: 600.0    Shape: circle&lt;/div&gt;`)[0];\n",
       "                popup_836eac5aa4b9cf2d1ec45012d04e489d.setContent(html_dcedb4373077507dbe6efd664a21d002);\n",
       "            \n",
       "        \n",
       "\n",
       "        marker_c11326f2f3c00fbe2d83731cf3868364.bindPopup(popup_836eac5aa4b9cf2d1ec45012d04e489d)\n",
       "        ;\n",
       "\n",
       "        \n",
       "    \n",
       "    \n",
       "            var marker_13b12135cf03e530749f224706eee09b = L.marker(\n",
       "                [39.4097222, -123.3544444],\n",
       "                {}\n",
       "            ).addTo(map_48eb1d9a5d2f3e624b5c45ace6bdc442);\n",
       "        \n",
       "    \n",
       "        var popup_154129f09393883736370c352585fc77 = L.popup({&quot;maxWidth&quot;: &quot;100%&quot;});\n",
       "\n",
       "        \n",
       "            \n",
       "                var html_de06493780dc0b7ce85cf51bf001c66e = $(`&lt;div id=&quot;html_de06493780dc0b7ce85cf51bf001c66e&quot; style=&quot;width: 100.0%; height: 100.0%;&quot;&gt;City: willits    Duration: 120.0    Shape: oval&lt;/div&gt;`)[0];\n",
       "                popup_154129f09393883736370c352585fc77.setContent(html_de06493780dc0b7ce85cf51bf001c66e);\n",
       "            \n",
       "        \n",
       "\n",
       "        marker_13b12135cf03e530749f224706eee09b.bindPopup(popup_154129f09393883736370c352585fc77)\n",
       "        ;\n",
       "\n",
       "        \n",
       "    \n",
       "    \n",
       "            var marker_4330e2df564dd0c978d6a8eb7e7ec887 = L.marker(\n",
       "                [43.479929, -110.762428],\n",
       "                {}\n",
       "            ).addTo(map_48eb1d9a5d2f3e624b5c45ace6bdc442);\n",
       "        \n",
       "    \n",
       "        var popup_eda03b38a61e5c11fb3c3b69a75da02b = L.popup({&quot;maxWidth&quot;: &quot;100%&quot;});\n",
       "\n",
       "        \n",
       "            \n",
       "                var html_9f793670bb3cee4043e313f44c095f0c = $(`&lt;div id=&quot;html_9f793670bb3cee4043e313f44c095f0c&quot; style=&quot;width: 100.0%; height: 100.0%;&quot;&gt;City: jackson hole    Duration: 300.0    Shape: fireball&lt;/div&gt;`)[0];\n",
       "                popup_eda03b38a61e5c11fb3c3b69a75da02b.setContent(html_9f793670bb3cee4043e313f44c095f0c);\n",
       "            \n",
       "        \n",
       "\n",
       "        marker_4330e2df564dd0c978d6a8eb7e7ec887.bindPopup(popup_eda03b38a61e5c11fb3c3b69a75da02b)\n",
       "        ;\n",
       "\n",
       "        \n",
       "    \n",
       "    \n",
       "            var marker_d74cb68637a687b38bbe31f368fb9b84 = L.marker(\n",
       "                [32.9411111, -97.1338889],\n",
       "                {}\n",
       "            ).addTo(map_48eb1d9a5d2f3e624b5c45ace6bdc442);\n",
       "        \n",
       "    \n",
       "        var popup_22b0fbab1f01357ef9a8e15a1b335698 = L.popup({&quot;maxWidth&quot;: &quot;100%&quot;});\n",
       "\n",
       "        \n",
       "            \n",
       "                var html_9af604c3a29e1f94398e3e2fdc1680bc = $(`&lt;div id=&quot;html_9af604c3a29e1f94398e3e2fdc1680bc&quot; style=&quot;width: 100.0%; height: 100.0%;&quot;&gt;City: southlake    Duration: 2.0    Shape: nan&lt;/div&gt;`)[0];\n",
       "                popup_22b0fbab1f01357ef9a8e15a1b335698.setContent(html_9af604c3a29e1f94398e3e2fdc1680bc);\n",
       "            \n",
       "        \n",
       "\n",
       "        marker_d74cb68637a687b38bbe31f368fb9b84.bindPopup(popup_22b0fbab1f01357ef9a8e15a1b335698)\n",
       "        ;\n",
       "\n",
       "        \n",
       "    \n",
       "    \n",
       "            var marker_846bf19bb8259260078d2baf34b5a2e8 = L.marker(\n",
       "                [47.6063889, -122.3308333],\n",
       "                {}\n",
       "            ).addTo(map_48eb1d9a5d2f3e624b5c45ace6bdc442);\n",
       "        \n",
       "    \n",
       "        var popup_85fc079fc38b71059ac4fa8f738afa13 = L.popup({&quot;maxWidth&quot;: &quot;100%&quot;});\n",
       "\n",
       "        \n",
       "            \n",
       "                var html_332749ef8cfb3bdc9915be15b9b8adb6 = $(`&lt;div id=&quot;html_332749ef8cfb3bdc9915be15b9b8adb6&quot; style=&quot;width: 100.0%; height: 100.0%;&quot;&gt;City: seattle (downtown; shoreline)    Duration: 1200.0    Shape: triangle&lt;/div&gt;`)[0];\n",
       "                popup_85fc079fc38b71059ac4fa8f738afa13.setContent(html_332749ef8cfb3bdc9915be15b9b8adb6);\n",
       "            \n",
       "        \n",
       "\n",
       "        marker_846bf19bb8259260078d2baf34b5a2e8.bindPopup(popup_85fc079fc38b71059ac4fa8f738afa13)\n",
       "        ;\n",
       "\n",
       "        \n",
       "    \n",
       "    \n",
       "            var marker_263b7e9cb9de676ad5c581cc26515f0d = L.marker(\n",
       "                [39.7683333, -86.1580556],\n",
       "                {}\n",
       "            ).addTo(map_48eb1d9a5d2f3e624b5c45ace6bdc442);\n",
       "        \n",
       "    \n",
       "        var popup_0efa6429a11de0364d5c35a783d32380 = L.popup({&quot;maxWidth&quot;: &quot;100%&quot;});\n",
       "\n",
       "        \n",
       "            \n",
       "                var html_cffd8707c0ef9a79123b03eebbf186d6 = $(`&lt;div id=&quot;html_cffd8707c0ef9a79123b03eebbf186d6&quot; style=&quot;width: 100.0%; height: 100.0%;&quot;&gt;City: indianapolis    Duration: 300.0    Shape: circle&lt;/div&gt;`)[0];\n",
       "                popup_0efa6429a11de0364d5c35a783d32380.setContent(html_cffd8707c0ef9a79123b03eebbf186d6);\n",
       "            \n",
       "        \n",
       "\n",
       "        marker_263b7e9cb9de676ad5c581cc26515f0d.bindPopup(popup_0efa6429a11de0364d5c35a783d32380)\n",
       "        ;\n",
       "\n",
       "        \n",
       "    \n",
       "    \n",
       "            var marker_4f921032b9a15354435d95eb8c5c2633 = L.marker(\n",
       "                [31.7586111, -106.4863889],\n",
       "                {}\n",
       "            ).addTo(map_48eb1d9a5d2f3e624b5c45ace6bdc442);\n",
       "        \n",
       "    \n",
       "        var popup_5f9046206761475c75fae3bd4e46eee5 = L.popup({&quot;maxWidth&quot;: &quot;100%&quot;});\n",
       "\n",
       "        \n",
       "            \n",
       "                var html_3379f6a94080ea416b2b0109e56d8ea0 = $(`&lt;div id=&quot;html_3379f6a94080ea416b2b0109e56d8ea0&quot; style=&quot;width: 100.0%; height: 100.0%;&quot;&gt;City: el paso    Duration: 7200.0    Shape: sphere&lt;/div&gt;`)[0];\n",
       "                popup_5f9046206761475c75fae3bd4e46eee5.setContent(html_3379f6a94080ea416b2b0109e56d8ea0);\n",
       "            \n",
       "        \n",
       "\n",
       "        marker_4f921032b9a15354435d95eb8c5c2633.bindPopup(popup_5f9046206761475c75fae3bd4e46eee5)\n",
       "        ;\n",
       "\n",
       "        \n",
       "    \n",
       "    \n",
       "            var marker_47e56ff3f5f2a2397109cd21a5341f86 = L.marker(\n",
       "                [30.275, -89.7811111],\n",
       "                {}\n",
       "            ).addTo(map_48eb1d9a5d2f3e624b5c45ace6bdc442);\n",
       "        \n",
       "    \n",
       "        var popup_0a58ffc8db1106b1fcf599eb998549da = L.popup({&quot;maxWidth&quot;: &quot;100%&quot;});\n",
       "\n",
       "        \n",
       "            \n",
       "                var html_de8a8db3330e9edb995904d18d466146 = $(`&lt;div id=&quot;html_de8a8db3330e9edb995904d18d466146&quot; style=&quot;width: 100.0%; height: 100.0%;&quot;&gt;City: slidell    Duration: 6.0    Shape: circle&lt;/div&gt;`)[0];\n",
       "                popup_0a58ffc8db1106b1fcf599eb998549da.setContent(html_de8a8db3330e9edb995904d18d466146);\n",
       "            \n",
       "        \n",
       "\n",
       "        marker_47e56ff3f5f2a2397109cd21a5341f86.bindPopup(popup_0a58ffc8db1106b1fcf599eb998549da)\n",
       "        ;\n",
       "\n",
       "        \n",
       "    \n",
       "    \n",
       "            var marker_ea51cd513ca27f788307139ec53b0884 = L.marker(\n",
       "                [37.0802778, -77.9975],\n",
       "                {}\n",
       "            ).addTo(map_48eb1d9a5d2f3e624b5c45ace6bdc442);\n",
       "        \n",
       "    \n",
       "        var popup_30357cbc0a2d91b8814398a2204421cf = L.popup({&quot;maxWidth&quot;: &quot;100%&quot;});\n",
       "\n",
       "        \n",
       "            \n",
       "                var html_6b9d4207a5e2f6e860fa77007ede04ae = $(`&lt;div id=&quot;html_6b9d4207a5e2f6e860fa77007ede04ae&quot; style=&quot;width: 100.0%; height: 100.0%;&quot;&gt;City: blackstone    Duration: 300.0    Shape: triangle&lt;/div&gt;`)[0];\n",
       "                popup_30357cbc0a2d91b8814398a2204421cf.setContent(html_6b9d4207a5e2f6e860fa77007ede04ae);\n",
       "            \n",
       "        \n",
       "\n",
       "        marker_ea51cd513ca27f788307139ec53b0884.bindPopup(popup_30357cbc0a2d91b8814398a2204421cf)\n",
       "        ;\n",
       "\n",
       "        \n",
       "    \n",
       "    \n",
       "            var marker_2ccb4d64f2ca683fef7104063f7a210c = L.marker(\n",
       "                [35.2269444, -80.8433333],\n",
       "                {}\n",
       "            ).addTo(map_48eb1d9a5d2f3e624b5c45ace6bdc442);\n",
       "        \n",
       "    \n",
       "        var popup_b1f44ee46324ca0525e89815d96d4821 = L.popup({&quot;maxWidth&quot;: &quot;100%&quot;});\n",
       "\n",
       "        \n",
       "            \n",
       "                var html_c97b91ec5f4df5845e2c47addd5f35c6 = $(`&lt;div id=&quot;html_c97b91ec5f4df5845e2c47addd5f35c6&quot; style=&quot;width: 100.0%; height: 100.0%;&quot;&gt;City: charlotte    Duration: 120.0    Shape: light&lt;/div&gt;`)[0];\n",
       "                popup_b1f44ee46324ca0525e89815d96d4821.setContent(html_c97b91ec5f4df5845e2c47addd5f35c6);\n",
       "            \n",
       "        \n",
       "\n",
       "        marker_2ccb4d64f2ca683fef7104063f7a210c.bindPopup(popup_b1f44ee46324ca0525e89815d96d4821)\n",
       "        ;\n",
       "\n",
       "        \n",
       "    \n",
       "    \n",
       "            var marker_e639cc94121ed8e3d42f68da84b4601f = L.marker(\n",
       "                [33.9533333, -117.3952778],\n",
       "                {}\n",
       "            ).addTo(map_48eb1d9a5d2f3e624b5c45ace6bdc442);\n",
       "        \n",
       "    \n",
       "        var popup_d89a4b88f9bd1e62860c4ab02ea2d039 = L.popup({&quot;maxWidth&quot;: &quot;100%&quot;});\n",
       "\n",
       "        \n",
       "            \n",
       "                var html_68b8c79143ec9e23fa1a84612557bb8d = $(`&lt;div id=&quot;html_68b8c79143ec9e23fa1a84612557bb8d&quot; style=&quot;width: 100.0%; height: 100.0%;&quot;&gt;City: riverside    Duration: 120.0    Shape: fireball&lt;/div&gt;`)[0];\n",
       "                popup_d89a4b88f9bd1e62860c4ab02ea2d039.setContent(html_68b8c79143ec9e23fa1a84612557bb8d);\n",
       "            \n",
       "        \n",
       "\n",
       "        marker_e639cc94121ed8e3d42f68da84b4601f.bindPopup(popup_d89a4b88f9bd1e62860c4ab02ea2d039)\n",
       "        ;\n",
       "\n",
       "        \n",
       "    \n",
       "    \n",
       "            var marker_6a9d2984e2a1f20f535b9549f108c8b0 = L.marker(\n",
       "                [34.0230556, -84.3616667],\n",
       "                {}\n",
       "            ).addTo(map_48eb1d9a5d2f3e624b5c45ace6bdc442);\n",
       "        \n",
       "    \n",
       "        var popup_62b4690ade692befcaa26dd6acebeb76 = L.popup({&quot;maxWidth&quot;: &quot;100%&quot;});\n",
       "\n",
       "        \n",
       "            \n",
       "                var html_8b67590892ce3ff5fa7c8517b4821b0e = $(`&lt;div id=&quot;html_8b67590892ce3ff5fa7c8517b4821b0e&quot; style=&quot;width: 100.0%; height: 100.0%;&quot;&gt;City: roswell    Duration: 420.0    Shape: other&lt;/div&gt;`)[0];\n",
       "                popup_62b4690ade692befcaa26dd6acebeb76.setContent(html_8b67590892ce3ff5fa7c8517b4821b0e);\n",
       "            \n",
       "        \n",
       "\n",
       "        marker_6a9d2984e2a1f20f535b9549f108c8b0.bindPopup(popup_62b4690ade692befcaa26dd6acebeb76)\n",
       "        ;\n",
       "\n",
       "        \n",
       "    \n",
       "    \n",
       "            var marker_2134a6af4b3cea4121022c56ddd8565f = L.marker(\n",
       "                [41.6972222, -86.245],\n",
       "                {}\n",
       "            ).addTo(map_48eb1d9a5d2f3e624b5c45ace6bdc442);\n",
       "        \n",
       "    \n",
       "        var popup_9535640fc97a30b8d55d226edd29af9f = L.popup({&quot;maxWidth&quot;: &quot;100%&quot;});\n",
       "\n",
       "        \n",
       "            \n",
       "                var html_475fa38e39d1b51f33a23e445387a43c = $(`&lt;div id=&quot;html_475fa38e39d1b51f33a23e445387a43c&quot; style=&quot;width: 100.0%; height: 100.0%;&quot;&gt;City: argos    Duration: 120.0    Shape: light&lt;/div&gt;`)[0];\n",
       "                popup_9535640fc97a30b8d55d226edd29af9f.setContent(html_475fa38e39d1b51f33a23e445387a43c);\n",
       "            \n",
       "        \n",
       "\n",
       "        marker_2134a6af4b3cea4121022c56ddd8565f.bindPopup(popup_9535640fc97a30b8d55d226edd29af9f)\n",
       "        ;\n",
       "\n",
       "        \n",
       "    \n",
       "    \n",
       "            var marker_e636ab266319668028e5f88fe7905886 = L.marker(\n",
       "                [38.7522222, -121.2869444],\n",
       "                {}\n",
       "            ).addTo(map_48eb1d9a5d2f3e624b5c45ace6bdc442);\n",
       "        \n",
       "    \n",
       "        var popup_3dadedd811191996b3bac1ea1985e2a9 = L.popup({&quot;maxWidth&quot;: &quot;100%&quot;});\n",
       "\n",
       "        \n",
       "            \n",
       "                var html_60be406705038153128c7a367c9c1b90 = $(`&lt;div id=&quot;html_60be406705038153128c7a367c9c1b90&quot; style=&quot;width: 100.0%; height: 100.0%;&quot;&gt;City: roseville    Duration: 480.0    Shape: egg&lt;/div&gt;`)[0];\n",
       "                popup_3dadedd811191996b3bac1ea1985e2a9.setContent(html_60be406705038153128c7a367c9c1b90);\n",
       "            \n",
       "        \n",
       "\n",
       "        marker_e636ab266319668028e5f88fe7905886.bindPopup(popup_3dadedd811191996b3bac1ea1985e2a9)\n",
       "        ;\n",
       "\n",
       "        \n",
       "    \n",
       "    \n",
       "            var marker_07efa2295a3f387d6add17976f63a9bd = L.marker(\n",
       "                [37.9513889, -91.7711111],\n",
       "                {}\n",
       "            ).addTo(map_48eb1d9a5d2f3e624b5c45ace6bdc442);\n",
       "        \n",
       "    \n",
       "        var popup_260d1f3485c04dfb126127073c0f6f1b = L.popup({&quot;maxWidth&quot;: &quot;100%&quot;});\n",
       "\n",
       "        \n",
       "            \n",
       "                var html_5f95e7e095f4ddd02194fed88ba2352d = $(`&lt;div id=&quot;html_5f95e7e095f4ddd02194fed88ba2352d&quot; style=&quot;width: 100.0%; height: 100.0%;&quot;&gt;City: rolla    Duration: 1080.0    Shape: light&lt;/div&gt;`)[0];\n",
       "                popup_260d1f3485c04dfb126127073c0f6f1b.setContent(html_5f95e7e095f4ddd02194fed88ba2352d);\n",
       "            \n",
       "        \n",
       "\n",
       "        marker_07efa2295a3f387d6add17976f63a9bd.bindPopup(popup_260d1f3485c04dfb126127073c0f6f1b)\n",
       "        ;\n",
       "\n",
       "        \n",
       "    \n",
       "    \n",
       "            var marker_712f12e8a782afb0b4e03ee4fcc50e22 = L.marker(\n",
       "                [33.3527778, -111.7883333],\n",
       "                {}\n",
       "            ).addTo(map_48eb1d9a5d2f3e624b5c45ace6bdc442);\n",
       "        \n",
       "    \n",
       "        var popup_8dcbb8295b2ba469570f2bb583c96dd7 = L.popup({&quot;maxWidth&quot;: &quot;100%&quot;});\n",
       "\n",
       "        \n",
       "            \n",
       "                var html_9ef3c3d10e75efcd3b92fe968dc17e22 = $(`&lt;div id=&quot;html_9ef3c3d10e75efcd3b92fe968dc17e22&quot; style=&quot;width: 100.0%; height: 100.0%;&quot;&gt;City: gilbert    Duration: 1800.0    Shape: light&lt;/div&gt;`)[0];\n",
       "                popup_8dcbb8295b2ba469570f2bb583c96dd7.setContent(html_9ef3c3d10e75efcd3b92fe968dc17e22);\n",
       "            \n",
       "        \n",
       "\n",
       "        marker_712f12e8a782afb0b4e03ee4fcc50e22.bindPopup(popup_8dcbb8295b2ba469570f2bb583c96dd7)\n",
       "        ;\n",
       "\n",
       "        \n",
       "    \n",
       "    \n",
       "            var marker_04e7951133ae35e6ebbb027e6810aace = L.marker(\n",
       "                [40.691613, -112.00105],\n",
       "                {}\n",
       "            ).addTo(map_48eb1d9a5d2f3e624b5c45ace6bdc442);\n",
       "        \n",
       "    \n",
       "        var popup_ab17117bcb65476b91a19de790d868cb = L.popup({&quot;maxWidth&quot;: &quot;100%&quot;});\n",
       "\n",
       "        \n",
       "            \n",
       "                var html_258ae5338d208dc433a44c6179c642ec = $(`&lt;div id=&quot;html_258ae5338d208dc433a44c6179c642ec&quot; style=&quot;width: 100.0%; height: 100.0%;&quot;&gt;City: west valley city    Duration: 180.0    Shape: triangle&lt;/div&gt;`)[0];\n",
       "                popup_ab17117bcb65476b91a19de790d868cb.setContent(html_258ae5338d208dc433a44c6179c642ec);\n",
       "            \n",
       "        \n",
       "\n",
       "        marker_04e7951133ae35e6ebbb027e6810aace.bindPopup(popup_ab17117bcb65476b91a19de790d868cb)\n",
       "        ;\n",
       "\n",
       "        \n",
       "    \n",
       "    \n",
       "            var marker_5ca0cd55c8eec0e6640016070254f927 = L.marker(\n",
       "                [35.0844444, -106.6505556],\n",
       "                {}\n",
       "            ).addTo(map_48eb1d9a5d2f3e624b5c45ace6bdc442);\n",
       "        \n",
       "    \n",
       "        var popup_b79f972ceb4c2b80b4dc8a7f23eaa531 = L.popup({&quot;maxWidth&quot;: &quot;100%&quot;});\n",
       "\n",
       "        \n",
       "            \n",
       "                var html_8db2dd8d380ad2bef71f11358d98b535 = $(`&lt;div id=&quot;html_8db2dd8d380ad2bef71f11358d98b535&quot; style=&quot;width: 100.0%; height: 100.0%;&quot;&gt;City: albuquerque    Duration: 180.0    Shape: nan&lt;/div&gt;`)[0];\n",
       "                popup_b79f972ceb4c2b80b4dc8a7f23eaa531.setContent(html_8db2dd8d380ad2bef71f11358d98b535);\n",
       "            \n",
       "        \n",
       "\n",
       "        marker_5ca0cd55c8eec0e6640016070254f927.bindPopup(popup_b79f972ceb4c2b80b4dc8a7f23eaa531)\n",
       "        ;\n",
       "\n",
       "        \n",
       "    \n",
       "    \n",
       "            var marker_5fc649fafcdbb8d1ecb0e89ead783308 = L.marker(\n",
       "                [44.0247222, -88.5425],\n",
       "                {}\n",
       "            ).addTo(map_48eb1d9a5d2f3e624b5c45ace6bdc442);\n",
       "        \n",
       "    \n",
       "        var popup_a87005753f44f107983a7224827cca63 = L.popup({&quot;maxWidth&quot;: &quot;100%&quot;});\n",
       "\n",
       "        \n",
       "            \n",
       "                var html_f6d6e0bc3dc8f627c457ab1b25f5b139 = $(`&lt;div id=&quot;html_f6d6e0bc3dc8f627c457ab1b25f5b139&quot; style=&quot;width: 100.0%; height: 100.0%;&quot;&gt;City: oshkosh    Duration: 900.0    Shape: light&lt;/div&gt;`)[0];\n",
       "                popup_a87005753f44f107983a7224827cca63.setContent(html_f6d6e0bc3dc8f627c457ab1b25f5b139);\n",
       "            \n",
       "        \n",
       "\n",
       "        marker_5fc649fafcdbb8d1ecb0e89ead783308.bindPopup(popup_a87005753f44f107983a7224827cca63)\n",
       "        ;\n",
       "\n",
       "        \n",
       "    \n",
       "    \n",
       "            var marker_2ffe9fe95f4b1789dc6e3e331cc19766 = L.marker(\n",
       "                [41.8238889, -71.4133333],\n",
       "                {}\n",
       "            ).addTo(map_48eb1d9a5d2f3e624b5c45ace6bdc442);\n",
       "        \n",
       "    \n",
       "        var popup_f381e68c1fd5e6fc1f7e7f5a002de952 = L.popup({&quot;maxWidth&quot;: &quot;100%&quot;});\n",
       "\n",
       "        \n",
       "            \n",
       "                var html_f6ef00ba304233cd8212fa1f938387eb = $(`&lt;div id=&quot;html_f6ef00ba304233cd8212fa1f938387eb&quot; style=&quot;width: 100.0%; height: 100.0%;&quot;&gt;City: providence    Duration: 1.0    Shape: triangle&lt;/div&gt;`)[0];\n",
       "                popup_f381e68c1fd5e6fc1f7e7f5a002de952.setContent(html_f6ef00ba304233cd8212fa1f938387eb);\n",
       "            \n",
       "        \n",
       "\n",
       "        marker_2ffe9fe95f4b1789dc6e3e331cc19766.bindPopup(popup_f381e68c1fd5e6fc1f7e7f5a002de952)\n",
       "        ;\n",
       "\n",
       "        \n",
       "    \n",
       "    \n",
       "            var marker_705692eee33c78cf1f8c0157fdb579dc = L.marker(\n",
       "                [41.4030556, -72.4513889],\n",
       "                {}\n",
       "            ).addTo(map_48eb1d9a5d2f3e624b5c45ace6bdc442);\n",
       "        \n",
       "    \n",
       "        var popup_268d1b210fce0671c22d8ed36182c883 = L.popup({&quot;maxWidth&quot;: &quot;100%&quot;});\n",
       "\n",
       "        \n",
       "            \n",
       "                var html_bfece029cd0e4b5f6f40970b3dc1dabd = $(`&lt;div id=&quot;html_bfece029cd0e4b5f6f40970b3dc1dabd&quot; style=&quot;width: 100.0%; height: 100.0%;&quot;&gt;City: chester    Duration: 600.0    Shape: circle&lt;/div&gt;`)[0];\n",
       "                popup_268d1b210fce0671c22d8ed36182c883.setContent(html_bfece029cd0e4b5f6f40970b3dc1dabd);\n",
       "            \n",
       "        \n",
       "\n",
       "        marker_705692eee33c78cf1f8c0157fdb579dc.bindPopup(popup_268d1b210fce0671c22d8ed36182c883)\n",
       "        ;\n",
       "\n",
       "        \n",
       "    \n",
       "    \n",
       "            var marker_33bfe393c8ea223e69cf198a70fd4142 = L.marker(\n",
       "                [64.8377778, -147.7163889],\n",
       "                {}\n",
       "            ).addTo(map_48eb1d9a5d2f3e624b5c45ace6bdc442);\n",
       "        \n",
       "    \n",
       "        var popup_baf6e46b3df5de218ec317ae6f48a6ca = L.popup({&quot;maxWidth&quot;: &quot;100%&quot;});\n",
       "\n",
       "        \n",
       "            \n",
       "                var html_8833b9e3d12d4dccc3f06da5ccaaf6c5 = $(`&lt;div id=&quot;html_8833b9e3d12d4dccc3f06da5ccaaf6c5&quot; style=&quot;width: 100.0%; height: 100.0%;&quot;&gt;City: fairbanks    Duration: 30.0    Shape: cigar&lt;/div&gt;`)[0];\n",
       "                popup_baf6e46b3df5de218ec317ae6f48a6ca.setContent(html_8833b9e3d12d4dccc3f06da5ccaaf6c5);\n",
       "            \n",
       "        \n",
       "\n",
       "        marker_33bfe393c8ea223e69cf198a70fd4142.bindPopup(popup_baf6e46b3df5de218ec317ae6f48a6ca)\n",
       "        ;\n",
       "\n",
       "        \n",
       "    \n",
       "    \n",
       "            var marker_9c5fbd6ee5252f7d73cea206058f5738 = L.marker(\n",
       "                [41.9166667, -88.1975],\n",
       "                {}\n",
       "            ).addTo(map_48eb1d9a5d2f3e624b5c45ace6bdc442);\n",
       "        \n",
       "    \n",
       "        var popup_565ef29851f933c88f9797d25b2701ad = L.popup({&quot;maxWidth&quot;: &quot;100%&quot;});\n",
       "\n",
       "        \n",
       "            \n",
       "                var html_57d2d13270f4b45341ca11f3ee745d38 = $(`&lt;div id=&quot;html_57d2d13270f4b45341ca11f3ee745d38&quot; style=&quot;width: 100.0%; height: 100.0%;&quot;&gt;City: lakewood    Duration: 240.0    Shape: oval&lt;/div&gt;`)[0];\n",
       "                popup_565ef29851f933c88f9797d25b2701ad.setContent(html_57d2d13270f4b45341ca11f3ee745d38);\n",
       "            \n",
       "        \n",
       "\n",
       "        marker_9c5fbd6ee5252f7d73cea206058f5738.bindPopup(popup_565ef29851f933c88f9797d25b2701ad)\n",
       "        ;\n",
       "\n",
       "        \n",
       "    \n",
       "    \n",
       "            var marker_6022607c2669a88d09662173cf0f0960 = L.marker(\n",
       "                [43.8122222, -71.0361111],\n",
       "                {}\n",
       "            ).addTo(map_48eb1d9a5d2f3e624b5c45ace6bdc442);\n",
       "        \n",
       "    \n",
       "        var popup_88f3e8cfab6a455e840ae71dfdf5dc77 = L.popup({&quot;maxWidth&quot;: &quot;100%&quot;});\n",
       "\n",
       "        \n",
       "            \n",
       "                var html_f5781a714cdc480f56ba1e77f4960b7b = $(`&lt;div id=&quot;html_f5781a714cdc480f56ba1e77f4960b7b&quot; style=&quot;width: 100.0%; height: 100.0%;&quot;&gt;City: freedom    Duration: 20.0    Shape: egg&lt;/div&gt;`)[0];\n",
       "                popup_88f3e8cfab6a455e840ae71dfdf5dc77.setContent(html_f5781a714cdc480f56ba1e77f4960b7b);\n",
       "            \n",
       "        \n",
       "\n",
       "        marker_6022607c2669a88d09662173cf0f0960.bindPopup(popup_88f3e8cfab6a455e840ae71dfdf5dc77)\n",
       "        ;\n",
       "\n",
       "        \n",
       "    \n",
       "    \n",
       "            var marker_dc4c3a3ca4dfe4b47f37eb04518618d2 = L.marker(\n",
       "                [37.7272222, -89.2166667],\n",
       "                {}\n",
       "            ).addTo(map_48eb1d9a5d2f3e624b5c45ace6bdc442);\n",
       "        \n",
       "    \n",
       "        var popup_d5766bbfadeae6b7be7790eb041d6466 = L.popup({&quot;maxWidth&quot;: &quot;100%&quot;});\n",
       "\n",
       "        \n",
       "            \n",
       "                var html_3bfd5b80c02948182699a0e536f4d581 = $(`&lt;div id=&quot;html_3bfd5b80c02948182699a0e536f4d581&quot; style=&quot;width: 100.0%; height: 100.0%;&quot;&gt;City: carbondale    Duration: 600.0    Shape: nan&lt;/div&gt;`)[0];\n",
       "                popup_d5766bbfadeae6b7be7790eb041d6466.setContent(html_3bfd5b80c02948182699a0e536f4d581);\n",
       "            \n",
       "        \n",
       "\n",
       "        marker_dc4c3a3ca4dfe4b47f37eb04518618d2.bindPopup(popup_d5766bbfadeae6b7be7790eb041d6466)\n",
       "        ;\n",
       "\n",
       "        \n",
       "    \n",
       "&lt;/script&gt;\n",
       "&lt;/html&gt;\" style=\"position:absolute;width:100%;height:100%;left:0;top:0;border:none !important;\" allowfullscreen webkitallowfullscreen mozallowfullscreen></iframe></div></div>"
      ],
      "text/plain": [
       "<folium.folium.Map at 0x7fbfea1a4bb0>"
      ]
     },
     "execution_count": 66,
     "metadata": {},
     "output_type": "execute_result"
    }
   ],
   "source": [
    "mask = df[\"country\"] == \"us\"\n",
    "for i, row in df[mask].iterrows():\n",
    "    if i % 1000 == 0:\n",
    "        text = f\"City: {row['city']} \\n\\n Duration: {row['duration (seconds)']} \\n\\n Shape: {row['shape']}\"\n",
    "        marker = folium.Marker(location=[row['latitude'], row['longitude ']], popup=text)\n",
    "        marker.add_to(m)\n",
    "\n",
    "m"
   ]
  },
  {
   "cell_type": "markdown",
   "id": "1d546ef7",
   "metadata": {},
   "source": [
    "Let's go over the some of the code in the cell above. The `DataFrame.iterrows()` method allows us to iterate over the rows. Take a look at the example below (which iterates over three rows):"
   ]
  },
  {
   "cell_type": "code",
   "execution_count": 67,
   "id": "eea2fdb4",
   "metadata": {},
   "outputs": [
    {
     "name": "stdout",
     "output_type": "stream",
     "text": [
      "i: 0\n",
      "datetime                                            1949-10-10 20:30:00\n",
      "city                                                         san marcos\n",
      "state                                                                tx\n",
      "country                                                              us\n",
      "shape                                                          cylinder\n",
      "duration (seconds)                                               2700.0\n",
      "comments              This event took place in early fall around 194...\n",
      "date posted                                         2004-04-27 00:00:00\n",
      "latitude                                                      29.883056\n",
      "longitude                                                    -97.941111\n",
      "Name: 0, dtype: object\n",
      "--------------------\n",
      "i: 1\n",
      "datetime                                            1949-10-10 21:00:00\n",
      "city                                                       lackland afb\n",
      "state                                                                tx\n",
      "country                                                              us\n",
      "shape                                                             light\n",
      "duration (seconds)                                               7200.0\n",
      "comments              1949 Lackland AFB&#44 TX.  Lights racing acros...\n",
      "date posted                                         2005-12-16 00:00:00\n",
      "latitude                                                       29.38421\n",
      "longitude                                                    -98.581082\n",
      "Name: 1, dtype: object\n",
      "--------------------\n",
      "i: 2\n",
      "datetime                                            1955-10-10 17:00:00\n",
      "city                                               chester (uk/england)\n",
      "state                                                               NaN\n",
      "country                                                              gb\n",
      "shape                                                            circle\n",
      "duration (seconds)                                                 20.0\n",
      "comments              Green/Orange circular disc over Chester&#44 En...\n",
      "date posted                                         2008-01-21 00:00:00\n",
      "latitude                                                           53.2\n",
      "longitude                                                     -2.916667\n",
      "Name: 2, dtype: object\n",
      "--------------------\n"
     ]
    }
   ],
   "source": [
    "for i, row in df[:3].iterrows():\n",
    "    print(\"i:\", i)\n",
    "    print(row)\n",
    "    print(\"-\" * 20)"
   ]
  },
  {
   "cell_type": "markdown",
   "id": "773e653a",
   "metadata": {},
   "source": [
    "We have also used f-strings, which are a different way of formatting strings. An f-string looks like a normal string with an f in front: `f\"this is an f-string\"`. We can use curly braces `{}` inside of f-strings to insert some code, which returns a value. This code will be ran, converted to a `str` and concatenated with the rest of the f-string. Take a look at the code below, which contains three ways of combining and displaying strings (the first of which uses an f-string):"
   ]
  },
  {
   "cell_type": "code",
   "execution_count": 68,
   "id": "82fb8948",
   "metadata": {},
   "outputs": [
    {
     "name": "stdout",
     "output_type": "stream",
     "text": [
      "Anna is 34 years old.\n",
      "Anna is 34 years old.\n",
      "Anna is 34 years old.\n"
     ]
    }
   ],
   "source": [
    "name = \"Anna\"\n",
    "age = 34\n",
    "\n",
    "print(f\"{name} is {age} years old.\")\n",
    "print(name, \"is\", age, \"years old.\")\n",
    "print(name + \" is \" + str(age) + \" years old.\")"
   ]
  },
  {
   "cell_type": "markdown",
   "id": "c955c675",
   "metadata": {},
   "source": [
    "As we can see, the texts printed by the `print` function are identical. You may have also noticed that the following characters `\\n` appeared in a string earlier. These two characters are used together to denote a new line in the text. Take a look at the output of the code cells below:"
   ]
  },
  {
   "cell_type": "code",
   "execution_count": 69,
   "id": "98cf2118",
   "metadata": {},
   "outputs": [
    {
     "name": "stdout",
     "output_type": "stream",
     "text": [
      "1\n",
      "2\n"
     ]
    }
   ],
   "source": [
    "print(\"1\\n2\")"
   ]
  },
  {
   "cell_type": "code",
   "execution_count": 70,
   "id": "9420f4fb",
   "metadata": {},
   "outputs": [
    {
     "name": "stdout",
     "output_type": "stream",
     "text": [
      "1 \n",
      " 2\n"
     ]
    }
   ],
   "source": [
    "print(\"1 \\n 2\")"
   ]
  },
  {
   "cell_type": "code",
   "execution_count": 71,
   "id": "6961d777",
   "metadata": {},
   "outputs": [
    {
     "name": "stdout",
     "output_type": "stream",
     "text": [
      "1\n",
      "\n",
      "\n",
      "2\n"
     ]
    }
   ],
   "source": [
    "print(\"1\\n\\n\\n2\")"
   ]
  },
  {
   "cell_type": "markdown",
   "id": "02904f4b",
   "metadata": {},
   "source": [
    "# 8. Too many functions and libraries...  "
   ]
  },
  {
   "cell_type": "markdown",
   "id": "8ee2a04f",
   "metadata": {},
   "source": [
    "We used a lot of different functions and libraries in the past 4 notebooks (including this one) and it may all seem a bit overwhelming. It is not necessary or important to remember all of those functions. This will not make you a better programmer or data analyst. It is, however, important to build an intuition about what kind of transformations can be done on data. Once you know what it is you want to accomplish, it is also helpful to be able to describe it using the right vocabulary. Once you have both of those things, it becomes trivial to use a search engine (such as google) and describe what you want to do. The search engine will then point you to websites, which will present you with functions and libraries that will help you accomplish your task, along with descriptions and examples of how they work. "
   ]
  }
 ],
 "metadata": {
  "kernelspec": {
   "display_name": "Python 3 (ipykernel)",
   "language": "python",
   "name": "python3"
  },
  "language_info": {
   "codemirror_mode": {
    "name": "ipython",
    "version": 3
   },
   "file_extension": ".py",
   "mimetype": "text/x-python",
   "name": "python",
   "nbconvert_exporter": "python",
   "pygments_lexer": "ipython3",
   "version": "3.9.13"
  }
 },
 "nbformat": 4,
 "nbformat_minor": 5
}
