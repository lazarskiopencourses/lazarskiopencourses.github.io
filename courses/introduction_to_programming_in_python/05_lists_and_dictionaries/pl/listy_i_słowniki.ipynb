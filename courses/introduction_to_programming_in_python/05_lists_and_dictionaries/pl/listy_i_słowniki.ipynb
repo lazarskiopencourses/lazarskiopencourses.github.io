{
 "cells": [
  {
   "cell_type": "markdown",
   "id": "c2b44d54",
   "metadata": {},
   "source": [
    "1. [Listy](#listy)  \n",
    "  1.1. [Tworzenie listy](#tworzenie-listy)  \n",
    "  1.2. [Dostęp do elementów w liście](#dostęp-do-elementów-w-liście)   \n",
    "  1.3. [Krojenie listy](#krojenie-listy)   \n",
    "  1.4. [Modyfikowanie elementów w liście](#modyfikowanie-elementów-w-liście)     \n",
    "  1.5. [Operatory i listy](#operatory-i-listy)   \n",
    "  1.6. [Funckcje wbudowane i listy](#funkcje-wbudowane-i-listy)   \n",
    "  1.7. [Pętle \"for\" i listy](#pętle-for-i-listy)   \n",
    "  1.8. [Dodawanie elementów do listy](#dodawanie-elementów-do-listy)     \n",
    "  1.9. [Usuwanie elementów z listy](#usuwanie-elementów-z-listy)     \n",
    "2. [Słowniki](#słowniki)  \n",
    "  2.1. [Tworzenie słownika](#tworzenie-słownika)  \n",
    "  2.2. [Dostęp do elementów w słowniku](#dostęp-do-elementów-w-słowniku)  \n",
    "  2.3. [Modyfikowanie elementów w słowniku](#modyfikowanie-elementów-w-słowniku)      \n",
    "  2.4. [Pętle \"for\" i słowniki](#pętle-for-i-słowniki)   \n",
    "  2.5. [Dodawanie elementów do słownika](#dodawanie-elementów-do-słownika)   \n",
    "  2.6. [Usuwanie elementów z słownika](#usuwanie-elementów-z-słownika)"
   ]
  },
  {
   "cell_type": "markdown",
   "id": "41f589d0",
   "metadata": {},
   "source": [
    "# 1. Listy <a id='listy'></a>"
   ]
  },
  {
   "cell_type": "markdown",
   "id": "be64975a",
   "metadata": {},
   "source": [
    "### 1.1. Tworzenie listy <a id='tworzenie-listy'></a>"
   ]
  },
  {
   "cell_type": "markdown",
   "id": "38b70854",
   "metadata": {},
   "source": [
    "W Pythonie lista (`list`) jest specjalnym typem danych, który może być używany do przechowywania i organizowania kolekcji obiektów. Na przykład, kod w poniższej komórce tworzy listę, która zawiera 3 liczby całkowite (`1`, `2` i `3`) i przypisuje ją do zmiennej `my_list`:"
   ]
  },
  {
   "cell_type": "code",
   "execution_count": 2,
   "id": "ef138356",
   "metadata": {},
   "outputs": [],
   "source": [
    "my_list = [1, 2, 3]"
   ]
  },
  {
   "cell_type": "markdown",
   "id": "e8eea9f1",
   "metadata": {},
   "source": [
    "Początek listy oznaczany jest lewym nawiasem kwadratowym (`[`), natomiast koniec listy oznaczany jest prawym nawiasem kwadratowym (`]`). Elementy, które chcemy, aby lista zawierała, umieszczamy pomiędzy nawiasami kwadratowymi, a każdy z nich oddzielamy przecinkiem (`,`). Jeśli to zrobimy, to pomyślnie utworzymy listę, co możemy sprawdzić za pomocą wbudowanej funkcji `type()`: "
   ]
  },
  {
   "cell_type": "code",
   "execution_count": 3,
   "id": "95eab89e",
   "metadata": {},
   "outputs": [
    {
     "data": {
      "text/plain": [
       "list"
      ]
     },
     "execution_count": 3,
     "metadata": {},
     "output_type": "execute_result"
    }
   ],
   "source": [
    "type(my_list)"
   ]
  },
  {
   "cell_type": "markdown",
   "id": "38e2bd53",
   "metadata": {},
   "source": [
    "Możemy również użyć wbudowanej funkcji `len()` żeby sprawdzić długość listy:"
   ]
  },
  {
   "cell_type": "code",
   "execution_count": 29,
   "id": "aa6113cd",
   "metadata": {},
   "outputs": [
    {
     "data": {
      "text/plain": [
       "3"
      ]
     },
     "execution_count": 29,
     "metadata": {},
     "output_type": "execute_result"
    }
   ],
   "source": [
    "len(my_list)"
   ]
  },
  {
   "cell_type": "markdown",
   "id": "85c67f8a",
   "metadata": {},
   "source": [
    "Rzeczywiście widzimy, że długość listy wynosi 3, ponieważ zawiera ona 3 elementy - każdy z nich jest liczbą całkowitą. Listy mogą zawierać również innego typu obiekty, w tym `str`, `float`, `bool`, a także `list`:"
   ]
  },
  {
   "cell_type": "code",
   "execution_count": 31,
   "id": "7242d461",
   "metadata": {
    "scrolled": true
   },
   "outputs": [
    {
     "data": {
      "text/plain": [
       "4"
      ]
     },
     "execution_count": 31,
     "metadata": {},
     "output_type": "execute_result"
    }
   ],
   "source": [
    "different_objects = ['str', 3.42, True, [2, 'str2']]\n",
    "len(different_objects)"
   ]
  },
  {
   "cell_type": "markdown",
   "id": "7d2accd6",
   "metadata": {},
   "source": [
    "Jak widzimy, powyższa lista ma 4 elementy o następujących typach: `str`, `float`, `bool` i `list`. Element na czwartej pozycji również jest listą, która sama zawiera dwa elementy (o typach `int` i `str`)."
   ]
  },
  {
   "cell_type": "markdown",
   "id": "baf993dd",
   "metadata": {},
   "source": [
    "### 1.2. Dostęp do elementów w liście <a id='dostęp-do-elementów-w-liście'></a>"
   ]
  },
  {
   "cell_type": "markdown",
   "id": "3344af09",
   "metadata": {},
   "source": [
    "Jak sugeruje nazwa \"lista\", elementy zawarte w `liście` są uporządkowane według pewnej kolejności. O `liście` można również myśleć jako o sekwencji elementów. Staje się to oczywiste, gdy próbujemy uzyskać dostęp do elementu w liście:"
   ]
  },
  {
   "cell_type": "code",
   "execution_count": 5,
   "id": "5a859d72",
   "metadata": {},
   "outputs": [
    {
     "data": {
      "text/plain": [
       "'chihuahua'"
      ]
     },
     "execution_count": 5,
     "metadata": {},
     "output_type": "execute_result"
    }
   ],
   "source": [
    "dog_breeds = ['bulldog', ['black labrador', 'yellow labrador', 'chocolate labrador'], 'chihuahua', 'husky']\n",
    "dog_breeds[2]"
   ]
  },
  {
   "cell_type": "markdown",
   "id": "295e4c19",
   "metadata": {},
   "source": [
    "Gdy chcemy uzyskać dostęp do elementu, używamy zapisu `my_list[x]`, gdzie `x` jest liczbą całkowitą odpowiadającą indeksowi elementu, do którego chcemy uzyskać dostęp. Instrukcja `dog_breeds[2]` zwraca wartość `'chihuahua'`, która jest na 3 pozycji w liście. Dzieje się tak dlatego, że liczenie w programowaniu zaczyna się od 0, a nie od 1. Dlatego pierwszy element listy ma indeks `0`, drugi element ma indeks `1`, i tak dalej."
   ]
  },
  {
   "cell_type": "markdown",
   "id": "f39d95b5",
   "metadata": {},
   "source": [
    "Poniższa komórka kodu zawiera serię instrukcji `print()`, które pokazują wszystkie elementy indywidualnie:"
   ]
  },
  {
   "cell_type": "code",
   "execution_count": 6,
   "id": "7b183861",
   "metadata": {},
   "outputs": [
    {
     "name": "stdout",
     "output_type": "stream",
     "text": [
      "bulldog\n",
      "['black labrador', 'yellow labrador', 'chocolate labrador']\n",
      "chihuahua\n",
      "husky\n"
     ]
    }
   ],
   "source": [
    "print(dog_breeds[0])\n",
    "print(dog_breeds[1])\n",
    "print(dog_breeds[2])\n",
    "print(dog_breeds[3])"
   ]
  },
  {
   "cell_type": "markdown",
   "id": "01feb340",
   "metadata": {},
   "source": [
    "Możemy również uzyskać dostęp do elementów listy używając ujemnych liczb całkowitych. Indeks `-1` jest ostatnim elementem w `liście`, indeks `-2` jest drugim ostatnim elementem w `liście`, i tak dalej."
   ]
  },
  {
   "cell_type": "code",
   "execution_count": 18,
   "id": "d3b77fc2",
   "metadata": {
    "scrolled": true
   },
   "outputs": [
    {
     "name": "stdout",
     "output_type": "stream",
     "text": [
      "husky\n",
      "chihuahua\n",
      "['black labrador', 'yellow labrador', 'chocolate labrador']\n",
      "bulldog\n"
     ]
    }
   ],
   "source": [
    "print(dog_breeds[-1])\n",
    "print(dog_breeds[-2])\n",
    "print(dog_breeds[-3])\n",
    "print(dog_breeds[-4])"
   ]
  },
  {
   "cell_type": "markdown",
   "id": "d732e1f2",
   "metadata": {},
   "source": [
    "Można też zapytać, jak uzyskać dostęp do elementów listy zagnieżdżonych wewnątrz innej listy?  W przypadku listy `dog_breeds`, drugi element jest również listą. Możemy uzyskać dostęp do elementów tej drugiej, zagnieżdżonej listy w następujący sposób:"
   ]
  },
  {
   "cell_type": "code",
   "execution_count": 19,
   "id": "ce6560c0",
   "metadata": {},
   "outputs": [
    {
     "data": {
      "text/plain": [
       "'chocolate labrador'"
      ]
     },
     "execution_count": 19,
     "metadata": {},
     "output_type": "execute_result"
    }
   ],
   "source": [
    "dog_breeds[1][2]"
   ]
  },
  {
   "cell_type": "code",
   "execution_count": 20,
   "id": "df2d92b7",
   "metadata": {
    "scrolled": true
   },
   "outputs": [
    {
     "name": "stdout",
     "output_type": "stream",
     "text": [
      "black labrador\n",
      "yellow labrador\n",
      "chocolate labrador\n"
     ]
    }
   ],
   "source": [
    "print(dog_breeds[1][0])\n",
    "print(dog_breeds[1][1])\n",
    "print(dog_breeds[1][2])"
   ]
  },
  {
   "cell_type": "markdown",
   "id": "26106328",
   "metadata": {},
   "source": [
    "### 1.3. Krojenie listy <a id='krojenie-listy'></a>"
   ]
  },
  {
   "cell_type": "markdown",
   "id": "b6f87fe2",
   "metadata": {},
   "source": [
    "Zamiast dostępu do poszczególnych elementów, możemy również uzyskać dostęp do pewnego wycinku listy (zawierającego wiele elementów) poprzez krojenie."
   ]
  },
  {
   "cell_type": "code",
   "execution_count": 21,
   "id": "13d83435",
   "metadata": {
    "scrolled": true
   },
   "outputs": [
    {
     "data": {
      "text/plain": [
       "['c', 'd', 'e']"
      ]
     },
     "execution_count": 21,
     "metadata": {},
     "output_type": "execute_result"
    }
   ],
   "source": [
    "letters = [\"a\", \"b\", \"c\", \"d\", \"e\", \"f\"]\n",
    "letters[2:5]"
   ]
  },
  {
   "cell_type": "markdown",
   "id": "e9224c68",
   "metadata": {},
   "source": [
    "Jak widać w powyższej komórce, wyrażenie `letters[2:5]` zwraca wycinek listy zawierający elementy od indeksu `2` do indeksu `4`. Liczby oddzielone dwukropkiem (`:`) określają zakres elementów, gdzie indeks podany z lewej strony jest zawarty w tym zakresie, natomiast indeks z prawej strony jest z niego wykluczony. Ten wycinek listy również ma typ `list` (bo jest to po prostu lista):"
   ]
  },
  {
   "cell_type": "code",
   "execution_count": 22,
   "id": "a481b946",
   "metadata": {
    "scrolled": true
   },
   "outputs": [
    {
     "data": {
      "text/plain": [
       "list"
      ]
     },
     "execution_count": 22,
     "metadata": {},
     "output_type": "execute_result"
    }
   ],
   "source": [
    "type(letters[2:5])"
   ]
  },
  {
   "cell_type": "code",
   "execution_count": 23,
   "id": "a34e8b32",
   "metadata": {
    "scrolled": true
   },
   "outputs": [
    {
     "data": {
      "text/plain": [
       "3"
      ]
     },
     "execution_count": 23,
     "metadata": {},
     "output_type": "execute_result"
    }
   ],
   "source": [
    "len(letters[2:5])"
   ]
  },
  {
   "cell_type": "markdown",
   "id": "c1723783",
   "metadata": {},
   "source": [
    "Poniższa komórka kodu pokazuje różne rodzaje krojenia z dodatnimi indeksami."
   ]
  },
  {
   "cell_type": "code",
   "execution_count": 24,
   "id": "89ef15a9",
   "metadata": {
    "scrolled": false
   },
   "outputs": [
    {
     "name": "stdout",
     "output_type": "stream",
     "text": [
      "1 ['a', 'b', 'c']\n",
      "2 ['a', 'b', 'c']\n",
      "3 ['d', 'e', 'f']\n",
      "4 ['d', 'e', 'f']\n",
      "5 ['d', 'e']\n",
      "6 ['d']\n"
     ]
    }
   ],
   "source": [
    "print(1, letters[0:3])\n",
    "print(2, letters[:3])\n",
    "print(3, letters[3:])\n",
    "print(4, letters[3:6])\n",
    "print(5, letters[3:5])\n",
    "print(6, letters[3:4])"
   ]
  },
  {
   "cell_type": "markdown",
   "id": "c38adf5a",
   "metadata": {},
   "source": [
    "Poniższa komórka kodu pokazuje różne rodzaje krojenia z ujemnymi indeksami."
   ]
  },
  {
   "cell_type": "code",
   "execution_count": 25,
   "id": "445889bb",
   "metadata": {},
   "outputs": [
    {
     "name": "stdout",
     "output_type": "stream",
     "text": [
      "1 ['f']\n",
      "2 ['d', 'e', 'f']\n",
      "3 ['d', 'e']\n"
     ]
    }
   ],
   "source": [
    "print(1, letters[-1:])\n",
    "print(2, letters[-3:])\n",
    "print(3, letters[-3:-1])"
   ]
  },
  {
   "cell_type": "markdown",
   "id": "ca7c641f",
   "metadata": {},
   "source": [
    "### 1.4. Modyfikowanie elementów w liście <a id='modyfikowanie-elementów-w-liście'></a>"
   ]
  },
  {
   "cell_type": "markdown",
   "id": "cc655103",
   "metadata": {},
   "source": [
    "Elementy w listach można modyfikować, poprzez identyfikowanie elementu za pomocą jego indeksu i przypisywaniem do tego miejsca w liście nową wartość:"
   ]
  },
  {
   "cell_type": "code",
   "execution_count": 26,
   "id": "e54afe63",
   "metadata": {},
   "outputs": [
    {
     "data": {
      "text/plain": [
       "[99, 2, 3, 4, 5]"
      ]
     },
     "execution_count": 26,
     "metadata": {},
     "output_type": "execute_result"
    }
   ],
   "source": [
    "numbers = [1, 2, 3, 4, 5]\n",
    "numbers[0] = 99\n",
    "numbers"
   ]
  },
  {
   "cell_type": "code",
   "execution_count": 27,
   "id": "427e9a1e",
   "metadata": {},
   "outputs": [
    {
     "data": {
      "text/plain": [
       "[99, 2, 3, 42, 5]"
      ]
     },
     "execution_count": 27,
     "metadata": {},
     "output_type": "execute_result"
    }
   ],
   "source": [
    "numbers[-2] = 42\n",
    "numbers"
   ]
  },
  {
   "cell_type": "code",
   "execution_count": 28,
   "id": "15ef817d",
   "metadata": {},
   "outputs": [
    {
     "data": {
      "text/plain": [
       "[99, 14, 17, 42, 5]"
      ]
     },
     "execution_count": 28,
     "metadata": {},
     "output_type": "execute_result"
    }
   ],
   "source": [
    "numbers[1:3] = [14, 17]\n",
    "numbers"
   ]
  },
  {
   "cell_type": "markdown",
   "id": "3a880076",
   "metadata": {},
   "source": [
    "### 1.5. Operatory i listy <a id='operatory-i-listy'></a>"
   ]
  },
  {
   "cell_type": "markdown",
   "id": "e9d7d56e",
   "metadata": {},
   "source": [
    "Listy mogą być konkatenowane (łączone) przy użyciu operatora `+`:"
   ]
  },
  {
   "cell_type": "code",
   "execution_count": 29,
   "id": "81261cd3",
   "metadata": {},
   "outputs": [
    {
     "data": {
      "text/plain": [
       "['cat', 'dog', 'llama', 'apple', 'orange', 'mango']"
      ]
     },
     "execution_count": 29,
     "metadata": {},
     "output_type": "execute_result"
    }
   ],
   "source": [
    "animals = [\"cat\", \"dog\", \"llama\"]\n",
    "fruits = [\"apple\", \"orange\", \"mango\"]\n",
    "\n",
    "animals_and_fruits = animals + fruits\n",
    "animals_and_fruits"
   ]
  },
  {
   "cell_type": "markdown",
   "id": "5debec22",
   "metadata": {},
   "source": [
    "Listy mogą być również powtarzane poprzez użycie operatora `*` razem z liczbą całkowitą:"
   ]
  },
  {
   "cell_type": "code",
   "execution_count": 30,
   "id": "4365b618",
   "metadata": {
    "scrolled": true
   },
   "outputs": [
    {
     "data": {
      "text/plain": [
       "['cat', 'dog', 'llama', 'cat', 'dog', 'llama', 'cat', 'dog', 'llama']"
      ]
     },
     "execution_count": 30,
     "metadata": {},
     "output_type": "execute_result"
    }
   ],
   "source": [
    "animals * 3"
   ]
  },
  {
   "cell_type": "markdown",
   "id": "d799bdbd",
   "metadata": {},
   "source": [
    "Możemy również użyć operatora `in`, aby sprawdzić czy dany element znajduje się w liście:"
   ]
  },
  {
   "cell_type": "code",
   "execution_count": 31,
   "id": "7213b675",
   "metadata": {},
   "outputs": [
    {
     "data": {
      "text/plain": [
       "True"
      ]
     },
     "execution_count": 31,
     "metadata": {},
     "output_type": "execute_result"
    }
   ],
   "source": [
    "\"cat\" in animals"
   ]
  },
  {
   "cell_type": "code",
   "execution_count": 32,
   "id": "c3f49c50",
   "metadata": {
    "scrolled": true
   },
   "outputs": [
    {
     "data": {
      "text/plain": [
       "False"
      ]
     },
     "execution_count": 32,
     "metadata": {},
     "output_type": "execute_result"
    }
   ],
   "source": [
    "\"lion\" in animals"
   ]
  },
  {
   "cell_type": "markdown",
   "id": "5c7d0706",
   "metadata": {},
   "source": [
    "Jak widać, operator `in` zwraca `bool` na podstawie tego, czy dany element znajduje się w liście czy nie. Oznacza to, że możemy łatwo użyć operatora `in` w instrukcjach warunkowych."
   ]
  },
  {
   "cell_type": "code",
   "execution_count": 33,
   "id": "a971357b",
   "metadata": {},
   "outputs": [
    {
     "name": "stdout",
     "output_type": "stream",
     "text": [
      "the list contains 'apple'\n"
     ]
    }
   ],
   "source": [
    "if \"apple\" in fruits:\n",
    "    print(\"the list contains 'apple'\")\n",
    "else:\n",
    "    print(\"the list does not contain 'apple'\")"
   ]
  },
  {
   "cell_type": "markdown",
   "id": "cc051264",
   "metadata": {},
   "source": [
    "Możemy również użyć operatorów `not` i `in` razem, aby sprawdzić czy element niema w liście. W istocie, odwraca to wartość `bool` zwracaną przy użyciu tylko operatora `in`:"
   ]
  },
  {
   "cell_type": "code",
   "execution_count": 34,
   "id": "f3412fb3",
   "metadata": {
    "scrolled": true
   },
   "outputs": [
    {
     "data": {
      "text/plain": [
       "False"
      ]
     },
     "execution_count": 34,
     "metadata": {},
     "output_type": "execute_result"
    }
   ],
   "source": [
    "\"cat\" not in animals"
   ]
  },
  {
   "cell_type": "code",
   "execution_count": 35,
   "id": "e34a0a62",
   "metadata": {},
   "outputs": [
    {
     "data": {
      "text/plain": [
       "True"
      ]
     },
     "execution_count": 35,
     "metadata": {},
     "output_type": "execute_result"
    }
   ],
   "source": [
    "\"lion\" not in animals"
   ]
  },
  {
   "cell_type": "markdown",
   "id": "cfea088c",
   "metadata": {},
   "source": [
    "### 1.6. Funkcje wbudowane i listy <a id='funkcje-wbudowane-i-listy'></a>"
   ]
  },
  {
   "cell_type": "markdown",
   "id": "a4f8ac5f",
   "metadata": {},
   "source": [
    "Używaliśmy już funkcji wbudowanych `type()` i `len()` razem z listami, jednak istnieją również inne funkcje wbudowane, które przyjmują listy jako argumenty. Użyjemy wcześniej zdefiniowanej listy `numbers`, aby zilustrować działanie tych wbudowanych funkcji."
   ]
  },
  {
   "cell_type": "code",
   "execution_count": 36,
   "id": "6e6c69e2",
   "metadata": {},
   "outputs": [
    {
     "data": {
      "text/plain": [
       "[99, 14, 17, 42, 5]"
      ]
     },
     "execution_count": 36,
     "metadata": {},
     "output_type": "execute_result"
    }
   ],
   "source": [
    "numbers"
   ]
  },
  {
   "cell_type": "markdown",
   "id": "3d3fba49",
   "metadata": {},
   "source": [
    "Możemy użyć wbudowanej funkcji `sum()`, aby uzyskać sumę liczb na liście:"
   ]
  },
  {
   "cell_type": "code",
   "execution_count": 37,
   "id": "288eb7a5",
   "metadata": {
    "scrolled": true
   },
   "outputs": [
    {
     "data": {
      "text/plain": [
       "177"
      ]
     },
     "execution_count": 37,
     "metadata": {},
     "output_type": "execute_result"
    }
   ],
   "source": [
    "sum(numbers)"
   ]
  },
  {
   "cell_type": "markdown",
   "id": "75e3ddd1",
   "metadata": {},
   "source": [
    "We can use the built-in function `max()` to get the largest number in a list:"
   ]
  },
  {
   "cell_type": "code",
   "execution_count": 38,
   "id": "e191cadb",
   "metadata": {},
   "outputs": [
    {
     "data": {
      "text/plain": [
       "99"
      ]
     },
     "execution_count": 38,
     "metadata": {},
     "output_type": "execute_result"
    }
   ],
   "source": [
    "max(numbers)"
   ]
  },
  {
   "cell_type": "markdown",
   "id": "a938681b",
   "metadata": {},
   "source": [
    "We can use the built-in function `min()` to get the smallest number in a list:"
   ]
  },
  {
   "cell_type": "code",
   "execution_count": 39,
   "id": "d5c07068",
   "metadata": {},
   "outputs": [
    {
     "data": {
      "text/plain": [
       "5"
      ]
     },
     "execution_count": 39,
     "metadata": {},
     "output_type": "execute_result"
    }
   ],
   "source": [
    "min(numbers)"
   ]
  },
  {
   "cell_type": "markdown",
   "id": "c9395fd4",
   "metadata": {},
   "source": [
    "### 1.7. Pętle \"for\" i listy <a id='pętle-for-i-listy'></a>\n",
    "\n",
    "Można korzystać z pętli \"for\" w przypadku list:"
   ]
  },
  {
   "cell_type": "code",
   "execution_count": 40,
   "id": "9f6334d8",
   "metadata": {},
   "outputs": [
    {
     "name": "stdout",
     "output_type": "stream",
     "text": [
      "cat\n",
      "dog\n",
      "llama\n"
     ]
    }
   ],
   "source": [
    "for animal in animals:\n",
    "    print(animal)"
   ]
  },
  {
   "cell_type": "markdown",
   "id": "fe47aa4e",
   "metadata": {},
   "source": [
    "Możemy stworzyć pętlę również w następujący sposób:"
   ]
  },
  {
   "cell_type": "code",
   "execution_count": 41,
   "id": "e3c14d56",
   "metadata": {
    "scrolled": true
   },
   "outputs": [
    {
     "name": "stdout",
     "output_type": "stream",
     "text": [
      "cat\n",
      "dog\n",
      "llama\n"
     ]
    }
   ],
   "source": [
    "for i in range(len(animals)):\n",
    "    print(animals[i])"
   ]
  },
  {
   "cell_type": "markdown",
   "id": "5df085dc",
   "metadata": {},
   "source": [
    "Podczas gdy druga metoda zawiera więcej kodu, pozwala nam przejśc przez elementy listy z możliwością jednoczesnego zmieniania ich w procesie. Jeśli użyjemy pętli \"for\" bezpośrednio na liście `animals` i spróbujemy zmienić jej elementy, otrzymamy następujący wynik:"
   ]
  },
  {
   "cell_type": "code",
   "execution_count": 42,
   "id": "cb2531cd",
   "metadata": {},
   "outputs": [
    {
     "data": {
      "text/plain": [
       "['cat', 'dog', 'llama']"
      ]
     },
     "execution_count": 42,
     "metadata": {},
     "output_type": "execute_result"
    }
   ],
   "source": [
    "for animal in animals:\n",
    "    animal = \"zebra\"\n",
    "animals "
   ]
  },
  {
   "cell_type": "markdown",
   "id": "aa2f2d60",
   "metadata": {},
   "source": [
    "Jak widzimy w powyższej komórce kodu, lista `animals` jest niezmieniona. Dzieje się tak dlatego, że kiedy piszemy `animal = \"zebra\"`, nie przypisujemy stringu `\"zebra\"` do miejsca w liście, ale po prostu przypisujemy go do zmiennej o nazwie `animal`. Innymi słowy, zmienna o nazwie `animal` wskazuje po prostu na nowy string, który stworzyliśmy."
   ]
  },
  {
   "cell_type": "markdown",
   "id": "7756cf4b",
   "metadata": {},
   "source": [
    "Elementy listy możemy modyfikować w trakcie pętli w następujący sposób:"
   ]
  },
  {
   "cell_type": "code",
   "execution_count": 43,
   "id": "ef52303d",
   "metadata": {},
   "outputs": [
    {
     "data": {
      "text/plain": [
       "['zebra', 'zebra', 'zebra']"
      ]
     },
     "execution_count": 43,
     "metadata": {},
     "output_type": "execute_result"
    }
   ],
   "source": [
    "for i in range(len(animals)):\n",
    "    animals[i] = \"zebra\"\n",
    "animals"
   ]
  },
  {
   "cell_type": "markdown",
   "id": "98c7eede",
   "metadata": {},
   "source": [
    "### 1.8. Dodawanie elementów do listy <a id='dodawanie-elementów-do-listy'></a>"
   ]
  },
  {
   "cell_type": "markdown",
   "id": "f3083beb",
   "metadata": {},
   "source": [
    "Zamiast tylko modyfikować elementy, możemy również dodawać elementy do listy. Wcześniej widzieliśmy jak można to osiągnąć za pomocą operatora `+`:"
   ]
  },
  {
   "cell_type": "code",
   "execution_count": 46,
   "id": "03ee3905",
   "metadata": {},
   "outputs": [
    {
     "name": "stdout",
     "output_type": "stream",
     "text": [
      "['cat', 'dog', 'llama']\n"
     ]
    }
   ],
   "source": [
    "animals = [\"cat\", \"dog\"]\n",
    "print(animals + [\"llama\"])"
   ]
  },
  {
   "cell_type": "markdown",
   "id": "3df27236",
   "metadata": {},
   "source": [
    "Istnieją jednak również inne sposoby dodawania elementów do listy. Mianowicie, możemy użyć wbudowanych \"metod\", aby dodawać elementy do listy na różne sposoby. Metody to po prostu funkcje, które są połączone z obiektem. Na przykład `list` posiada metodę `append()`, która dodaje element na koniec listy:"
   ]
  },
  {
   "cell_type": "code",
   "execution_count": 47,
   "id": "22503441",
   "metadata": {},
   "outputs": [
    {
     "data": {
      "text/plain": [
       "['cat', 'dog', 'llama']"
      ]
     },
     "execution_count": 47,
     "metadata": {},
     "output_type": "execute_result"
    }
   ],
   "source": [
    "animals.append(\"llama\")\n",
    "animals"
   ]
  },
  {
   "cell_type": "markdown",
   "id": "3904f8c0",
   "metadata": {},
   "source": [
    "Metoda `append()` przyjmuje jeden argument i dodaje go na koniec listy `animals` bezpośrednio, bez zwracania wartości. W zasadzie operacja ta odpowiada następującemu wyrażeniu: `animals = animals + [\"cat\"]`."
   ]
  },
  {
   "cell_type": "code",
   "execution_count": 48,
   "id": "b5046a3a",
   "metadata": {},
   "outputs": [
    {
     "data": {
      "text/plain": [
       "['cat', 'dog', 'llama', 'alpaca', 'giraffe']"
      ]
     },
     "execution_count": 48,
     "metadata": {},
     "output_type": "execute_result"
    }
   ],
   "source": [
    "animals.append(\"alpaca\")\n",
    "animals.append(\"giraffe\")\n",
    "animals"
   ]
  },
  {
   "cell_type": "markdown",
   "id": "da5620c1",
   "metadata": {},
   "source": [
    "Możemy również dodawać elementy do listy za pomocą metody `insert()`, która przyjmuje dwa argumenty - indeks, w który ma być wstawiony element oraz element."
   ]
  },
  {
   "cell_type": "code",
   "execution_count": 49,
   "id": "0226efa5",
   "metadata": {},
   "outputs": [
    {
     "data": {
      "text/plain": [
       "['cat', 'elephant', 'dog', 'llama', 'alpaca', 'giraffe']"
      ]
     },
     "execution_count": 49,
     "metadata": {},
     "output_type": "execute_result"
    }
   ],
   "source": [
    "animals.insert(1, \"elephant\")\n",
    "animals"
   ]
  },
  {
   "cell_type": "markdown",
   "id": "1f1a20e8",
   "metadata": {},
   "source": [
    "### 1.9. Usuwanie elementów z listy <a id='usuwanie-elementów-z-listy'></a>"
   ]
  },
  {
   "cell_type": "markdown",
   "id": "8b8de893",
   "metadata": {},
   "source": [
    "Istnieje wiele sposobów, w jaki możemy usunąć element z listy. Na przykład, możemy użyć metody `remove()`, która przyjmuje jeden argument - element, który ma zostać usunięty."
   ]
  },
  {
   "cell_type": "code",
   "execution_count": 50,
   "id": "77724a8e",
   "metadata": {},
   "outputs": [
    {
     "data": {
      "text/plain": [
       "['cat', 'elephant', 'dog', 'alpaca', 'giraffe']"
      ]
     },
     "execution_count": 50,
     "metadata": {},
     "output_type": "execute_result"
    }
   ],
   "source": [
    "animals.remove(\"llama\")\n",
    "animals"
   ]
  },
  {
   "cell_type": "markdown",
   "id": "a41af724",
   "metadata": {},
   "source": [
    "**Uwaga:** jeśli lista ma dwa lub więcej identycznych elementów, metoda `remove()` usuwa pierwszy element listy."
   ]
  },
  {
   "cell_type": "code",
   "execution_count": 51,
   "id": "d5a2dd04",
   "metadata": {},
   "outputs": [
    {
     "data": {
      "text/plain": [
       "['b', 'a']"
      ]
     },
     "execution_count": 51,
     "metadata": {},
     "output_type": "execute_result"
    }
   ],
   "source": [
    "x = [\"a\", \"b\", \"a\"]\n",
    "x.remove(\"a\")\n",
    "x"
   ]
  },
  {
   "cell_type": "markdown",
   "id": "e709c9a9",
   "metadata": {},
   "source": [
    "Możemy również użyć metody `pop()`, która przyjmuje jeden argument - indeks elementu, który ma zostać usunięty."
   ]
  },
  {
   "cell_type": "code",
   "execution_count": 52,
   "id": "71d9c388",
   "metadata": {},
   "outputs": [
    {
     "data": {
      "text/plain": [
       "['elephant', 'dog', 'alpaca', 'giraffe']"
      ]
     },
     "execution_count": 52,
     "metadata": {},
     "output_type": "execute_result"
    }
   ],
   "source": [
    "animals.pop(0)\n",
    "animals"
   ]
  },
  {
   "cell_type": "markdown",
   "id": "689f1492",
   "metadata": {},
   "source": [
    "Możemy nawet usunąć wszystkie elementy z listy:"
   ]
  },
  {
   "cell_type": "code",
   "execution_count": 187,
   "id": "8b6b890e",
   "metadata": {},
   "outputs": [
    {
     "data": {
      "text/plain": [
       "[]"
      ]
     },
     "execution_count": 187,
     "metadata": {},
     "output_type": "execute_result"
    }
   ],
   "source": [
    "for i in range(len(animals)):\n",
    "    animals.pop(0)\n",
    "animals"
   ]
  },
  {
   "cell_type": "markdown",
   "id": "56fafb88",
   "metadata": {},
   "source": [
    "Jak widzimy powyżej, usunięcie wszystkich elementów skutkuje pustą listą, która jest wskazywana przez nawiasy kwadratowe, które nie zawierają żadnych elementów wewnątrz (`[]`). Ponieważ lista `animals` jest teraz pusta, Python pokaże błąd, jeśli spróbujemy ponownie wywołać metodę `pop()`:"
   ]
  },
  {
   "cell_type": "code",
   "execution_count": 201,
   "id": "c2f39d6c",
   "metadata": {
    "scrolled": true
   },
   "outputs": [
    {
     "ename": "IndexError",
     "evalue": "pop from empty list",
     "output_type": "error",
     "traceback": [
      "\u001b[0;31m---------------------------------------------------------------------------\u001b[0m",
      "\u001b[0;31mIndexError\u001b[0m                                Traceback (most recent call last)",
      "Input \u001b[0;32mIn [201]\u001b[0m, in \u001b[0;36m<cell line: 1>\u001b[0;34m()\u001b[0m\n\u001b[0;32m----> 1\u001b[0m \u001b[43manimals\u001b[49m\u001b[38;5;241;43m.\u001b[39;49m\u001b[43mpop\u001b[49m\u001b[43m(\u001b[49m\u001b[38;5;241;43m0\u001b[39;49m\u001b[43m)\u001b[49m\n",
      "\u001b[0;31mIndexError\u001b[0m: pop from empty list"
     ]
    }
   ],
   "source": [
    "animals.pop(0)"
   ]
  },
  {
   "cell_type": "markdown",
   "id": "988d69a4",
   "metadata": {},
   "source": [
    "Komunikat o błędzie mówi nam, że lista jest pusta. Jeśli sprawdzimy długość listy, zobaczymy, że wynosi ona 0."
   ]
  },
  {
   "cell_type": "code",
   "execution_count": 202,
   "id": "3e2605da",
   "metadata": {},
   "outputs": [
    {
     "data": {
      "text/plain": [
       "0"
      ]
     },
     "execution_count": 202,
     "metadata": {},
     "output_type": "execute_result"
    }
   ],
   "source": [
    "len(animals)"
   ]
  },
  {
   "cell_type": "markdown",
   "id": "68eac4f7",
   "metadata": {},
   "source": [
    "Poza użyciem metod `remove()` i `pop()`, możemy również usunąć elementy z listy używając zarezerwowanego słowa kluczowego `del`, które może usunąć dowolny obiekt w Pythonie."
   ]
  },
  {
   "cell_type": "code",
   "execution_count": 53,
   "id": "a6e95c03",
   "metadata": {},
   "outputs": [],
   "source": [
    "programming_languages = [\"Python\", \"JavaScript\", \"C++\"]"
   ]
  },
  {
   "cell_type": "code",
   "execution_count": 54,
   "id": "d82be8ac",
   "metadata": {},
   "outputs": [
    {
     "data": {
      "text/plain": [
       "['Python', 'C++']"
      ]
     },
     "execution_count": 54,
     "metadata": {},
     "output_type": "execute_result"
    }
   ],
   "source": [
    "del programming_languages[1]\n",
    "programming_languages"
   ]
  },
  {
   "cell_type": "markdown",
   "id": "477de850",
   "metadata": {},
   "source": [
    "Możemy nawet usunąć w ten sposób całą listę:"
   ]
  },
  {
   "cell_type": "code",
   "execution_count": 56,
   "id": "3f21bc49",
   "metadata": {},
   "outputs": [],
   "source": [
    "del programming_languages"
   ]
  },
  {
   "cell_type": "markdown",
   "id": "8fc1ef31",
   "metadata": {},
   "source": [
    "Jeśli tak zrobimy, to odwołanie się do zmiennej `programming_languages` spowoduje teraz błąd:"
   ]
  },
  {
   "cell_type": "code",
   "execution_count": 57,
   "id": "bacf4043",
   "metadata": {},
   "outputs": [
    {
     "ename": "NameError",
     "evalue": "name 'programming_languages' is not defined",
     "output_type": "error",
     "traceback": [
      "\u001b[0;31m---------------------------------------------------------------------------\u001b[0m",
      "\u001b[0;31mNameError\u001b[0m                                 Traceback (most recent call last)",
      "Input \u001b[0;32mIn [57]\u001b[0m, in \u001b[0;36m<cell line: 1>\u001b[0;34m()\u001b[0m\n\u001b[0;32m----> 1\u001b[0m \u001b[43mprogramming_languages\u001b[49m\n",
      "\u001b[0;31mNameError\u001b[0m: name 'programming_languages' is not defined"
     ]
    }
   ],
   "source": [
    "programming_languages"
   ]
  },
  {
   "cell_type": "markdown",
   "id": "18771e51",
   "metadata": {},
   "source": [
    "# 2. Słowniki <a id='słowniki'></a>"
   ]
  },
  {
   "cell_type": "markdown",
   "id": "738bcf36",
   "metadata": {},
   "source": [
    "### 2.1. Tworzenie słownika <a id='tworzenie-słownika'></a>"
   ]
  },
  {
   "cell_type": "markdown",
   "id": "85edd01c",
   "metadata": {},
   "source": [
    "Podobnie jak lista, słownik również służy do przechowywania i organizowania kolekcji obiektów. Przykładowo, kod w komórce poniżej definiuje słownik z 3 elementami i przypisuje go do zmiennej `ice_cream_prices`."
   ]
  },
  {
   "cell_type": "code",
   "execution_count": 57,
   "id": "c519e9e8",
   "metadata": {},
   "outputs": [],
   "source": [
    "ice_cream_prices = {\"vanilla\": 2.29, \"strawberry\": 2.35, \"chocolate\": 2.39}"
   ]
  },
  {
   "cell_type": "markdown",
   "id": "b31344cb",
   "metadata": {},
   "source": [
    "Aby zdefiniować słownik, używamy nawiasów klamrowych `{}` i umieszczamy pomiędzy nimi elementy słownika. Każda pozycja w słowniku składa się z dwóch elementów - klucza i wartości. W przypadku słownika `ice_cream_prices` kluczami są stringi: `\"vanilia\"`, `\"strawberry\"` i `\"chocolate\"`, natomiast wartościami są liczby `float`: `2,29`, `2,32` i `2,35`. \n",
    "\n",
    "Przy definiowaniu słowników (lub list) pomocnym może być rozłożenie definicji na wiele linijek kodu, gdyż zwiększa to czytelność. Na przykład słownik `ice_cream_prices` możemy przepisać w następujący sposób: "
   ]
  },
  {
   "cell_type": "code",
   "execution_count": 4,
   "id": "fa302610",
   "metadata": {},
   "outputs": [],
   "source": [
    "ice_cream_prices = {\n",
    "    \"vanilla\": 2.29,\n",
    "    \"strawberry\": 2.32,\n",
    "    \"chocolate\": 2.35\n",
    "}"
   ]
  },
  {
   "cell_type": "markdown",
   "id": "c2c7e628",
   "metadata": {},
   "source": [
    "Definicja słownika w komórce kodu powyżej jest równoważna z wcześniejszą definicją, jest po prostu rozłożona na wiele linijek, aby zwiększyć czytelność. Teraz możemy łatwo zauważyć, że słownik ten zawiera 3 elementy (złożone z par `klucz: wartość`). Możemy to sprawdzić za pomocą funkcji `len()`."
   ]
  },
  {
   "cell_type": "code",
   "execution_count": 5,
   "id": "fd634fd5",
   "metadata": {},
   "outputs": [
    {
     "data": {
      "text/plain": [
       "3"
      ]
     },
     "execution_count": 5,
     "metadata": {},
     "output_type": "execute_result"
    }
   ],
   "source": [
    "len(ice_cream_prices)"
   ]
  },
  {
   "cell_type": "markdown",
   "id": "d6c424bd",
   "metadata": {},
   "source": [
    "Gdy przekażemy zmienną `ice_cream_prices` do funkcji `type()`, możemy zauważyć, że zwraca ona `dict` (co jest skrótem od dictionary):"
   ]
  },
  {
   "cell_type": "code",
   "execution_count": 6,
   "id": "756658b9",
   "metadata": {
    "scrolled": true
   },
   "outputs": [
    {
     "data": {
      "text/plain": [
       "dict"
      ]
     },
     "execution_count": 6,
     "metadata": {},
     "output_type": "execute_result"
    }
   ],
   "source": [
    "type(ice_cream_prices)"
   ]
  },
  {
   "cell_type": "markdown",
   "id": "b8918dee",
   "metadata": {},
   "source": [
    "Słowniki mogą również przechowywać obiekty o różnych typach:"
   ]
  },
  {
   "cell_type": "code",
   "execution_count": 7,
   "id": "ed86c13f",
   "metadata": {},
   "outputs": [],
   "source": [
    "user_info = {\n",
    "    \"username\": \"johnny123\",\n",
    "    \"age\": 24,\n",
    "    \"interests\": [\"rock music\", \"travelling\", \"tennis\"],\n",
    "    \"private_info\": {\"last_login_date\": \"2022-06-23\" , \"full_name\": \"John Smith\"}\n",
    "}"
   ]
  },
  {
   "cell_type": "markdown",
   "id": "2a83f6d7",
   "metadata": {},
   "source": [
    "W powyższej komórce kodu słownik `user_info` zawiera 4 różne elementy (4 pary klucz-wartość), które odpowiadają informacjom o użytkowniku na hipotetycznej stronie internetowej.\n",
    "\n",
    "1. Klucz \"username\" wskazuje na `str`, który zawiera nazwę użytkownika.\n",
    "2. Klucz \"age\" wskazuje na `int`, który reprezentuje aktualny wiek użytkownika.\n",
    "3. Klucz \"interests\" wskazuje na `list` zawierający stringi, które reprezentują zainteresowania użytkownika.\n",
    "4. Klucz \"private_info\" wskazuje na kolejny `dict`, który ma dwa elementy zawierające prywatne informacje, które nie są widoczne przez innych użytkowników."
   ]
  },
  {
   "cell_type": "markdown",
   "id": "c2243b14",
   "metadata": {},
   "source": [
    "Jak zapewne zauważyłeś, wszystkie klucze w słownikach były do tej pory stringami. Możliwe jest użycie innych typów danych dla kluczy, takich jak `int`, jednak najczęściej jako klucze używane są stringi. Warto również zauważyć, że nie wszystkie typy danych mogą być kluczami. Na przykład `list` nie może być użyty jako klucz w słowniku."
   ]
  },
  {
   "cell_type": "markdown",
   "id": "bc9ece63",
   "metadata": {},
   "source": [
    "Kolejną rzeczą do zapamiętania jest to, że wszystkie klucze muszą być unikalne - słownik nie może mieć dwóch identycznych kluczy:"
   ]
  },
  {
   "cell_type": "code",
   "execution_count": 8,
   "id": "c12d5fdf",
   "metadata": {},
   "outputs": [
    {
     "data": {
      "text/plain": [
       "{'a': 2}"
      ]
     },
     "execution_count": 8,
     "metadata": {},
     "output_type": "execute_result"
    }
   ],
   "source": [
    "x = {\"a\": 1, \"a\": 2}\n",
    "x"
   ]
  },
  {
   "cell_type": "markdown",
   "id": "11bd0d93",
   "metadata": {},
   "source": [
    "Jak widać powyżej, Python nie pozwala nam na stworzenie słownika z dwoma identycznymi kluczami. Pierwsza wartość przypisana do klucza \"a\" jest po prostu nadpisywana przez drugą wartość przypisaną do klucza \"a\"."
   ]
  },
  {
   "cell_type": "markdown",
   "id": "17f46e0c",
   "metadata": {},
   "source": [
    "### 2.2. Dostęp do elementów w słowniku <a id='dostęp-do-elementów-w-słowniku'></a>"
   ]
  },
  {
   "cell_type": "markdown",
   "id": "3e11945e",
   "metadata": {},
   "source": [
    "Podobnie jak w przypadku dostępu do elementów listy przez odpowiadający im indeks, możemy uzyskać dostęp do wartości w słowniku przez odpowiadający im klucz. Jako przykład weźmy zdefiniowany wcześniej słownik `ice_cream_prices`. "
   ]
  },
  {
   "cell_type": "code",
   "execution_count": 9,
   "id": "b053b470",
   "metadata": {},
   "outputs": [
    {
     "data": {
      "text/plain": [
       "2.29"
      ]
     },
     "execution_count": 9,
     "metadata": {},
     "output_type": "execute_result"
    }
   ],
   "source": [
    "ice_cream_prices[\"vanilla\"]"
   ]
  },
  {
   "cell_type": "code",
   "execution_count": 10,
   "id": "dafbacd1",
   "metadata": {},
   "outputs": [
    {
     "data": {
      "text/plain": [
       "2.32"
      ]
     },
     "execution_count": 10,
     "metadata": {},
     "output_type": "execute_result"
    }
   ],
   "source": [
    "ice_cream_prices[\"strawberry\"]"
   ]
  },
  {
   "cell_type": "code",
   "execution_count": 11,
   "id": "348cee36",
   "metadata": {
    "scrolled": true
   },
   "outputs": [
    {
     "data": {
      "text/plain": [
       "2.35"
      ]
     },
     "execution_count": 11,
     "metadata": {},
     "output_type": "execute_result"
    }
   ],
   "source": [
    "ice_cream_prices[\"chocolate\"]"
   ]
  },
  {
   "cell_type": "markdown",
   "id": "fc14fc64",
   "metadata": {},
   "source": [
    "Możesz myśleć o kluczu w słowniku jako analogicznym do indeksu w liście. W rzeczywistości moglibyśmy zorganizować ceny smaków lodów w postaci listy (`[2.29, 2.35, 2.39]`), ale musielibyśmy pamiętać, który element w którym indeksie odpowiada któremu smakowi lodów. Prawdopodobnie wygodniej jest zapisać ceny różnych smaków lodów jako słownik i mieć dostęp do cen po nazwie smaku lodów. Dzięki temu nasz kod jest również łatwiejszy do zrozumienia, ponieważ klucze w słowniku mówią nam więcej o tym, co oznaczają wartości."
   ]
  },
  {
   "cell_type": "markdown",
   "id": "e4b18133",
   "metadata": {},
   "source": [
    "### 2.3. Modyfikowanie elementów w słowniku <a id='modyfikowanie-elementów-w-słowniku'></a>"
   ]
  },
  {
   "cell_type": "markdown",
   "id": "b4fd15f9",
   "metadata": {},
   "source": [
    "Wartość w słowniku może być modyfikowana poprzez proste zidentyfikowanie jej przez klucz i przypisanie nowej wartości:"
   ]
  },
  {
   "cell_type": "code",
   "execution_count": 12,
   "id": "91edb73c",
   "metadata": {},
   "outputs": [
    {
     "data": {
      "text/plain": [
       "{'vanilla': 3.5, 'strawberry': 2.32, 'chocolate': 2.35}"
      ]
     },
     "execution_count": 12,
     "metadata": {},
     "output_type": "execute_result"
    }
   ],
   "source": [
    "ice_cream_prices[\"vanilla\"] = 3.50\n",
    "ice_cream_prices"
   ]
  },
  {
   "cell_type": "markdown",
   "id": "556d76c4",
   "metadata": {},
   "source": [
    "### 2.4. Pętle \"for\" i słowniki <a id='pętle-for-i-słowniki'></a>"
   ]
  },
  {
   "cell_type": "markdown",
   "id": "1338c912",
   "metadata": {},
   "source": [
    "Pętli \"for\" możemy używać również ze słownikami. Na przykład, możemy przejść przez klucze słownika w następujący sposób:"
   ]
  },
  {
   "cell_type": "code",
   "execution_count": 13,
   "id": "7c3b37da",
   "metadata": {
    "scrolled": true
   },
   "outputs": [
    {
     "name": "stdout",
     "output_type": "stream",
     "text": [
      "vanilla\n",
      "strawberry\n",
      "chocolate\n"
     ]
    }
   ],
   "source": [
    "for key in ice_cream_prices:\n",
    "    print(key)"
   ]
  },
  {
   "cell_type": "markdown",
   "id": "aa1aa87a",
   "metadata": {},
   "source": [
    "Możemy też użyć metody `.keys()`, która zwróci nam obiekt zawierający klucze słownika:"
   ]
  },
  {
   "cell_type": "code",
   "execution_count": 14,
   "id": "92746a09",
   "metadata": {
    "scrolled": true
   },
   "outputs": [
    {
     "name": "stdout",
     "output_type": "stream",
     "text": [
      "vanilla\n",
      "strawberry\n",
      "chocolate\n"
     ]
    }
   ],
   "source": [
    "for key in ice_cream_prices.keys():\n",
    "    print(key)"
   ]
  },
  {
   "cell_type": "markdown",
   "id": "96cc192a",
   "metadata": {},
   "source": [
    "Jeżeli chcemy przejść przez wartości w słowniku, możemy użyć metody `.values()`:"
   ]
  },
  {
   "cell_type": "code",
   "execution_count": 15,
   "id": "9c0e85f9",
   "metadata": {},
   "outputs": [
    {
     "name": "stdout",
     "output_type": "stream",
     "text": [
      "3.5\n",
      "2.32\n",
      "2.35\n"
     ]
    }
   ],
   "source": [
    "for value in ice_cream_prices.values():\n",
    "    print(value)"
   ]
  },
  {
   "cell_type": "markdown",
   "id": "e54b7d8a",
   "metadata": {},
   "source": [
    "Często jednak będziemy chcieli przejść zarówno przez klucze, jak i odpowiadające im wartości. W takim przypadku możemy użyć metody `items()` w następujący sposób:"
   ]
  },
  {
   "cell_type": "code",
   "execution_count": 67,
   "id": "3c20ad15",
   "metadata": {},
   "outputs": [
    {
     "name": "stdout",
     "output_type": "stream",
     "text": [
      "vanilla: 3.5\n",
      "strawberry: 2.32\n",
      "chocolate: 2.35\n"
     ]
    }
   ],
   "source": [
    "for key, value in ice_cream_prices.items():\n",
    "    print(key + \": \" + str(value))"
   ]
  },
  {
   "cell_type": "markdown",
   "id": "d3afdb44",
   "metadata": {},
   "source": [
    "Metoda `items()` tworzy iterator, która będzie zwracać zarówno klucz jak i odpowiadającą mu wartość podczas każdego kroku iteracji."
   ]
  },
  {
   "cell_type": "markdown",
   "id": "cfe7e55c",
   "metadata": {},
   "source": [
    "### 2.5. Dodawanie elementów do słownika  <a id='dodawanie-elementów-do-słownika'></a>"
   ]
  },
  {
   "cell_type": "markdown",
   "id": "e4c560e6",
   "metadata": {},
   "source": [
    "Aby dodać element do słownika, po prostu przypisujemy wartość do klucza, który jeszcze nie istnieje - to go stworzy:"
   ]
  },
  {
   "cell_type": "code",
   "execution_count": 68,
   "id": "d36fac8e",
   "metadata": {},
   "outputs": [
    {
     "data": {
      "text/plain": [
       "{'vanilla': 3.5, 'strawberry': 2.32, 'chocolate': 2.35, 'caramel': 2.7}"
      ]
     },
     "execution_count": 68,
     "metadata": {},
     "output_type": "execute_result"
    }
   ],
   "source": [
    "ice_cream_prices[\"caramel\"] = 2.70\n",
    "ice_cream_prices"
   ]
  },
  {
   "cell_type": "markdown",
   "id": "3b469b37",
   "metadata": {},
   "source": [
    "### 2.6 Usuwanie elementów z słownika  <a id='usuwanie-elementów-z-słownika'></a>"
   ]
  },
  {
   "cell_type": "markdown",
   "id": "9070eb26",
   "metadata": {},
   "source": [
    "Do usunięcia elementu ze słownika możemy użyć metody `pop()`:"
   ]
  },
  {
   "cell_type": "code",
   "execution_count": 69,
   "id": "f6e78c0a",
   "metadata": {},
   "outputs": [
    {
     "data": {
      "text/plain": [
       "{'strawberry': 2.32, 'chocolate': 2.35, 'caramel': 2.7}"
      ]
     },
     "execution_count": 69,
     "metadata": {},
     "output_type": "execute_result"
    }
   ],
   "source": [
    "ice_cream_prices.pop(\"vanilla\")\n",
    "ice_cream_prices"
   ]
  },
  {
   "cell_type": "markdown",
   "id": "a0ed2248",
   "metadata": {},
   "source": [
    "Możemy oczywiście użyć również zarezerwowanego słowa kluczowego `del`, które może usunąć dowolny obiekt w Pythonie."
   ]
  },
  {
   "cell_type": "code",
   "execution_count": 70,
   "id": "8c35b14f",
   "metadata": {},
   "outputs": [
    {
     "data": {
      "text/plain": [
       "{'chocolate': 2.35, 'caramel': 2.7}"
      ]
     },
     "execution_count": 70,
     "metadata": {},
     "output_type": "execute_result"
    }
   ],
   "source": [
    "del ice_cream_prices[\"strawberry\"]\n",
    "ice_cream_prices"
   ]
  },
  {
   "cell_type": "markdown",
   "id": "a58967aa",
   "metadata": {},
   "source": [
    "Jeśli usuniemy wszystkie pozycje w słowniku, będziemy mieli pusty słownik, wskazywany przez nawiasy klamrowe bez niczego pomiędzy nimi (`{}`). Do usunięcia wszystkich elementów ze słownika możemy na przykład użyć metody `clear()`."
   ]
  },
  {
   "cell_type": "code",
   "execution_count": 73,
   "id": "26e0b12c",
   "metadata": {
    "scrolled": true
   },
   "outputs": [
    {
     "data": {
      "text/plain": [
       "{}"
      ]
     },
     "execution_count": 73,
     "metadata": {},
     "output_type": "execute_result"
    }
   ],
   "source": [
    "ice_cream_prices.clear()\n",
    "ice_cream_prices"
   ]
  },
  {
   "cell_type": "code",
   "execution_count": null,
   "id": "5f86f9fd",
   "metadata": {},
   "outputs": [],
   "source": [
    "x {}"
   ]
  }
 ],
 "metadata": {
  "kernelspec": {
   "display_name": "Python 3 (ipykernel)",
   "language": "python",
   "name": "python3"
  },
  "language_info": {
   "codemirror_mode": {
    "name": "ipython",
    "version": 3
   },
   "file_extension": ".py",
   "mimetype": "text/x-python",
   "name": "python",
   "nbconvert_exporter": "python",
   "pygments_lexer": "ipython3",
   "version": "3.9.13"
  }
 },
 "nbformat": 4,
 "nbformat_minor": 5
}
