{
 "cells": [
  {
   "cell_type": "markdown",
   "id": "c2b44d54",
   "metadata": {},
   "source": [
    "1. [Lists](#lists)  \n",
    "  1.1. [Creating a list](#creating-a-list)  \n",
    "  1.2. [Accessing items](#accessing-items)   \n",
    "  1.3. [Slicing a list](#slicing-a-list)   \n",
    "  1.4. [Modifying items](#modifying-items)     \n",
    "  1.5. [Operators and lists](#operators-and-lists)   \n",
    "  1.6. [Built-in functions and lists](#built-in-functions-and-lists)   \n",
    "  1.7. [For loops and lists](#for-loops-and-lists)   \n",
    "  1.8. [Adding items to a list](#adding-items-to-a-list)     \n",
    "  1.9. [Removing items from a list](#removing-items-from-a-list)     \n",
    "2. [Dictionaries](#dictionaries)  \n",
    "  2.1. [Creating a dictionary](#creating-a-dictionary)  \n",
    "  2.2. [Accessing items](#accessing-items)  \n",
    "  2.3. [Modifying values](#modifying-values)      \n",
    "  2.4. [For loops and dictionaries](#for-loops-and-dictionaries)   \n",
    "  2.5. [Adding items to a dictionary](#adding-items-to-a-dictionary)   \n",
    "  2.6. [Removing items from a dictionary](#removing-items-from-a-dictionary)"
   ]
  },
  {
   "cell_type": "markdown",
   "id": "41f589d0",
   "metadata": {},
   "source": [
    "# 1. Lists <a id='lists'></a>"
   ]
  },
  {
   "cell_type": "markdown",
   "id": "be64975a",
   "metadata": {},
   "source": [
    "### 1.1. Creating a list <a id='creating-a-list'></a>"
   ]
  },
  {
   "cell_type": "markdown",
   "id": "38b70854",
   "metadata": {},
   "source": [
    "In Python, a `list` is a special data type which can be used to store and organize a collection of values. For example, the code in the cell below creates a `list` that contains 3 integers (`1`, `2` and `3`) and assigns it to the variable `my_list`:"
   ]
  },
  {
   "cell_type": "code",
   "execution_count": 27,
   "id": "ef138356",
   "metadata": {},
   "outputs": [],
   "source": [
    "my_list = [1, 2, 3]"
   ]
  },
  {
   "cell_type": "markdown",
   "id": "e8eea9f1",
   "metadata": {},
   "source": [
    "The beginning of a list is signified with the left square bracket (`[`), while the end of a list is signified with the right square bracket (`]`). The items we want the list to contain are placed in between the square brackets, with each item being separated by a comma (`,`). If we do this, we will have successfully created a list, which we can check with the built-in `type()` function: "
   ]
  },
  {
   "cell_type": "code",
   "execution_count": 28,
   "id": "95eab89e",
   "metadata": {},
   "outputs": [
    {
     "data": {
      "text/plain": [
       "list"
      ]
     },
     "execution_count": 28,
     "metadata": {},
     "output_type": "execute_result"
    }
   ],
   "source": [
    "type(my_list)"
   ]
  },
  {
   "cell_type": "markdown",
   "id": "38e2bd53",
   "metadata": {},
   "source": [
    "We can also use the built-in `len()` function to check the length of the list."
   ]
  },
  {
   "cell_type": "code",
   "execution_count": 29,
   "id": "aa6113cd",
   "metadata": {},
   "outputs": [
    {
     "data": {
      "text/plain": [
       "3"
      ]
     },
     "execution_count": 29,
     "metadata": {},
     "output_type": "execute_result"
    }
   ],
   "source": [
    "len(my_list)"
   ]
  },
  {
   "cell_type": "markdown",
   "id": "85c67f8a",
   "metadata": {},
   "source": [
    "Indeed we see that the length of the list is 3, since it contains 3 items - each of which is an integer. Lists can also contain objects of other data types, including `str`, `float`, `bool`, as well as `list`:"
   ]
  },
  {
   "cell_type": "code",
   "execution_count": 31,
   "id": "7242d461",
   "metadata": {
    "scrolled": true
   },
   "outputs": [
    {
     "data": {
      "text/plain": [
       "4"
      ]
     },
     "execution_count": 31,
     "metadata": {},
     "output_type": "execute_result"
    }
   ],
   "source": [
    "different_objects = ['str', 3.42, True, [2, 'str2']]\n",
    "len(different_objects)"
   ]
  },
  {
   "cell_type": "markdown",
   "id": "7d2accd6",
   "metadata": {},
   "source": [
    "As we can see, the list above has 4 items of the following types: `str`, `float`, `bool` and `list`. The 4th item, which is also a list, contains two items (an `int` and a `str`)."
   ]
  },
  {
   "cell_type": "markdown",
   "id": "baf993dd",
   "metadata": {},
   "source": [
    "### 1.2. Accessing items <a id='accessing-items'></a>"
   ]
  },
  {
   "cell_type": "markdown",
   "id": "3344af09",
   "metadata": {},
   "source": [
    "As the name \"list\" suggests, there is an order to the items contained within a `list`. A `list` can also be thought of as a sequence of items. This becomes evident when we try to access an item in a list:"
   ]
  },
  {
   "cell_type": "code",
   "execution_count": 32,
   "id": "5a859d72",
   "metadata": {},
   "outputs": [
    {
     "data": {
      "text/plain": [
       "'chihuahua'"
      ]
     },
     "execution_count": 32,
     "metadata": {},
     "output_type": "execute_result"
    }
   ],
   "source": [
    "dog_breeds = ['bulldog', ['black labrador', 'yellow labrador', 'chocolate labrador'], 'chihuahua', 'husky']\n",
    "dog_breeds[2]"
   ]
  },
  {
   "cell_type": "markdown",
   "id": "295e4c19",
   "metadata": {},
   "source": [
    "When we want to access an item, we use the notation `my_list[x]`, where `x` is an integer corresponding to the index of the item we want to access. The statement `dog_breeds[2]` returns the value `'chihuahua'` which is the 3rd item in the list. This is because counting in computer programming starts from 0. Therefore, the first item in the list has an index of `0`, the second item has an index of `1`, and so on."
   ]
  },
  {
   "cell_type": "markdown",
   "id": "f39d95b5",
   "metadata": {},
   "source": [
    "The code cell below contains a series of `print()` statements that show all of the items individually:"
   ]
  },
  {
   "cell_type": "code",
   "execution_count": 24,
   "id": "7b183861",
   "metadata": {},
   "outputs": [
    {
     "name": "stdout",
     "output_type": "stream",
     "text": [
      "bulldog\n",
      "['black labrador', 'yellow labrador', 'chocolate labrador']\n",
      "chihuahua\n",
      "husky\n"
     ]
    }
   ],
   "source": [
    "print(dog_breeds[0])\n",
    "print(dog_breeds[1])\n",
    "print(dog_breeds[2])\n",
    "print(dog_breeds[3])"
   ]
  },
  {
   "cell_type": "markdown",
   "id": "01feb340",
   "metadata": {},
   "source": [
    "We can also access items in a list using negative integers. The index `-1` is the last item in the `list`, the index `-2` is the second last item in the `list`, and so on."
   ]
  },
  {
   "cell_type": "code",
   "execution_count": 38,
   "id": "d3b77fc2",
   "metadata": {
    "scrolled": true
   },
   "outputs": [
    {
     "name": "stdout",
     "output_type": "stream",
     "text": [
      "husky\n",
      "chihuahua\n",
      "['black labrador', 'yellow labrador', 'chocolate labrador']\n",
      "bulldog\n"
     ]
    }
   ],
   "source": [
    "print(dog_breeds[-1])\n",
    "print(dog_breeds[-2])\n",
    "print(dog_breeds[-3])\n",
    "print(dog_breeds[-4])"
   ]
  },
  {
   "cell_type": "markdown",
   "id": "d732e1f2",
   "metadata": {},
   "source": [
    "One might also ask, how can we access the items of a list nested within another list?  In the case of the list `dog_breeds`, the second item is also a list. We can access the items of that second, nested list in the following way:"
   ]
  },
  {
   "cell_type": "code",
   "execution_count": 40,
   "id": "ce6560c0",
   "metadata": {},
   "outputs": [
    {
     "data": {
      "text/plain": [
       "'chocolate labrador'"
      ]
     },
     "execution_count": 40,
     "metadata": {},
     "output_type": "execute_result"
    }
   ],
   "source": [
    "dog_breeds[1][2]"
   ]
  },
  {
   "cell_type": "code",
   "execution_count": 41,
   "id": "df2d92b7",
   "metadata": {
    "scrolled": true
   },
   "outputs": [
    {
     "name": "stdout",
     "output_type": "stream",
     "text": [
      "black labrador\n",
      "yellow labrador\n",
      "chocolate labrador\n"
     ]
    }
   ],
   "source": [
    "print(dog_breeds[1][0])\n",
    "print(dog_breeds[1][1])\n",
    "print(dog_breeds[1][2])"
   ]
  },
  {
   "cell_type": "markdown",
   "id": "26106328",
   "metadata": {},
   "source": [
    "### 1.3. Slicing a list <a id='slicing-a-list'></a>"
   ]
  },
  {
   "cell_type": "markdown",
   "id": "b6f87fe2",
   "metadata": {},
   "source": [
    "Instead of accessing individual items, we can also access a section of a `list` (containing multiple items) by slicing it."
   ]
  },
  {
   "cell_type": "code",
   "execution_count": 10,
   "id": "13d83435",
   "metadata": {
    "scrolled": true
   },
   "outputs": [
    {
     "data": {
      "text/plain": [
       "['c', 'd', 'e']"
      ]
     },
     "execution_count": 10,
     "metadata": {},
     "output_type": "execute_result"
    }
   ],
   "source": [
    "letters = [\"a\", \"b\", \"c\", \"d\", \"e\", \"f\"]\n",
    "letters[2:5]"
   ]
  },
  {
   "cell_type": "markdown",
   "id": "e9224c68",
   "metadata": {},
   "source": [
    "As can be seen in the cell above, the statement `letters[2:5]` returns a slice of the list containing  items from index `2` to index `4`. The numbers separated by the colon (`:`) specify a range of items, where the index provided on the left side is included in that range, but the index on the right side is excluded from the range. This slice of the list is also of type `list`:"
   ]
  },
  {
   "cell_type": "code",
   "execution_count": 11,
   "id": "a481b946",
   "metadata": {
    "scrolled": true
   },
   "outputs": [
    {
     "data": {
      "text/plain": [
       "list"
      ]
     },
     "execution_count": 11,
     "metadata": {},
     "output_type": "execute_result"
    }
   ],
   "source": [
    "type(letters[2:5])"
   ]
  },
  {
   "cell_type": "code",
   "execution_count": 12,
   "id": "a34e8b32",
   "metadata": {
    "scrolled": true
   },
   "outputs": [
    {
     "data": {
      "text/plain": [
       "3"
      ]
     },
     "execution_count": 12,
     "metadata": {},
     "output_type": "execute_result"
    }
   ],
   "source": [
    "len(letters[2:5])"
   ]
  },
  {
   "cell_type": "markdown",
   "id": "c1723783",
   "metadata": {},
   "source": [
    "The code cell below shows different types of slices with positive indices."
   ]
  },
  {
   "cell_type": "code",
   "execution_count": 13,
   "id": "89ef15a9",
   "metadata": {
    "scrolled": false
   },
   "outputs": [
    {
     "name": "stdout",
     "output_type": "stream",
     "text": [
      "1 ['a', 'b', 'c']\n",
      "2 ['a', 'b', 'c']\n",
      "3 ['d', 'e', 'f']\n",
      "4 ['d', 'e', 'f']\n",
      "5 ['d', 'e']\n",
      "6 ['d']\n"
     ]
    }
   ],
   "source": [
    "print(1, letters[0:3])\n",
    "print(2, letters[:3])\n",
    "print(3, letters[3:])\n",
    "print(4, letters[3:6])\n",
    "print(5, letters[3:5])\n",
    "print(6, letters[3:4])"
   ]
  },
  {
   "cell_type": "markdown",
   "id": "c38adf5a",
   "metadata": {},
   "source": [
    "The code cell below shows different types of slices with negative indices."
   ]
  },
  {
   "cell_type": "code",
   "execution_count": 14,
   "id": "445889bb",
   "metadata": {},
   "outputs": [
    {
     "name": "stdout",
     "output_type": "stream",
     "text": [
      "1 ['f']\n",
      "2 ['d', 'e', 'f']\n",
      "3 ['d', 'e']\n"
     ]
    }
   ],
   "source": [
    "print(1, letters[-1:])\n",
    "print(2, letters[-3:])\n",
    "print(3, letters[-3:-1])"
   ]
  },
  {
   "cell_type": "markdown",
   "id": "ca7c641f",
   "metadata": {},
   "source": [
    "### 1.4. Modifying items <a id='modifying-items'></a>"
   ]
  },
  {
   "cell_type": "markdown",
   "id": "cc655103",
   "metadata": {},
   "source": [
    "An item in a list can be modified by simply identifying it by its index and assigning a new value to it:"
   ]
  },
  {
   "cell_type": "code",
   "execution_count": 15,
   "id": "e54afe63",
   "metadata": {},
   "outputs": [
    {
     "data": {
      "text/plain": [
       "[99, 2, 3, 4, 5]"
      ]
     },
     "execution_count": 15,
     "metadata": {},
     "output_type": "execute_result"
    }
   ],
   "source": [
    "numbers = [1, 2, 3, 4, 5]\n",
    "numbers[0] = 99\n",
    "numbers"
   ]
  },
  {
   "cell_type": "code",
   "execution_count": 16,
   "id": "427e9a1e",
   "metadata": {},
   "outputs": [
    {
     "data": {
      "text/plain": [
       "[99, 2, 3, 42, 5]"
      ]
     },
     "execution_count": 16,
     "metadata": {},
     "output_type": "execute_result"
    }
   ],
   "source": [
    "numbers[-2] = 42\n",
    "numbers"
   ]
  },
  {
   "cell_type": "code",
   "execution_count": 17,
   "id": "15ef817d",
   "metadata": {},
   "outputs": [
    {
     "data": {
      "text/plain": [
       "[99, 14, 17, 42, 5]"
      ]
     },
     "execution_count": 17,
     "metadata": {},
     "output_type": "execute_result"
    }
   ],
   "source": [
    "numbers[1:3] = [14, 17]\n",
    "numbers"
   ]
  },
  {
   "cell_type": "markdown",
   "id": "3a880076",
   "metadata": {},
   "source": [
    "### 1.5. Operators and lists <a id='operators-and-lists'></a>"
   ]
  },
  {
   "cell_type": "markdown",
   "id": "e9d7d56e",
   "metadata": {},
   "source": [
    "Lists can be concatenated using the `+` operator:"
   ]
  },
  {
   "cell_type": "code",
   "execution_count": 18,
   "id": "81261cd3",
   "metadata": {},
   "outputs": [
    {
     "data": {
      "text/plain": [
       "['cat', 'dog', 'llama', 'apple', 'orange', 'mango']"
      ]
     },
     "execution_count": 18,
     "metadata": {},
     "output_type": "execute_result"
    }
   ],
   "source": [
    "animals = [\"cat\", \"dog\", \"llama\"]\n",
    "fruits = [\"apple\", \"orange\", \"mango\"]\n",
    "\n",
    "animals_and_fruits = animals + fruits\n",
    "animals_and_fruits"
   ]
  },
  {
   "cell_type": "markdown",
   "id": "5debec22",
   "metadata": {},
   "source": [
    "Lists can also be repeated by using the `*` operator together with an integer:"
   ]
  },
  {
   "cell_type": "code",
   "execution_count": 19,
   "id": "4365b618",
   "metadata": {
    "scrolled": true
   },
   "outputs": [
    {
     "data": {
      "text/plain": [
       "['cat', 'dog', 'llama', 'cat', 'dog', 'llama', 'cat', 'dog', 'llama']"
      ]
     },
     "execution_count": 19,
     "metadata": {},
     "output_type": "execute_result"
    }
   ],
   "source": [
    "animals * 3"
   ]
  },
  {
   "cell_type": "markdown",
   "id": "d799bdbd",
   "metadata": {},
   "source": [
    "We can also use the `in` operator, to check if an item is in a list:"
   ]
  },
  {
   "cell_type": "code",
   "execution_count": 20,
   "id": "7213b675",
   "metadata": {},
   "outputs": [
    {
     "data": {
      "text/plain": [
       "True"
      ]
     },
     "execution_count": 20,
     "metadata": {},
     "output_type": "execute_result"
    }
   ],
   "source": [
    "\"cat\" in animals"
   ]
  },
  {
   "cell_type": "code",
   "execution_count": 21,
   "id": "c3f49c50",
   "metadata": {
    "scrolled": true
   },
   "outputs": [
    {
     "data": {
      "text/plain": [
       "False"
      ]
     },
     "execution_count": 21,
     "metadata": {},
     "output_type": "execute_result"
    }
   ],
   "source": [
    "\"lion\" in animals"
   ]
  },
  {
   "cell_type": "markdown",
   "id": "5c7d0706",
   "metadata": {},
   "source": [
    "As you can see, the `in` operator returns a `bool` based on whether or not an item is in a list. This means that we can easily use the `in` operator in conditional statements."
   ]
  },
  {
   "cell_type": "code",
   "execution_count": 22,
   "id": "a971357b",
   "metadata": {},
   "outputs": [
    {
     "name": "stdout",
     "output_type": "stream",
     "text": [
      "the list contains 'apple'\n"
     ]
    }
   ],
   "source": [
    "if \"apple\" in fruits:\n",
    "    print(\"the list contains 'apple'\")\n",
    "else:\n",
    "    print(\"the list does not contain 'apple'\")"
   ]
  },
  {
   "cell_type": "markdown",
   "id": "cc051264",
   "metadata": {},
   "source": [
    "We can also use the `not` and `in` operators together, in order to check whether an item is not in a list. In essence, this flips the value of the `bool` returned when using just the `in` operator:"
   ]
  },
  {
   "cell_type": "code",
   "execution_count": 23,
   "id": "f3412fb3",
   "metadata": {
    "scrolled": true
   },
   "outputs": [
    {
     "data": {
      "text/plain": [
       "False"
      ]
     },
     "execution_count": 23,
     "metadata": {},
     "output_type": "execute_result"
    }
   ],
   "source": [
    "\"cat\" not in animals"
   ]
  },
  {
   "cell_type": "code",
   "execution_count": 24,
   "id": "e34a0a62",
   "metadata": {},
   "outputs": [
    {
     "data": {
      "text/plain": [
       "True"
      ]
     },
     "execution_count": 24,
     "metadata": {},
     "output_type": "execute_result"
    }
   ],
   "source": [
    "\"lion\" not in animals"
   ]
  },
  {
   "cell_type": "markdown",
   "id": "cfea088c",
   "metadata": {},
   "source": [
    "### 1.6. Built-in functions and lists <a id='built-in-functions-and-lists'></a>"
   ]
  },
  {
   "cell_type": "markdown",
   "id": "a4f8ac5f",
   "metadata": {},
   "source": [
    "We have already used the built-in functions `type()` and `len()` together with lists, however, there are also other built-in functions that accept lists as arguments. We will use the previously defined `numbers` list, in order to illustrate the effect of these built-in functions."
   ]
  },
  {
   "cell_type": "code",
   "execution_count": 25,
   "id": "6e6c69e2",
   "metadata": {},
   "outputs": [
    {
     "data": {
      "text/plain": [
       "[99, 14, 17, 42, 5]"
      ]
     },
     "execution_count": 25,
     "metadata": {},
     "output_type": "execute_result"
    }
   ],
   "source": [
    "numbers"
   ]
  },
  {
   "cell_type": "markdown",
   "id": "3d3fba49",
   "metadata": {},
   "source": [
    "We can use the built-in function `sum()` to get a sum of the numbers in a list:"
   ]
  },
  {
   "cell_type": "code",
   "execution_count": 26,
   "id": "288eb7a5",
   "metadata": {
    "scrolled": true
   },
   "outputs": [
    {
     "data": {
      "text/plain": [
       "177"
      ]
     },
     "execution_count": 26,
     "metadata": {},
     "output_type": "execute_result"
    }
   ],
   "source": [
    "sum(numbers)"
   ]
  },
  {
   "cell_type": "markdown",
   "id": "75e3ddd1",
   "metadata": {},
   "source": [
    "We can use the built-in function `max()` to get the largest number in a list:"
   ]
  },
  {
   "cell_type": "code",
   "execution_count": 27,
   "id": "e191cadb",
   "metadata": {},
   "outputs": [
    {
     "data": {
      "text/plain": [
       "99"
      ]
     },
     "execution_count": 27,
     "metadata": {},
     "output_type": "execute_result"
    }
   ],
   "source": [
    "max(numbers)"
   ]
  },
  {
   "cell_type": "markdown",
   "id": "a938681b",
   "metadata": {},
   "source": [
    "We can use the built-in function `min()` to get the smallest number in a list:"
   ]
  },
  {
   "cell_type": "code",
   "execution_count": 28,
   "id": "d5c07068",
   "metadata": {},
   "outputs": [
    {
     "data": {
      "text/plain": [
       "5"
      ]
     },
     "execution_count": 28,
     "metadata": {},
     "output_type": "execute_result"
    }
   ],
   "source": [
    "min(numbers)"
   ]
  },
  {
   "cell_type": "markdown",
   "id": "c9395fd4",
   "metadata": {},
   "source": [
    "### 1.7. For loops and lists <a id='for-loops-and-lists'></a>\n",
    "\n",
    "Lists are iterables, which means we can loop over them using the \"for\" loop:"
   ]
  },
  {
   "cell_type": "code",
   "execution_count": 29,
   "id": "9f6334d8",
   "metadata": {},
   "outputs": [
    {
     "name": "stdout",
     "output_type": "stream",
     "text": [
      "cat\n",
      "dog\n",
      "llama\n"
     ]
    }
   ],
   "source": [
    "for animal in animals:\n",
    "    print(animal)"
   ]
  },
  {
   "cell_type": "markdown",
   "id": "fe47aa4e",
   "metadata": {},
   "source": [
    "We can also loop over the items in a list like so:"
   ]
  },
  {
   "cell_type": "code",
   "execution_count": 30,
   "id": "e3c14d56",
   "metadata": {
    "scrolled": true
   },
   "outputs": [
    {
     "name": "stdout",
     "output_type": "stream",
     "text": [
      "cat\n",
      "dog\n",
      "llama\n"
     ]
    }
   ],
   "source": [
    "for i in range(len(animals)):\n",
    "    print(animals[i])"
   ]
  },
  {
   "cell_type": "markdown",
   "id": "5df085dc",
   "metadata": {},
   "source": [
    "While the second method is more verbose, it allows us to loop over the items of a list while also changing them in the process. If we just use the \"for\" loop directly on the `animals` list and attempt to change its items, we will get the following result:"
   ]
  },
  {
   "cell_type": "code",
   "execution_count": 31,
   "id": "cb2531cd",
   "metadata": {},
   "outputs": [
    {
     "data": {
      "text/plain": [
       "['cat', 'dog', 'llama']"
      ]
     },
     "execution_count": 31,
     "metadata": {},
     "output_type": "execute_result"
    }
   ],
   "source": [
    "for animal in animals:\n",
    "    animal = \"zebra\"\n",
    "animals "
   ]
  },
  {
   "cell_type": "markdown",
   "id": "aa2f2d60",
   "metadata": {},
   "source": [
    "As we can see in the code cell above, the `animals` list is unchanged. This is because when we write `animal = \"zebra\"`, we are not assigning the string `\"zebra\"` to a location in the list, but simply assigning it to the variable name `animal`. In other words, the variable name `animal` no longer points to the item in the list, but to a new string that we have created."
   ]
  },
  {
   "cell_type": "markdown",
   "id": "7756cf4b",
   "metadata": {},
   "source": [
    "We can modify the items of a list while looping over them in the following way:"
   ]
  },
  {
   "cell_type": "code",
   "execution_count": 32,
   "id": "ef52303d",
   "metadata": {},
   "outputs": [
    {
     "data": {
      "text/plain": [
       "['zebra', 'zebra', 'zebra']"
      ]
     },
     "execution_count": 32,
     "metadata": {},
     "output_type": "execute_result"
    }
   ],
   "source": [
    "for i in range(len(animals)):\n",
    "    animals[i] = \"zebra\"\n",
    "animals"
   ]
  },
  {
   "cell_type": "markdown",
   "id": "98c7eede",
   "metadata": {},
   "source": [
    "### 1.8. Adding items to a list <a id='adding-items-to-a-list'></a>"
   ]
  },
  {
   "cell_type": "markdown",
   "id": "f3083beb",
   "metadata": {},
   "source": [
    "Instead of just modifying items, we can also add items to a list. We have previously seen how this can be accomplished with the `+` operator:"
   ]
  },
  {
   "cell_type": "code",
   "execution_count": 33,
   "id": "03ee3905",
   "metadata": {},
   "outputs": [
    {
     "name": "stdout",
     "output_type": "stream",
     "text": [
      "['cat', 'dog', 'llama']\n"
     ]
    }
   ],
   "source": [
    "animals = [\"cat\", \"dog\"]\n",
    "print(animals + [\"llama\"])"
   ]
  },
  {
   "cell_type": "markdown",
   "id": "3df27236",
   "metadata": {},
   "source": [
    "However there are also other ways of adding items to a list. Namely, we can use built-in \"methods\" in order to add items to a list in various ways. Methods are just functions which are bundled together with an object. For example, a `list` has an `append()` method, which adds (appends) an item to the end of the list:"
   ]
  },
  {
   "cell_type": "code",
   "execution_count": 34,
   "id": "22503441",
   "metadata": {},
   "outputs": [
    {
     "data": {
      "text/plain": [
       "['cat', 'dog', 'llama']"
      ]
     },
     "execution_count": 34,
     "metadata": {},
     "output_type": "execute_result"
    }
   ],
   "source": [
    "animals.append(\"llama\")\n",
    "animals"
   ]
  },
  {
   "cell_type": "markdown",
   "id": "3904f8c0",
   "metadata": {},
   "source": [
    "The `append()` method takes in one argument and adds it to the end of the `animals` list directly, without returning a value. On a conceptual level, it does an equivalent of the following operation: `animals = animals + [\"cat\"]`"
   ]
  },
  {
   "cell_type": "code",
   "execution_count": 35,
   "id": "b5046a3a",
   "metadata": {},
   "outputs": [
    {
     "data": {
      "text/plain": [
       "['cat', 'dog', 'llama', 'alpaca', 'giraffe']"
      ]
     },
     "execution_count": 35,
     "metadata": {},
     "output_type": "execute_result"
    }
   ],
   "source": [
    "animals.append(\"alpaca\")\n",
    "animals.append(\"giraffe\")\n",
    "animals"
   ]
  },
  {
   "cell_type": "markdown",
   "id": "da5620c1",
   "metadata": {},
   "source": [
    "We can also add items to a list using the `insert()` method, which takes in two arguments - an index at which the item should be inserted and an item."
   ]
  },
  {
   "cell_type": "code",
   "execution_count": 36,
   "id": "0226efa5",
   "metadata": {},
   "outputs": [
    {
     "data": {
      "text/plain": [
       "['cat', 'elephant', 'dog', 'llama', 'alpaca', 'giraffe']"
      ]
     },
     "execution_count": 36,
     "metadata": {},
     "output_type": "execute_result"
    }
   ],
   "source": [
    "animals.insert(1, \"elephant\")\n",
    "animals"
   ]
  },
  {
   "cell_type": "markdown",
   "id": "1f1a20e8",
   "metadata": {},
   "source": [
    "### 1.9. Removing items from a list <a id='removing-items-from-a-list'></a>"
   ]
  },
  {
   "cell_type": "markdown",
   "id": "8b8de893",
   "metadata": {},
   "source": [
    "There are many ways in which we can delete an element from a list. For example, we can use the `remove()` method, which takes in one argument - the element which should be removed."
   ]
  },
  {
   "cell_type": "code",
   "execution_count": 182,
   "id": "77724a8e",
   "metadata": {},
   "outputs": [
    {
     "data": {
      "text/plain": [
       "['cat', 'elephant', 'dog', 'alpaca', 'giraffe']"
      ]
     },
     "execution_count": 182,
     "metadata": {},
     "output_type": "execute_result"
    }
   ],
   "source": [
    "animals.remove(\"llama\")\n",
    "animals"
   ]
  },
  {
   "cell_type": "markdown",
   "id": "a41af724",
   "metadata": {},
   "source": [
    "**Note:** if a list has two or more identical items, the `remove()` method removes the first item in the list."
   ]
  },
  {
   "cell_type": "code",
   "execution_count": 39,
   "id": "d5a2dd04",
   "metadata": {},
   "outputs": [
    {
     "data": {
      "text/plain": [
       "['b', 'a']"
      ]
     },
     "execution_count": 39,
     "metadata": {},
     "output_type": "execute_result"
    }
   ],
   "source": [
    "x = [\"a\", \"b\", \"a\"]\n",
    "x.remove(\"a\")\n",
    "x"
   ]
  },
  {
   "cell_type": "markdown",
   "id": "e709c9a9",
   "metadata": {},
   "source": [
    "We can also use the `pop()` method which takes in one argument - the index of the item which should be removed."
   ]
  },
  {
   "cell_type": "code",
   "execution_count": 183,
   "id": "71d9c388",
   "metadata": {},
   "outputs": [
    {
     "data": {
      "text/plain": [
       "['elephant', 'dog', 'alpaca', 'giraffe']"
      ]
     },
     "execution_count": 183,
     "metadata": {},
     "output_type": "execute_result"
    }
   ],
   "source": [
    "animals.pop(0)\n",
    "animals"
   ]
  },
  {
   "cell_type": "markdown",
   "id": "689f1492",
   "metadata": {},
   "source": [
    "We can even remove all of the items in a `list`:"
   ]
  },
  {
   "cell_type": "code",
   "execution_count": 187,
   "id": "8b6b890e",
   "metadata": {},
   "outputs": [
    {
     "data": {
      "text/plain": [
       "[]"
      ]
     },
     "execution_count": 187,
     "metadata": {},
     "output_type": "execute_result"
    }
   ],
   "source": [
    "for i in range(len(animals)):\n",
    "    animals.pop(0)\n",
    "animals"
   ]
  },
  {
   "cell_type": "markdown",
   "id": "56fafb88",
   "metadata": {},
   "source": [
    "As we can see above, deleting all of the items results in an empty list which is indicated by square brackets that do not contain any elements within (`[]`). Since the `animals` list is now empty, Python will raise an error if we try to call the `pop()` method again:"
   ]
  },
  {
   "cell_type": "code",
   "execution_count": 201,
   "id": "c2f39d6c",
   "metadata": {
    "scrolled": true
   },
   "outputs": [
    {
     "ename": "IndexError",
     "evalue": "pop from empty list",
     "output_type": "error",
     "traceback": [
      "\u001b[0;31m---------------------------------------------------------------------------\u001b[0m",
      "\u001b[0;31mIndexError\u001b[0m                                Traceback (most recent call last)",
      "Input \u001b[0;32mIn [201]\u001b[0m, in \u001b[0;36m<cell line: 1>\u001b[0;34m()\u001b[0m\n\u001b[0;32m----> 1\u001b[0m \u001b[43manimals\u001b[49m\u001b[38;5;241;43m.\u001b[39;49m\u001b[43mpop\u001b[49m\u001b[43m(\u001b[49m\u001b[38;5;241;43m0\u001b[39;49m\u001b[43m)\u001b[49m\n",
      "\u001b[0;31mIndexError\u001b[0m: pop from empty list"
     ]
    }
   ],
   "source": [
    "animals.pop(0)"
   ]
  },
  {
   "cell_type": "markdown",
   "id": "988d69a4",
   "metadata": {},
   "source": [
    "The error message tells us the list is empty. If we check the length of the list, we will see that it is 0."
   ]
  },
  {
   "cell_type": "code",
   "execution_count": 202,
   "id": "3e2605da",
   "metadata": {},
   "outputs": [
    {
     "data": {
      "text/plain": [
       "0"
      ]
     },
     "execution_count": 202,
     "metadata": {},
     "output_type": "execute_result"
    }
   ],
   "source": [
    "len(animals)"
   ]
  },
  {
   "cell_type": "markdown",
   "id": "68eac4f7",
   "metadata": {},
   "source": [
    "Aside from using the `remove()` and `pop()` methods, we can also delete items from a list using the reserved keyword `del`, which can delete any object in Python."
   ]
  },
  {
   "cell_type": "code",
   "execution_count": 203,
   "id": "a6e95c03",
   "metadata": {},
   "outputs": [],
   "source": [
    "programming_languages = [\"Python\", \"JavaScript\", \"C++\"]"
   ]
  },
  {
   "cell_type": "code",
   "execution_count": 204,
   "id": "d82be8ac",
   "metadata": {},
   "outputs": [
    {
     "data": {
      "text/plain": [
       "['Python', 'C++']"
      ]
     },
     "execution_count": 204,
     "metadata": {},
     "output_type": "execute_result"
    }
   ],
   "source": [
    "del programming_languages[1]\n",
    "programming_languages"
   ]
  },
  {
   "cell_type": "markdown",
   "id": "477de850",
   "metadata": {},
   "source": [
    "We can even delete the entire list itself:"
   ]
  },
  {
   "cell_type": "code",
   "execution_count": 205,
   "id": "3f21bc49",
   "metadata": {},
   "outputs": [],
   "source": [
    "del programming_languages"
   ]
  },
  {
   "cell_type": "markdown",
   "id": "8fc1ef31",
   "metadata": {},
   "source": [
    "If we do so, referencing the variable `programming_languages` will now result in an error:"
   ]
  },
  {
   "cell_type": "code",
   "execution_count": 206,
   "id": "bacf4043",
   "metadata": {},
   "outputs": [
    {
     "ename": "NameError",
     "evalue": "name 'programming_languages' is not defined",
     "output_type": "error",
     "traceback": [
      "\u001b[0;31m---------------------------------------------------------------------------\u001b[0m",
      "\u001b[0;31mNameError\u001b[0m                                 Traceback (most recent call last)",
      "Input \u001b[0;32mIn [206]\u001b[0m, in \u001b[0;36m<cell line: 1>\u001b[0;34m()\u001b[0m\n\u001b[0;32m----> 1\u001b[0m \u001b[43mprogramming_languages\u001b[49m\n",
      "\u001b[0;31mNameError\u001b[0m: name 'programming_languages' is not defined"
     ]
    }
   ],
   "source": [
    "programming_languages"
   ]
  },
  {
   "cell_type": "markdown",
   "id": "18771e51",
   "metadata": {},
   "source": [
    "# 2. Dictionaries <a id='dictionaries'></a>"
   ]
  },
  {
   "cell_type": "markdown",
   "id": "738bcf36",
   "metadata": {},
   "source": [
    "### 2.1. Creating a dictionary <a id='creating-a-dictionary'></a>"
   ]
  },
  {
   "cell_type": "markdown",
   "id": "85edd01c",
   "metadata": {},
   "source": [
    "Similarly to a list, a dictionary is also used to store and organize a collection of values. For example, the code in the cell below defines a dictionary with 3 items and assigns it to the variable `ice_cream_prices`."
   ]
  },
  {
   "cell_type": "code",
   "execution_count": 1,
   "id": "c519e9e8",
   "metadata": {},
   "outputs": [],
   "source": [
    "ice_cream_prices = {\"vanilla\": 2.29, \"strawberry\": 2.35, \"chocolate\": 2.39}"
   ]
  },
  {
   "cell_type": "markdown",
   "id": "b31344cb",
   "metadata": {},
   "source": [
    "In order to define a dictionary, we use curly brackets `{}` and place the dictionary items in between. Each item in a dictionary is composed of two elements - a key and a value. In the case of the `ice_cream_prices` dictionary, the keys are the strings: `\"vanilla\"`, `\"strawberry\"` and `\"chocolate\"`, while the values are the floating-point numbers: `2.29`, `2.32` and `2.35`. \n",
    "\n",
    "When defining dictionaries (or lists), it can be helpful to spread out the definition over multiple lines, as this increases readability. For example, we can rewrite the `ice_cream_prices` dictionary in the following way: "
   ]
  },
  {
   "cell_type": "code",
   "execution_count": 2,
   "id": "fa302610",
   "metadata": {},
   "outputs": [],
   "source": [
    "ice_cream_prices = {\n",
    "    \"vanilla\": 2.29,\n",
    "    \"strawberry\": 2.32,\n",
    "    \"chocolate\": 2.35\n",
    "}"
   ]
  },
  {
   "cell_type": "markdown",
   "id": "c2c7e628",
   "metadata": {},
   "source": [
    "The dictionary definition in the code cell above is equivalent to the earlier definition, it is simply spread out over multiple lines to increase readability. Now we can easily see that this dictionary contains 3 items (composed of `key: value` pairs). We can verify that this is the case with the `len()` function"
   ]
  },
  {
   "cell_type": "code",
   "execution_count": 3,
   "id": "fd634fd5",
   "metadata": {},
   "outputs": [
    {
     "data": {
      "text/plain": [
       "3"
      ]
     },
     "execution_count": 3,
     "metadata": {},
     "output_type": "execute_result"
    }
   ],
   "source": [
    "len(ice_cream_prices)"
   ]
  },
  {
   "cell_type": "markdown",
   "id": "d6c424bd",
   "metadata": {},
   "source": [
    "When we pass in the variable `ice_cream_prices` to the `type()` function, we can see that it returns `dict` (which is an abbreviation for dictionary):"
   ]
  },
  {
   "cell_type": "code",
   "execution_count": 4,
   "id": "756658b9",
   "metadata": {
    "scrolled": true
   },
   "outputs": [
    {
     "data": {
      "text/plain": [
       "dict"
      ]
     },
     "execution_count": 4,
     "metadata": {},
     "output_type": "execute_result"
    }
   ],
   "source": [
    "type(ice_cream_prices)"
   ]
  },
  {
   "cell_type": "markdown",
   "id": "b8918dee",
   "metadata": {},
   "source": [
    "Dictionaries can also hold values of different data types:"
   ]
  },
  {
   "cell_type": "code",
   "execution_count": 5,
   "id": "ed86c13f",
   "metadata": {},
   "outputs": [],
   "source": [
    "user_info = {\n",
    "    \"username\": \"johnny123\",\n",
    "    \"age\": 24,\n",
    "    \"interests\": [\"rock music\", \"travelling\", \"tennis\"],\n",
    "    \"private_info\": {\"last_login_date\": \"2022-06-23\" , \"full_name\": \"John Smith\"}\n",
    "}"
   ]
  },
  {
   "cell_type": "markdown",
   "id": "2a83f6d7",
   "metadata": {},
   "source": [
    "In the code cell above, the dictionary `user_info` contains 4 different items (4 key-value pairs), which correspond to information about a user on a hypothetical website.\n",
    "\n",
    "1. The key \"username\" points to a `str`, which contains the user's username.\n",
    "2. The key \"age\" points to an `int`, which represents the user's current age.\n",
    "3. The key \"interests\" points to a `list` containing strings, which represent the user's interests.\n",
    "4. The key \"private_info\" points to another `dict`, which has two items containing private information that is not visible by other users."
   ]
  },
  {
   "cell_type": "markdown",
   "id": "c2243b14",
   "metadata": {},
   "source": [
    "As you may have noticed, all of the keys in the dictionaries have been strings so far. It is possible to use other data types for keys, such as `int`, however, strings are used most commonly as keys. It is also worth noting that not all data types can be keys. For example, a `list` cannot be used as a key in a dictionary."
   ]
  },
  {
   "cell_type": "markdown",
   "id": "bc9ece63",
   "metadata": {},
   "source": [
    "Another thing to remember is that all keys have to be unique - a dictionary cannot have two identical keys:"
   ]
  },
  {
   "cell_type": "code",
   "execution_count": 6,
   "id": "c12d5fdf",
   "metadata": {},
   "outputs": [
    {
     "data": {
      "text/plain": [
       "{'a': 2}"
      ]
     },
     "execution_count": 6,
     "metadata": {},
     "output_type": "execute_result"
    }
   ],
   "source": [
    "x = {\"a\": 1, \"a\": 2}\n",
    "x"
   ]
  },
  {
   "cell_type": "markdown",
   "id": "11bd0d93",
   "metadata": {},
   "source": [
    "As you can see above, Python does not allow us to create a dictionary with two identical keys. The first value assigned to the key \"a\" is simply overridden by the second value assigned to the key \"a\"."
   ]
  },
  {
   "cell_type": "markdown",
   "id": "17f46e0c",
   "metadata": {},
   "source": [
    "### 2.2. Accessing items <a id='accessing-items'></a>"
   ]
  },
  {
   "cell_type": "markdown",
   "id": "3e11945e",
   "metadata": {},
   "source": [
    "Similarly to accessing items in a list by their corresponding index, we can access the values in a dictionary by their corresponding key. Lets take the previously defined `ice_cream_prices` dictionary as an example. "
   ]
  },
  {
   "cell_type": "code",
   "execution_count": 7,
   "id": "b053b470",
   "metadata": {},
   "outputs": [
    {
     "data": {
      "text/plain": [
       "2.29"
      ]
     },
     "execution_count": 7,
     "metadata": {},
     "output_type": "execute_result"
    }
   ],
   "source": [
    "ice_cream_prices[\"vanilla\"]"
   ]
  },
  {
   "cell_type": "code",
   "execution_count": 8,
   "id": "dafbacd1",
   "metadata": {},
   "outputs": [
    {
     "data": {
      "text/plain": [
       "2.32"
      ]
     },
     "execution_count": 8,
     "metadata": {},
     "output_type": "execute_result"
    }
   ],
   "source": [
    "ice_cream_prices[\"strawberry\"]"
   ]
  },
  {
   "cell_type": "code",
   "execution_count": 9,
   "id": "348cee36",
   "metadata": {
    "scrolled": true
   },
   "outputs": [
    {
     "data": {
      "text/plain": [
       "2.35"
      ]
     },
     "execution_count": 9,
     "metadata": {},
     "output_type": "execute_result"
    }
   ],
   "source": [
    "ice_cream_prices[\"chocolate\"]"
   ]
  },
  {
   "cell_type": "markdown",
   "id": "fc14fc64",
   "metadata": {},
   "source": [
    "You can think of a dictionary key as analogous to an index in a list. In fact, we could have organized the ice cream flavor prices in a list (`[2.29, 2.35, 2.39]`), but we would need to remember which item at which index corresponds to which ice cream flavor. Arguably, it is more convenient to write the prices of different ice cream flavors as a dictionary and retrieve the prices by the name of the ice cream flavor. This also makes our code easier to understand, since dictionary keys tell us more about what the values mean."
   ]
  },
  {
   "cell_type": "markdown",
   "id": "e4b18133",
   "metadata": {},
   "source": [
    "### 2.3. Modifying values <a id='modifying-items'></a>"
   ]
  },
  {
   "cell_type": "markdown",
   "id": "b4fd15f9",
   "metadata": {},
   "source": [
    "A value in a dictionary can be modified by simply identifying it by its key and assigning a new value."
   ]
  },
  {
   "cell_type": "code",
   "execution_count": 10,
   "id": "91edb73c",
   "metadata": {},
   "outputs": [
    {
     "data": {
      "text/plain": [
       "{'vanilla': 3.5, 'strawberry': 2.32, 'chocolate': 2.35}"
      ]
     },
     "execution_count": 10,
     "metadata": {},
     "output_type": "execute_result"
    }
   ],
   "source": [
    "ice_cream_prices[\"vanilla\"] = 3.50\n",
    "ice_cream_prices"
   ]
  },
  {
   "cell_type": "markdown",
   "id": "556d76c4",
   "metadata": {},
   "source": [
    "### 2.4. For loops and dictionaries <a id='for-loops-and-dictionaries'></a>"
   ]
  },
  {
   "cell_type": "markdown",
   "id": "1338c912",
   "metadata": {},
   "source": [
    "We can also use \"for\" loops with dictionaries. For example, we can loop over the keys of a dictionary in the following way:"
   ]
  },
  {
   "cell_type": "code",
   "execution_count": 66,
   "id": "7c3b37da",
   "metadata": {
    "scrolled": true
   },
   "outputs": [
    {
     "name": "stdout",
     "output_type": "stream",
     "text": [
      "vanilla\n",
      "strawberry\n",
      "chocolate\n"
     ]
    }
   ],
   "source": [
    "for key in ice_cream_prices:\n",
    "    print(key)"
   ]
  },
  {
   "cell_type": "markdown",
   "id": "780b9c96",
   "metadata": {},
   "source": [
    "We can also call the `.keys()` method, which will return an iterable containing the keys of the dictionary:"
   ]
  },
  {
   "cell_type": "code",
   "execution_count": 11,
   "id": "c494e8fd",
   "metadata": {},
   "outputs": [
    {
     "name": "stdout",
     "output_type": "stream",
     "text": [
      "vanilla\n",
      "strawberry\n",
      "chocolate\n"
     ]
    }
   ],
   "source": [
    "for key in ice_cream_prices.keys():\n",
    "    print(key)"
   ]
  },
  {
   "cell_type": "markdown",
   "id": "eceec04d",
   "metadata": {},
   "source": [
    "If we want to loop over the values in a dictionary, we can use the `.values()` method:"
   ]
  },
  {
   "cell_type": "code",
   "execution_count": 12,
   "id": "7355b049",
   "metadata": {},
   "outputs": [
    {
     "name": "stdout",
     "output_type": "stream",
     "text": [
      "3.5\n",
      "2.32\n",
      "2.35\n"
     ]
    }
   ],
   "source": [
    "for value in ice_cream_prices.values():\n",
    "    print(value)"
   ]
  },
  {
   "cell_type": "markdown",
   "id": "dc1bc9a7",
   "metadata": {},
   "source": [
    "Often we will want to loop over the keys, as well as the values. In this case, we can use the `items()` method in the following way:"
   ]
  },
  {
   "cell_type": "code",
   "execution_count": 67,
   "id": "3c20ad15",
   "metadata": {},
   "outputs": [
    {
     "name": "stdout",
     "output_type": "stream",
     "text": [
      "vanilla: 3.5\n",
      "strawberry: 2.32\n",
      "chocolate: 2.35\n"
     ]
    }
   ],
   "source": [
    "for key, value in ice_cream_prices.items():\n",
    "    print(key + \": \" + str(value))"
   ]
  },
  {
   "cell_type": "markdown",
   "id": "d3afdb44",
   "metadata": {},
   "source": [
    "The `items()` method creates an iterable which will return both the key and the corresponding value during each iteration step."
   ]
  },
  {
   "cell_type": "markdown",
   "id": "cfe7e55c",
   "metadata": {},
   "source": [
    "### 2.5. Adding items to a dictionary  <a id='adding-items-to-a-dictionary'></a>"
   ]
  },
  {
   "cell_type": "markdown",
   "id": "e4c560e6",
   "metadata": {},
   "source": [
    "To add an item to a dictionary, we simply assign a value to a key that does not exist yet - this will create it:"
   ]
  },
  {
   "cell_type": "code",
   "execution_count": 68,
   "id": "d36fac8e",
   "metadata": {},
   "outputs": [
    {
     "data": {
      "text/plain": [
       "{'vanilla': 3.5, 'strawberry': 2.32, 'chocolate': 2.35, 'caramel': 2.7}"
      ]
     },
     "execution_count": 68,
     "metadata": {},
     "output_type": "execute_result"
    }
   ],
   "source": [
    "ice_cream_prices[\"caramel\"] = 2.70\n",
    "ice_cream_prices"
   ]
  },
  {
   "cell_type": "markdown",
   "id": "3b469b37",
   "metadata": {},
   "source": [
    "### 2.6 Removing items from a dictionary  <a id='removing-items-from-a-dictionary'></a>"
   ]
  },
  {
   "cell_type": "markdown",
   "id": "9070eb26",
   "metadata": {},
   "source": [
    "We can use the `pop()` method to remove an item from a dictionary:"
   ]
  },
  {
   "cell_type": "code",
   "execution_count": 69,
   "id": "f6e78c0a",
   "metadata": {},
   "outputs": [
    {
     "data": {
      "text/plain": [
       "{'strawberry': 2.32, 'chocolate': 2.35, 'caramel': 2.7}"
      ]
     },
     "execution_count": 69,
     "metadata": {},
     "output_type": "execute_result"
    }
   ],
   "source": [
    "ice_cream_prices.pop(\"vanilla\")\n",
    "ice_cream_prices"
   ]
  },
  {
   "cell_type": "markdown",
   "id": "a0ed2248",
   "metadata": {},
   "source": [
    "We can of course also use the reserved keyword `del` which can remove any object in Python."
   ]
  },
  {
   "cell_type": "code",
   "execution_count": 70,
   "id": "8c35b14f",
   "metadata": {},
   "outputs": [
    {
     "data": {
      "text/plain": [
       "{'chocolate': 2.35, 'caramel': 2.7}"
      ]
     },
     "execution_count": 70,
     "metadata": {},
     "output_type": "execute_result"
    }
   ],
   "source": [
    "del ice_cream_prices[\"strawberry\"]\n",
    "ice_cream_prices"
   ]
  },
  {
   "cell_type": "markdown",
   "id": "a58967aa",
   "metadata": {},
   "source": [
    "If we remove all items in a dictionary, we will have an empty dictionary, indicated by curly brackets with nothing in between (`{}`). We can use the `clear()` method to remove all items from a dictionary."
   ]
  },
  {
   "cell_type": "code",
   "execution_count": 73,
   "id": "26e0b12c",
   "metadata": {
    "scrolled": true
   },
   "outputs": [
    {
     "data": {
      "text/plain": [
       "{}"
      ]
     },
     "execution_count": 73,
     "metadata": {},
     "output_type": "execute_result"
    }
   ],
   "source": [
    "ice_cream_prices.clear()\n",
    "ice_cream_prices"
   ]
  },
  {
   "cell_type": "code",
   "execution_count": null,
   "id": "5f86f9fd",
   "metadata": {},
   "outputs": [],
   "source": [
    "x {}"
   ]
  }
 ],
 "metadata": {
  "kernelspec": {
   "display_name": "Python 3 (ipykernel)",
   "language": "python",
   "name": "python3"
  },
  "language_info": {
   "codemirror_mode": {
    "name": "ipython",
    "version": 3
   },
   "file_extension": ".py",
   "mimetype": "text/x-python",
   "name": "python",
   "nbconvert_exporter": "python",
   "pygments_lexer": "ipython3",
   "version": "3.9.13"
  }
 },
 "nbformat": 4,
 "nbformat_minor": 5
}
